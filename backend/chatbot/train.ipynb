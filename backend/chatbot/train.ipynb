{
 "cells": [
  {
   "cell_type": "markdown",
   "metadata": {},
   "source": [
    "# BERT"
   ]
  },
  {
   "cell_type": "code",
   "execution_count": 1,
   "metadata": {},
   "outputs": [],
   "source": [
    "target_dir = '../backend/chatbot/'"
   ]
  },
  {
   "cell_type": "code",
   "execution_count": 2,
   "metadata": {},
   "outputs": [
    {
     "name": "stderr",
     "output_type": "stream",
     "text": [
      "/home/harshit/IITH/Sem7/CyberSecurityAndAI/project/cyber_security_project/venv/lib/python3.12/site-packages/tqdm/auto.py:21: TqdmWarning: IProgress not found. Please update jupyter and ipywidgets. See https://ipywidgets.readthedocs.io/en/stable/user_install.html\n",
      "  from .autonotebook import tqdm as notebook_tqdm\n"
     ]
    }
   ],
   "source": [
    "from transformers import TrainerCallback\n",
    "\n",
    "class AlignedLossCallback(TrainerCallback):\n",
    "    def __init__(self):\n",
    "        self.train_steps = []\n",
    "        self.eval_steps = []\n",
    "        self.train_losses = []\n",
    "        self.eval_losses = []\n",
    "\n",
    "    def on_log(self, args, state, control, logs=None, **kwargs):\n",
    "        logs = logs or {}\n",
    "        # Log training loss\n",
    "        if \"loss\" in logs:\n",
    "            self.train_steps.append(state.global_step)\n",
    "            self.train_losses.append(logs[\"loss\"])\n",
    "        # Log evaluation loss\n",
    "        if \"eval_loss\" in logs:\n",
    "            self.eval_steps.append(state.global_step)\n",
    "            self.eval_losses.append(logs[\"eval_loss\"])\n",
    "\n",
    "aligned_loss_callback = AlignedLossCallback()"
   ]
  },
  {
   "cell_type": "code",
   "execution_count": 3,
   "metadata": {},
   "outputs": [
    {
     "name": "stderr",
     "output_type": "stream",
     "text": [
      "2024-12-01 00:07:06.232812: I tensorflow/core/util/port.cc:153] oneDNN custom operations are on. You may see slightly different numerical results due to floating-point round-off errors from different computation orders. To turn them off, set the environment variable `TF_ENABLE_ONEDNN_OPTS=0`.\n",
      "2024-12-01 00:07:06.242379: E external/local_xla/xla/stream_executor/cuda/cuda_fft.cc:477] Unable to register cuFFT factory: Attempting to register factory for plugin cuFFT when one has already been registered\n",
      "WARNING: All log messages before absl::InitializeLog() is called are written to STDERR\n",
      "E0000 00:00:1732991826.253413   29223 cuda_dnn.cc:8310] Unable to register cuDNN factory: Attempting to register factory for plugin cuDNN when one has already been registered\n",
      "E0000 00:00:1732991826.256517   29223 cuda_blas.cc:1418] Unable to register cuBLAS factory: Attempting to register factory for plugin cuBLAS when one has already been registered\n",
      "2024-12-01 00:07:06.269643: I tensorflow/core/platform/cpu_feature_guard.cc:210] This TensorFlow binary is optimized to use available CPU instructions in performance-critical operations.\n",
      "To enable the following instructions: AVX2 AVX512F AVX512_VNNI AVX512_BF16 FMA, in other operations, rebuild TensorFlow with the appropriate compiler flags.\n"
     ]
    },
    {
     "name": "stdout",
     "output_type": "stream",
     "text": [
      "104\n",
      "Using device: cuda\n"
     ]
    },
    {
     "name": "stderr",
     "output_type": "stream",
     "text": [
      "Map: 100%|██████████| 104/104 [00:00<00:00, 4402.05 examples/s]\n",
      "Map: 100%|██████████| 104/104 [00:00<00:00, 20525.49 examples/s]\n"
     ]
    },
    {
     "name": "stdout",
     "output_type": "stream",
     "text": [
      "7\n"
     ]
    },
    {
     "name": "stderr",
     "output_type": "stream",
     "text": [
      "Some weights of DistilBertForSequenceClassification were not initialized from the model checkpoint at distilbert-base-uncased and are newly initialized: ['classifier.bias', 'classifier.weight', 'pre_classifier.bias', 'pre_classifier.weight']\n",
      "You should probably TRAIN this model on a down-stream task to be able to use it for predictions and inference.\n",
      "/home/harshit/IITH/Sem7/CyberSecurityAndAI/project/cyber_security_project/venv/lib/python3.12/site-packages/transformers/training_args.py:1568: FutureWarning: `evaluation_strategy` is deprecated and will be removed in version 4.46 of 🤗 Transformers. Use `eval_strategy` instead\n",
      "  warnings.warn(\n",
      "  2%|▏         | 10/550 [00:01<00:45, 11.92it/s]"
     ]
    },
    {
     "name": "stdout",
     "output_type": "stream",
     "text": [
      "{'loss': 1.8542, 'grad_norm': 3.234530210494995, 'learning_rate': 4.909090909090909e-05, 'epoch': 0.91}\n"
     ]
    },
    {
     "name": "stderr",
     "output_type": "stream",
     "text": [
      "                                                \n",
      "  2%|▏         | 13/550 [00:01<00:40, 13.25it/s]"
     ]
    },
    {
     "name": "stdout",
     "output_type": "stream",
     "text": [
      "{'eval_loss': 1.3327484130859375, 'eval_runtime': 0.0213, 'eval_samples_per_second': 516.32, 'eval_steps_per_second': 93.876, 'epoch': 0.91}\n"
     ]
    },
    {
     "name": "stderr",
     "output_type": "stream",
     "text": [
      "  4%|▎         | 20/550 [00:01<00:37, 14.12it/s]"
     ]
    },
    {
     "name": "stdout",
     "output_type": "stream",
     "text": [
      "{'loss': 1.505, 'grad_norm': 4.569375991821289, 'learning_rate': 4.8181818181818186e-05, 'epoch': 1.82}\n"
     ]
    },
    {
     "name": "stderr",
     "output_type": "stream",
     "text": [
      "                                                \n",
      "  4%|▍         | 23/550 [00:01<00:36, 14.52it/s]"
     ]
    },
    {
     "name": "stdout",
     "output_type": "stream",
     "text": [
      "{'eval_loss': 0.9291044473648071, 'eval_runtime': 0.0211, 'eval_samples_per_second': 520.908, 'eval_steps_per_second': 94.711, 'epoch': 1.82}\n"
     ]
    },
    {
     "name": "stderr",
     "output_type": "stream",
     "text": [
      "  5%|▌         | 30/550 [00:02<00:35, 14.62it/s]"
     ]
    },
    {
     "name": "stdout",
     "output_type": "stream",
     "text": [
      "{'loss': 1.0371, 'grad_norm': 5.622683048248291, 'learning_rate': 4.7272727272727275e-05, 'epoch': 2.73}\n"
     ]
    },
    {
     "name": "stderr",
     "output_type": "stream",
     "text": [
      "                                                \n",
      "  6%|▌         | 33/550 [00:02<00:34, 14.85it/s]"
     ]
    },
    {
     "name": "stdout",
     "output_type": "stream",
     "text": [
      "{'eval_loss': 0.5536327362060547, 'eval_runtime': 0.0215, 'eval_samples_per_second': 512.774, 'eval_steps_per_second': 93.232, 'epoch': 2.73}\n"
     ]
    },
    {
     "name": "stderr",
     "output_type": "stream",
     "text": [
      "  7%|▋         | 40/550 [00:03<00:34, 14.85it/s]"
     ]
    },
    {
     "name": "stdout",
     "output_type": "stream",
     "text": [
      "{'loss': 0.6486, 'grad_norm': 3.0140299797058105, 'learning_rate': 4.636363636363636e-05, 'epoch': 3.64}\n"
     ]
    },
    {
     "name": "stderr",
     "output_type": "stream",
     "text": [
      "                                                \n",
      "  7%|▋         | 41/550 [00:03<00:36, 13.87it/s]"
     ]
    },
    {
     "name": "stdout",
     "output_type": "stream",
     "text": [
      "{'eval_loss': 0.24621115624904633, 'eval_runtime': 0.0215, 'eval_samples_per_second': 510.911, 'eval_steps_per_second': 92.893, 'epoch': 3.64}\n"
     ]
    },
    {
     "name": "stderr",
     "output_type": "stream",
     "text": [
      "  9%|▉         | 50/550 [00:03<00:33, 14.84it/s]"
     ]
    },
    {
     "name": "stdout",
     "output_type": "stream",
     "text": [
      "{'loss': 0.3599, 'grad_norm': 1.6059187650680542, 'learning_rate': 4.545454545454546e-05, 'epoch': 4.55}\n"
     ]
    },
    {
     "name": "stderr",
     "output_type": "stream",
     "text": [
      "                                                \n",
      "  9%|▉         | 51/550 [00:03<00:36, 13.82it/s]"
     ]
    },
    {
     "name": "stdout",
     "output_type": "stream",
     "text": [
      "{'eval_loss': 0.17392612993717194, 'eval_runtime': 0.0228, 'eval_samples_per_second': 481.933, 'eval_steps_per_second': 87.624, 'epoch': 4.55}\n"
     ]
    },
    {
     "name": "stderr",
     "output_type": "stream",
     "text": [
      " 11%|█         | 60/550 [00:04<00:33, 14.67it/s]"
     ]
    },
    {
     "name": "stdout",
     "output_type": "stream",
     "text": [
      "{'loss': 0.1633, 'grad_norm': 1.7987648248672485, 'learning_rate': 4.454545454545455e-05, 'epoch': 5.45}\n"
     ]
    },
    {
     "name": "stderr",
     "output_type": "stream",
     "text": [
      "                                                \n",
      " 11%|█         | 61/550 [00:04<00:35, 13.91it/s]"
     ]
    },
    {
     "name": "stdout",
     "output_type": "stream",
     "text": [
      "{'eval_loss': 0.10215561836957932, 'eval_runtime': 0.0217, 'eval_samples_per_second': 506.753, 'eval_steps_per_second': 92.137, 'epoch': 5.45}\n"
     ]
    },
    {
     "name": "stderr",
     "output_type": "stream",
     "text": [
      " 13%|█▎        | 70/550 [00:05<00:31, 15.13it/s]"
     ]
    },
    {
     "name": "stdout",
     "output_type": "stream",
     "text": [
      "{'loss': 0.1081, 'grad_norm': 0.47569262981414795, 'learning_rate': 4.3636363636363636e-05, 'epoch': 6.36}\n"
     ]
    },
    {
     "name": "stderr",
     "output_type": "stream",
     "text": [
      "                                                \n",
      " 13%|█▎        | 71/550 [00:05<00:33, 14.16it/s]"
     ]
    },
    {
     "name": "stdout",
     "output_type": "stream",
     "text": [
      "{'eval_loss': 0.05955078825354576, 'eval_runtime': 0.0213, 'eval_samples_per_second': 515.294, 'eval_steps_per_second': 93.69, 'epoch': 6.36}\n"
     ]
    },
    {
     "name": "stderr",
     "output_type": "stream",
     "text": [
      " 15%|█▍        | 80/550 [00:05<00:31, 15.07it/s]"
     ]
    },
    {
     "name": "stdout",
     "output_type": "stream",
     "text": [
      "{'loss': 0.0782, 'grad_norm': 0.9820431470870972, 'learning_rate': 4.2727272727272724e-05, 'epoch': 7.27}\n"
     ]
    },
    {
     "name": "stderr",
     "output_type": "stream",
     "text": [
      "                                                \n",
      " 15%|█▍        | 81/550 [00:05<00:33, 14.09it/s]"
     ]
    },
    {
     "name": "stdout",
     "output_type": "stream",
     "text": [
      "{'eval_loss': 0.13522884249687195, 'eval_runtime': 0.0208, 'eval_samples_per_second': 527.628, 'eval_steps_per_second': 95.932, 'epoch': 7.27}\n"
     ]
    },
    {
     "name": "stderr",
     "output_type": "stream",
     "text": [
      " 16%|█▋        | 90/550 [00:06<00:29, 15.36it/s]"
     ]
    },
    {
     "name": "stdout",
     "output_type": "stream",
     "text": [
      "{'loss': 0.0484, 'grad_norm': 0.7074712514877319, 'learning_rate': 4.181818181818182e-05, 'epoch': 8.18}\n"
     ]
    },
    {
     "name": "stderr",
     "output_type": "stream",
     "text": [
      "                                                \n",
      " 17%|█▋        | 91/550 [00:06<00:32, 14.23it/s]"
     ]
    },
    {
     "name": "stdout",
     "output_type": "stream",
     "text": [
      "{'eval_loss': 0.039406005293130875, 'eval_runtime': 0.0208, 'eval_samples_per_second': 529.122, 'eval_steps_per_second': 96.204, 'epoch': 8.18}\n"
     ]
    },
    {
     "name": "stderr",
     "output_type": "stream",
     "text": [
      " 18%|█▊        | 100/550 [00:07<00:29, 15.32it/s]"
     ]
    },
    {
     "name": "stdout",
     "output_type": "stream",
     "text": [
      "{'loss': 0.0285, 'grad_norm': 0.46720585227012634, 'learning_rate': 4.0909090909090915e-05, 'epoch': 9.09}\n"
     ]
    },
    {
     "name": "stderr",
     "output_type": "stream",
     "text": [
      "                                                 \n",
      " 18%|█▊        | 101/550 [00:07<00:31, 14.24it/s]"
     ]
    },
    {
     "name": "stdout",
     "output_type": "stream",
     "text": [
      "{'eval_loss': 0.11938752979040146, 'eval_runtime': 0.0232, 'eval_samples_per_second': 473.723, 'eval_steps_per_second': 86.132, 'epoch': 9.09}\n"
     ]
    },
    {
     "name": "stderr",
     "output_type": "stream",
     "text": [
      " 20%|██        | 110/550 [00:07<00:30, 14.46it/s]"
     ]
    },
    {
     "name": "stdout",
     "output_type": "stream",
     "text": [
      "{'loss': 0.0183, 'grad_norm': 0.2642131447792053, 'learning_rate': 4e-05, 'epoch': 10.0}\n"
     ]
    },
    {
     "name": "stderr",
     "output_type": "stream",
     "text": [
      "                                                 \n",
      " 20%|██        | 111/550 [00:07<00:30, 14.40it/s]"
     ]
    },
    {
     "name": "stdout",
     "output_type": "stream",
     "text": [
      "{'eval_loss': 0.09227777272462845, 'eval_runtime': 0.0212, 'eval_samples_per_second': 518.31, 'eval_steps_per_second': 94.238, 'epoch': 10.0}\n"
     ]
    },
    {
     "name": "stderr",
     "output_type": "stream",
     "text": [
      " 22%|██▏       | 120/550 [00:08<00:29, 14.54it/s]"
     ]
    },
    {
     "name": "stdout",
     "output_type": "stream",
     "text": [
      "{'loss': 0.0167, 'grad_norm': 0.26363906264305115, 'learning_rate': 3.909090909090909e-05, 'epoch': 10.91}\n"
     ]
    },
    {
     "name": "stderr",
     "output_type": "stream",
     "text": [
      "                                                 \n",
      " 22%|██▏       | 123/550 [00:08<00:29, 14.60it/s]"
     ]
    },
    {
     "name": "stdout",
     "output_type": "stream",
     "text": [
      "{'eval_loss': 0.099197156727314, 'eval_runtime': 0.0207, 'eval_samples_per_second': 531.824, 'eval_steps_per_second': 96.695, 'epoch': 10.91}\n"
     ]
    },
    {
     "name": "stderr",
     "output_type": "stream",
     "text": [
      " 24%|██▎       | 130/550 [00:09<00:28, 14.58it/s]"
     ]
    },
    {
     "name": "stdout",
     "output_type": "stream",
     "text": [
      "{'loss': 0.0142, 'grad_norm': 0.11380048841238022, 'learning_rate': 3.818181818181819e-05, 'epoch': 11.82}\n"
     ]
    },
    {
     "name": "stderr",
     "output_type": "stream",
     "text": [
      "                                                 \n",
      " 24%|██▍       | 133/550 [00:09<00:28, 14.67it/s]"
     ]
    },
    {
     "name": "stdout",
     "output_type": "stream",
     "text": [
      "{'eval_loss': 0.08905031532049179, 'eval_runtime': 0.0237, 'eval_samples_per_second': 464.546, 'eval_steps_per_second': 84.463, 'epoch': 11.82}\n"
     ]
    },
    {
     "name": "stderr",
     "output_type": "stream",
     "text": [
      " 25%|██▌       | 140/550 [00:10<00:28, 14.61it/s]"
     ]
    },
    {
     "name": "stdout",
     "output_type": "stream",
     "text": [
      "{'loss': 0.0129, 'grad_norm': 0.1645263135433197, 'learning_rate': 3.7272727272727276e-05, 'epoch': 12.73}\n"
     ]
    },
    {
     "name": "stderr",
     "output_type": "stream",
     "text": [
      "                                                 \n",
      " 26%|██▌       | 143/550 [00:10<00:27, 14.70it/s]"
     ]
    },
    {
     "name": "stdout",
     "output_type": "stream",
     "text": [
      "{'eval_loss': 0.08416829258203506, 'eval_runtime': 0.0234, 'eval_samples_per_second': 470.953, 'eval_steps_per_second': 85.628, 'epoch': 12.73}\n"
     ]
    },
    {
     "name": "stderr",
     "output_type": "stream",
     "text": [
      " 27%|██▋       | 150/550 [00:10<00:27, 14.69it/s]"
     ]
    },
    {
     "name": "stdout",
     "output_type": "stream",
     "text": [
      "{'loss': 0.0105, 'grad_norm': 0.17142924666404724, 'learning_rate': 3.6363636363636364e-05, 'epoch': 13.64}\n"
     ]
    },
    {
     "name": "stderr",
     "output_type": "stream",
     "text": [
      "                                                 \n",
      " 27%|██▋       | 151/550 [00:10<00:29, 13.72it/s]"
     ]
    },
    {
     "name": "stdout",
     "output_type": "stream",
     "text": [
      "{'eval_loss': 0.08391490578651428, 'eval_runtime': 0.0222, 'eval_samples_per_second': 495.392, 'eval_steps_per_second': 90.071, 'epoch': 13.64}\n"
     ]
    },
    {
     "name": "stderr",
     "output_type": "stream",
     "text": [
      " 29%|██▉       | 160/550 [00:11<00:26, 14.81it/s]"
     ]
    },
    {
     "name": "stdout",
     "output_type": "stream",
     "text": [
      "{'loss': 0.0092, 'grad_norm': 0.11250139027833939, 'learning_rate': 3.545454545454546e-05, 'epoch': 14.55}\n"
     ]
    },
    {
     "name": "stderr",
     "output_type": "stream",
     "text": [
      "                                                 \n",
      " 29%|██▉       | 161/550 [00:11<00:27, 13.92it/s]"
     ]
    },
    {
     "name": "stdout",
     "output_type": "stream",
     "text": [
      "{'eval_loss': 0.08582904934883118, 'eval_runtime': 0.023, 'eval_samples_per_second': 478.073, 'eval_steps_per_second': 86.922, 'epoch': 14.55}\n"
     ]
    },
    {
     "name": "stderr",
     "output_type": "stream",
     "text": [
      " 31%|███       | 170/550 [00:12<00:25, 14.96it/s]"
     ]
    },
    {
     "name": "stdout",
     "output_type": "stream",
     "text": [
      "{'loss': 0.0081, 'grad_norm': 0.06589660048484802, 'learning_rate': 3.454545454545455e-05, 'epoch': 15.45}\n"
     ]
    },
    {
     "name": "stderr",
     "output_type": "stream",
     "text": [
      "                                                 \n",
      " 31%|███       | 171/550 [00:12<00:26, 14.09it/s]"
     ]
    },
    {
     "name": "stdout",
     "output_type": "stream",
     "text": [
      "{'eval_loss': 0.07685056328773499, 'eval_runtime': 0.0209, 'eval_samples_per_second': 525.92, 'eval_steps_per_second': 95.622, 'epoch': 15.45}\n"
     ]
    },
    {
     "name": "stderr",
     "output_type": "stream",
     "text": [
      " 33%|███▎      | 180/550 [00:12<00:24, 15.06it/s]"
     ]
    },
    {
     "name": "stdout",
     "output_type": "stream",
     "text": [
      "{'loss': 0.008, 'grad_norm': 0.06857702136039734, 'learning_rate': 3.3636363636363636e-05, 'epoch': 16.36}\n"
     ]
    },
    {
     "name": "stderr",
     "output_type": "stream",
     "text": [
      "                                                 \n",
      " 33%|███▎      | 181/550 [00:12<00:26, 14.04it/s]"
     ]
    },
    {
     "name": "stdout",
     "output_type": "stream",
     "text": [
      "{'eval_loss': 0.08712951838970184, 'eval_runtime': 0.0218, 'eval_samples_per_second': 503.837, 'eval_steps_per_second': 91.607, 'epoch': 16.36}\n"
     ]
    },
    {
     "name": "stderr",
     "output_type": "stream",
     "text": [
      " 35%|███▍      | 190/550 [00:13<00:24, 15.00it/s]"
     ]
    },
    {
     "name": "stdout",
     "output_type": "stream",
     "text": [
      "{'loss': 0.007, 'grad_norm': 0.08137141913175583, 'learning_rate': 3.272727272727273e-05, 'epoch': 17.27}\n"
     ]
    },
    {
     "name": "stderr",
     "output_type": "stream",
     "text": [
      "                                                 \n",
      " 35%|███▍      | 191/550 [00:13<00:25, 14.06it/s]"
     ]
    },
    {
     "name": "stdout",
     "output_type": "stream",
     "text": [
      "{'eval_loss': 0.06784456223249435, 'eval_runtime': 0.0211, 'eval_samples_per_second': 522.252, 'eval_steps_per_second': 94.955, 'epoch': 17.27}\n"
     ]
    },
    {
     "name": "stderr",
     "output_type": "stream",
     "text": [
      " 36%|███▋      | 200/550 [00:14<00:22, 15.30it/s]"
     ]
    },
    {
     "name": "stdout",
     "output_type": "stream",
     "text": [
      "{'loss': 0.0068, 'grad_norm': 0.07359268516302109, 'learning_rate': 3.181818181818182e-05, 'epoch': 18.18}\n"
     ]
    },
    {
     "name": "stderr",
     "output_type": "stream",
     "text": [
      "                                                 \n",
      " 37%|███▋      | 201/550 [00:14<00:24, 14.16it/s]"
     ]
    },
    {
     "name": "stdout",
     "output_type": "stream",
     "text": [
      "{'eval_loss': 0.0580638088285923, 'eval_runtime': 0.0218, 'eval_samples_per_second': 505.471, 'eval_steps_per_second': 91.904, 'epoch': 18.18}\n"
     ]
    },
    {
     "name": "stderr",
     "output_type": "stream",
     "text": [
      " 38%|███▊      | 210/550 [00:14<00:22, 15.31it/s]"
     ]
    },
    {
     "name": "stdout",
     "output_type": "stream",
     "text": [
      "{'loss': 0.0067, 'grad_norm': 0.05296634882688522, 'learning_rate': 3.090909090909091e-05, 'epoch': 19.09}\n"
     ]
    },
    {
     "name": "stderr",
     "output_type": "stream",
     "text": [
      "                                                 \n",
      " 38%|███▊      | 211/550 [00:14<00:23, 14.41it/s]"
     ]
    },
    {
     "name": "stdout",
     "output_type": "stream",
     "text": [
      "{'eval_loss': 0.06329288333654404, 'eval_runtime': 0.0206, 'eval_samples_per_second': 534.876, 'eval_steps_per_second': 97.25, 'epoch': 19.09}\n"
     ]
    },
    {
     "name": "stderr",
     "output_type": "stream",
     "text": [
      " 40%|████      | 220/550 [00:15<00:22, 14.54it/s]"
     ]
    },
    {
     "name": "stdout",
     "output_type": "stream",
     "text": [
      "{'loss': 0.0062, 'grad_norm': 0.11466005444526672, 'learning_rate': 3e-05, 'epoch': 20.0}\n"
     ]
    },
    {
     "name": "stderr",
     "output_type": "stream",
     "text": [
      "                                                 \n",
      " 40%|████      | 221/550 [00:15<00:22, 14.59it/s]"
     ]
    },
    {
     "name": "stdout",
     "output_type": "stream",
     "text": [
      "{'eval_loss': 0.06875724345445633, 'eval_runtime': 0.0209, 'eval_samples_per_second': 526.334, 'eval_steps_per_second': 95.697, 'epoch': 20.0}\n"
     ]
    },
    {
     "name": "stderr",
     "output_type": "stream",
     "text": [
      " 42%|████▏     | 230/550 [00:16<00:22, 14.50it/s]"
     ]
    },
    {
     "name": "stdout",
     "output_type": "stream",
     "text": [
      "{'loss': 0.006, 'grad_norm': 0.19665361940860748, 'learning_rate': 2.909090909090909e-05, 'epoch': 20.91}\n"
     ]
    },
    {
     "name": "stderr",
     "output_type": "stream",
     "text": [
      "                                                 \n",
      " 42%|████▏     | 233/550 [00:16<00:21, 14.56it/s]"
     ]
    },
    {
     "name": "stdout",
     "output_type": "stream",
     "text": [
      "{'eval_loss': 0.052720364183187485, 'eval_runtime': 0.0209, 'eval_samples_per_second': 526.929, 'eval_steps_per_second': 95.805, 'epoch': 20.91}\n"
     ]
    },
    {
     "name": "stderr",
     "output_type": "stream",
     "text": [
      " 44%|████▎     | 240/550 [00:16<00:20, 14.78it/s]"
     ]
    },
    {
     "name": "stdout",
     "output_type": "stream",
     "text": [
      "{'loss': 0.0057, 'grad_norm': 0.048811640590429306, 'learning_rate': 2.818181818181818e-05, 'epoch': 21.82}\n"
     ]
    },
    {
     "name": "stderr",
     "output_type": "stream",
     "text": [
      "                                                 \n",
      " 44%|████▍     | 243/550 [00:17<00:20, 14.87it/s]"
     ]
    },
    {
     "name": "stdout",
     "output_type": "stream",
     "text": [
      "{'eval_loss': 0.04962967336177826, 'eval_runtime': 0.0217, 'eval_samples_per_second': 507.601, 'eval_steps_per_second': 92.291, 'epoch': 21.82}\n"
     ]
    },
    {
     "name": "stderr",
     "output_type": "stream",
     "text": [
      " 45%|████▌     | 250/550 [00:17<00:20, 14.67it/s]"
     ]
    },
    {
     "name": "stdout",
     "output_type": "stream",
     "text": [
      "{'loss': 0.0052, 'grad_norm': 0.06004038453102112, 'learning_rate': 2.7272727272727273e-05, 'epoch': 22.73}\n"
     ]
    },
    {
     "name": "stderr",
     "output_type": "stream",
     "text": [
      "                                                 \n",
      " 46%|████▌     | 253/550 [00:17<00:19, 14.91it/s]"
     ]
    },
    {
     "name": "stdout",
     "output_type": "stream",
     "text": [
      "{'eval_loss': 0.04519467055797577, 'eval_runtime': 0.0214, 'eval_samples_per_second': 512.848, 'eval_steps_per_second': 93.245, 'epoch': 22.73}\n"
     ]
    },
    {
     "name": "stderr",
     "output_type": "stream",
     "text": [
      " 47%|████▋     | 260/550 [00:18<00:19, 14.67it/s]"
     ]
    },
    {
     "name": "stdout",
     "output_type": "stream",
     "text": [
      "{'loss': 0.0043, 'grad_norm': 0.0453314445912838, 'learning_rate': 2.636363636363636e-05, 'epoch': 23.64}\n"
     ]
    },
    {
     "name": "stderr",
     "output_type": "stream",
     "text": [
      "                                                 \n",
      " 47%|████▋     | 261/550 [00:18<00:20, 13.81it/s]"
     ]
    },
    {
     "name": "stdout",
     "output_type": "stream",
     "text": [
      "{'eval_loss': 0.05016285181045532, 'eval_runtime': 0.0217, 'eval_samples_per_second': 506.831, 'eval_steps_per_second': 92.151, 'epoch': 23.64}\n"
     ]
    },
    {
     "name": "stderr",
     "output_type": "stream",
     "text": [
      " 49%|████▉     | 270/550 [00:18<00:18, 14.76it/s]"
     ]
    },
    {
     "name": "stdout",
     "output_type": "stream",
     "text": [
      "{'loss': 0.0044, 'grad_norm': 0.05245303362607956, 'learning_rate': 2.5454545454545454e-05, 'epoch': 24.55}\n"
     ]
    },
    {
     "name": "stderr",
     "output_type": "stream",
     "text": [
      "                                                 \n",
      " 49%|████▉     | 271/550 [00:19<00:20, 13.89it/s]"
     ]
    },
    {
     "name": "stdout",
     "output_type": "stream",
     "text": [
      "{'eval_loss': 0.0497598797082901, 'eval_runtime': 0.0217, 'eval_samples_per_second': 506.492, 'eval_steps_per_second': 92.089, 'epoch': 24.55}\n"
     ]
    },
    {
     "name": "stderr",
     "output_type": "stream",
     "text": [
      " 51%|█████     | 280/550 [00:19<00:18, 14.80it/s]"
     ]
    },
    {
     "name": "stdout",
     "output_type": "stream",
     "text": [
      "{'loss': 0.0043, 'grad_norm': 0.033223263919353485, 'learning_rate': 2.4545454545454545e-05, 'epoch': 25.45}\n"
     ]
    },
    {
     "name": "stderr",
     "output_type": "stream",
     "text": [
      "                                                 \n",
      " 51%|█████     | 281/550 [00:19<00:19, 13.95it/s]"
     ]
    },
    {
     "name": "stdout",
     "output_type": "stream",
     "text": [
      "{'eval_loss': 0.04629109054803848, 'eval_runtime': 0.0217, 'eval_samples_per_second': 507.919, 'eval_steps_per_second': 92.349, 'epoch': 25.45}\n"
     ]
    },
    {
     "name": "stderr",
     "output_type": "stream",
     "text": [
      " 53%|█████▎    | 290/550 [00:20<00:17, 14.99it/s]"
     ]
    },
    {
     "name": "stdout",
     "output_type": "stream",
     "text": [
      "{'loss': 0.0041, 'grad_norm': 0.08210456371307373, 'learning_rate': 2.3636363636363637e-05, 'epoch': 26.36}\n"
     ]
    },
    {
     "name": "stderr",
     "output_type": "stream",
     "text": [
      "                                                 \n",
      " 53%|█████▎    | 291/550 [00:20<00:18, 14.01it/s]"
     ]
    },
    {
     "name": "stdout",
     "output_type": "stream",
     "text": [
      "{'eval_loss': 0.04962349310517311, 'eval_runtime': 0.0207, 'eval_samples_per_second': 531.714, 'eval_steps_per_second': 96.675, 'epoch': 26.36}\n"
     ]
    },
    {
     "name": "stderr",
     "output_type": "stream",
     "text": [
      " 55%|█████▍    | 300/550 [00:21<00:16, 14.97it/s]"
     ]
    },
    {
     "name": "stdout",
     "output_type": "stream",
     "text": [
      "{'loss': 0.004, 'grad_norm': 0.038969896733760834, 'learning_rate': 2.272727272727273e-05, 'epoch': 27.27}\n"
     ]
    },
    {
     "name": "stderr",
     "output_type": "stream",
     "text": [
      "                                                 \n",
      " 55%|█████▍    | 301/550 [00:21<00:17, 14.06it/s]"
     ]
    },
    {
     "name": "stdout",
     "output_type": "stream",
     "text": [
      "{'eval_loss': 0.05471397563815117, 'eval_runtime': 0.0214, 'eval_samples_per_second': 514.248, 'eval_steps_per_second': 93.5, 'epoch': 27.27}\n"
     ]
    },
    {
     "name": "stderr",
     "output_type": "stream",
     "text": [
      " 56%|█████▋    | 310/550 [00:21<00:15, 15.28it/s]"
     ]
    },
    {
     "name": "stdout",
     "output_type": "stream",
     "text": [
      "{'loss': 0.0035, 'grad_norm': 0.050590403378009796, 'learning_rate': 2.1818181818181818e-05, 'epoch': 28.18}\n"
     ]
    },
    {
     "name": "stderr",
     "output_type": "stream",
     "text": [
      "                                                 \n",
      " 57%|█████▋    | 311/550 [00:21<00:16, 14.17it/s]"
     ]
    },
    {
     "name": "stdout",
     "output_type": "stream",
     "text": [
      "{'eval_loss': 0.05676636844873428, 'eval_runtime': 0.0211, 'eval_samples_per_second': 521.526, 'eval_steps_per_second': 94.823, 'epoch': 28.18}\n"
     ]
    },
    {
     "name": "stderr",
     "output_type": "stream",
     "text": [
      " 58%|█████▊    | 320/550 [00:22<00:15, 15.29it/s]"
     ]
    },
    {
     "name": "stdout",
     "output_type": "stream",
     "text": [
      "{'loss': 0.0034, 'grad_norm': 0.043874211609363556, 'learning_rate': 2.090909090909091e-05, 'epoch': 29.09}\n"
     ]
    },
    {
     "name": "stderr",
     "output_type": "stream",
     "text": [
      "                                                 \n",
      " 58%|█████▊    | 321/550 [00:22<00:16, 14.07it/s]"
     ]
    },
    {
     "name": "stdout",
     "output_type": "stream",
     "text": [
      "{'eval_loss': 0.05045311525464058, 'eval_runtime': 0.0229, 'eval_samples_per_second': 481.058, 'eval_steps_per_second': 87.465, 'epoch': 29.09}\n"
     ]
    },
    {
     "name": "stderr",
     "output_type": "stream",
     "text": [
      " 60%|██████    | 330/550 [00:23<00:15, 14.59it/s]"
     ]
    },
    {
     "name": "stdout",
     "output_type": "stream",
     "text": [
      "{'loss': 0.0033, 'grad_norm': 0.052587661892175674, 'learning_rate': 2e-05, 'epoch': 30.0}\n"
     ]
    },
    {
     "name": "stderr",
     "output_type": "stream",
     "text": [
      "                                                 \n",
      " 60%|██████    | 331/550 [00:23<00:15, 14.52it/s]"
     ]
    },
    {
     "name": "stdout",
     "output_type": "stream",
     "text": [
      "{'eval_loss': 0.04277525469660759, 'eval_runtime': 0.0211, 'eval_samples_per_second': 521.65, 'eval_steps_per_second': 94.845, 'epoch': 30.0}\n"
     ]
    },
    {
     "name": "stderr",
     "output_type": "stream",
     "text": [
      " 62%|██████▏   | 340/550 [00:23<00:14, 14.48it/s]"
     ]
    },
    {
     "name": "stdout",
     "output_type": "stream",
     "text": [
      "{'loss': 0.0032, 'grad_norm': 0.028558675199747086, 'learning_rate': 1.9090909090909094e-05, 'epoch': 30.91}\n"
     ]
    },
    {
     "name": "stderr",
     "output_type": "stream",
     "text": [
      "                                                 \n",
      " 62%|██████▏   | 343/550 [00:23<00:14, 14.42it/s]"
     ]
    },
    {
     "name": "stdout",
     "output_type": "stream",
     "text": [
      "{'eval_loss': 0.04017036035656929, 'eval_runtime': 0.022, 'eval_samples_per_second': 499.603, 'eval_steps_per_second': 90.837, 'epoch': 30.91}\n"
     ]
    },
    {
     "name": "stderr",
     "output_type": "stream",
     "text": [
      " 64%|██████▎   | 350/550 [00:24<00:13, 14.57it/s]"
     ]
    },
    {
     "name": "stdout",
     "output_type": "stream",
     "text": [
      "{'loss': 0.0034, 'grad_norm': 0.035580530762672424, 'learning_rate': 1.8181818181818182e-05, 'epoch': 31.82}\n"
     ]
    },
    {
     "name": "stderr",
     "output_type": "stream",
     "text": [
      "                                                 \n",
      " 64%|██████▍   | 353/550 [00:24<00:13, 14.71it/s]"
     ]
    },
    {
     "name": "stdout",
     "output_type": "stream",
     "text": [
      "{'eval_loss': 0.041023921221494675, 'eval_runtime': 0.0213, 'eval_samples_per_second': 515.582, 'eval_steps_per_second': 93.742, 'epoch': 31.82}\n"
     ]
    },
    {
     "name": "stderr",
     "output_type": "stream",
     "text": [
      " 65%|██████▌   | 360/550 [00:25<00:12, 14.68it/s]"
     ]
    },
    {
     "name": "stdout",
     "output_type": "stream",
     "text": [
      "{'loss': 0.0032, 'grad_norm': 0.07112425565719604, 'learning_rate': 1.7272727272727274e-05, 'epoch': 32.73}\n"
     ]
    },
    {
     "name": "stderr",
     "output_type": "stream",
     "text": [
      "                                                 \n",
      " 66%|██████▌   | 363/550 [00:25<00:12, 14.84it/s]"
     ]
    },
    {
     "name": "stdout",
     "output_type": "stream",
     "text": [
      "{'eval_loss': 0.04868561401963234, 'eval_runtime': 0.0215, 'eval_samples_per_second': 512.762, 'eval_steps_per_second': 93.23, 'epoch': 32.73}\n"
     ]
    },
    {
     "name": "stderr",
     "output_type": "stream",
     "text": [
      " 67%|██████▋   | 370/550 [00:25<00:12, 14.71it/s]"
     ]
    },
    {
     "name": "stdout",
     "output_type": "stream",
     "text": [
      "{'loss': 0.0034, 'grad_norm': 0.06291412562131882, 'learning_rate': 1.6363636363636366e-05, 'epoch': 33.64}\n"
     ]
    },
    {
     "name": "stderr",
     "output_type": "stream",
     "text": [
      "                                                 \n",
      " 67%|██████▋   | 371/550 [00:25<00:12, 13.82it/s]"
     ]
    },
    {
     "name": "stdout",
     "output_type": "stream",
     "text": [
      "{'eval_loss': 0.05145291984081268, 'eval_runtime': 0.0211, 'eval_samples_per_second': 521.562, 'eval_steps_per_second': 94.829, 'epoch': 33.64}\n"
     ]
    },
    {
     "name": "stderr",
     "output_type": "stream",
     "text": [
      " 69%|██████▉   | 380/550 [00:26<00:11, 14.79it/s]"
     ]
    },
    {
     "name": "stdout",
     "output_type": "stream",
     "text": [
      "{'loss': 0.0033, 'grad_norm': 0.030237538740038872, 'learning_rate': 1.5454545454545454e-05, 'epoch': 34.55}\n"
     ]
    },
    {
     "name": "stderr",
     "output_type": "stream",
     "text": [
      "                                                 \n",
      " 69%|██████▉   | 381/550 [00:26<00:12, 13.84it/s]"
     ]
    },
    {
     "name": "stdout",
     "output_type": "stream",
     "text": [
      "{'eval_loss': 0.049192849546670914, 'eval_runtime': 0.0217, 'eval_samples_per_second': 506.431, 'eval_steps_per_second': 92.078, 'epoch': 34.55}\n"
     ]
    },
    {
     "name": "stderr",
     "output_type": "stream",
     "text": [
      " 71%|███████   | 390/550 [00:27<00:10, 14.88it/s]"
     ]
    },
    {
     "name": "stdout",
     "output_type": "stream",
     "text": [
      "{'loss': 0.0026, 'grad_norm': 0.0351417101919651, 'learning_rate': 1.4545454545454545e-05, 'epoch': 35.45}\n"
     ]
    },
    {
     "name": "stderr",
     "output_type": "stream",
     "text": [
      "                                                 \n",
      " 71%|███████   | 391/550 [00:27<00:11, 13.98it/s]"
     ]
    },
    {
     "name": "stdout",
     "output_type": "stream",
     "text": [
      "{'eval_loss': 0.05122430622577667, 'eval_runtime': 0.0212, 'eval_samples_per_second': 519.881, 'eval_steps_per_second': 94.524, 'epoch': 35.45}\n"
     ]
    },
    {
     "name": "stderr",
     "output_type": "stream",
     "text": [
      " 73%|███████▎  | 400/550 [00:27<00:10, 14.98it/s]"
     ]
    },
    {
     "name": "stdout",
     "output_type": "stream",
     "text": [
      "{'loss': 0.0028, 'grad_norm': 0.02109852060675621, 'learning_rate': 1.3636363636363637e-05, 'epoch': 36.36}\n"
     ]
    },
    {
     "name": "stderr",
     "output_type": "stream",
     "text": [
      "                                                 \n",
      " 73%|███████▎  | 401/550 [00:28<00:10, 14.00it/s]"
     ]
    },
    {
     "name": "stdout",
     "output_type": "stream",
     "text": [
      "{'eval_loss': 0.04790157079696655, 'eval_runtime': 0.021, 'eval_samples_per_second': 522.797, 'eval_steps_per_second': 95.054, 'epoch': 36.36}\n"
     ]
    },
    {
     "name": "stderr",
     "output_type": "stream",
     "text": [
      " 75%|███████▍  | 410/550 [00:28<00:09, 15.07it/s]"
     ]
    },
    {
     "name": "stdout",
     "output_type": "stream",
     "text": [
      "{'loss': 0.0031, 'grad_norm': 0.02451077289879322, 'learning_rate': 1.2727272727272727e-05, 'epoch': 37.27}\n"
     ]
    },
    {
     "name": "stderr",
     "output_type": "stream",
     "text": [
      "                                                 \n",
      " 75%|███████▍  | 411/550 [00:28<00:09, 14.11it/s]"
     ]
    },
    {
     "name": "stdout",
     "output_type": "stream",
     "text": [
      "{'eval_loss': 0.045147303491830826, 'eval_runtime': 0.0207, 'eval_samples_per_second': 532.672, 'eval_steps_per_second': 96.849, 'epoch': 37.27}\n"
     ]
    },
    {
     "name": "stderr",
     "output_type": "stream",
     "text": [
      " 76%|███████▋  | 420/550 [00:29<00:08, 15.27it/s]"
     ]
    },
    {
     "name": "stdout",
     "output_type": "stream",
     "text": [
      "{'loss': 0.0026, 'grad_norm': 0.05565813556313515, 'learning_rate': 1.1818181818181819e-05, 'epoch': 38.18}\n"
     ]
    },
    {
     "name": "stderr",
     "output_type": "stream",
     "text": [
      "                                                 \n",
      " 77%|███████▋  | 421/550 [00:29<00:09, 14.18it/s]"
     ]
    },
    {
     "name": "stdout",
     "output_type": "stream",
     "text": [
      "{'eval_loss': 0.04838663712143898, 'eval_runtime': 0.0219, 'eval_samples_per_second': 502.898, 'eval_steps_per_second': 91.436, 'epoch': 38.18}\n"
     ]
    },
    {
     "name": "stderr",
     "output_type": "stream",
     "text": [
      " 78%|███████▊  | 430/550 [00:29<00:07, 15.27it/s]"
     ]
    },
    {
     "name": "stdout",
     "output_type": "stream",
     "text": [
      "{'loss': 0.0027, 'grad_norm': 0.027102412655949593, 'learning_rate': 1.0909090909090909e-05, 'epoch': 39.09}\n"
     ]
    },
    {
     "name": "stderr",
     "output_type": "stream",
     "text": [
      "                                                 \n",
      " 78%|███████▊  | 431/550 [00:30<00:08, 14.12it/s]"
     ]
    },
    {
     "name": "stdout",
     "output_type": "stream",
     "text": [
      "{'eval_loss': 0.05119719356298447, 'eval_runtime': 0.0228, 'eval_samples_per_second': 483.291, 'eval_steps_per_second': 87.871, 'epoch': 39.09}\n"
     ]
    },
    {
     "name": "stderr",
     "output_type": "stream",
     "text": [
      " 80%|████████  | 440/550 [00:30<00:07, 14.46it/s]"
     ]
    },
    {
     "name": "stdout",
     "output_type": "stream",
     "text": [
      "{'loss': 0.0026, 'grad_norm': 0.0764705166220665, 'learning_rate': 1e-05, 'epoch': 40.0}\n"
     ]
    },
    {
     "name": "stderr",
     "output_type": "stream",
     "text": [
      "                                                 \n",
      " 80%|████████  | 441/550 [00:30<00:07, 14.49it/s]"
     ]
    },
    {
     "name": "stdout",
     "output_type": "stream",
     "text": [
      "{'eval_loss': 0.04931136220693588, 'eval_runtime': 0.0219, 'eval_samples_per_second': 503.139, 'eval_steps_per_second': 91.48, 'epoch': 40.0}\n"
     ]
    },
    {
     "name": "stderr",
     "output_type": "stream",
     "text": [
      " 82%|████████▏ | 450/550 [00:31<00:06, 14.40it/s]"
     ]
    },
    {
     "name": "stdout",
     "output_type": "stream",
     "text": [
      "{'loss': 0.0027, 'grad_norm': 0.030320361256599426, 'learning_rate': 9.090909090909091e-06, 'epoch': 40.91}\n"
     ]
    },
    {
     "name": "stderr",
     "output_type": "stream",
     "text": [
      "                                                 \n",
      " 82%|████████▏ | 453/550 [00:31<00:06, 14.38it/s]"
     ]
    },
    {
     "name": "stdout",
     "output_type": "stream",
     "text": [
      "{'eval_loss': 0.04622160270810127, 'eval_runtime': 0.0233, 'eval_samples_per_second': 471.468, 'eval_steps_per_second': 85.721, 'epoch': 40.91}\n"
     ]
    },
    {
     "name": "stderr",
     "output_type": "stream",
     "text": [
      " 84%|████████▎ | 460/550 [00:32<00:06, 14.45it/s]"
     ]
    },
    {
     "name": "stdout",
     "output_type": "stream",
     "text": [
      "{'loss': 0.0025, 'grad_norm': 0.021546579897403717, 'learning_rate': 8.181818181818183e-06, 'epoch': 41.82}\n"
     ]
    },
    {
     "name": "stderr",
     "output_type": "stream",
     "text": [
      "                                                 \n",
      " 84%|████████▍ | 463/550 [00:32<00:05, 14.74it/s]"
     ]
    },
    {
     "name": "stdout",
     "output_type": "stream",
     "text": [
      "{'eval_loss': 0.04603287950158119, 'eval_runtime': 0.0221, 'eval_samples_per_second': 497.583, 'eval_steps_per_second': 90.47, 'epoch': 41.82}\n"
     ]
    },
    {
     "name": "stderr",
     "output_type": "stream",
     "text": [
      " 85%|████████▌ | 470/550 [00:32<00:05, 14.72it/s]"
     ]
    },
    {
     "name": "stdout",
     "output_type": "stream",
     "text": [
      "{'loss': 0.0028, 'grad_norm': 0.03576380014419556, 'learning_rate': 7.272727272727272e-06, 'epoch': 42.73}\n"
     ]
    },
    {
     "name": "stderr",
     "output_type": "stream",
     "text": [
      "                                                 \n",
      " 86%|████████▌ | 473/550 [00:32<00:05, 14.74it/s]"
     ]
    },
    {
     "name": "stdout",
     "output_type": "stream",
     "text": [
      "{'eval_loss': 0.04698829725384712, 'eval_runtime': 0.0233, 'eval_samples_per_second': 472.733, 'eval_steps_per_second': 85.951, 'epoch': 42.73}\n"
     ]
    },
    {
     "name": "stderr",
     "output_type": "stream",
     "text": [
      " 87%|████████▋ | 480/550 [00:33<00:04, 14.58it/s]"
     ]
    },
    {
     "name": "stdout",
     "output_type": "stream",
     "text": [
      "{'loss': 0.0025, 'grad_norm': 0.02065572701394558, 'learning_rate': 6.363636363636363e-06, 'epoch': 43.64}\n"
     ]
    },
    {
     "name": "stderr",
     "output_type": "stream",
     "text": [
      "                                                 \n",
      " 87%|████████▋ | 481/550 [00:33<00:05, 13.65it/s]"
     ]
    },
    {
     "name": "stdout",
     "output_type": "stream",
     "text": [
      "{'eval_loss': 0.05381391942501068, 'eval_runtime': 0.0212, 'eval_samples_per_second': 518.823, 'eval_steps_per_second': 94.331, 'epoch': 43.64}\n"
     ]
    },
    {
     "name": "stderr",
     "output_type": "stream",
     "text": [
      " 89%|████████▉ | 490/550 [00:34<00:04, 14.68it/s]"
     ]
    },
    {
     "name": "stdout",
     "output_type": "stream",
     "text": [
      "{'loss': 0.0025, 'grad_norm': 0.02979830838739872, 'learning_rate': 5.4545454545454545e-06, 'epoch': 44.55}\n"
     ]
    },
    {
     "name": "stderr",
     "output_type": "stream",
     "text": [
      "                                                 \n",
      " 89%|████████▉ | 491/550 [00:34<00:04, 13.78it/s]"
     ]
    },
    {
     "name": "stdout",
     "output_type": "stream",
     "text": [
      "{'eval_loss': 0.05711459740996361, 'eval_runtime': 0.0211, 'eval_samples_per_second': 522.43, 'eval_steps_per_second': 94.987, 'epoch': 44.55}\n"
     ]
    },
    {
     "name": "stderr",
     "output_type": "stream",
     "text": [
      " 91%|█████████ | 500/550 [00:34<00:03, 14.65it/s]"
     ]
    },
    {
     "name": "stdout",
     "output_type": "stream",
     "text": [
      "{'loss': 0.0024, 'grad_norm': 0.01979340799152851, 'learning_rate': 4.5454545454545455e-06, 'epoch': 45.45}\n"
     ]
    },
    {
     "name": "stderr",
     "output_type": "stream",
     "text": [
      "                                                 \n",
      " 91%|█████████ | 500/550 [00:34<00:03, 14.65it/s]"
     ]
    },
    {
     "name": "stdout",
     "output_type": "stream",
     "text": [
      "{'eval_loss': 0.05751582607626915, 'eval_runtime': 0.0211, 'eval_samples_per_second': 521.632, 'eval_steps_per_second': 94.842, 'epoch': 45.45}\n"
     ]
    },
    {
     "name": "stderr",
     "output_type": "stream",
     "text": [
      " 93%|█████████▎| 510/550 [00:36<00:03, 10.06it/s]"
     ]
    },
    {
     "name": "stdout",
     "output_type": "stream",
     "text": [
      "{'loss': 0.0024, 'grad_norm': 0.01951698213815689, 'learning_rate': 3.636363636363636e-06, 'epoch': 46.36}\n"
     ]
    },
    {
     "name": "stderr",
     "output_type": "stream",
     "text": [
      "                                                 \n",
      " 93%|█████████▎| 511/550 [00:36<00:03, 10.55it/s]"
     ]
    },
    {
     "name": "stdout",
     "output_type": "stream",
     "text": [
      "{'eval_loss': 0.05615069717168808, 'eval_runtime': 0.0209, 'eval_samples_per_second': 526.045, 'eval_steps_per_second': 95.645, 'epoch': 46.36}\n"
     ]
    },
    {
     "name": "stderr",
     "output_type": "stream",
     "text": [
      " 95%|█████████▍| 520/550 [00:37<00:02, 13.76it/s]"
     ]
    },
    {
     "name": "stdout",
     "output_type": "stream",
     "text": [
      "{'loss': 0.0026, 'grad_norm': 0.024046488106250763, 'learning_rate': 2.7272727272727272e-06, 'epoch': 47.27}\n"
     ]
    },
    {
     "name": "stderr",
     "output_type": "stream",
     "text": [
      "                                                 \n",
      " 95%|█████████▍| 521/550 [00:37<00:02, 13.34it/s]"
     ]
    },
    {
     "name": "stdout",
     "output_type": "stream",
     "text": [
      "{'eval_loss': 0.05515420064330101, 'eval_runtime': 0.0209, 'eval_samples_per_second': 526.111, 'eval_steps_per_second': 95.657, 'epoch': 47.27}\n"
     ]
    },
    {
     "name": "stderr",
     "output_type": "stream",
     "text": [
      " 96%|█████████▋| 530/550 [00:37<00:01, 15.01it/s]"
     ]
    },
    {
     "name": "stdout",
     "output_type": "stream",
     "text": [
      "{'loss': 0.0026, 'grad_norm': 0.028192667290568352, 'learning_rate': 1.818181818181818e-06, 'epoch': 48.18}\n"
     ]
    },
    {
     "name": "stderr",
     "output_type": "stream",
     "text": [
      "                                                 \n",
      " 97%|█████████▋| 531/550 [00:37<00:01, 14.01it/s]"
     ]
    },
    {
     "name": "stdout",
     "output_type": "stream",
     "text": [
      "{'eval_loss': 0.05497558414936066, 'eval_runtime': 0.0217, 'eval_samples_per_second': 507.768, 'eval_steps_per_second': 92.321, 'epoch': 48.18}\n"
     ]
    },
    {
     "name": "stderr",
     "output_type": "stream",
     "text": [
      " 98%|█████████▊| 540/550 [00:38<00:00, 15.19it/s]"
     ]
    },
    {
     "name": "stdout",
     "output_type": "stream",
     "text": [
      "{'loss': 0.0025, 'grad_norm': 0.038242194801568985, 'learning_rate': 9.09090909090909e-07, 'epoch': 49.09}\n"
     ]
    },
    {
     "name": "stderr",
     "output_type": "stream",
     "text": [
      "                                                 \n",
      " 98%|█████████▊| 541/550 [00:38<00:00, 14.08it/s]"
     ]
    },
    {
     "name": "stdout",
     "output_type": "stream",
     "text": [
      "{'eval_loss': 0.05469326674938202, 'eval_runtime': 0.0227, 'eval_samples_per_second': 483.671, 'eval_steps_per_second': 87.94, 'epoch': 49.09}\n"
     ]
    },
    {
     "name": "stderr",
     "output_type": "stream",
     "text": [
      "100%|██████████| 550/550 [00:39<00:00, 14.48it/s]"
     ]
    },
    {
     "name": "stdout",
     "output_type": "stream",
     "text": [
      "{'loss': 0.0024, 'grad_norm': 0.0371180921792984, 'learning_rate': 0.0, 'epoch': 50.0}\n"
     ]
    },
    {
     "name": "stderr",
     "output_type": "stream",
     "text": [
      "                                                 \n",
      "100%|██████████| 550/550 [00:39<00:00, 14.48it/s]"
     ]
    },
    {
     "name": "stdout",
     "output_type": "stream",
     "text": [
      "{'eval_loss': 0.05451615899801254, 'eval_runtime': 0.0219, 'eval_samples_per_second': 502.367, 'eval_steps_per_second': 91.339, 'epoch': 50.0}\n"
     ]
    },
    {
     "name": "stderr",
     "output_type": "stream",
     "text": [
      "100%|██████████| 550/550 [00:40<00:00, 13.68it/s]"
     ]
    },
    {
     "name": "stdout",
     "output_type": "stream",
     "text": [
      "{'train_runtime': 40.21, 'train_samples_per_second': 103.208, 'train_steps_per_second': 13.678, 'train_loss': 0.11026537853208455, 'epoch': 50.0}\n"
     ]
    },
    {
     "name": "stderr",
     "output_type": "stream",
     "text": [
      "\n"
     ]
    },
    {
     "data": {
      "text/plain": [
       "('./intent_model/tokenizer_config.json',\n",
       " './intent_model/special_tokens_map.json',\n",
       " './intent_model/vocab.txt',\n",
       " './intent_model/added_tokens.json')"
      ]
     },
     "execution_count": 3,
     "metadata": {},
     "output_type": "execute_result"
    }
   ],
   "source": [
    "from datasets import Dataset\n",
    "import pandas as pd\n",
    "from transformers import BertTokenizer, DistilBertForSequenceClassification, Trainer, TrainingArguments\n",
    "from transformers import DataCollatorWithPadding\n",
    "import torch\n",
    "\n",
    "# Load dataset\n",
    "# datafile = '../data/Bitext.csv'\n",
    "datafile = './data/bert_input.csv'\n",
    "df = pd.read_csv(datafile)\n",
    "df = df[['instruction', 'intent']]\n",
    "print(len(df))\n",
    "\n",
    "# Convert to Hugging Face dataset\n",
    "intent_dataset = Dataset.from_pandas(df)\n",
    "\n",
    "# get device\n",
    "device = torch.device('cuda' if torch.cuda.is_available() else 'cpu')\n",
    "print(f'Using device: {device}')\n",
    "\n",
    "# Initialize tokenizer\n",
    "tokenizer = BertTokenizer.from_pretrained('bert-base-uncased')\n",
    "\n",
    "def tokenize_function(example):\n",
    "    return tokenizer(example['instruction'], padding='max_length', truncation=True, max_length=128)\n",
    "\n",
    "# Apply tokenization to the dataset\n",
    "intent_dataset = intent_dataset.map(tokenize_function, remove_columns=[\"instruction\"])\n",
    "\n",
    "# Map 'intent' to numerical labels\n",
    "intent_labels = {intent: idx for idx, intent in enumerate(df['intent'].unique())}\n",
    "intent_dataset = intent_dataset.map(lambda x: {'labels': intent_labels[x['intent']]})\n",
    "\n",
    "# Number of intents\n",
    "num_intents = len(df['intent'].unique())\n",
    "print(num_intents)\n",
    "\n",
    "# Load DistilBERT model for sequence classification\n",
    "model = DistilBertForSequenceClassification.from_pretrained('distilbert-base-uncased', num_labels=num_intents)\n",
    "\n",
    "# Data collator (use for sequence classification, handles padding)\n",
    "data_collator = DataCollatorWithPadding(tokenizer, padding='max_length', max_length=128)\n",
    "\n",
    "# Define training arguments\n",
    "training_args = TrainingArguments(\n",
    "    output_dir='./intent_model',\n",
    "    save_strategy=\"steps\",\n",
    "    save_steps=500,  # Save model every 500 steps\n",
    "    logging_dir='./logs',\n",
    "    logging_steps=10,  # Log training loss every 500 steps\n",
    "    evaluation_strategy=\"steps\",  # Evaluate every 500 steps\n",
    "    eval_steps=10,  # Perform evaluation every 500 steps\n",
    "    save_total_limit=2,\n",
    "    num_train_epochs=50,\n",
    "    per_device_train_batch_size=8,\n",
    "    disable_tqdm=False,\n",
    "    load_best_model_at_end=True,\n",
    ")\n",
    "\n",
    "# split dataset\n",
    "# Initial train/test split\n",
    "train_val_split = intent_dataset.train_test_split(test_size=0.1)\n",
    "intent_dataset_train = train_val_split['train']\n",
    "intent_dataset_val = train_val_split['test']\n",
    "\n",
    "# Further split the training set into train and test sets\n",
    "train_test_split = intent_dataset_train.train_test_split(test_size=0.1)\n",
    "intent_dataset_train = train_test_split['train']\n",
    "intent_dataset_test = train_test_split['test']\n",
    "\n",
    "# Trainer setup\n",
    "trainer = Trainer(\n",
    "    model=model,\n",
    "    args=training_args,\n",
    "    train_dataset=intent_dataset_train,\n",
    "    eval_dataset=intent_dataset_val,\n",
    "    data_collator=data_collator,\n",
    "    callbacks=[aligned_loss_callback]\n",
    ")\n",
    "\n",
    "# Train the model with tqdm progress bar\n",
    "trainer.train()\n",
    "tokenizer.save_pretrained('./intent_model')"
   ]
  },
  {
   "cell_type": "code",
   "execution_count": 4,
   "metadata": {},
   "outputs": [
    {
     "name": "stdout",
     "output_type": "stream",
     "text": [
      "55 55 55\n"
     ]
    },
    {
     "data": {
      "image/png": "[encoded data removed]",
      "text/plain": [
       "<Figure size 640x480 with 1 Axes>"
      ]
     },
     "metadata": {},
     "output_type": "display_data"
    }
   ],
   "source": [
    "import numpy as np\n",
    "import matplotlib.pyplot as plt\n",
    "\n",
    "# Align losses\n",
    "validation_steps = np.array(aligned_loss_callback.eval_steps)\n",
    "train_losses = np.array(aligned_loss_callback.train_losses)\n",
    "eval_losses = np.array(aligned_loss_callback.eval_losses)\n",
    "print(len(validation_steps), len(train_losses), len(eval_losses))\n",
    "\n",
    "# Plot aligned losses\n",
    "plt.plot(validation_steps, train_losses, label='Train')\n",
    "plt.plot(validation_steps, eval_losses, label='Validation')\n",
    "plt.title('Training and Validation Losses[Intent Classification]')\n",
    "\n",
    "plt.xlabel('Steps')\n",
    "plt.ylabel('Loss')\n",
    "plt.legend()\n",
    "plt.savefig('./images/intent_losses.png')"
   ]
  },
  {
   "cell_type": "code",
   "execution_count": 5,
   "metadata": {},
   "outputs": [],
   "source": [
    "# store the intent labels\n",
    "import json\n",
    "with open('./intent_model/intent_labels.json', 'w') as f:\n",
    "    json.dump(intent_labels, f)"
   ]
  },
  {
   "cell_type": "code",
   "execution_count": 6,
   "metadata": {},
   "outputs": [
    {
     "name": "stdout",
     "output_type": "stream",
     "text": [
      "Predicted intent ID: 2\n",
      "Predicted intent: list_orders\n"
     ]
    }
   ],
   "source": [
    "# Function to test the trained model\n",
    "def test_model(input_text, model, tokenizer):\n",
    "    # Tokenize the input text without 'token_type_ids'\n",
    "    inputs = tokenizer(input_text, return_tensors='pt', padding=True, truncation=True, max_length=128)\n",
    "    \n",
    "    # Remove 'token_type_ids' from the input if it exists\n",
    "    inputs.pop('token_type_ids', None)\n",
    "    \n",
    "    # Move tensors to the appropriate device (GPU if available)\n",
    "    device = 'cuda' if torch.cuda.is_available() else 'cpu'\n",
    "    model.to(device)\n",
    "    inputs = {key: value.to(device) for key, value in inputs.items()}\n",
    "    \n",
    "    # Make prediction\n",
    "    with torch.no_grad():\n",
    "        outputs = model(**inputs)\n",
    "    \n",
    "    # Get predicted label (the class with the highest score)\n",
    "    logits = outputs.logits\n",
    "    predicted_class_id = torch.argmax(logits, dim=-1).item()\n",
    "    \n",
    "    return predicted_class_id\n",
    "\n",
    "# Test the trained model with a sample input\n",
    "input_text = \"[INT] [BOT] [USR] Hey i want to know list my orders\"\n",
    "predicted_class_id = test_model(input_text, model, tokenizer)\n",
    "\n",
    "# Print the predicted intent\n",
    "print(f\"Predicted intent ID: {predicted_class_id}\")\n",
    "\n",
    "# Optionally map the predicted intent ID back to the intent label\n",
    "# get key from value\n",
    "predicted_intent = list(intent_labels.keys())[list(intent_labels.values()).index(predicted_class_id)]\n",
    "print(f\"Predicted intent: {predicted_intent}\")\n"
   ]
  },
  {
   "cell_type": "code",
   "execution_count": 7,
   "metadata": {},
   "outputs": [
    {
     "name": "stdout",
     "output_type": "stream",
     "text": [
      "60\n",
      "Predicted intent ID: 1\n",
      "Predicted intent: give_order_id\n",
      "Instruction: [INT] [BOT]  [USR] Can you check my order 12345?\n",
      "True intent: track_order\n",
      "Predicted intent: track_order\n",
      "\n",
      "Instruction: [INT] cancel_order [BOT] Please confirm the cancellation of your last order. [USR] Yes, confirm it.\n",
      "True intent: confirm_command\n",
      "Predicted intent: confirm_command\n",
      "\n",
      "Instruction: [INT] [BOT]  [USR] Cancel the last item I ordered.\n",
      "True intent: cancel_order\n",
      "Predicted intent: cancel_order\n",
      "\n",
      "Instruction: [INT] give_order_id [BOT] Are you sure? [USR] Yes I am sure!\n",
      "True intent: confirm_command\n",
      "Predicted intent: confirm_command\n",
      "\n",
      "Instruction: [INT] list_orders [BOT] Do you need to filter anything? [USR] Yeah give me just 32 of them\n",
      "True intent: give_list_order_params\n",
      "Predicted intent: give_list_order_params\n",
      "\n",
      "Instruction: [INT] cancel_order [BOT] Can you confirm the cancellation of your most recent order? [USR] No, don’t proceed with it.\n",
      "True intent: confirm_command\n",
      "Predicted intent: confirm_command\n",
      "\n",
      "Instruction: [INT] cancel_order [BOT] Are you sure you want to cancel order 112233? [USR] No, leave it as is.\n",
      "True intent: confirm_command\n",
      "Predicted intent: confirm_command\n",
      "\n",
      "Instruction: [INT] [BOT]  [USR] Can you list some of my previous orders?\n",
      "True intent: list_orders\n",
      "Predicted intent: list_orders\n",
      "\n",
      "Instruction: [INT] track_order [BOT] For which order would you like an update? [USR] Order ID is 5643.\n",
      "True intent: give_order_id\n",
      "Predicted intent: give_order_id\n",
      "\n",
      "Instruction: [INT] [BOT]  [USR] Hey can i get the status of my latest order?\n",
      "True intent: track_order\n",
      "Predicted intent: track_order\n",
      "\n",
      "Instruction: [INT] track_order [BOT] Please provide your order number. [USR] It’s 23456.\n",
      "True intent: give_order_id\n",
      "Predicted intent: give_order_id\n",
      "\n",
      "Instruction: [INT] [BOT]  [USR] I was wondering where my 121243 order is?\n",
      "True intent: track_order\n",
      "Predicted intent: track_order\n",
      "\n",
      "Instruction: [INT] [BOT]  [USR] Please cancel my latest order.\n",
      "True intent: cancel_order\n",
      "Predicted intent: cancel_order\n",
      "\n",
      "Instruction: [INT] cancel_order [BOT] Can you confirm that you’d like to cancel order 776655? [USR] No, I’d like to keep it.\n",
      "True intent: confirm_command\n",
      "Predicted intent: confirm_command\n",
      "\n",
      "Instruction: [INT] cancel_order [BOT] Could you confirm cancellation of order number 998877? [USR] Yes, please cancel it.\n",
      "True intent: confirm_command\n",
      "Predicted intent: confirm_command\n",
      "\n"
     ]
    }
   ],
   "source": [
    "# Load the model\n",
    "# model = DistilBertForSequenceClassification.from_pretrained('./results/checkpoint-1500')\n",
    "\n",
    "# Load the tokenizer\n",
    "tokenizer = BertTokenizer.from_pretrained('bert-base-uncased')\n",
    "\n",
    "# Test the trained model with a sample input\n",
    "input_text = \"[INT] track_order [BOT] Please share the order ID [USR] 1231\"\n",
    "print(len(input_text))\n",
    "\n",
    "# Get the predicted intent ID\n",
    "predicted_class_id = test_model(input_text, model, tokenizer)\n",
    "\n",
    "# Print the predicted intent\n",
    "print(f\"Predicted intent ID: {predicted_class_id}\")\n",
    "print(f\"Predicted intent: {list(intent_labels.keys())[list(intent_labels.values()).index(predicted_class_id)]}\")\n",
    "\n",
    "# print probability scores of other intents\n",
    "def get_intent_probs(input_text, model, tokenizer):\n",
    "    # Tokenize the input text without 'token_type_ids'\n",
    "    inputs = tokenizer(input_text, return_tensors='pt', padding=True, truncation=True, max_length=128)\n",
    "    \n",
    "    # Remove 'token_type_ids' from the input if it exists\n",
    "    inputs.pop('token_type_ids', None)\n",
    "    \n",
    "    # Move tensors to the appropriate device (GPU if available)\n",
    "    device = 'cuda' if torch.cuda.is_available() else 'cpu'\n",
    "    model.to(device)\n",
    "    inputs = {key: value.to(device) for key, value in inputs.items()}\n",
    "    \n",
    "    # Make prediction\n",
    "    with torch.no_grad():\n",
    "        outputs = model(**inputs)\n",
    "    \n",
    "    # Get predicted label (the class with the highest score)\n",
    "    logits = outputs.logits\n",
    "    probs = torch.softmax(logits, dim=-1)\n",
    "    \n",
    "    return probs\n",
    "\n",
    "# Get the probability scores for all intents\n",
    "probs = get_intent_probs(input_text, model, tokenizer)\n",
    "\n",
    "test_df = pd.read_csv(datafile)\n",
    "test_df = test_df[['instruction', 'intent']]\n",
    "\n",
    "# randomly take 15 samples\n",
    "test_df = test_df.sample(15)\n",
    "\n",
    "# Get the predicted intent ID for each sample\n",
    "test_df['predicted_intent_id'] = test_df['instruction'].apply(lambda x: test_model(x, model, tokenizer))\n",
    "\n",
    "# Map the predicted intent ID back to the intent label\n",
    "test_df['predicted_intent'] = test_df['predicted_intent_id'].apply(lambda x: list(intent_labels.keys())[list(intent_labels.values()).index(x)])\n",
    "\n",
    "for idx, row in test_df.iterrows():\n",
    "    print(f\"Instruction: {row['instruction']}\")\n",
    "    print(f\"True intent: {row['intent']}\")\n",
    "    print(f\"Predicted intent: {row['predicted_intent']}\")\n",
    "    print('')\n"
   ]
  },
  {
   "cell_type": "markdown",
   "metadata": {},
   "source": [
    "# NER"
   ]
  },
  {
   "cell_type": "code",
   "execution_count": 8,
   "metadata": {},
   "outputs": [
    {
     "name": "stdout",
     "output_type": "stream",
     "text": [
      "Label to ID Mapping: {'B-AFFIRMATION': 0, 'B-CONFIRMATION': 1, 'B-COUNT': 2, 'B-END_DATE': 3, 'B-ORD': 4, 'B-REASON': 5, 'B-START_DATE': 6, 'I-END_DATE': 7, 'I-REASON': 8, 'I-START_DATE': 9, 'O': 10}\n"
     ]
    },
    {
     "name": "stderr",
     "output_type": "stream",
     "text": [
      "Map: 100%|██████████| 104/104 [00:00<00:00, 7541.50 examples/s]\n"
     ]
    }
   ],
   "source": [
    "from transformers import BertTokenizerFast\n",
    "from datasets import Dataset\n",
    "import pandas as pd\n",
    "\n",
    "# Initialize tokenizer\n",
    "tokenizer = BertTokenizerFast.from_pretrained(\"bert-base-uncased\")\n",
    "special_tokens = [\"[INT]\", \"[BOT]\", \"[USR]\"]\n",
    "tokenizer.add_special_tokens({\"additional_special_tokens\": special_tokens})\n",
    "\n",
    "\n",
    "# Load the data\n",
    "data = pd.read_csv('./data/ner_data.csv')\n",
    "data[\"labels\"] = data[\"labels\"].apply(eval)\n",
    "\n",
    "# Extract unique labels and create a mapping\n",
    "unique_labels = sorted({label for labels in data[\"labels\"] for label in labels})\n",
    "label_to_id = {label: idx for idx, label in enumerate(unique_labels)}\n",
    "\n",
    "print(\"Label to ID Mapping:\", label_to_id)\n",
    "\n",
    "# Convert DataFrame to list of dictionaries for Dataset.from_list\n",
    "data = data.to_dict(orient=\"records\")\n",
    "\n",
    "# Tokenize and align labels\n",
    "def tokenize_and_align_labels(examples):\n",
    "    # Tokenize the text\n",
    "    tokenized_inputs = tokenizer(examples[\"instruction\"], truncation=True, is_split_into_words=False)\n",
    "    tokens = tokenizer.convert_ids_to_tokens(tokenized_inputs[\"input_ids\"])\n",
    "    word_ids = tokenized_inputs.word_ids()\n",
    "    previous_word_idx = None\n",
    "    label_ids = []\n",
    "    labels = examples[\"labels\"]\n",
    "\n",
    "    # print(f\"{'Token':<15} {'Word':<15} {'Label':<15}\")\n",
    "\n",
    "    for i, word_idx in enumerate(word_ids):\n",
    "        token = tokens[i]  # Current token\n",
    "\n",
    "        if word_idx is None:  # Special tokens ([CLS], [SEP], padding)\n",
    "            word = \"N/A\"\n",
    "            label = \"Special\"\n",
    "            label_ids.append(-100)\n",
    "        elif word_idx != previous_word_idx:  # First subword\n",
    "            word = examples[\"instruction\"][word_idx]\n",
    "            label = labels[word_idx]\n",
    "            label_ids.append(label_to_id[label])\n",
    "        else:  # Subword token\n",
    "            word = examples[\"instruction\"][word_idx]\n",
    "            label = labels[word_idx]\n",
    "            token = f\"Subword: {token} (Part of: {word})\"\n",
    "            label_ids.append(-100)\n",
    "\n",
    "        # Print token, word, and label in the same line\n",
    "        # print(f\"{token:<15} {word:<15} {label:<15}\")\n",
    "        previous_word_idx = word_idx\n",
    "\n",
    "    tokenized_inputs[\"labels\"] = label_ids\n",
    "    return tokenized_inputs\n",
    "\n",
    "# Convert to Hugging Face Dataset\n",
    "dataset = Dataset.from_list(data)\n",
    "\n",
    "# Map tokenizer to the dataset\n",
    "dataset = dataset.map(tokenize_and_align_labels)\n"
   ]
  },
  {
   "cell_type": "code",
   "execution_count": 10,
   "metadata": {},
   "outputs": [],
   "source": [
    "# store the label_to_id mapping\n",
    "import json\n",
    "import os\n",
    "if not os.path.exists('./ner_model'):\n",
    "    os.makedirs('./ner_model')\n",
    "with open('./ner_model/entity_labels.json', 'w') as f:\n",
    "    json.dump(label_to_id, f)"
   ]
  },
  {
   "cell_type": "code",
   "execution_count": null,
   "metadata": {},
   "outputs": [
    {
     "name": "stdout",
     "output_type": "stream",
     "text": [
      "Label to ID Mapping: {'B-AFFIRMATION': 0, 'B-CONFIRMATION': 1, 'B-COUNT': 2, 'B-END_DATE': 3, 'B-ORD': 4, 'B-REASON': 5, 'B-START_DATE': 6, 'I-END_DATE': 7, 'I-REASON': 8, 'I-START_DATE': 9, 'O': 10}\n"
     ]
    },
    {
     "name": "stderr",
     "output_type": "stream",
     "text": [
      "Map: 100%|██████████| 93/93 [00:00<00:00, 7557.01 examples/s]\n",
      "Map: 100%|██████████| 11/11 [00:00<00:00, 2816.86 examples/s]\n",
      "Some weights of BertForTokenClassification were not initialized from the model checkpoint at bert-base-uncased and are newly initialized: ['classifier.bias', 'classifier.weight']\n",
      "You should probably TRAIN this model on a down-stream task to be able to use it for predictions and inference.\n",
      "The new embeddings will be initialized from a multivariate normal distribution that has old embeddings' mean and covariance. As described in this article: https://nlp.stanford.edu/~johnhew/vocab-expansion.html. To disable this, use `mean_resizing=False`\n",
      "/home/harshit/IITH/Sem7/CyberSecurityAndAI/project/cyber_security_project/venv/lib/python3.12/site-packages/transformers/training_args.py:1568: FutureWarning: `evaluation_strategy` is deprecated and will be removed in version 4.46 of 🤗 Transformers. Use `eval_strategy` instead\n",
      "  warnings.warn(\n",
      "/tmp/ipykernel_29223/2903455539.py:76: FutureWarning: `tokenizer` is deprecated and will be removed in version 5.0.0 for `Trainer.__init__`. Use `processing_class` instead.\n",
      "  trainer = Trainer(\n",
      "  0%|          | 10/4700 [00:00<04:42, 16.60it/s]"
     ]
    },
    {
     "name": "stdout",
     "output_type": "stream",
     "text": [
      "{'loss': 1.939, 'grad_norm': 11.833813667297363, 'learning_rate': 9.97872340425532e-06, 'epoch': 0.21}\n"
     ]
    },
    {
     "name": "stderr",
     "output_type": "stream",
     "text": [
      "\n",
      "  0%|          | 10/4700 [00:00<04:42, 16.60it/s]"
     ]
    },
    {
     "name": "stdout",
     "output_type": "stream",
     "text": [
      "{'eval_loss': 1.252511978149414, 'eval_runtime': 0.0261, 'eval_samples_per_second': 420.735, 'eval_steps_per_second': 229.492, 'epoch': 0.21}\n"
     ]
    },
    {
     "name": "stderr",
     "output_type": "stream",
     "text": [
      "  0%|          | 20/4700 [00:02<09:03,  8.61it/s]"
     ]
    },
    {
     "name": "stdout",
     "output_type": "stream",
     "text": [
      "{'loss': 0.8872, 'grad_norm': 5.8260498046875, 'learning_rate': 9.957446808510639e-06, 'epoch': 0.43}\n"
     ]
    },
    {
     "name": "stderr",
     "output_type": "stream",
     "text": [
      "\n",
      "  0%|          | 20/4700 [00:02<09:03,  8.61it/s]"
     ]
    },
    {
     "name": "stdout",
     "output_type": "stream",
     "text": [
      "{'eval_loss': 0.38449764251708984, 'eval_runtime': 0.0237, 'eval_samples_per_second': 463.161, 'eval_steps_per_second': 252.633, 'epoch': 0.43}\n"
     ]
    },
    {
     "name": "stderr",
     "output_type": "stream",
     "text": [
      "  1%|          | 30/4700 [00:04<09:29,  8.20it/s]"
     ]
    },
    {
     "name": "stdout",
     "output_type": "stream",
     "text": [
      "{'loss': 0.5857, 'grad_norm': 2.212134838104248, 'learning_rate': 9.936170212765958e-06, 'epoch': 0.64}\n"
     ]
    },
    {
     "name": "stderr",
     "output_type": "stream",
     "text": [
      "\n",
      "  1%|          | 30/4700 [00:04<09:29,  8.20it/s]"
     ]
    },
    {
     "name": "stdout",
     "output_type": "stream",
     "text": [
      "{'eval_loss': 0.3017134666442871, 'eval_runtime': 0.0262, 'eval_samples_per_second': 420.359, 'eval_steps_per_second': 229.287, 'epoch': 0.64}\n"
     ]
    },
    {
     "name": "stderr",
     "output_type": "stream",
     "text": [
      "  1%|          | 40/4700 [00:07<10:13,  7.60it/s]"
     ]
    },
    {
     "name": "stdout",
     "output_type": "stream",
     "text": [
      "{'loss': 0.3203, 'grad_norm': 3.0291926860809326, 'learning_rate': 9.914893617021277e-06, 'epoch': 0.85}\n"
     ]
    },
    {
     "name": "stderr",
     "output_type": "stream",
     "text": [
      "\n",
      "  1%|          | 40/4700 [00:07<10:13,  7.60it/s]"
     ]
    },
    {
     "name": "stdout",
     "output_type": "stream",
     "text": [
      "{'eval_loss': 0.25034913420677185, 'eval_runtime': 0.0287, 'eval_samples_per_second': 383.124, 'eval_steps_per_second': 208.977, 'epoch': 0.85}\n"
     ]
    },
    {
     "name": "stderr",
     "output_type": "stream",
     "text": [
      "  1%|          | 50/4700 [00:09<10:28,  7.40it/s]"
     ]
    },
    {
     "name": "stdout",
     "output_type": "stream",
     "text": [
      "{'loss': 0.3041, 'grad_norm': 1.6541122198104858, 'learning_rate': 9.893617021276596e-06, 'epoch': 1.06}\n"
     ]
    },
    {
     "name": "stderr",
     "output_type": "stream",
     "text": [
      "\n",
      "  1%|          | 50/4700 [00:09<10:28,  7.40it/s]"
     ]
    },
    {
     "name": "stdout",
     "output_type": "stream",
     "text": [
      "{'eval_loss': 0.20666584372520447, 'eval_runtime': 0.0264, 'eval_samples_per_second': 417.419, 'eval_steps_per_second': 227.683, 'epoch': 1.06}\n"
     ]
    },
    {
     "name": "stderr",
     "output_type": "stream",
     "text": [
      "  1%|▏         | 60/4700 [00:12<11:33,  6.69it/s]"
     ]
    },
    {
     "name": "stdout",
     "output_type": "stream",
     "text": [
      "{'loss': 0.5544, 'grad_norm': 7.551794052124023, 'learning_rate': 9.872340425531915e-06, 'epoch': 1.28}\n"
     ]
    },
    {
     "name": "stderr",
     "output_type": "stream",
     "text": [
      "\n",
      "  1%|▏         | 60/4700 [00:12<11:33,  6.69it/s]"
     ]
    },
    {
     "name": "stdout",
     "output_type": "stream",
     "text": [
      "{'eval_loss': 0.17982688546180725, 'eval_runtime': 0.026, 'eval_samples_per_second': 423.007, 'eval_steps_per_second': 230.731, 'epoch': 1.28}\n"
     ]
    },
    {
     "name": "stderr",
     "output_type": "stream",
     "text": [
      "  1%|▏         | 70/4700 [00:14<12:00,  6.43it/s]"
     ]
    },
    {
     "name": "stdout",
     "output_type": "stream",
     "text": [
      "{'loss': 0.2043, 'grad_norm': 1.3758814334869385, 'learning_rate': 9.851063829787235e-06, 'epoch': 1.49}\n"
     ]
    },
    {
     "name": "stderr",
     "output_type": "stream",
     "text": [
      "\n",
      "  1%|▏         | 70/4700 [00:14<12:00,  6.43it/s]"
     ]
    },
    {
     "name": "stdout",
     "output_type": "stream",
     "text": [
      "{'eval_loss': 0.16369609534740448, 'eval_runtime': 0.0277, 'eval_samples_per_second': 397.671, 'eval_steps_per_second': 216.911, 'epoch': 1.49}\n"
     ]
    }
   ],
   "source": [
    "from transformers import BertTokenizerFast, BertForTokenClassification, TrainingArguments, Trainer\n",
    "from datasets import Dataset, DatasetDict\n",
    "from sklearn.model_selection import train_test_split\n",
    "import pandas as pd\n",
    "\n",
    "# Initialize tokenizer\n",
    "# tokenizer = BertTokenizerFast.from_pretrained(\"bert-base-uncased\")\n",
    "\n",
    "# Load the data\n",
    "data = pd.read_csv('./data/ner_data.csv')\n",
    "\n",
    "# Convert stringified lists in 'labels' to actual lists\n",
    "data[\"labels\"] = data[\"labels\"].apply(eval)\n",
    "\n",
    "# Extract unique labels and create a mapping\n",
    "unique_labels = sorted({label for labels in data[\"labels\"] for label in labels})\n",
    "\n",
    "# unique_labels = ['B-ORD', 'I-ORD', 'O']\n",
    "label_to_id = {label: idx for idx, label in enumerate(unique_labels)}\n",
    "id_to_label = {idx: label for label, idx in label_to_id.items()}\n",
    "\n",
    "print(\"Label to ID Mapping:\", label_to_id)\n",
    "\n",
    "# Convert DataFrame to list of dictionaries\n",
    "data_dict = data.to_dict(orient=\"records\")\n",
    "\n",
    "\n",
    "# Tokenize and align labels\n",
    "\n",
    "# Convert data to Hugging Face Dataset\n",
    "hf_dataset = Dataset.from_list(data_dict)\n",
    "\n",
    "# Split the dataset into train and validation sets\n",
    "train_data, val_data = train_test_split(data_dict, test_size=0.1, random_state=42)\n",
    "hf_dataset = DatasetDict({\n",
    "    \"train\": Dataset.from_list(train_data),\n",
    "    \"validation\": Dataset.from_list(val_data),\n",
    "})\n",
    "\n",
    "# Apply the tokenizer and label alignment\n",
    "hf_dataset = hf_dataset.map(tokenize_and_align_labels, batched=False)\n",
    "# Define the model\n",
    "model = BertForTokenClassification.from_pretrained(\n",
    "    \"bert-base-uncased\",\n",
    "    num_labels=len(label_to_id),\n",
    "    id2label=id_to_label,\n",
    "    label2id=label_to_id\n",
    ")\n",
    "\n",
    "model.resize_token_embeddings(len(tokenizer)) # need to test\n",
    "\n",
    "# Define training arguments\n",
    "training_args = TrainingArguments(\n",
    "    output_dir=\"./ner_model\",\n",
    "    evaluation_strategy=\"steps\",  # Perform evaluation at specific steps\n",
    "    eval_steps=10,  # Log evaluation loss every 10 steps\n",
    "    save_strategy=\"steps\",\n",
    "    save_steps=10,\n",
    "    logging_steps=10,  # Log training loss every 10 steps\n",
    "    learning_rate=1e-5,\n",
    "    per_device_train_batch_size=2,\n",
    "    per_device_eval_batch_size=2,\n",
    "    num_train_epochs=100,\n",
    "    weight_decay=0.0001,\n",
    "    logging_dir=\"./logs\",\n",
    "    save_total_limit=2,\n",
    "    load_best_model_at_end=True\n",
    ")\n",
    "\n",
    "\n",
    "# Use default data collator for token classification\n",
    "from transformers import DataCollatorForTokenClassification\n",
    "data_collator = DataCollatorForTokenClassification(tokenizer)\n",
    "\n",
    "# Define the Trainer\n",
    "trainer = Trainer(\n",
    "    model=model,\n",
    "    args=training_args,\n",
    "    train_dataset=hf_dataset[\"train\"],\n",
    "    eval_dataset=hf_dataset[\"validation\"],\n",
    "    tokenizer=tokenizer,\n",
    "    data_collator=data_collator,\n",
    "    callbacks=[aligned_loss_callback]\n",
    ")\n",
    "\n",
    "# Train the model\n",
    "trainer.train()\n",
    "\n",
    "# Save the model and tokenizer\n",
    "model.save_pretrained(\"./ner_model\")\n",
    "tokenizer.save_pretrained(\"./ner_model\")\n"
   ]
  },
  {
   "cell_type": "code",
   "execution_count": 38,
   "metadata": {},
   "outputs": [
    {
     "name": "stdout",
     "output_type": "stream",
     "text": [
      "55 525 525\n"
     ]
    },
    {
     "data": {
      "image/png": "[encoded data removed]",
      "text/plain": [
       "<Figure size 640x480 with 1 Axes>"
      ]
     },
     "metadata": {},
     "output_type": "display_data"
    }
   ],
   "source": [
    "# plot the losses\n",
    "import numpy as np\n",
    "\n",
    "# Align losses\n",
    "steps = [i*10 for i in range(len(aligned_loss_callback.train_losses))]\n",
    "train_losses = np.array(aligned_loss_callback.train_losses)\n",
    "\n",
    "eval_losses = np.array(aligned_loss_callback.eval_losses)\n",
    "print(len(validation_steps), len(train_losses), len(eval_losses))\n",
    "\n",
    "# Plot aligned losses\n",
    "plt.plot(steps[::10], train_losses[::10], label='Train')\n",
    "plt.plot(steps[::10], eval_losses[::10], label='Validation')\n",
    "\n",
    "plt.title('Training and Validation Losses[NER]')\n",
    "plt.xlabel('Steps')\n",
    "plt.ylabel('Loss')\n",
    "plt.legend()\n",
    "plt.savefig('./images/ner_losses.png')"
   ]
  },
  {
   "cell_type": "code",
   "execution_count": 39,
   "metadata": {},
   "outputs": [
    {
     "data": {
      "text/plain": [
       "'../backend/chatbot/'"
      ]
     },
     "execution_count": 39,
     "metadata": {},
     "output_type": "execute_result"
    }
   ],
   "source": [
    "# copy model to backend\n",
    "import shutil\n",
    "\n",
    "shutil.rmtree(target_dir, ignore_errors=True)\n",
    "shutil.copytree('./ner_model', target_dir)"
   ]
  },
  {
   "cell_type": "code",
   "execution_count": 40,
   "metadata": {},
   "outputs": [
    {
     "name": "stdout",
     "output_type": "stream",
     "text": [
      "Extracted entity: [('START_DATE', ['10', 'april', '202']), ('END_DATE', ['21', 'november', '2024'])]\n"
     ]
    }
   ],
   "source": [
    "from transformers import BertTokenizerFast, BertForTokenClassification\n",
    "import torch\n",
    "\n",
    "# Load the saved model and tokenizer\n",
    "# model_dir = \"./ner_model\"\n",
    "# tokenizer = BertTokenizerFast.from_pretrained(model_dir)\n",
    "# model = BertForTokenClassification.from_pretrained(model_dir)\n",
    "\n",
    "# Load the label mappings\n",
    "id_to_label = model.config.id2label\n",
    "\n",
    "# Sample text to test the model\n",
    "test_sentences = [\n",
    "    \"[INT] [BOT]  [USR] Order 121435, whats the status?\"\n",
    "]\n",
    "\n",
    "device = torch.device('cuda' if torch.cuda.is_available() else 'cpu')\n",
    "\n",
    "def predict_ner(sentence):\n",
    "    # Tokenize the sentence\n",
    "    inputs = tokenizer(sentence, return_tensors=\"pt\", truncation=True, padding=True, max_length=128).to(device)\n",
    "    # print(inputs)\n",
    "\n",
    "    # Get model predictions\n",
    "    model.eval()\n",
    "    with torch.no_grad():\n",
    "        outputs = model(**inputs)\n",
    "    \n",
    "    # Extract logits and compute predictions\n",
    "    logits = outputs.logits\n",
    "    predictions = torch.argmax(logits, dim=2)\n",
    "\n",
    "    # Map predictions to labels\n",
    "    tokens = tokenizer.convert_ids_to_tokens(inputs[\"input_ids\"][0])\n",
    "    predicted_labels = [id_to_label[pred.item()] for pred in predictions[0]]\n",
    "\n",
    "    # Combine tokens and predicted labels\n",
    "    results = []\n",
    "    for token, label in zip(tokens, predicted_labels):\n",
    "        if token not in [\"[CLS]\", \"[SEP]\", \"[PAD]\"]:  # Ignore special tokens\n",
    "            results.append((token, label))\n",
    "    return results\n",
    "\n",
    "# Test the model with sample sentences\n",
    "for sentence in test_sentences:\n",
    "    # print(f\"Sentence: {sentence}\")\n",
    "    predictions = predict_ner(sentence)\n",
    "    # print(\"Predictions:\")\n",
    "    # for token, label in predictions:\n",
    "        # print(f\"{token:15} -> {label}\")\n",
    "    # print(\"\\n\")\n",
    "\n",
    "def extract_entity(sentence, entity_label):\n",
    "    \"\"\"\n",
    "    enitity_label: the label of the entity to extract (ORD for example)\n",
    "    extract the entity from the sentence along with I-ORD tokens\n",
    "    \"\"\"\n",
    "    # Get NER predictions\n",
    "    predictions = predict_ner(sentence)\n",
    "    # for token, label in predictions:\n",
    "    #     # print(f\"{token:15} -> {label}\")\n",
    "\n",
    "    # get all entities in the label\n",
    "    all_entities = []\n",
    "    for token, label in predictions:\n",
    "        if label.startswith(\"B-\") or label.startswith(\"I-\"):\n",
    "            all_entities.append(label.split(\"-\")[1])\n",
    "\n",
    "    all_entities = list(set(all_entities))\n",
    "\n",
    "    return_values = []\n",
    "    for entity_label in all_entities:\n",
    "        # Extract entities with the specified label\n",
    "        entities = []\n",
    "        for token, label in predictions:\n",
    "            if label == f\"B-{entity_label}\" or label == f\"I-{entity_label}\":\n",
    "                entities.append(token)\n",
    "        # print(entities)\n",
    "        \n",
    "        # remove subword prefixes from the entities\n",
    "        entity_combined = []\n",
    "        prev_entity = None\n",
    "        for i , entity in enumerate(entities):\n",
    "            if entity.startswith(\"##\"):\n",
    "                if prev_entity is None:\n",
    "                    prev_entity = \"\"\n",
    "                prev_entity += entity[2:]\n",
    "            else:\n",
    "                if prev_entity:\n",
    "                    entity_combined.append(prev_entity)\n",
    "                prev_entity = entity\n",
    "\n",
    "            if i == len(entities) - 1:\n",
    "                entity_combined.append(prev_entity)\n",
    "        return_values.append((entity_label, entity_combined))\n",
    "    return return_values\n",
    "        \n",
    "\n",
    "# get the B-COUNT entity from the sentence\n",
    "sentence = \"[INT] [BOT]  [USR] Please show me a list of all the orders I've made before 21 November 2024 and after 10 April 2024\"\n",
    "entity_label = \"START_DATE\"\n",
    "extracted_entity = extract_entity(sentence, entity_label)\n",
    "print(f\"Extracted entity: {extracted_entity}\")"
   ]
  },
  {
   "cell_type": "code",
   "execution_count": 41,
   "metadata": {},
   "outputs": [
    {
     "name": "stdout",
     "output_type": "stream",
     "text": [
      "Sentence: [INT] [BOT]  [USR] Can you check my order 12345?\n",
      "Extracted entity: [('ORD', ['12345'])]\n",
      "\n",
      "Sentence: [INT] cancel_order [BOT] Please confirm the cancellation of your last order. [USR] Yes, confirm it.\n",
      "Extracted entity: [('CONFIRMATION', ['yes'])]\n",
      "\n",
      "Sentence: [INT] [BOT]  [USR] Cancel the last item I ordered.\n",
      "Extracted entity: [('ORD', ['last'])]\n",
      "\n",
      "Sentence: [INT] give_order_id [BOT] Are you sure? [USR] Yes I am sure!\n",
      "Extracted entity: [('AFFIRMATION', ['yes'])]\n",
      "\n",
      "Sentence: [INT] list_orders [BOT] Do you need to filter anything? [USR] Yeah give me just 32 of them\n",
      "Extracted entity: [('COUNT', ['32'])]\n",
      "\n",
      "Sentence: [INT] cancel_order [BOT] Can you confirm the cancellation of your most recent order? [USR] No, don’t proceed with it.\n",
      "Extracted entity: [('AFFIRMATION', ['no'])]\n",
      "\n",
      "Sentence: [INT] cancel_order [BOT] Are you sure you want to cancel order 112233? [USR] No, leave it as is.\n",
      "Extracted entity: [('AFFIRMATION', ['no'])]\n",
      "\n",
      "Sentence: [INT] [BOT]  [USR] Can you list some of my previous orders?\n",
      "Extracted entity: []\n",
      "\n",
      "Sentence: [INT] track_order [BOT] For which order would you like an update? [USR] Order ID is 5643.\n",
      "Extracted entity: [('ORD', ['5643'])]\n",
      "\n",
      "Sentence: [INT] [BOT]  [USR] Hey can i get the status of my latest order?\n",
      "Extracted entity: []\n",
      "\n",
      "Sentence: [INT] track_order [BOT] Please provide your order number. [USR] It’s 23456.\n",
      "Extracted entity: [('ORD', ['23456'])]\n",
      "\n",
      "Sentence: [INT] [BOT]  [USR] I was wondering where my 121243 order is?\n",
      "Extracted entity: [('ORD', ['243', 'order'])]\n",
      "\n",
      "Sentence: [INT] [BOT]  [USR] Please cancel my latest order.\n",
      "Extracted entity: [('ORD', ['latest'])]\n",
      "\n",
      "Sentence: [INT] cancel_order [BOT] Can you confirm that you’d like to cancel order 776655? [USR] No, I’d like to keep it.\n",
      "Extracted entity: [('AFFIRMATION', ['no'])]\n",
      "\n",
      "Sentence: [INT] cancel_order [BOT] Could you confirm cancellation of order number 998877? [USR] Yes, please cancel it.\n",
      "Extracted entity: [('AFFIRMATION', ['yes'])]\n",
      "\n"
     ]
    }
   ],
   "source": [
    "# test for 15 random samples\n",
    "data = pd.read_csv('./data/ner_data.csv')\n",
    "\n",
    "# draw 15 random samples\n",
    "test_data = data.sample(15)\n",
    "\n",
    "for idx, row in test_data.iterrows():\n",
    "    print(f\"Sentence: {row['instruction']}\")\n",
    "    # get the \n",
    "    extracted_entity = extract_entity(row['instruction'], \"ORD\")\n",
    "    print(f\"Extracted entity: {extracted_entity}\")\n",
    "    print(\"\")"
   ]
  },
  {
   "cell_type": "code",
   "execution_count": null,
   "metadata": {},
   "outputs": [],
   "source": []
  }
 ],
 "metadata": {
  "kernelspec": {
   "display_name": "venv",
   "language": "python",
   "name": "python3"
  },
  "language_info": {
   "codemirror_mode": {
    "name": "ipython",
    "version": 3
   },
   "file_extension": ".py",
   "mimetype": "text/x-python",
   "name": "python",
   "nbconvert_exporter": "python",
   "pygments_lexer": "ipython3",
   "version": "3.12.3"
  }
 },
 "nbformat": 4,
 "nbformat_minor": 2
}
