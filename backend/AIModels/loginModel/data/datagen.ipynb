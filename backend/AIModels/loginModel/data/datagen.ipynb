{
 "cells": [
  {
   "cell_type": "markdown",
   "metadata": {},
   "source": [
    "# Data gen for login pattern"
   ]
  },
  {
   "cell_type": "code",
   "execution_count": 10,
   "metadata": {},
   "outputs": [],
   "source": [
    "output_file = \"./login.json\""
   ]
  },
  {
   "cell_type": "code",
   "execution_count": 11,
   "metadata": {},
   "outputs": [],
   "source": [
    "model_schema = [\n",
    "    \"timestamp\",\n",
    "    \"user_id\",\n",
    "    \"status\",\n",
    "    \"ip_address\",\n",
    "    \"device_type\",\n",
    "    \"OS\",\n",
    "    \"browser\"\n",
    "]"
   ]
  },
  {
   "cell_type": "code",
   "execution_count": 12,
   "metadata": {},
   "outputs": [],
   "source": [
    "import random"
   ]
  },
  {
   "cell_type": "code",
   "execution_count": 13,
   "metadata": {},
   "outputs": [
    {
     "name": "stdout",
     "output_type": "stream",
     "text": [
      "['5.169.15.250', '114.159.155.64', '161.134.84.32', '73.96.6.58', '173.225.145.197', '78.106.130.98', '1.0.129.69', '150.56.19.124', '245.152.148.64', '83.179.134.5']\n"
     ]
    }
   ],
   "source": [
    "user_ids = [i for i in range(1, 20000)]\n",
    "\n",
    "status = [-1, 1]\n",
    "\n",
    "# generate 2000 random ip addresses\n",
    "ip_addresses = []\n",
    "for i in range(1000):\n",
    "    ip = \".\".join(str(random.randint(0, 255)) for i in range(4))\n",
    "    ip_addresses.append(ip)\n",
    "\n",
    "print(ip_addresses[:10])\n",
    "\n",
    "device_types = [\"Desktop\", \"Mobile\", \"Tablet\"]\n",
    "\n",
    "OS = [\"Windows\", \"Mac\", \"Linux\", \"iOS\", \"Android\"]\n",
    "\n",
    "browsers = [\"Chrome\", \"Firefox\", \"Safari\", \"Edge\", \"Opera\"]"
   ]
  },
  {
   "cell_type": "code",
   "execution_count": 16,
   "metadata": {},
   "outputs": [
    {
     "name": "stdout",
     "output_type": "stream",
     "text": [
      "['39.135.24.203', '154.169.245.161', '75.212.213.210', '65.171.189.70', '120.104.206.188', '211.16.31.23', '224.239.112.42', '203.147.37.30', '191.109.11.31', '7.9.196.145']\n"
     ]
    },
    {
     "name": "stderr",
     "output_type": "stream",
     "text": [
      "1999it [00:07, 278.66it/s]\n"
     ]
    },
    {
     "name": "stdout",
     "output_type": "stream",
     "text": [
      "Logins data has been successfully generated and saved to login.json\n"
     ]
    }
   ],
   "source": [
    "import random\n",
    "import json\n",
    "from datetime import datetime, timezone, timedelta\n",
    "import tqdm\n",
    "\n",
    "# Generate 20,000 random IP addresses\n",
    "ip_addresses = []\n",
    "for i in range(20000):\n",
    "    ip = \".\".join(str(random.randint(0, 255)) for _ in range(4))\n",
    "    ip_addresses.append(ip)\n",
    "\n",
    "# Ensure ip_addresses is initialized properly before shuffling\n",
    "print(ip_addresses[:10])  # Just printing first 10 for verification\n",
    "\n",
    "user_ids = [i for i in range(1, 2000)]  # Corrected range to 20000\n",
    "\n",
    "status = [-1, 1]\n",
    "\n",
    "# Device types, OS, and browsers\n",
    "device_types = [\"Desktop\", \"Mobile\", \"Tablet\"]\n",
    "OS = [\"Windows\", \"Mac\", \"Linux\", \"iOS\", \"Android\"]\n",
    "browsers = [\"Chrome\", \"Firefox\", \"Safari\", \"Edge\", \"Opera\"]\n",
    "\n",
    "# List to store generated logins\n",
    "logins = []\n",
    "\n",
    "# Generate random logins for each user\n",
    "for j, user_id in tqdm.tqdm(enumerate(user_ids)):\n",
    "    n = random.randint(1, 100)\n",
    "    # Pick random number of devices, OS, and browsers\n",
    "    x = 1 + min(2, abs(int(random.normalvariate(0, 3))))\n",
    "    y = 1 + min(4, abs(int(random.normalvariate(0, 1.5))))\n",
    "    z = 1 + min(4, abs(int(random.normalvariate(0, 1.5))))\n",
    "    \n",
    "    # Pick x devices, y OSs, and z browsers from the respective lists\n",
    "    devices = random.sample(device_types, x)\n",
    "    OSs = random.sample(OS, y)\n",
    "    browserss = random.sample(browsers, z)\n",
    "\n",
    "    # Shuffle the ip_addresses list only once per user\n",
    "    random.shuffle(ip_addresses)\n",
    "\n",
    "    for i in range(n):\n",
    "        # Generate timestamp within the last 5 hours\n",
    "        timestamp = random.randint(0, 1*60*60)\n",
    "        # Pick status from [-1, 1] with higher probability for 1\n",
    "        stat = random.choices(status, weights=[0.20, 0.80], k=1)[0]\n",
    "\n",
    "        # Randomly select IP index\n",
    "        ip_indx = int(random.normalvariate(0, 10)) % len(ip_addresses)  # Ensuring index is within range\n",
    "\n",
    "        # Randomly select a device, OS, and browser\n",
    "        device = devices[random.randint(0, x - 1)]\n",
    "        os = OSs[random.randint(0, y - 1)]\n",
    "        browser = browserss[random.randint(0, z - 1)]\n",
    "\n",
    "        # Generate timestamp in the specified format\n",
    "        dt = datetime.now(timezone.utc) - timedelta(seconds=timestamp)\n",
    "        dt_str = dt.strftime(\"%Y-%m-%dT%H:%M:%S.%f%z\")\n",
    "\n",
    "        # Append the login details to the logins list\n",
    "        logins.append({\n",
    "            \"user_id\": user_id,\n",
    "            \"timestamp\": dt_str,\n",
    "            \"status\": stat,\n",
    "            \"ip_address\": ip_addresses[ip_indx],\n",
    "            \"device_type\": device,\n",
    "            \"OS\": os,\n",
    "            \"browser\": browser\n",
    "        })\n",
    "\n",
    "# Output file for saving generated logins (change this path as needed)\n",
    "output_file = \"login.json\"\n",
    "\n",
    "# Save the generated logins to a JSON file\n",
    "with open(output_file, \"w\") as f:\n",
    "    json.dump(logins, f, indent=4)\n",
    "\n",
    "print(\"Logins data has been successfully generated and saved to\", output_file)\n"
   ]
  },
  {
   "cell_type": "code",
   "execution_count": null,
   "metadata": {},
   "outputs": [],
   "source": []
  }
 ],
 "metadata": {
  "kernelspec": {
   "display_name": "venv",
   "language": "python",
   "name": "python3"
  },
  "language_info": {
   "codemirror_mode": {
    "name": "ipython",
    "version": 3
   },
   "file_extension": ".py",
   "mimetype": "text/x-python",
   "name": "python",
   "nbconvert_exporter": "python",
   "pygments_lexer": "ipython3",
   "version": "3.12.3"
  }
 },
 "nbformat": 4,
 "nbformat_minor": 2
}
