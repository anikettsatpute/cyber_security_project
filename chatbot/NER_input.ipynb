{
 "cells": [
  {
   "cell_type": "code",
   "execution_count": 1,
   "metadata": {},
   "outputs": [],
   "source": [
    "# Generating the NER data"
   ]
  },
  {
   "cell_type": "code",
   "execution_count": 8,
   "metadata": {},
   "outputs": [],
   "source": [
    "# import the data from bert_input.csv\n",
    "\n",
    "import pandas as pd\n",
    "import numpy as np\n",
    "import os\n",
    "\n",
    "# Load the data\n",
    "data = pd.read_csv('./data/bert_input.csv')"
   ]
  },
  {
   "cell_type": "code",
   "execution_count": 12,
   "metadata": {},
   "outputs": [
    {
     "name": "stdout",
     "output_type": "stream",
     "text": [
      "['[', 'int', ']', '[', 'bot', ']', '[', 'us', '##r', ']', 'hey', 'can', 'i', 'get', 'the', 'status', 'of', 'my', 'latest', 'order', '?']\n",
      "Give a list of non-O labels\n",
      "['O', 'O', 'O', 'O', 'O', 'O', 'O', 'O', 'O', 'O', 'O', 'O', 'O', 'O', 'O', 'O', 'O', 'O', 'O', 'O', 'O']\n",
      "['[', 'int', ']', 'track', '_', 'order', '[', 'bot', ']', 'sure', '!', 'could', 'you', 'provide', 'me', 'with', 'the', 'order', 'id', '?', '[', 'us', '##r', ']', 'yeah', ',', 'the', 'order', 'id', 'is', '121', '##21', '##2', '.']\n",
      "Give a list of non-O labels\n",
      "['O', 'O', 'O', 'O', 'O', 'O', 'O', 'O', 'O', 'O', 'O', 'O', 'O', 'O', 'O', 'O', 'O', 'O', 'O', 'O', 'O', 'O', 'O', 'O', 'O', 'O', 'O', 'O', 'O', 'O', 'O', 'O', 'O', 'O']\n",
      "['[', 'int', ']', '[', 'bot', ']', '[', 'us', '##r', ']', 'i', 'want', 'to', 'get', 'the', 'status', 'of', 'order', '121', '##21', '.']\n",
      "Give a list of non-O labels\n",
      "['O', 'O', 'O', 'O', 'O', 'O', 'O', 'O', 'O', 'O', 'O', 'O', 'O', 'O', 'O', 'O', 'O', 'O', 'O', 'O', 'O']\n",
      "['[', 'int', ']', '[', 'bot', ']', '[', 'us', '##r', ']', 'can', 'you', 'share', 'the', 'details', 'of', 'an', 'order', '?']\n",
      "Give a list of non-O labels\n"
     ]
    },
    {
     "ename": "KeyboardInterrupt",
     "evalue": "Interrupted by user",
     "output_type": "error",
     "traceback": [
      "\u001b[0;31m---------------------------------------------------------------------------\u001b[0m",
      "\u001b[0;31mKeyboardInterrupt\u001b[0m                         Traceback (most recent call last)",
      "Cell \u001b[0;32mIn[12], line 31\u001b[0m\n\u001b[1;32m     29\u001b[0m \u001b[38;5;28mprint\u001b[39m(\u001b[38;5;124m\"\u001b[39m\u001b[38;5;124mGive a list of non-O labels\u001b[39m\u001b[38;5;124m\"\u001b[39m)\n\u001b[1;32m     30\u001b[0m \u001b[38;5;66;03m# take input a list of non-O labels with positions\u001b[39;00m\n\u001b[0;32m---> 31\u001b[0m non_o_labels \u001b[38;5;241m=\u001b[39m \u001b[38;5;28;43minput\u001b[39;49m\u001b[43m(\u001b[49m\u001b[43m)\u001b[49m\n\u001b[1;32m     32\u001b[0m non_o_labels \u001b[38;5;241m=\u001b[39m non_o_labels\u001b[38;5;241m.\u001b[39msplit()\n\u001b[1;32m     33\u001b[0m \u001b[38;5;28;01mfor\u001b[39;00m label \u001b[38;5;129;01min\u001b[39;00m non_o_labels:\n",
      "File \u001b[0;32m~/IITH/Sem7/CyberSecurityAndAI/cyber_security_project/chatbot_venv/lib/python3.12/site-packages/ipykernel/kernelbase.py:1282\u001b[0m, in \u001b[0;36mKernel.raw_input\u001b[0;34m(self, prompt)\u001b[0m\n\u001b[1;32m   1280\u001b[0m     msg \u001b[38;5;241m=\u001b[39m \u001b[38;5;124m\"\u001b[39m\u001b[38;5;124mraw_input was called, but this frontend does not support input requests.\u001b[39m\u001b[38;5;124m\"\u001b[39m\n\u001b[1;32m   1281\u001b[0m     \u001b[38;5;28;01mraise\u001b[39;00m StdinNotImplementedError(msg)\n\u001b[0;32m-> 1282\u001b[0m \u001b[38;5;28;01mreturn\u001b[39;00m \u001b[38;5;28;43mself\u001b[39;49m\u001b[38;5;241;43m.\u001b[39;49m\u001b[43m_input_request\u001b[49m\u001b[43m(\u001b[49m\n\u001b[1;32m   1283\u001b[0m \u001b[43m    \u001b[49m\u001b[38;5;28;43mstr\u001b[39;49m\u001b[43m(\u001b[49m\u001b[43mprompt\u001b[49m\u001b[43m)\u001b[49m\u001b[43m,\u001b[49m\n\u001b[1;32m   1284\u001b[0m \u001b[43m    \u001b[49m\u001b[38;5;28;43mself\u001b[39;49m\u001b[38;5;241;43m.\u001b[39;49m\u001b[43m_parent_ident\u001b[49m\u001b[43m[\u001b[49m\u001b[38;5;124;43m\"\u001b[39;49m\u001b[38;5;124;43mshell\u001b[39;49m\u001b[38;5;124;43m\"\u001b[39;49m\u001b[43m]\u001b[49m\u001b[43m,\u001b[49m\n\u001b[1;32m   1285\u001b[0m \u001b[43m    \u001b[49m\u001b[38;5;28;43mself\u001b[39;49m\u001b[38;5;241;43m.\u001b[39;49m\u001b[43mget_parent\u001b[49m\u001b[43m(\u001b[49m\u001b[38;5;124;43m\"\u001b[39;49m\u001b[38;5;124;43mshell\u001b[39;49m\u001b[38;5;124;43m\"\u001b[39;49m\u001b[43m)\u001b[49m\u001b[43m,\u001b[49m\n\u001b[1;32m   1286\u001b[0m \u001b[43m    \u001b[49m\u001b[43mpassword\u001b[49m\u001b[38;5;241;43m=\u001b[39;49m\u001b[38;5;28;43;01mFalse\u001b[39;49;00m\u001b[43m,\u001b[49m\n\u001b[1;32m   1287\u001b[0m \u001b[43m\u001b[49m\u001b[43m)\u001b[49m\n",
      "File \u001b[0;32m~/IITH/Sem7/CyberSecurityAndAI/cyber_security_project/chatbot_venv/lib/python3.12/site-packages/ipykernel/kernelbase.py:1325\u001b[0m, in \u001b[0;36mKernel._input_request\u001b[0;34m(self, prompt, ident, parent, password)\u001b[0m\n\u001b[1;32m   1322\u001b[0m \u001b[38;5;28;01mexcept\u001b[39;00m \u001b[38;5;167;01mKeyboardInterrupt\u001b[39;00m:\n\u001b[1;32m   1323\u001b[0m     \u001b[38;5;66;03m# re-raise KeyboardInterrupt, to truncate traceback\u001b[39;00m\n\u001b[1;32m   1324\u001b[0m     msg \u001b[38;5;241m=\u001b[39m \u001b[38;5;124m\"\u001b[39m\u001b[38;5;124mInterrupted by user\u001b[39m\u001b[38;5;124m\"\u001b[39m\n\u001b[0;32m-> 1325\u001b[0m     \u001b[38;5;28;01mraise\u001b[39;00m \u001b[38;5;167;01mKeyboardInterrupt\u001b[39;00m(msg) \u001b[38;5;28;01mfrom\u001b[39;00m \u001b[38;5;28;01mNone\u001b[39;00m\n\u001b[1;32m   1326\u001b[0m \u001b[38;5;28;01mexcept\u001b[39;00m \u001b[38;5;167;01mException\u001b[39;00m:\n\u001b[1;32m   1327\u001b[0m     \u001b[38;5;28mself\u001b[39m\u001b[38;5;241m.\u001b[39mlog\u001b[38;5;241m.\u001b[39mwarning(\u001b[38;5;124m\"\u001b[39m\u001b[38;5;124mInvalid Message:\u001b[39m\u001b[38;5;124m\"\u001b[39m, exc_info\u001b[38;5;241m=\u001b[39m\u001b[38;5;28;01mTrue\u001b[39;00m)\n",
      "\u001b[0;31mKeyboardInterrupt\u001b[0m: Interrupted by user"
     ]
    }
   ],
   "source": [
    "# get the BERT tokenizer\n",
    "\n",
    "from transformers import BertTokenizer\n",
    "\n",
    "tokenizer = BertTokenizer.from_pretrained('bert-base-uncased')\n",
    "\n",
    "# iterate over each row and generate the NER data\n",
    "\n",
    "ner_data = []\n",
    "\n",
    "# iterate over each row\n",
    "for i in range(data.shape[0]):\n",
    "    row = data.iloc[i]\n",
    "    text = row['instruction']\n",
    "    tokens = tokenizer.tokenize(text)\n",
    "    print(tokens)\n",
    "    labels = ['O']*len(tokens)\n",
    "    print(\"Give a list of non-O labels\")\n",
    "    # take input a list of non-O labels with positions\n",
    "    non_o_labels = input()\n",
    "    non_o_labels = non_o_labels.split()\n",
    "    for label in non_o_labels:\n",
    "        label, start, end = label.split(',')\n",
    "        start = int(start)\n",
    "        end = int(end)\n",
    "        if start == end:\n",
    "            labels[start] = 'B-' + label\n",
    "        else:\n",
    "            labels[start] = 'B-' + label\n",
    "            labels[start+1:end+1] = ['I-' + label]*(end-start)\n",
    "    print(labels)\n"
   ]
  },
  {
   "cell_type": "markdown",
   "metadata": {},
   "source": []
  },
  {
   "cell_type": "code",
   "execution_count": 1,
   "metadata": {},
   "outputs": [
    {
     "name": "stderr",
     "output_type": "stream",
     "text": [
      "/home/harshit/IITH/Sem7/CyberSecurityAndAI/cyber_security_project/chatbot_venv/lib/python3.12/site-packages/tqdm/auto.py:21: TqdmWarning: IProgress not found. Please update jupyter and ipywidgets. See https://ipywidgets.readthedocs.io/en/stable/user_install.html\n",
      "  from .autonotebook import tqdm as notebook_tqdm\n"
     ]
    },
    {
     "ename": "ValueError",
     "evalue": "invalid literal for int() with base 10: ''",
     "output_type": "error",
     "traceback": [
      "\u001b[0;31m---------------------------------------------------------------------------\u001b[0m",
      "\u001b[0;31mValueError\u001b[0m                                Traceback (most recent call last)",
      "Cell \u001b[0;32mIn[1], line 33\u001b[0m\n\u001b[1;32m     31\u001b[0m \u001b[38;5;28miter\u001b[39m \u001b[38;5;241m=\u001b[39m \u001b[38;5;28minput\u001b[39m(\u001b[38;5;124m\"\u001b[39m\u001b[38;5;124mEnter the row number to start from: \u001b[39m\u001b[38;5;124m\"\u001b[39m)\n\u001b[1;32m     32\u001b[0m \u001b[38;5;28;01mfor\u001b[39;00m i \u001b[38;5;129;01min\u001b[39;00m \u001b[38;5;28mrange\u001b[39m(data\u001b[38;5;241m.\u001b[39mshape[\u001b[38;5;241m0\u001b[39m]):\n\u001b[0;32m---> 33\u001b[0m     \u001b[38;5;28;01mif\u001b[39;00m i \u001b[38;5;241m<\u001b[39m \u001b[38;5;28;43mint\u001b[39;49m\u001b[43m(\u001b[49m\u001b[38;5;28;43miter\u001b[39;49m\u001b[43m)\u001b[49m:\n\u001b[1;32m     34\u001b[0m         \u001b[38;5;28;01mcontinue\u001b[39;00m\n\u001b[1;32m     35\u001b[0m     row \u001b[38;5;241m=\u001b[39m data\u001b[38;5;241m.\u001b[39miloc[i]\n",
      "\u001b[0;31mValueError\u001b[0m: invalid literal for int() with base 10: ''"
     ]
    }
   ],
   "source": [
    "import pandas as pd\n",
    "import numpy as np\n",
    "import os\n",
    "\n",
    "# Load the data\n",
    "data = pd.read_csv('./data/bert_input.csv')\n",
    "\n",
    "# Get the BERT tokenizer\n",
    "from transformers import BertTokenizer\n",
    "\n",
    "tokenizer = BertTokenizer.from_pretrained('bert-base-uncased')\n",
    "special_tokens = [\"[INT]\", \"[BOT]\", \"[USR]\"]\n",
    "tokenizer.add_special_tokens({\"additional_special_tokens\": special_tokens})\n",
    "\n",
    "# NER labels\n",
    "keys = ['O',\n",
    "        'B-ORD',\n",
    "        'I-ORD', \n",
    "        'B-COUNT',\n",
    "        'I-COUNT',\n",
    "        'B-END_DATE',\n",
    "        'I-END_DATE',\n",
    "        'B-START_DATE',\n",
    "        'I-START_DATE',\n",
    "        ]\n",
    "\n",
    "# Create an empty DataFrame to store NER data\n",
    "ner_data = pd.read_csv('./data/ner_data.csv')\n",
    "\n",
    "# Iterate over each row in the dataset\n",
    "iter = input(\"Enter the row number to start from: \")\n",
    "for i in range(data.shape[0]):\n",
    "    if i < int(iter):\n",
    "        continue\n",
    "    row = data.iloc[i]\n",
    "    text = row['instruction']\n",
    "    tokens = tokenizer.tokenize(text)\n",
    "    word_ids = tokenizer.convert_tokens_to_ids(tokens)\n",
    "    \n",
    "    # Print each token\n",
    "    for j, word_id in enumerate(word_ids):\n",
    "        # print all tokens and subwords\n",
    "        print(f\"{j}: {tokens[j]}\")\n",
    "    \n",
    "    # Initialize the labels as 'O' for all tokens\n",
    "    labels = ['O'] * len(tokens)\n",
    "    print(\"\\n\\n\")\n",
    "    # Take input for non-O labels (e.g., position label position label)\n",
    "    non_o_labels = input()\n",
    "    non_o_labels = non_o_labels.split()\n",
    "    \n",
    "    # Update the labels based on user input\n",
    "    prev = '0'\n",
    "    for j in range(0, len(non_o_labels), 2):\n",
    "        position = int(non_o_labels[j])\n",
    "        label = non_o_labels[j + 1].upper()  # Ensure the label is in uppercase\n",
    "        if prev == '0' or prev != label:\n",
    "            label = 'B-' + label\n",
    "        else:\n",
    "            label = 'I-' + label\n",
    "        prev = label[2:]\n",
    "        labels[position] = label\n",
    "    \n",
    "    # Create a new row with the instruction and the updated labels\n",
    "    new_row = pd.DataFrame({'instruction': [text], 'labels': [labels]})\n",
    "    \n",
    "    # Use pd.concat to add the new row to the DataFrame\n",
    "    ner_data = pd.concat([ner_data, new_row], ignore_index=True)\n",
    "    \n",
    "    # Optionally, you can print the labels for debugging\n",
    "    print(labels)\n",
    "    \n",
    "    # Save the updated NER data to a CSV file after each row\n",
    "    ner_data.to_csv('./data/ner_data.csv', index=False)\n",
    "\n"
   ]
  },
  {
   "cell_type": "code",
   "execution_count": null,
   "metadata": {},
   "outputs": [],
   "source": []
  }
 ],
 "metadata": {
  "kernelspec": {
   "display_name": "chatbot_venv",
   "language": "python",
   "name": "python3"
  },
  "language_info": {
   "codemirror_mode": {
    "name": "ipython",
    "version": 3
   },
   "file_extension": ".py",
   "mimetype": "text/x-python",
   "name": "python",
   "nbconvert_exporter": "python",
   "pygments_lexer": "ipython3",
   "version": "3.12.3"
  }
 },
 "nbformat": 4,
 "nbformat_minor": 2
}
