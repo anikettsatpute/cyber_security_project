{
 "cells": [
  {
   "cell_type": "markdown",
   "metadata": {},
   "source": [
    "# BERT"
   ]
  },
  {
   "cell_type": "code",
   "execution_count": 26,
   "metadata": {},
   "outputs": [],
   "source": [
    "target_dir = '../backend/chatbot/'"
   ]
  },
  {
   "cell_type": "code",
   "execution_count": 27,
   "metadata": {},
   "outputs": [],
   "source": [
    "from transformers import TrainerCallback\n",
    "\n",
    "class AlignedLossCallback(TrainerCallback):\n",
    "    def __init__(self):\n",
    "        self.train_steps = []\n",
    "        self.eval_steps = []\n",
    "        self.train_losses = []\n",
    "        self.eval_losses = []\n",
    "\n",
    "    def on_log(self, args, state, control, logs=None, **kwargs):\n",
    "        logs = logs or {}\n",
    "        # Log training loss\n",
    "        if \"loss\" in logs:\n",
    "            self.train_steps.append(state.global_step)\n",
    "            self.train_losses.append(logs[\"loss\"])\n",
    "        # Log evaluation loss\n",
    "        if \"eval_loss\" in logs:\n",
    "            self.eval_steps.append(state.global_step)\n",
    "            self.eval_losses.append(logs[\"eval_loss\"])\n",
    "\n",
    "aligned_loss_callback = AlignedLossCallback()"
   ]
  },
  {
   "cell_type": "code",
   "execution_count": 28,
   "metadata": {},
   "outputs": [
    {
     "name": "stdout",
     "output_type": "stream",
     "text": [
      "104\n",
      "Using device: cuda\n"
     ]
    },
    {
     "name": "stderr",
     "output_type": "stream",
     "text": [
      "Map: 100%|██████████| 104/104 [00:00<00:00, 4725.93 examples/s]\n",
      "Map: 100%|██████████| 104/104 [00:00<00:00, 25294.73 examples/s]\n"
     ]
    },
    {
     "name": "stdout",
     "output_type": "stream",
     "text": [
      "7\n"
     ]
    },
    {
     "name": "stderr",
     "output_type": "stream",
     "text": [
      "Some weights of DistilBertForSequenceClassification were not initialized from the model checkpoint at distilbert-base-uncased and are newly initialized: ['classifier.bias', 'classifier.weight', 'pre_classifier.bias', 'pre_classifier.weight']\n",
      "You should probably TRAIN this model on a down-stream task to be able to use it for predictions and inference.\n",
      "/home/harshit/IITH/Sem7/CyberSecurityAndAI/project/cyber_security_project/venv/lib/python3.12/site-packages/transformers/training_args.py:1568: FutureWarning: `evaluation_strategy` is deprecated and will be removed in version 4.46 of 🤗 Transformers. Use `eval_strategy` instead\n",
      "  warnings.warn(\n",
      "\n",
      "  2%|▏         | 110/4700 [01:34<11:05,  6.90it/s]"
     ]
    },
    {
     "name": "stdout",
     "output_type": "stream",
     "text": [
      "{'loss': 1.7959, 'grad_norm': 3.3217906951904297, 'learning_rate': 4.909090909090909e-05, 'epoch': 0.91}\n"
     ]
    },
    {
     "name": "stderr",
     "output_type": "stream",
     "text": [
      "\n",
      "\u001b[A\n",
      "                                                  \n",
      "\n",
      "  2%|▏         | 110/4700 [01:34<11:05,  6.90it/s]\n",
      "\u001b[A\n",
      "\u001b[A"
     ]
    },
    {
     "name": "stdout",
     "output_type": "stream",
     "text": [
      "{'eval_loss': 1.8075889348983765, 'eval_runtime': 0.0207, 'eval_samples_per_second': 531.09, 'eval_steps_per_second': 96.562, 'epoch': 0.91}\n"
     ]
    },
    {
     "name": "stderr",
     "output_type": "stream",
     "text": [
      "\n",
      "  2%|▏         | 110/4700 [01:35<11:05,  6.90it/s]"
     ]
    },
    {
     "name": "stdout",
     "output_type": "stream",
     "text": [
      "{'loss': 1.4711, 'grad_norm': 4.164809703826904, 'learning_rate': 4.8181818181818186e-05, 'epoch': 1.82}\n"
     ]
    },
    {
     "name": "stderr",
     "output_type": "stream",
     "text": [
      "\n",
      "\u001b[A\n",
      "                                                  \n",
      "\n",
      "  2%|▏         | 110/4700 [01:35<11:05,  6.90it/s]\n",
      "\u001b[A\n",
      "\u001b[A"
     ]
    },
    {
     "name": "stdout",
     "output_type": "stream",
     "text": [
      "{'eval_loss': 1.3746190071105957, 'eval_runtime': 0.021, 'eval_samples_per_second': 523.319, 'eval_steps_per_second': 95.149, 'epoch': 1.82}\n"
     ]
    },
    {
     "name": "stderr",
     "output_type": "stream",
     "text": [
      "\n",
      "  2%|▏         | 110/4700 [01:35<11:05,  6.90it/s]"
     ]
    },
    {
     "name": "stdout",
     "output_type": "stream",
     "text": [
      "{'loss': 0.92, 'grad_norm': 4.041722297668457, 'learning_rate': 4.7272727272727275e-05, 'epoch': 2.73}\n"
     ]
    },
    {
     "name": "stderr",
     "output_type": "stream",
     "text": [
      "\n",
      "\u001b[A\n",
      "                                                  \n",
      "\n",
      "  2%|▏         | 110/4700 [01:35<11:05,  6.90it/s]\n",
      "\u001b[A\n",
      "\u001b[A"
     ]
    },
    {
     "name": "stdout",
     "output_type": "stream",
     "text": [
      "{'eval_loss': 1.0595004558563232, 'eval_runtime': 0.0217, 'eval_samples_per_second': 505.881, 'eval_steps_per_second': 91.978, 'epoch': 2.73}\n"
     ]
    },
    {
     "name": "stderr",
     "output_type": "stream",
     "text": [
      "\n",
      "  2%|▏         | 110/4700 [01:36<11:05,  6.90it/s]"
     ]
    },
    {
     "name": "stdout",
     "output_type": "stream",
     "text": [
      "{'loss': 0.5696, 'grad_norm': 3.43172550201416, 'learning_rate': 4.636363636363636e-05, 'epoch': 3.64}\n"
     ]
    },
    {
     "name": "stderr",
     "output_type": "stream",
     "text": [
      "\n",
      "\u001b[A\n",
      "                                                  \n",
      "\n",
      "  2%|▏         | 110/4700 [01:36<11:05,  6.90it/s]\n",
      "\u001b[A\n",
      "\u001b[A"
     ]
    },
    {
     "name": "stdout",
     "output_type": "stream",
     "text": [
      "{'eval_loss': 0.5659365057945251, 'eval_runtime': 0.022, 'eval_samples_per_second': 499.084, 'eval_steps_per_second': 90.743, 'epoch': 3.64}\n"
     ]
    },
    {
     "name": "stderr",
     "output_type": "stream",
     "text": [
      "\n",
      "  2%|▏         | 110/4700 [01:37<11:05,  6.90it/s]"
     ]
    },
    {
     "name": "stdout",
     "output_type": "stream",
     "text": [
      "{'loss': 0.2856, 'grad_norm': 2.4223639965057373, 'learning_rate': 4.545454545454546e-05, 'epoch': 4.55}\n"
     ]
    },
    {
     "name": "stderr",
     "output_type": "stream",
     "text": [
      "\n",
      "\u001b[A\n",
      "                                                  \n",
      "\n",
      "  2%|▏         | 110/4700 [01:37<11:05,  6.90it/s]\n",
      "\u001b[A\n",
      "\u001b[A"
     ]
    },
    {
     "name": "stdout",
     "output_type": "stream",
     "text": [
      "{'eval_loss': 0.374459832906723, 'eval_runtime': 0.0216, 'eval_samples_per_second': 508.216, 'eval_steps_per_second': 92.403, 'epoch': 4.55}\n"
     ]
    },
    {
     "name": "stderr",
     "output_type": "stream",
     "text": [
      "\n",
      "  2%|▏         | 110/4700 [01:37<11:05,  6.90it/s]"
     ]
    },
    {
     "name": "stdout",
     "output_type": "stream",
     "text": [
      "{'loss': 0.2084, 'grad_norm': 1.789468765258789, 'learning_rate': 4.454545454545455e-05, 'epoch': 5.45}\n"
     ]
    },
    {
     "name": "stderr",
     "output_type": "stream",
     "text": [
      "\n",
      "\u001b[A\n",
      "                                                  \n",
      "\n",
      "  2%|▏         | 110/4700 [01:37<11:05,  6.90it/s]\n",
      "\u001b[A\n",
      "\u001b[A"
     ]
    },
    {
     "name": "stdout",
     "output_type": "stream",
     "text": [
      "{'eval_loss': 0.3179737329483032, 'eval_runtime': 0.0216, 'eval_samples_per_second': 508.149, 'eval_steps_per_second': 92.391, 'epoch': 5.45}\n"
     ]
    },
    {
     "name": "stderr",
     "output_type": "stream",
     "text": [
      "\n",
      "  2%|▏         | 110/4700 [01:38<11:05,  6.90it/s]"
     ]
    },
    {
     "name": "stdout",
     "output_type": "stream",
     "text": [
      "{'loss': 0.0917, 'grad_norm': 0.3701396584510803, 'learning_rate': 4.3636363636363636e-05, 'epoch': 6.36}\n"
     ]
    },
    {
     "name": "stderr",
     "output_type": "stream",
     "text": [
      "\n",
      "\u001b[A\n",
      "                                                  \n",
      "\n",
      "  2%|▏         | 110/4700 [01:38<11:05,  6.90it/s]\n",
      "\u001b[A\n",
      "\u001b[A"
     ]
    },
    {
     "name": "stdout",
     "output_type": "stream",
     "text": [
      "{'eval_loss': 0.308089017868042, 'eval_runtime': 0.0224, 'eval_samples_per_second': 492.09, 'eval_steps_per_second': 89.471, 'epoch': 6.36}\n"
     ]
    },
    {
     "name": "stderr",
     "output_type": "stream",
     "text": [
      "\n",
      "  2%|▏         | 110/4700 [01:39<11:05,  6.90it/s]"
     ]
    },
    {
     "name": "stdout",
     "output_type": "stream",
     "text": [
      "{'loss': 0.068, 'grad_norm': 0.4283190667629242, 'learning_rate': 4.2727272727272724e-05, 'epoch': 7.27}\n"
     ]
    },
    {
     "name": "stderr",
     "output_type": "stream",
     "text": [
      "\n",
      "\u001b[A\n",
      "                                                  \n",
      "\n",
      "  2%|▏         | 110/4700 [01:39<11:05,  6.90it/s]\n",
      "\u001b[A\n",
      "\u001b[A"
     ]
    },
    {
     "name": "stdout",
     "output_type": "stream",
     "text": [
      "{'eval_loss': 0.24193401634693146, 'eval_runtime': 0.0207, 'eval_samples_per_second': 531.34, 'eval_steps_per_second': 96.607, 'epoch': 7.27}\n"
     ]
    },
    {
     "name": "stderr",
     "output_type": "stream",
     "text": [
      "\n",
      "  2%|▏         | 110/4700 [01:40<11:05,  6.90it/s]"
     ]
    },
    {
     "name": "stdout",
     "output_type": "stream",
     "text": [
      "{'loss': 0.0524, 'grad_norm': 0.22382420301437378, 'learning_rate': 4.181818181818182e-05, 'epoch': 8.18}\n"
     ]
    },
    {
     "name": "stderr",
     "output_type": "stream",
     "text": [
      "\n",
      "\u001b[A\n",
      "                                                  \n",
      "\n",
      "  2%|▏         | 110/4700 [01:40<11:05,  6.90it/s]\n",
      "\u001b[A\n",
      "\u001b[A"
     ]
    },
    {
     "name": "stdout",
     "output_type": "stream",
     "text": [
      "{'eval_loss': 0.24943462014198303, 'eval_runtime': 0.0212, 'eval_samples_per_second': 518.974, 'eval_steps_per_second': 94.359, 'epoch': 8.18}\n"
     ]
    },
    {
     "name": "stderr",
     "output_type": "stream",
     "text": [
      "\n",
      "  2%|▏         | 110/4700 [01:40<11:05,  6.90it/s]"
     ]
    },
    {
     "name": "stdout",
     "output_type": "stream",
     "text": [
      "{'loss': 0.0405, 'grad_norm': 0.3205004930496216, 'learning_rate': 4.0909090909090915e-05, 'epoch': 9.09}\n"
     ]
    },
    {
     "name": "stderr",
     "output_type": "stream",
     "text": [
      "\n",
      "\u001b[A\n",
      "                                                  \n",
      "\n",
      "  2%|▏         | 110/4700 [01:40<11:05,  6.90it/s]\n",
      "\u001b[A\n",
      "\u001b[A"
     ]
    },
    {
     "name": "stdout",
     "output_type": "stream",
     "text": [
      "{'eval_loss': 0.21112561225891113, 'eval_runtime': 0.0208, 'eval_samples_per_second': 529.219, 'eval_steps_per_second': 96.222, 'epoch': 9.09}\n"
     ]
    },
    {
     "name": "stderr",
     "output_type": "stream",
     "text": [
      "\n",
      "  2%|▏         | 110/4700 [01:41<11:05,  6.90it/s]"
     ]
    },
    {
     "name": "stdout",
     "output_type": "stream",
     "text": [
      "{'loss': 0.0279, 'grad_norm': 0.16811877489089966, 'learning_rate': 4e-05, 'epoch': 10.0}\n"
     ]
    },
    {
     "name": "stderr",
     "output_type": "stream",
     "text": [
      "\n",
      "\u001b[A\n",
      "                                                  \n",
      "\n",
      "  2%|▏         | 110/4700 [01:41<11:05,  6.90it/s]\n",
      "\u001b[A\n",
      "\u001b[A"
     ]
    },
    {
     "name": "stdout",
     "output_type": "stream",
     "text": [
      "{'eval_loss': 0.1902952641248703, 'eval_runtime': 0.0204, 'eval_samples_per_second': 539.7, 'eval_steps_per_second': 98.127, 'epoch': 10.0}\n"
     ]
    },
    {
     "name": "stderr",
     "output_type": "stream",
     "text": [
      "\n",
      "  2%|▏         | 110/4700 [01:42<11:05,  6.90it/s]"
     ]
    },
    {
     "name": "stdout",
     "output_type": "stream",
     "text": [
      "{'loss': 0.0211, 'grad_norm': 0.16506101191043854, 'learning_rate': 3.909090909090909e-05, 'epoch': 10.91}\n"
     ]
    },
    {
     "name": "stderr",
     "output_type": "stream",
     "text": [
      "\n",
      "\u001b[A\n",
      "                                                  \n",
      "\n",
      "  2%|▏         | 110/4700 [01:42<11:05,  6.90it/s]\n",
      "\u001b[A\n",
      "\u001b[A"
     ]
    },
    {
     "name": "stdout",
     "output_type": "stream",
     "text": [
      "{'eval_loss': 0.17817436158657074, 'eval_runtime': 0.0211, 'eval_samples_per_second': 521.296, 'eval_steps_per_second': 94.781, 'epoch': 10.91}\n"
     ]
    },
    {
     "name": "stderr",
     "output_type": "stream",
     "text": [
      "\n",
      "  2%|▏         | 110/4700 [01:42<11:05,  6.90it/s]"
     ]
    },
    {
     "name": "stdout",
     "output_type": "stream",
     "text": [
      "{'loss': 0.0191, 'grad_norm': 0.7656677961349487, 'learning_rate': 3.818181818181819e-05, 'epoch': 11.82}\n"
     ]
    },
    {
     "name": "stderr",
     "output_type": "stream",
     "text": [
      "\n",
      "\u001b[A\n",
      "                                                  \n",
      "\n",
      "  2%|▏         | 110/4700 [01:42<11:05,  6.90it/s]\n",
      "\u001b[A\n",
      "\u001b[A"
     ]
    },
    {
     "name": "stdout",
     "output_type": "stream",
     "text": [
      "{'eval_loss': 0.17810148000717163, 'eval_runtime': 0.022, 'eval_samples_per_second': 500.954, 'eval_steps_per_second': 91.083, 'epoch': 11.82}\n"
     ]
    },
    {
     "name": "stderr",
     "output_type": "stream",
     "text": [
      "\n",
      "  2%|▏         | 110/4700 [01:43<11:05,  6.90it/s]"
     ]
    },
    {
     "name": "stdout",
     "output_type": "stream",
     "text": [
      "{'loss': 0.0152, 'grad_norm': 0.08730783313512802, 'learning_rate': 3.7272727272727276e-05, 'epoch': 12.73}\n"
     ]
    },
    {
     "name": "stderr",
     "output_type": "stream",
     "text": [
      "\n",
      "\u001b[A\n",
      "                                                  \n",
      "\n",
      "  2%|▏         | 110/4700 [01:43<11:05,  6.90it/s]\n",
      "\u001b[A\n",
      "\u001b[A"
     ]
    },
    {
     "name": "stdout",
     "output_type": "stream",
     "text": [
      "{'eval_loss': 0.14699743688106537, 'eval_runtime': 0.0208, 'eval_samples_per_second': 528.401, 'eval_steps_per_second': 96.073, 'epoch': 12.73}\n"
     ]
    },
    {
     "name": "stderr",
     "output_type": "stream",
     "text": [
      "\n",
      "  2%|▏         | 110/4700 [01:44<11:05,  6.90it/s]"
     ]
    },
    {
     "name": "stdout",
     "output_type": "stream",
     "text": [
      "{'loss': 0.0127, 'grad_norm': 0.11033158749341965, 'learning_rate': 3.6363636363636364e-05, 'epoch': 13.64}\n"
     ]
    },
    {
     "name": "stderr",
     "output_type": "stream",
     "text": [
      "\n",
      "\u001b[A\n",
      "                                                  \n",
      "\n",
      "  2%|▏         | 110/4700 [01:44<11:05,  6.90it/s]\n",
      "\u001b[A\n",
      "\u001b[A"
     ]
    },
    {
     "name": "stdout",
     "output_type": "stream",
     "text": [
      "{'eval_loss': 0.15338632464408875, 'eval_runtime': 0.0215, 'eval_samples_per_second': 512.199, 'eval_steps_per_second': 93.127, 'epoch': 13.64}\n"
     ]
    },
    {
     "name": "stderr",
     "output_type": "stream",
     "text": [
      "\n",
      "  2%|▏         | 110/4700 [01:44<11:05,  6.90it/s]"
     ]
    },
    {
     "name": "stdout",
     "output_type": "stream",
     "text": [
      "{'loss': 0.0087, 'grad_norm': 0.09108654409646988, 'learning_rate': 3.545454545454546e-05, 'epoch': 14.55}\n"
     ]
    },
    {
     "name": "stderr",
     "output_type": "stream",
     "text": [
      "\n",
      "\u001b[A\n",
      "                                                  \n",
      "\n",
      "  2%|▏         | 110/4700 [01:44<11:05,  6.90it/s]\n",
      "\u001b[A\n",
      "\u001b[A"
     ]
    },
    {
     "name": "stdout",
     "output_type": "stream",
     "text": [
      "{'eval_loss': 0.1634463220834732, 'eval_runtime': 0.0224, 'eval_samples_per_second': 491.194, 'eval_steps_per_second': 89.308, 'epoch': 14.55}\n"
     ]
    },
    {
     "name": "stderr",
     "output_type": "stream",
     "text": [
      "\n",
      "  2%|▏         | 110/4700 [01:45<11:05,  6.90it/s]"
     ]
    },
    {
     "name": "stdout",
     "output_type": "stream",
     "text": [
      "{'loss': 0.0109, 'grad_norm': 0.08471418917179108, 'learning_rate': 3.454545454545455e-05, 'epoch': 15.45}\n"
     ]
    },
    {
     "name": "stderr",
     "output_type": "stream",
     "text": [
      "\n",
      "\u001b[A\n",
      "                                                  \n",
      "\n",
      "  2%|▏         | 110/4700 [01:45<11:05,  6.90it/s]\n",
      "\u001b[A\n",
      "\u001b[A"
     ]
    },
    {
     "name": "stdout",
     "output_type": "stream",
     "text": [
      "{'eval_loss': 0.14642205834388733, 'eval_runtime': 0.0228, 'eval_samples_per_second': 481.928, 'eval_steps_per_second': 87.623, 'epoch': 15.45}\n"
     ]
    },
    {
     "name": "stderr",
     "output_type": "stream",
     "text": [
      "\n",
      "  2%|▏         | 110/4700 [01:46<11:05,  6.90it/s]"
     ]
    },
    {
     "name": "stdout",
     "output_type": "stream",
     "text": [
      "{'loss': 0.0101, 'grad_norm': 0.06428225338459015, 'learning_rate': 3.3636363636363636e-05, 'epoch': 16.36}\n"
     ]
    },
    {
     "name": "stderr",
     "output_type": "stream",
     "text": [
      "\n",
      "\u001b[A\n",
      "                                                  \n",
      "\n",
      "  2%|▏         | 110/4700 [01:46<11:05,  6.90it/s]\n",
      "\u001b[A\n",
      "\u001b[A"
     ]
    },
    {
     "name": "stdout",
     "output_type": "stream",
     "text": [
      "{'eval_loss': 0.1425197571516037, 'eval_runtime': 0.021, 'eval_samples_per_second': 523.984, 'eval_steps_per_second': 95.27, 'epoch': 16.36}\n"
     ]
    },
    {
     "name": "stderr",
     "output_type": "stream",
     "text": [
      "\n",
      "  2%|▏         | 110/4700 [01:46<11:05,  6.90it/s]"
     ]
    },
    {
     "name": "stdout",
     "output_type": "stream",
     "text": [
      "{'loss': 0.0083, 'grad_norm': 0.07099637389183044, 'learning_rate': 3.272727272727273e-05, 'epoch': 17.27}\n"
     ]
    },
    {
     "name": "stderr",
     "output_type": "stream",
     "text": [
      "\n",
      "\u001b[A\n",
      "                                                  \n",
      "\n",
      "  2%|▏         | 110/4700 [01:46<11:05,  6.90it/s]\n",
      "\u001b[A\n",
      "\u001b[A"
     ]
    },
    {
     "name": "stdout",
     "output_type": "stream",
     "text": [
      "{'eval_loss': 0.13502131402492523, 'eval_runtime': 0.0215, 'eval_samples_per_second': 511.155, 'eval_steps_per_second': 92.937, 'epoch': 17.27}\n"
     ]
    },
    {
     "name": "stderr",
     "output_type": "stream",
     "text": [
      "\n",
      "  2%|▏         | 110/4700 [01:47<11:05,  6.90it/s]"
     ]
    },
    {
     "name": "stdout",
     "output_type": "stream",
     "text": [
      "{'loss': 0.0095, 'grad_norm': 0.06628356128931046, 'learning_rate': 3.181818181818182e-05, 'epoch': 18.18}\n"
     ]
    },
    {
     "name": "stderr",
     "output_type": "stream",
     "text": [
      "\n",
      "\u001b[A\n",
      "                                                  \n",
      "\n",
      "  2%|▏         | 110/4700 [01:47<11:05,  6.90it/s]\n",
      "\u001b[A\n",
      "\u001b[A"
     ]
    },
    {
     "name": "stdout",
     "output_type": "stream",
     "text": [
      "{'eval_loss': 0.13157270848751068, 'eval_runtime': 0.0218, 'eval_samples_per_second': 505.056, 'eval_steps_per_second': 91.828, 'epoch': 18.18}\n"
     ]
    },
    {
     "name": "stderr",
     "output_type": "stream",
     "text": [
      "\n",
      "  2%|▏         | 110/4700 [01:48<11:05,  6.90it/s]"
     ]
    },
    {
     "name": "stdout",
     "output_type": "stream",
     "text": [
      "{'loss': 0.0058, 'grad_norm': 0.07024307548999786, 'learning_rate': 3.090909090909091e-05, 'epoch': 19.09}\n"
     ]
    },
    {
     "name": "stderr",
     "output_type": "stream",
     "text": [
      "\n",
      "\u001b[A\n",
      "                                                  \n",
      "\n",
      "  2%|▏         | 110/4700 [01:48<11:05,  6.90it/s]\n",
      "\u001b[A\n",
      "\u001b[A"
     ]
    },
    {
     "name": "stdout",
     "output_type": "stream",
     "text": [
      "{'eval_loss': 0.13432537019252777, 'eval_runtime': 0.0214, 'eval_samples_per_second': 513.162, 'eval_steps_per_second': 93.302, 'epoch': 19.09}\n"
     ]
    },
    {
     "name": "stderr",
     "output_type": "stream",
     "text": [
      "\n",
      "  2%|▏         | 110/4700 [01:49<11:05,  6.90it/s]"
     ]
    },
    {
     "name": "stdout",
     "output_type": "stream",
     "text": [
      "{'loss': 0.0061, 'grad_norm': 0.0458151139318943, 'learning_rate': 3e-05, 'epoch': 20.0}\n"
     ]
    },
    {
     "name": "stderr",
     "output_type": "stream",
     "text": [
      "\n",
      "\u001b[A\n",
      "                                                  \n",
      "\n",
      "  2%|▏         | 110/4700 [01:49<11:05,  6.90it/s]\n",
      "\u001b[A\n",
      "\u001b[A"
     ]
    },
    {
     "name": "stdout",
     "output_type": "stream",
     "text": [
      "{'eval_loss': 0.12832781672477722, 'eval_runtime': 0.0202, 'eval_samples_per_second': 544.182, 'eval_steps_per_second': 98.942, 'epoch': 20.0}\n"
     ]
    },
    {
     "name": "stderr",
     "output_type": "stream",
     "text": [
      "\n",
      "  2%|▏         | 110/4700 [01:49<11:05,  6.90it/s]"
     ]
    },
    {
     "name": "stdout",
     "output_type": "stream",
     "text": [
      "{'loss': 0.0062, 'grad_norm': 0.0701637789607048, 'learning_rate': 2.909090909090909e-05, 'epoch': 20.91}\n"
     ]
    },
    {
     "name": "stderr",
     "output_type": "stream",
     "text": [
      "\n",
      "\u001b[A\n",
      "                                                  \n",
      "\n",
      "  2%|▏         | 110/4700 [01:49<11:05,  6.90it/s]\n",
      "\u001b[A\n",
      "\u001b[A"
     ]
    },
    {
     "name": "stdout",
     "output_type": "stream",
     "text": [
      "{'eval_loss': 0.13259249925613403, 'eval_runtime': 0.0226, 'eval_samples_per_second': 487.22, 'eval_steps_per_second': 88.586, 'epoch': 20.91}\n"
     ]
    },
    {
     "name": "stderr",
     "output_type": "stream",
     "text": [
      "\n",
      "  2%|▏         | 110/4700 [01:50<11:05,  6.90it/s]"
     ]
    },
    {
     "name": "stdout",
     "output_type": "stream",
     "text": [
      "{'loss': 0.0058, 'grad_norm': 0.07816383987665176, 'learning_rate': 2.818181818181818e-05, 'epoch': 21.82}\n"
     ]
    },
    {
     "name": "stderr",
     "output_type": "stream",
     "text": [
      "\n",
      "\u001b[A\n",
      "                                                  \n",
      "\n",
      "  2%|▏         | 110/4700 [01:50<11:05,  6.90it/s]\n",
      "\u001b[A\n",
      "\u001b[A"
     ]
    },
    {
     "name": "stdout",
     "output_type": "stream",
     "text": [
      "{'eval_loss': 0.135488823056221, 'eval_runtime': 0.0216, 'eval_samples_per_second': 508.552, 'eval_steps_per_second': 92.464, 'epoch': 21.82}\n"
     ]
    },
    {
     "name": "stderr",
     "output_type": "stream",
     "text": [
      "\n",
      "  2%|▏         | 110/4700 [01:51<11:05,  6.90it/s]"
     ]
    },
    {
     "name": "stdout",
     "output_type": "stream",
     "text": [
      "{'loss': 0.0052, 'grad_norm': 0.047265708446502686, 'learning_rate': 2.7272727272727273e-05, 'epoch': 22.73}\n"
     ]
    },
    {
     "name": "stderr",
     "output_type": "stream",
     "text": [
      "\n",
      "\u001b[A\n",
      "                                                  \n",
      "\n",
      "  2%|▏         | 110/4700 [01:51<11:05,  6.90it/s]\n",
      "\u001b[A\n",
      "\u001b[A"
     ]
    },
    {
     "name": "stdout",
     "output_type": "stream",
     "text": [
      "{'eval_loss': 0.1379845291376114, 'eval_runtime': 0.0206, 'eval_samples_per_second': 532.69, 'eval_steps_per_second': 96.853, 'epoch': 22.73}\n"
     ]
    },
    {
     "name": "stderr",
     "output_type": "stream",
     "text": [
      "\n",
      "  2%|▏         | 110/4700 [01:51<11:05,  6.90it/s]"
     ]
    },
    {
     "name": "stdout",
     "output_type": "stream",
     "text": [
      "{'loss': 0.0044, 'grad_norm': 0.06356557458639145, 'learning_rate': 2.636363636363636e-05, 'epoch': 23.64}\n"
     ]
    },
    {
     "name": "stderr",
     "output_type": "stream",
     "text": [
      "\n",
      "\u001b[A\n",
      "                                                  \n",
      "\n",
      "  2%|▏         | 110/4700 [01:51<11:05,  6.90it/s]\n",
      "\u001b[A\n",
      "\u001b[A"
     ]
    },
    {
     "name": "stdout",
     "output_type": "stream",
     "text": [
      "{'eval_loss': 0.13673436641693115, 'eval_runtime': 0.021, 'eval_samples_per_second': 523.242, 'eval_steps_per_second': 95.135, 'epoch': 23.64}\n"
     ]
    },
    {
     "name": "stderr",
     "output_type": "stream",
     "text": [
      "\n",
      "  2%|▏         | 110/4700 [01:52<11:05,  6.90it/s]"
     ]
    },
    {
     "name": "stdout",
     "output_type": "stream",
     "text": [
      "{'loss': 0.0061, 'grad_norm': 0.04316190257668495, 'learning_rate': 2.5454545454545454e-05, 'epoch': 24.55}\n"
     ]
    },
    {
     "name": "stderr",
     "output_type": "stream",
     "text": [
      "\n",
      "\u001b[A\n",
      "                                                  \n",
      "\n",
      "  2%|▏         | 110/4700 [01:52<11:05,  6.90it/s]\n",
      "\u001b[A\n",
      "\u001b[A"
     ]
    },
    {
     "name": "stdout",
     "output_type": "stream",
     "text": [
      "{'eval_loss': 0.12923064827919006, 'eval_runtime': 0.0209, 'eval_samples_per_second': 526.766, 'eval_steps_per_second': 95.776, 'epoch': 24.55}\n"
     ]
    },
    {
     "name": "stderr",
     "output_type": "stream",
     "text": [
      "\n",
      "  2%|▏         | 110/4700 [01:53<11:05,  6.90it/s]"
     ]
    },
    {
     "name": "stdout",
     "output_type": "stream",
     "text": [
      "{'loss': 0.0048, 'grad_norm': 0.2156936377286911, 'learning_rate': 2.4545454545454545e-05, 'epoch': 25.45}\n"
     ]
    },
    {
     "name": "stderr",
     "output_type": "stream",
     "text": [
      "\n",
      "\u001b[A\n",
      "                                                  \n",
      "\n",
      "  2%|▏         | 110/4700 [01:53<11:05,  6.90it/s]\n",
      "\u001b[A\n",
      "\u001b[A"
     ]
    },
    {
     "name": "stdout",
     "output_type": "stream",
     "text": [
      "{'eval_loss': 0.13088324666023254, 'eval_runtime': 0.0236, 'eval_samples_per_second': 466.298, 'eval_steps_per_second': 84.781, 'epoch': 25.45}\n"
     ]
    },
    {
     "name": "stderr",
     "output_type": "stream",
     "text": [
      "\n",
      "  2%|▏         | 110/4700 [01:53<11:05,  6.90it/s]"
     ]
    },
    {
     "name": "stdout",
     "output_type": "stream",
     "text": [
      "{'loss': 0.0035, 'grad_norm': 0.03344946354627609, 'learning_rate': 2.3636363636363637e-05, 'epoch': 26.36}\n"
     ]
    },
    {
     "name": "stderr",
     "output_type": "stream",
     "text": [
      "\n",
      "\u001b[A\n",
      "                                                  \n",
      "\n",
      "  2%|▏         | 110/4700 [01:53<11:05,  6.90it/s]\n",
      "\u001b[A\n",
      "\u001b[A"
     ]
    },
    {
     "name": "stdout",
     "output_type": "stream",
     "text": [
      "{'eval_loss': 0.13309301435947418, 'eval_runtime': 0.0221, 'eval_samples_per_second': 498.297, 'eval_steps_per_second': 90.6, 'epoch': 26.36}\n"
     ]
    },
    {
     "name": "stderr",
     "output_type": "stream",
     "text": [
      "\n",
      "  2%|▏         | 110/4700 [01:54<11:05,  6.90it/s]"
     ]
    },
    {
     "name": "stdout",
     "output_type": "stream",
     "text": [
      "{'loss': 0.0054, 'grad_norm': 0.16024522483348846, 'learning_rate': 2.272727272727273e-05, 'epoch': 27.27}\n"
     ]
    },
    {
     "name": "stderr",
     "output_type": "stream",
     "text": [
      "\n",
      "\u001b[A\n",
      "                                                  \n",
      "\n",
      "  2%|▏         | 110/4700 [01:54<11:05,  6.90it/s]\n",
      "\u001b[A\n",
      "\u001b[A"
     ]
    },
    {
     "name": "stdout",
     "output_type": "stream",
     "text": [
      "{'eval_loss': 0.13676351308822632, 'eval_runtime': 0.0207, 'eval_samples_per_second': 530.369, 'eval_steps_per_second': 96.431, 'epoch': 27.27}\n"
     ]
    },
    {
     "name": "stderr",
     "output_type": "stream",
     "text": [
      "\n",
      "  2%|▏         | 110/4700 [01:55<11:05,  6.90it/s]"
     ]
    },
    {
     "name": "stdout",
     "output_type": "stream",
     "text": [
      "{'loss': 0.0034, 'grad_norm': 0.03516504541039467, 'learning_rate': 2.1818181818181818e-05, 'epoch': 28.18}\n"
     ]
    },
    {
     "name": "stderr",
     "output_type": "stream",
     "text": [
      "\n",
      "\u001b[A\n",
      "                                                  \n",
      "\n",
      "  2%|▏         | 110/4700 [01:55<11:05,  6.90it/s]\n",
      "\u001b[A\n",
      "\u001b[A"
     ]
    },
    {
     "name": "stdout",
     "output_type": "stream",
     "text": [
      "{'eval_loss': 0.13539151847362518, 'eval_runtime': 0.0217, 'eval_samples_per_second': 507.243, 'eval_steps_per_second': 92.226, 'epoch': 28.18}\n"
     ]
    },
    {
     "name": "stderr",
     "output_type": "stream",
     "text": [
      "\n",
      "  2%|▏         | 110/4700 [01:55<11:05,  6.90it/s]"
     ]
    },
    {
     "name": "stdout",
     "output_type": "stream",
     "text": [
      "{'loss': 0.004, 'grad_norm': 0.04394311457872391, 'learning_rate': 2.090909090909091e-05, 'epoch': 29.09}\n"
     ]
    },
    {
     "name": "stderr",
     "output_type": "stream",
     "text": [
      "\n",
      "\u001b[A\n",
      "                                                  \n",
      "\n",
      "  2%|▏         | 110/4700 [01:55<11:05,  6.90it/s]\n",
      "\u001b[A\n",
      "\u001b[A"
     ]
    },
    {
     "name": "stdout",
     "output_type": "stream",
     "text": [
      "{'eval_loss': 0.135749951004982, 'eval_runtime': 0.0214, 'eval_samples_per_second': 513.945, 'eval_steps_per_second': 93.445, 'epoch': 29.09}\n"
     ]
    },
    {
     "name": "stderr",
     "output_type": "stream",
     "text": [
      "\n",
      "  2%|▏         | 110/4700 [01:56<11:05,  6.90it/s]"
     ]
    },
    {
     "name": "stdout",
     "output_type": "stream",
     "text": [
      "{'loss': 0.0041, 'grad_norm': 0.046639036387205124, 'learning_rate': 2e-05, 'epoch': 30.0}\n"
     ]
    },
    {
     "name": "stderr",
     "output_type": "stream",
     "text": [
      "\n",
      "\u001b[A\n",
      "                                                  \n",
      "\n",
      "  2%|▏         | 110/4700 [01:56<11:05,  6.90it/s]\n",
      "\u001b[A\n",
      "\u001b[A"
     ]
    },
    {
     "name": "stdout",
     "output_type": "stream",
     "text": [
      "{'eval_loss': 0.1349923461675644, 'eval_runtime': 0.0215, 'eval_samples_per_second': 511.784, 'eval_steps_per_second': 93.052, 'epoch': 30.0}\n"
     ]
    },
    {
     "name": "stderr",
     "output_type": "stream",
     "text": [
      "\n",
      "  2%|▏         | 110/4700 [01:57<11:05,  6.90it/s]"
     ]
    },
    {
     "name": "stdout",
     "output_type": "stream",
     "text": [
      "{'loss': 0.0036, 'grad_norm': 0.03124561719596386, 'learning_rate': 1.9090909090909094e-05, 'epoch': 30.91}\n"
     ]
    },
    {
     "name": "stderr",
     "output_type": "stream",
     "text": [
      "\n",
      "\u001b[A\n",
      "                                                  \n",
      "\n",
      "  2%|▏         | 110/4700 [01:57<11:05,  6.90it/s]\n",
      "\u001b[A\n",
      "\u001b[A"
     ]
    },
    {
     "name": "stdout",
     "output_type": "stream",
     "text": [
      "{'eval_loss': 0.13476485013961792, 'eval_runtime': 0.0228, 'eval_samples_per_second': 481.555, 'eval_steps_per_second': 87.556, 'epoch': 30.91}\n"
     ]
    },
    {
     "name": "stderr",
     "output_type": "stream",
     "text": [
      "\n",
      "  2%|▏         | 110/4700 [01:58<11:05,  6.90it/s]"
     ]
    },
    {
     "name": "stdout",
     "output_type": "stream",
     "text": [
      "{'loss': 0.0031, 'grad_norm': 0.03726193308830261, 'learning_rate': 1.8181818181818182e-05, 'epoch': 31.82}\n"
     ]
    },
    {
     "name": "stderr",
     "output_type": "stream",
     "text": [
      "\n",
      "\u001b[A\n",
      "                                                  \n",
      "\n",
      "  2%|▏         | 110/4700 [01:58<11:05,  6.90it/s]\n",
      "\u001b[A\n",
      "\u001b[A"
     ]
    },
    {
     "name": "stdout",
     "output_type": "stream",
     "text": [
      "{'eval_loss': 0.1367313265800476, 'eval_runtime': 0.0215, 'eval_samples_per_second': 511.16, 'eval_steps_per_second': 92.938, 'epoch': 31.82}\n"
     ]
    },
    {
     "name": "stderr",
     "output_type": "stream",
     "text": [
      "\n",
      "  2%|▏         | 110/4700 [01:58<11:05,  6.90it/s]"
     ]
    },
    {
     "name": "stdout",
     "output_type": "stream",
     "text": [
      "{'loss': 0.0053, 'grad_norm': 0.0382881797850132, 'learning_rate': 1.7272727272727274e-05, 'epoch': 32.73}\n"
     ]
    },
    {
     "name": "stderr",
     "output_type": "stream",
     "text": [
      "\n",
      "\u001b[A\n",
      "                                                  \n",
      "\n",
      "  2%|▏         | 110/4700 [01:58<11:05,  6.90it/s]\n",
      "\u001b[A\n",
      "\u001b[A"
     ]
    },
    {
     "name": "stdout",
     "output_type": "stream",
     "text": [
      "{'eval_loss': 0.13000625371932983, 'eval_runtime': 0.0221, 'eval_samples_per_second': 497.754, 'eval_steps_per_second': 90.501, 'epoch': 32.73}\n"
     ]
    },
    {
     "name": "stderr",
     "output_type": "stream",
     "text": [
      "\n",
      "  2%|▏         | 110/4700 [01:59<11:05,  6.90it/s]"
     ]
    },
    {
     "name": "stdout",
     "output_type": "stream",
     "text": [
      "{'loss': 0.0045, 'grad_norm': 0.0300364401191473, 'learning_rate': 1.6363636363636366e-05, 'epoch': 33.64}\n"
     ]
    },
    {
     "name": "stderr",
     "output_type": "stream",
     "text": [
      "\n",
      "\u001b[A\n",
      "                                                  \n",
      "\n",
      "  2%|▏         | 110/4700 [01:59<11:05,  6.90it/s]\n",
      "\u001b[A\n",
      "\u001b[A"
     ]
    },
    {
     "name": "stdout",
     "output_type": "stream",
     "text": [
      "{'eval_loss': 0.12800449132919312, 'eval_runtime': 0.0214, 'eval_samples_per_second': 513.242, 'eval_steps_per_second': 93.317, 'epoch': 33.64}\n"
     ]
    },
    {
     "name": "stderr",
     "output_type": "stream",
     "text": [
      "\n",
      "  2%|▏         | 110/4700 [02:00<11:05,  6.90it/s]"
     ]
    },
    {
     "name": "stdout",
     "output_type": "stream",
     "text": [
      "{'loss': 0.0035, 'grad_norm': 0.03710515797138214, 'learning_rate': 1.5454545454545454e-05, 'epoch': 34.55}\n"
     ]
    },
    {
     "name": "stderr",
     "output_type": "stream",
     "text": [
      "\n",
      "\u001b[A\n",
      "                                                  \n",
      "\n",
      "  2%|▏         | 110/4700 [02:00<11:05,  6.90it/s]\n",
      "\u001b[A\n",
      "\u001b[A"
     ]
    },
    {
     "name": "stdout",
     "output_type": "stream",
     "text": [
      "{'eval_loss': 0.12874093651771545, 'eval_runtime': 0.0226, 'eval_samples_per_second': 487.102, 'eval_steps_per_second': 88.564, 'epoch': 34.55}\n"
     ]
    },
    {
     "name": "stderr",
     "output_type": "stream",
     "text": [
      "\n",
      "  2%|▏         | 110/4700 [02:00<11:05,  6.90it/s]"
     ]
    },
    {
     "name": "stdout",
     "output_type": "stream",
     "text": [
      "{'loss': 0.0027, 'grad_norm': 0.03698156774044037, 'learning_rate': 1.4545454545454545e-05, 'epoch': 35.45}\n"
     ]
    },
    {
     "name": "stderr",
     "output_type": "stream",
     "text": [
      "\n",
      "\u001b[A\n",
      "                                                  \n",
      "\n",
      "  2%|▏         | 110/4700 [02:00<11:05,  6.90it/s]\n",
      "\u001b[A\n",
      "\u001b[A"
     ]
    },
    {
     "name": "stdout",
     "output_type": "stream",
     "text": [
      "{'eval_loss': 0.12923792004585266, 'eval_runtime': 0.021, 'eval_samples_per_second': 523.36, 'eval_steps_per_second': 95.156, 'epoch': 35.45}\n"
     ]
    },
    {
     "name": "stderr",
     "output_type": "stream",
     "text": [
      "\n",
      "  2%|▏         | 110/4700 [02:01<11:05,  6.90it/s]"
     ]
    },
    {
     "name": "stdout",
     "output_type": "stream",
     "text": [
      "{'loss': 0.0031, 'grad_norm': 0.026735316962003708, 'learning_rate': 1.3636363636363637e-05, 'epoch': 36.36}\n"
     ]
    },
    {
     "name": "stderr",
     "output_type": "stream",
     "text": [
      "\n",
      "\u001b[A\n",
      "                                                  \n",
      "\n",
      "  2%|▏         | 110/4700 [02:01<11:05,  6.90it/s]\n",
      "\u001b[A\n",
      "\u001b[A"
     ]
    },
    {
     "name": "stdout",
     "output_type": "stream",
     "text": [
      "{'eval_loss': 0.1296723186969757, 'eval_runtime': 0.0209, 'eval_samples_per_second': 526.346, 'eval_steps_per_second': 95.699, 'epoch': 36.36}\n"
     ]
    },
    {
     "name": "stderr",
     "output_type": "stream",
     "text": [
      "\n",
      "  2%|▏         | 110/4700 [02:02<11:05,  6.90it/s]"
     ]
    },
    {
     "name": "stdout",
     "output_type": "stream",
     "text": [
      "{'loss': 0.0035, 'grad_norm': 0.1096678301692009, 'learning_rate': 1.2727272727272727e-05, 'epoch': 37.27}\n"
     ]
    },
    {
     "name": "stderr",
     "output_type": "stream",
     "text": [
      "\n",
      "\u001b[A\n",
      "                                                  \n",
      "\n",
      "  2%|▏         | 110/4700 [02:02<11:05,  6.90it/s]\n",
      "\u001b[A\n",
      "\u001b[A"
     ]
    },
    {
     "name": "stdout",
     "output_type": "stream",
     "text": [
      "{'eval_loss': 0.1290058046579361, 'eval_runtime': 0.0208, 'eval_samples_per_second': 529.147, 'eval_steps_per_second': 96.208, 'epoch': 37.27}\n"
     ]
    },
    {
     "name": "stderr",
     "output_type": "stream",
     "text": [
      "\n",
      "  2%|▏         | 110/4700 [02:02<11:05,  6.90it/s]"
     ]
    },
    {
     "name": "stdout",
     "output_type": "stream",
     "text": [
      "{'loss': 0.0024, 'grad_norm': 0.02226276323199272, 'learning_rate': 1.1818181818181819e-05, 'epoch': 38.18}\n"
     ]
    },
    {
     "name": "stderr",
     "output_type": "stream",
     "text": [
      "\n",
      "\u001b[A\n",
      "                                                  \n",
      "\n",
      "  2%|▏         | 110/4700 [02:02<11:05,  6.90it/s]\n",
      "\u001b[A\n",
      "\u001b[A"
     ]
    },
    {
     "name": "stdout",
     "output_type": "stream",
     "text": [
      "{'eval_loss': 0.12780220806598663, 'eval_runtime': 0.021, 'eval_samples_per_second': 523.99, 'eval_steps_per_second': 95.271, 'epoch': 38.18}\n"
     ]
    },
    {
     "name": "stderr",
     "output_type": "stream",
     "text": [
      "\n",
      "  2%|▏         | 110/4700 [02:03<11:05,  6.90it/s]"
     ]
    },
    {
     "name": "stdout",
     "output_type": "stream",
     "text": [
      "{'loss': 0.0033, 'grad_norm': 0.12558111548423767, 'learning_rate': 1.0909090909090909e-05, 'epoch': 39.09}\n"
     ]
    },
    {
     "name": "stderr",
     "output_type": "stream",
     "text": [
      "\n",
      "\u001b[A\n",
      "                                                  \n",
      "\n",
      "  2%|▏         | 110/4700 [02:03<11:05,  6.90it/s]\n",
      "\u001b[A\n",
      "\u001b[A"
     ]
    },
    {
     "name": "stdout",
     "output_type": "stream",
     "text": [
      "{'eval_loss': 0.12713748216629028, 'eval_runtime': 0.0214, 'eval_samples_per_second': 513.796, 'eval_steps_per_second': 93.417, 'epoch': 39.09}\n"
     ]
    },
    {
     "name": "stderr",
     "output_type": "stream",
     "text": [
      "\n",
      "  2%|▏         | 110/4700 [02:04<11:05,  6.90it/s]"
     ]
    },
    {
     "name": "stdout",
     "output_type": "stream",
     "text": [
      "{'loss': 0.0031, 'grad_norm': 0.09710577130317688, 'learning_rate': 1e-05, 'epoch': 40.0}\n"
     ]
    },
    {
     "name": "stderr",
     "output_type": "stream",
     "text": [
      "\n",
      "\u001b[A\n",
      "                                                  \n",
      "\n",
      "  2%|▏         | 110/4700 [02:04<11:05,  6.90it/s]\n",
      "\u001b[A\n",
      "\u001b[A"
     ]
    },
    {
     "name": "stdout",
     "output_type": "stream",
     "text": [
      "{'eval_loss': 0.12617184221744537, 'eval_runtime': 0.0213, 'eval_samples_per_second': 517.467, 'eval_steps_per_second': 94.085, 'epoch': 40.0}\n"
     ]
    },
    {
     "name": "stderr",
     "output_type": "stream",
     "text": [
      "\n",
      "  2%|▏         | 110/4700 [02:05<11:05,  6.90it/s]"
     ]
    },
    {
     "name": "stdout",
     "output_type": "stream",
     "text": [
      "{'loss': 0.0031, 'grad_norm': 0.02607695758342743, 'learning_rate': 9.090909090909091e-06, 'epoch': 40.91}\n"
     ]
    },
    {
     "name": "stderr",
     "output_type": "stream",
     "text": [
      "\n",
      "\u001b[A\n",
      "                                                  \n",
      "\n",
      "  2%|▏         | 110/4700 [02:05<11:05,  6.90it/s]\n",
      "\u001b[A\n",
      "\u001b[A"
     ]
    },
    {
     "name": "stdout",
     "output_type": "stream",
     "text": [
      "{'eval_loss': 0.12594562768936157, 'eval_runtime': 0.0241, 'eval_samples_per_second': 455.966, 'eval_steps_per_second': 82.903, 'epoch': 40.91}\n"
     ]
    },
    {
     "name": "stderr",
     "output_type": "stream",
     "text": [
      "\n",
      "  2%|▏         | 110/4700 [02:05<11:05,  6.90it/s]"
     ]
    },
    {
     "name": "stdout",
     "output_type": "stream",
     "text": [
      "{'loss': 0.0027, 'grad_norm': 0.025154728442430496, 'learning_rate': 8.181818181818183e-06, 'epoch': 41.82}\n"
     ]
    },
    {
     "name": "stderr",
     "output_type": "stream",
     "text": [
      "\n",
      "\u001b[A\n",
      "                                                  \n",
      "\n",
      "  2%|▏         | 110/4700 [02:05<11:05,  6.90it/s]\n",
      "\u001b[A\n",
      "\u001b[A"
     ]
    },
    {
     "name": "stdout",
     "output_type": "stream",
     "text": [
      "{'eval_loss': 0.12642765045166016, 'eval_runtime': 0.0216, 'eval_samples_per_second': 510.098, 'eval_steps_per_second': 92.745, 'epoch': 41.82}\n"
     ]
    },
    {
     "name": "stderr",
     "output_type": "stream",
     "text": [
      "\n",
      "  2%|▏         | 110/4700 [02:06<11:05,  6.90it/s]"
     ]
    },
    {
     "name": "stdout",
     "output_type": "stream",
     "text": [
      "{'loss': 0.0026, 'grad_norm': 0.07369844615459442, 'learning_rate': 7.272727272727272e-06, 'epoch': 42.73}\n"
     ]
    },
    {
     "name": "stderr",
     "output_type": "stream",
     "text": [
      "\n",
      "\u001b[A\n",
      "                                                  \n",
      "\n",
      "  2%|▏         | 110/4700 [02:06<11:05,  6.90it/s]\n",
      "\u001b[A\n",
      "\u001b[A"
     ]
    },
    {
     "name": "stdout",
     "output_type": "stream",
     "text": [
      "{'eval_loss': 0.12733614444732666, 'eval_runtime': 0.0216, 'eval_samples_per_second': 508.832, 'eval_steps_per_second': 92.515, 'epoch': 42.73}\n"
     ]
    },
    {
     "name": "stderr",
     "output_type": "stream",
     "text": [
      "\n",
      "  2%|▏         | 110/4700 [02:07<11:05,  6.90it/s]"
     ]
    },
    {
     "name": "stdout",
     "output_type": "stream",
     "text": [
      "{'loss': 0.0025, 'grad_norm': 0.028832614421844482, 'learning_rate': 6.363636363636363e-06, 'epoch': 43.64}\n"
     ]
    },
    {
     "name": "stderr",
     "output_type": "stream",
     "text": [
      "\n",
      "\u001b[A\n",
      "                                                  \n",
      "\n",
      "  2%|▏         | 110/4700 [02:07<11:05,  6.90it/s]\n",
      "\u001b[A\n",
      "\u001b[A"
     ]
    },
    {
     "name": "stdout",
     "output_type": "stream",
     "text": [
      "{'eval_loss': 0.12790654599666595, 'eval_runtime': 0.0217, 'eval_samples_per_second': 506.131, 'eval_steps_per_second': 92.024, 'epoch': 43.64}\n"
     ]
    },
    {
     "name": "stderr",
     "output_type": "stream",
     "text": [
      "\n",
      "  2%|▏         | 110/4700 [02:07<11:05,  6.90it/s]"
     ]
    },
    {
     "name": "stdout",
     "output_type": "stream",
     "text": [
      "{'loss': 0.0023, 'grad_norm': 0.032004013657569885, 'learning_rate': 5.4545454545454545e-06, 'epoch': 44.55}\n"
     ]
    },
    {
     "name": "stderr",
     "output_type": "stream",
     "text": [
      "\n",
      "\u001b[A\n",
      "                                                  \n",
      "\n",
      "  2%|▏         | 110/4700 [02:07<11:05,  6.90it/s]\n",
      "\u001b[A\n",
      "\u001b[A"
     ]
    },
    {
     "name": "stdout",
     "output_type": "stream",
     "text": [
      "{'eval_loss': 0.1283484846353531, 'eval_runtime': 0.0209, 'eval_samples_per_second': 526.147, 'eval_steps_per_second': 95.663, 'epoch': 44.55}\n"
     ]
    },
    {
     "name": "stderr",
     "output_type": "stream",
     "text": [
      "\n",
      "  2%|▏         | 110/4700 [02:08<11:05,  6.90it/s]"
     ]
    },
    {
     "name": "stdout",
     "output_type": "stream",
     "text": [
      "{'loss': 0.0027, 'grad_norm': 0.03570945933461189, 'learning_rate': 4.5454545454545455e-06, 'epoch': 45.45}\n"
     ]
    },
    {
     "name": "stderr",
     "output_type": "stream",
     "text": [
      "\n",
      "\u001b[A\n",
      "                                                  \n",
      "\n",
      "  2%|▏         | 110/4700 [02:08<11:05,  6.90it/s]\n",
      "\u001b[A\n",
      "\u001b[A"
     ]
    },
    {
     "name": "stdout",
     "output_type": "stream",
     "text": [
      "{'eval_loss': 0.12987563014030457, 'eval_runtime': 0.0221, 'eval_samples_per_second': 497.556, 'eval_steps_per_second': 90.465, 'epoch': 45.45}\n"
     ]
    },
    {
     "name": "stderr",
     "output_type": "stream",
     "text": [
      "\n",
      "  2%|▏         | 110/4700 [02:10<11:05,  6.90it/s]"
     ]
    },
    {
     "name": "stdout",
     "output_type": "stream",
     "text": [
      "{'loss': 0.0031, 'grad_norm': 0.022708959877490997, 'learning_rate': 3.636363636363636e-06, 'epoch': 46.36}\n"
     ]
    },
    {
     "name": "stderr",
     "output_type": "stream",
     "text": [
      "\n",
      "\u001b[A\n",
      "                                                  \n",
      "\n",
      "  2%|▏         | 110/4700 [02:10<11:05,  6.90it/s]\n",
      "\u001b[A\n",
      "\u001b[A"
     ]
    },
    {
     "name": "stdout",
     "output_type": "stream",
     "text": [
      "{'eval_loss': 0.13074548542499542, 'eval_runtime': 0.0223, 'eval_samples_per_second': 492.237, 'eval_steps_per_second': 89.498, 'epoch': 46.36}\n"
     ]
    },
    {
     "name": "stderr",
     "output_type": "stream",
     "text": [
      "\n",
      "  2%|▏         | 110/4700 [02:10<11:05,  6.90it/s]"
     ]
    },
    {
     "name": "stdout",
     "output_type": "stream",
     "text": [
      "{'loss': 0.0027, 'grad_norm': 0.10688162595033646, 'learning_rate': 2.7272727272727272e-06, 'epoch': 47.27}\n"
     ]
    },
    {
     "name": "stderr",
     "output_type": "stream",
     "text": [
      "\n",
      "\u001b[A\n",
      "                                                  \n",
      "\n",
      "  2%|▏         | 110/4700 [02:10<11:05,  6.90it/s]\n",
      "\u001b[A\n",
      "\u001b[A"
     ]
    },
    {
     "name": "stdout",
     "output_type": "stream",
     "text": [
      "{'eval_loss': 0.13109885156154633, 'eval_runtime': 0.0213, 'eval_samples_per_second': 516.638, 'eval_steps_per_second': 93.934, 'epoch': 47.27}\n"
     ]
    },
    {
     "name": "stderr",
     "output_type": "stream",
     "text": [
      "\n",
      "  2%|▏         | 110/4700 [02:11<11:05,  6.90it/s]"
     ]
    },
    {
     "name": "stdout",
     "output_type": "stream",
     "text": [
      "{'loss': 0.0027, 'grad_norm': 0.03206333890557289, 'learning_rate': 1.818181818181818e-06, 'epoch': 48.18}\n"
     ]
    },
    {
     "name": "stderr",
     "output_type": "stream",
     "text": [
      "\n",
      "\u001b[A\n",
      "                                                  \n",
      "\n",
      "  2%|▏         | 110/4700 [02:11<11:05,  6.90it/s]\n",
      "\u001b[A\n",
      "\u001b[A"
     ]
    },
    {
     "name": "stdout",
     "output_type": "stream",
     "text": [
      "{'eval_loss': 0.1307678073644638, 'eval_runtime': 0.0223, 'eval_samples_per_second': 494.108, 'eval_steps_per_second': 89.838, 'epoch': 48.18}\n"
     ]
    },
    {
     "name": "stderr",
     "output_type": "stream",
     "text": [
      "\n",
      "  2%|▏         | 110/4700 [02:12<11:05,  6.90it/s]"
     ]
    },
    {
     "name": "stdout",
     "output_type": "stream",
     "text": [
      "{'loss': 0.0022, 'grad_norm': 0.03838884085416794, 'learning_rate': 9.09090909090909e-07, 'epoch': 49.09}\n"
     ]
    },
    {
     "name": "stderr",
     "output_type": "stream",
     "text": [
      "\n",
      "\u001b[A\n",
      "                                                  \n",
      "\n",
      "  2%|▏         | 110/4700 [02:12<11:05,  6.90it/s]\n",
      "\u001b[A\n",
      "\u001b[A"
     ]
    },
    {
     "name": "stdout",
     "output_type": "stream",
     "text": [
      "{'eval_loss': 0.13034141063690186, 'eval_runtime': 0.0222, 'eval_samples_per_second': 496.57, 'eval_steps_per_second': 90.286, 'epoch': 49.09}\n"
     ]
    },
    {
     "name": "stderr",
     "output_type": "stream",
     "text": [
      "\n",
      "  2%|▏         | 110/4700 [02:12<11:05,  6.90it/s]"
     ]
    },
    {
     "name": "stdout",
     "output_type": "stream",
     "text": [
      "{'loss': 0.0027, 'grad_norm': 0.031162744387984276, 'learning_rate': 0.0, 'epoch': 50.0}\n"
     ]
    },
    {
     "name": "stderr",
     "output_type": "stream",
     "text": [
      "\n",
      "\u001b[A\n",
      "                                                  \n",
      "\n",
      "  2%|▏         | 110/4700 [02:12<11:05,  6.90it/s]\n",
      "\u001b[A\n",
      "\u001b[A"
     ]
    },
    {
     "name": "stdout",
     "output_type": "stream",
     "text": [
      "{'eval_loss': 0.130349799990654, 'eval_runtime': 0.0205, 'eval_samples_per_second': 536.007, 'eval_steps_per_second': 97.456, 'epoch': 50.0}\n"
     ]
    },
    {
     "name": "stderr",
     "output_type": "stream",
     "text": [
      "\n",
      "100%|██████████| 550/550 [00:40<00:00, 13.65it/s]]"
     ]
    },
    {
     "name": "stdout",
     "output_type": "stream",
     "text": [
      "{'train_runtime': 40.2993, 'train_samples_per_second': 102.979, 'train_steps_per_second': 13.648, 'train_loss': 0.10506607350977984, 'epoch': 50.0}\n"
     ]
    },
    {
     "name": "stderr",
     "output_type": "stream",
     "text": [
      "\n"
     ]
    },
    {
     "data": {
      "text/plain": [
       "('./intent_model/tokenizer_config.json',\n",
       " './intent_model/special_tokens_map.json',\n",
       " './intent_model/vocab.txt',\n",
       " './intent_model/added_tokens.json')"
      ]
     },
     "execution_count": 28,
     "metadata": {},
     "output_type": "execute_result"
    }
   ],
   "source": [
    "from datasets import Dataset\n",
    "import pandas as pd\n",
    "from transformers import BertTokenizer, DistilBertForSequenceClassification, Trainer, TrainingArguments\n",
    "from transformers import DataCollatorWithPadding\n",
    "import torch\n",
    "\n",
    "# Load dataset\n",
    "# datafile = '../data/Bitext.csv'\n",
    "datafile = './data/bert_input.csv'\n",
    "df = pd.read_csv(datafile)\n",
    "df = df[['instruction', 'intent']]\n",
    "print(len(df))\n",
    "\n",
    "# Convert to Hugging Face dataset\n",
    "intent_dataset = Dataset.from_pandas(df)\n",
    "\n",
    "# get device\n",
    "device = torch.device('cuda' if torch.cuda.is_available() else 'cpu')\n",
    "print(f'Using device: {device}')\n",
    "\n",
    "# Initialize tokenizer\n",
    "tokenizer = BertTokenizer.from_pretrained('bert-base-uncased')\n",
    "\n",
    "def tokenize_function(example):\n",
    "    return tokenizer(example['instruction'], padding='max_length', truncation=True, max_length=128)\n",
    "\n",
    "# Apply tokenization to the dataset\n",
    "intent_dataset = intent_dataset.map(tokenize_function, remove_columns=[\"instruction\"])\n",
    "\n",
    "# Map 'intent' to numerical labels\n",
    "intent_labels = {intent: idx for idx, intent in enumerate(df['intent'].unique())}\n",
    "intent_dataset = intent_dataset.map(lambda x: {'labels': intent_labels[x['intent']]})\n",
    "\n",
    "# Number of intents\n",
    "num_intents = len(df['intent'].unique())\n",
    "print(num_intents)\n",
    "\n",
    "# Load DistilBERT model for sequence classification\n",
    "model = DistilBertForSequenceClassification.from_pretrained('distilbert-base-uncased', num_labels=num_intents)\n",
    "\n",
    "# Data collator (use for sequence classification, handles padding)\n",
    "data_collator = DataCollatorWithPadding(tokenizer, padding='max_length', max_length=128)\n",
    "\n",
    "# Define training arguments\n",
    "training_args = TrainingArguments(\n",
    "    output_dir='./intent_model',\n",
    "    save_strategy=\"steps\",\n",
    "    save_steps=500,  # Save model every 500 steps\n",
    "    logging_dir='./logs',\n",
    "    logging_steps=10,  # Log training loss every 500 steps\n",
    "    evaluation_strategy=\"steps\",  # Evaluate every 500 steps\n",
    "    eval_steps=10,  # Perform evaluation every 500 steps\n",
    "    save_total_limit=2,\n",
    "    num_train_epochs=50,\n",
    "    per_device_train_batch_size=8,\n",
    "    disable_tqdm=False,\n",
    "    load_best_model_at_end=True,\n",
    ")\n",
    "\n",
    "# split dataset\n",
    "# Initial train/test split\n",
    "train_val_split = intent_dataset.train_test_split(test_size=0.1)\n",
    "intent_dataset_train = train_val_split['train']\n",
    "intent_dataset_val = train_val_split['test']\n",
    "\n",
    "# Further split the training set into train and test sets\n",
    "train_test_split = intent_dataset_train.train_test_split(test_size=0.1)\n",
    "intent_dataset_train = train_test_split['train']\n",
    "intent_dataset_test = train_test_split['test']\n",
    "\n",
    "# Trainer setup\n",
    "trainer = Trainer(\n",
    "    model=model,\n",
    "    args=training_args,\n",
    "    train_dataset=intent_dataset_train,\n",
    "    eval_dataset=intent_dataset_val,\n",
    "    data_collator=data_collator,\n",
    "    callbacks=[aligned_loss_callback]\n",
    ")\n",
    "\n",
    "# Train the model with tqdm progress bar\n",
    "trainer.train()\n",
    "tokenizer.save_pretrained('./intent_model')"
   ]
  },
  {
   "cell_type": "code",
   "execution_count": 29,
   "metadata": {},
   "outputs": [
    {
     "data": {
      "text/plain": [
       "'../backend/chatbot/intent_model'"
      ]
     },
     "execution_count": 29,
     "metadata": {},
     "output_type": "execute_result"
    }
   ],
   "source": [
    "# copy model to backend\n",
    "import shutil\n",
    "\n",
    "shutil.rmtree(target_dir + 'intent_model', ignore_errors=True)\n",
    "\n",
    "shutil.copytree('./intent_model', target_dir + 'intent_model')"
   ]
  },
  {
   "cell_type": "code",
   "execution_count": 30,
   "metadata": {},
   "outputs": [
    {
     "name": "stdout",
     "output_type": "stream",
     "text": [
      "55 55 55\n"
     ]
    },
    {
     "data": {
      "image/png": "[encoded data removed]",
      "text/plain": [
       "<Figure size 640x480 with 1 Axes>"
      ]
     },
     "metadata": {},
     "output_type": "display_data"
    }
   ],
   "source": [
    "import numpy as np\n",
    "import matplotlib.pyplot as plt\n",
    "\n",
    "# Align losses\n",
    "validation_steps = np.array(aligned_loss_callback.eval_steps)\n",
    "train_losses = np.array(aligned_loss_callback.train_losses)\n",
    "eval_losses = np.array(aligned_loss_callback.eval_losses)\n",
    "print(len(validation_steps), len(train_losses), len(eval_losses))\n",
    "\n",
    "# Plot aligned losses\n",
    "plt.plot(validation_steps, train_losses, label='Train')\n",
    "plt.plot(validation_steps, eval_losses, label='Validation')\n",
    "plt.title('Training and Validation Losses[Intent Classification]')\n",
    "\n",
    "plt.xlabel('Steps')\n",
    "plt.ylabel('Loss')\n",
    "plt.legend()\n",
    "plt.savefig('./images/intent_losses.png')"
   ]
  },
  {
   "cell_type": "code",
   "execution_count": 31,
   "metadata": {},
   "outputs": [
    {
     "data": {
      "text/plain": [
       "'../backend/chatbot/intent_model/intent_labels.json'"
      ]
     },
     "execution_count": 31,
     "metadata": {},
     "output_type": "execute_result"
    }
   ],
   "source": [
    "# store the intent labels\n",
    "import json\n",
    "with open('./intent_model/intent_labels.json', 'w') as f:\n",
    "    json.dump(intent_labels, f)\n",
    "\n",
    "# copy this file to backend\n",
    "shutil.copy('./intent_model/intent_labels.json', target_dir + 'intent_model/intent_labels.json')"
   ]
  },
  {
   "cell_type": "code",
   "execution_count": 32,
   "metadata": {},
   "outputs": [
    {
     "name": "stdout",
     "output_type": "stream",
     "text": [
      "Predicted intent ID: 2\n",
      "Predicted intent: list_orders\n"
     ]
    }
   ],
   "source": [
    "# Function to test the trained model\n",
    "def test_model(input_text, model, tokenizer):\n",
    "    # Tokenize the input text without 'token_type_ids'\n",
    "    inputs = tokenizer(input_text, return_tensors='pt', padding=True, truncation=True, max_length=128)\n",
    "    \n",
    "    # Remove 'token_type_ids' from the input if it exists\n",
    "    inputs.pop('token_type_ids', None)\n",
    "    \n",
    "    # Move tensors to the appropriate device (GPU if available)\n",
    "    device = 'cuda' if torch.cuda.is_available() else 'cpu'\n",
    "    model.to(device)\n",
    "    inputs = {key: value.to(device) for key, value in inputs.items()}\n",
    "    \n",
    "    # Make prediction\n",
    "    with torch.no_grad():\n",
    "        outputs = model(**inputs)\n",
    "    \n",
    "    # Get predicted label (the class with the highest score)\n",
    "    logits = outputs.logits\n",
    "    predicted_class_id = torch.argmax(logits, dim=-1).item()\n",
    "    \n",
    "    return predicted_class_id\n",
    "\n",
    "# Test the trained model with a sample input\n",
    "input_text = \"[INT] [BOT] [USR] Hey i want to know list my orders\"\n",
    "predicted_class_id = test_model(input_text, model, tokenizer)\n",
    "\n",
    "# Print the predicted intent\n",
    "print(f\"Predicted intent ID: {predicted_class_id}\")\n",
    "\n",
    "# Optionally map the predicted intent ID back to the intent label\n",
    "# get key from value\n",
    "predicted_intent = list(intent_labels.keys())[list(intent_labels.values()).index(predicted_class_id)]\n",
    "print(f\"Predicted intent: {predicted_intent}\")\n"
   ]
  },
  {
   "cell_type": "code",
   "execution_count": 33,
   "metadata": {},
   "outputs": [
    {
     "name": "stdout",
     "output_type": "stream",
     "text": [
      "60\n",
      "Predicted intent ID: 1\n",
      "Predicted intent: give_order_id\n",
      "Instruction: [INT] [BOT]  [USR] Can you check my order 12345?\n",
      "True intent: track_order\n",
      "Predicted intent: track_order\n",
      "\n",
      "Instruction: [INT] cancel_order [BOT] Please confirm the cancellation of your last order. [USR] Yes, confirm it.\n",
      "True intent: confirm_command\n",
      "Predicted intent: confirm_command\n",
      "\n",
      "Instruction: [INT] [BOT]  [USR] Cancel the last item I ordered.\n",
      "True intent: cancel_order\n",
      "Predicted intent: cancel_order\n",
      "\n",
      "Instruction: [INT] give_order_id [BOT] Are you sure? [USR] Yes I am sure!\n",
      "True intent: confirm_command\n",
      "Predicted intent: confirm_command\n",
      "\n",
      "Instruction: [INT] list_orders [BOT] Do you need to filter anything? [USR] Yeah give me just 32 of them\n",
      "True intent: give_list_order_params\n",
      "Predicted intent: list_orders\n",
      "\n",
      "Instruction: [INT] cancel_order [BOT] Can you confirm the cancellation of your most recent order? [USR] No, don’t proceed with it.\n",
      "True intent: confirm_command\n",
      "Predicted intent: confirm_command\n",
      "\n",
      "Instruction: [INT] cancel_order [BOT] Are you sure you want to cancel order 112233? [USR] No, leave it as is.\n",
      "True intent: confirm_command\n",
      "Predicted intent: confirm_command\n",
      "\n",
      "Instruction: [INT] [BOT]  [USR] Can you list some of my previous orders?\n",
      "True intent: list_orders\n",
      "Predicted intent: list_orders\n",
      "\n",
      "Instruction: [INT] track_order [BOT] For which order would you like an update? [USR] Order ID is 5643.\n",
      "True intent: give_order_id\n",
      "Predicted intent: give_order_id\n",
      "\n",
      "Instruction: [INT] [BOT]  [USR] Hey can i get the status of my latest order?\n",
      "True intent: track_order\n",
      "Predicted intent: track_order\n",
      "\n",
      "Instruction: [INT] track_order [BOT] Please provide your order number. [USR] It’s 23456.\n",
      "True intent: give_order_id\n",
      "Predicted intent: give_order_id\n",
      "\n",
      "Instruction: [INT] [BOT]  [USR] I was wondering where my 121243 order is?\n",
      "True intent: track_order\n",
      "Predicted intent: track_order\n",
      "\n",
      "Instruction: [INT] [BOT]  [USR] Please cancel my latest order.\n",
      "True intent: cancel_order\n",
      "Predicted intent: cancel_order\n",
      "\n",
      "Instruction: [INT] cancel_order [BOT] Can you confirm that you’d like to cancel order 776655? [USR] No, I’d like to keep it.\n",
      "True intent: confirm_command\n",
      "Predicted intent: confirm_command\n",
      "\n",
      "Instruction: [INT] cancel_order [BOT] Could you confirm cancellation of order number 998877? [USR] Yes, please cancel it.\n",
      "True intent: confirm_command\n",
      "Predicted intent: confirm_command\n",
      "\n"
     ]
    }
   ],
   "source": [
    "# Load the model\n",
    "# model = DistilBertForSequenceClassification.from_pretrained('./results/checkpoint-1500')\n",
    "\n",
    "# Load the tokenizer\n",
    "tokenizer = BertTokenizer.from_pretrained('bert-base-uncased')\n",
    "\n",
    "# Test the trained model with a sample input\n",
    "input_text = \"[INT] track_order [BOT] Please share the order ID [USR] 1231\"\n",
    "print(len(input_text))\n",
    "\n",
    "# Get the predicted intent ID\n",
    "predicted_class_id = test_model(input_text, model, tokenizer)\n",
    "\n",
    "# Print the predicted intent\n",
    "print(f\"Predicted intent ID: {predicted_class_id}\")\n",
    "print(f\"Predicted intent: {list(intent_labels.keys())[list(intent_labels.values()).index(predicted_class_id)]}\")\n",
    "\n",
    "# print probability scores of other intents\n",
    "def get_intent_probs(input_text, model, tokenizer):\n",
    "    # Tokenize the input text without 'token_type_ids'\n",
    "    inputs = tokenizer(input_text, return_tensors='pt', padding=True, truncation=True, max_length=128)\n",
    "    \n",
    "    # Remove 'token_type_ids' from the input if it exists\n",
    "    inputs.pop('token_type_ids', None)\n",
    "    \n",
    "    # Move tensors to the appropriate device (GPU if available)\n",
    "    device = 'cuda' if torch.cuda.is_available() else 'cpu'\n",
    "    model.to(device)\n",
    "    inputs = {key: value.to(device) for key, value in inputs.items()}\n",
    "    \n",
    "    # Make prediction\n",
    "    with torch.no_grad():\n",
    "        outputs = model(**inputs)\n",
    "    \n",
    "    # Get predicted label (the class with the highest score)\n",
    "    logits = outputs.logits\n",
    "    probs = torch.softmax(logits, dim=-1)\n",
    "    \n",
    "    return probs\n",
    "\n",
    "# Get the probability scores for all intents\n",
    "probs = get_intent_probs(input_text, model, tokenizer)\n",
    "\n",
    "test_df = pd.read_csv(datafile)\n",
    "test_df = test_df[['instruction', 'intent']]\n",
    "\n",
    "# randomly take 15 samples\n",
    "test_df = test_df.sample(15)\n",
    "\n",
    "# Get the predicted intent ID for each sample\n",
    "test_df['predicted_intent_id'] = test_df['instruction'].apply(lambda x: test_model(x, model, tokenizer))\n",
    "\n",
    "# Map the predicted intent ID back to the intent label\n",
    "test_df['predicted_intent'] = test_df['predicted_intent_id'].apply(lambda x: list(intent_labels.keys())[list(intent_labels.values()).index(x)])\n",
    "\n",
    "for idx, row in test_df.iterrows():\n",
    "    print(f\"Instruction: {row['instruction']}\")\n",
    "    print(f\"True intent: {row['intent']}\")\n",
    "    print(f\"Predicted intent: {row['predicted_intent']}\")\n",
    "    print('')\n"
   ]
  },
  {
   "cell_type": "markdown",
   "metadata": {},
   "source": [
    "# NER"
   ]
  },
  {
   "cell_type": "code",
   "execution_count": 34,
   "metadata": {},
   "outputs": [
    {
     "name": "stdout",
     "output_type": "stream",
     "text": [
      "Label to ID Mapping: {'B-AFFIRMATION': 0, 'B-CONFIRMATION': 1, 'B-COUNT': 2, 'B-END_DATE': 3, 'B-ORD': 4, 'B-REASON': 5, 'B-START_DATE': 6, 'I-END_DATE': 7, 'I-REASON': 8, 'I-START_DATE': 9, 'O': 10}\n"
     ]
    },
    {
     "name": "stderr",
     "output_type": "stream",
     "text": [
      "Map: 100%|██████████| 104/104 [00:00<00:00, 8061.35 examples/s]\n"
     ]
    }
   ],
   "source": [
    "from transformers import BertTokenizerFast\n",
    "from datasets import Dataset\n",
    "import pandas as pd\n",
    "\n",
    "# Initialize tokenizer\n",
    "tokenizer = BertTokenizerFast.from_pretrained(\"bert-base-uncased\")\n",
    "special_tokens = [\"[INT]\", \"[BOT]\", \"[USR]\"]\n",
    "tokenizer.add_special_tokens({\"additional_special_tokens\": special_tokens})\n",
    "\n",
    "\n",
    "# Load the data\n",
    "data = pd.read_csv('./data/ner_data.csv')\n",
    "data[\"labels\"] = data[\"labels\"].apply(eval)\n",
    "\n",
    "# Extract unique labels and create a mapping\n",
    "unique_labels = sorted({label for labels in data[\"labels\"] for label in labels})\n",
    "label_to_id = {label: idx for idx, label in enumerate(unique_labels)}\n",
    "\n",
    "print(\"Label to ID Mapping:\", label_to_id)\n",
    "\n",
    "# Convert DataFrame to list of dictionaries for Dataset.from_list\n",
    "data = data.to_dict(orient=\"records\")\n",
    "\n",
    "# Tokenize and align labels\n",
    "def tokenize_and_align_labels(examples):\n",
    "    # Tokenize the text\n",
    "    tokenized_inputs = tokenizer(examples[\"instruction\"], truncation=True, is_split_into_words=False)\n",
    "    tokens = tokenizer.convert_ids_to_tokens(tokenized_inputs[\"input_ids\"])\n",
    "    word_ids = tokenized_inputs.word_ids()\n",
    "    previous_word_idx = None\n",
    "    label_ids = []\n",
    "    labels = examples[\"labels\"]\n",
    "\n",
    "    # print(f\"{'Token':<15} {'Word':<15} {'Label':<15}\")\n",
    "\n",
    "    for i, word_idx in enumerate(word_ids):\n",
    "        token = tokens[i]  # Current token\n",
    "\n",
    "        if word_idx is None:  # Special tokens ([CLS], [SEP], padding)\n",
    "            word = \"N/A\"\n",
    "            label = \"Special\"\n",
    "            label_ids.append(-100)\n",
    "        elif word_idx != previous_word_idx:  # First subword\n",
    "            word = examples[\"instruction\"][word_idx]\n",
    "            label = labels[word_idx]\n",
    "            label_ids.append(label_to_id[label])\n",
    "        else:  # Subword token\n",
    "            word = examples[\"instruction\"][word_idx]\n",
    "            label = labels[word_idx]\n",
    "            token = f\"Subword: {token} (Part of: {word})\"\n",
    "            label_ids.append(-100)\n",
    "\n",
    "        # Print token, word, and label in the same line\n",
    "        # print(f\"{token:<15} {word:<15} {label:<15}\")\n",
    "        previous_word_idx = word_idx\n",
    "\n",
    "    tokenized_inputs[\"labels\"] = label_ids\n",
    "    return tokenized_inputs\n",
    "\n",
    "# Convert to Hugging Face Dataset\n",
    "dataset = Dataset.from_list(data)\n",
    "\n",
    "# Map tokenizer to the dataset\n",
    "dataset = dataset.map(tokenize_and_align_labels)\n"
   ]
  },
  {
   "cell_type": "code",
   "execution_count": 35,
   "metadata": {},
   "outputs": [],
   "source": [
    "# store the label_to_id mapping\n",
    "import json\n",
    "with open('./ner_model/entity_labels.json', 'w') as f:\n",
    "    json.dump(label_to_id, f)"
   ]
  },
  {
   "cell_type": "code",
   "execution_count": 36,
   "metadata": {},
   "outputs": [
    {
     "name": "stdout",
     "output_type": "stream",
     "text": [
      "Label to ID Mapping: {'B-AFFIRMATION': 0, 'B-CONFIRMATION': 1, 'B-COUNT': 2, 'B-END_DATE': 3, 'B-ORD': 4, 'B-REASON': 5, 'B-START_DATE': 6, 'I-END_DATE': 7, 'I-REASON': 8, 'I-START_DATE': 9, 'O': 10}\n"
     ]
    },
    {
     "name": "stderr",
     "output_type": "stream",
     "text": [
      "Map: 100%|██████████| 93/93 [00:00<00:00, 7590.69 examples/s]\n",
      "Map: 100%|██████████| 11/11 [00:00<00:00, 3029.37 examples/s]\n",
      "Some weights of BertForTokenClassification were not initialized from the model checkpoint at bert-base-uncased and are newly initialized: ['classifier.bias', 'classifier.weight']\n",
      "You should probably TRAIN this model on a down-stream task to be able to use it for predictions and inference.\n",
      "/home/harshit/IITH/Sem7/CyberSecurityAndAI/project/cyber_security_project/venv/lib/python3.12/site-packages/transformers/training_args.py:1568: FutureWarning: `evaluation_strategy` is deprecated and will be removed in version 4.46 of 🤗 Transformers. Use `eval_strategy` instead\n",
      "  warnings.warn(\n",
      "/tmp/ipykernel_25807/2903455539.py:76: FutureWarning: `tokenizer` is deprecated and will be removed in version 5.0.0 for `Trainer.__init__`. Use `processing_class` instead.\n",
      "  trainer = Trainer(\n",
      "                                                  \n",
      "  2%|▏         | 110/4700 [02:19<11:05,  6.90it/s]"
     ]
    },
    {
     "name": "stdout",
     "output_type": "stream",
     "text": [
      "{'loss': 1.939, 'grad_norm': 11.833813667297363, 'learning_rate': 9.97872340425532e-06, 'epoch': 0.21}\n"
     ]
    },
    {
     "name": "stderr",
     "output_type": "stream",
     "text": [
      "\n",
      "\u001b[A\n",
      "\n",
      "                                                  \n",
      "\u001b[A                                              \n",
      "  2%|▏         | 110/4700 [02:19<11:05,  6.90it/s]\n",
      "\u001b[A"
     ]
    },
    {
     "name": "stdout",
     "output_type": "stream",
     "text": [
      "{'eval_loss': 1.252511978149414, 'eval_runtime': 0.0344, 'eval_samples_per_second': 320.1, 'eval_steps_per_second': 174.6, 'epoch': 0.21}\n"
     ]
    },
    {
     "name": "stderr",
     "output_type": "stream",
     "text": [
      "                                                  \n",
      "  2%|▏         | 110/4700 [02:21<11:05,  6.90it/s]"
     ]
    },
    {
     "name": "stdout",
     "output_type": "stream",
     "text": [
      "{'loss': 0.8872, 'grad_norm': 5.8260498046875, 'learning_rate': 9.957446808510639e-06, 'epoch': 0.43}\n"
     ]
    },
    {
     "name": "stderr",
     "output_type": "stream",
     "text": [
      "\n",
      "\u001b[A\n",
      "\n",
      "                                                  \n",
      "\u001b[A                                              \n",
      "  2%|▏         | 110/4700 [02:21<11:05,  6.90it/s]\n",
      "\u001b[A"
     ]
    },
    {
     "name": "stdout",
     "output_type": "stream",
     "text": [
      "{'eval_loss': 0.38449764251708984, 'eval_runtime': 0.0273, 'eval_samples_per_second': 402.272, 'eval_steps_per_second': 219.421, 'epoch': 0.43}\n"
     ]
    },
    {
     "name": "stderr",
     "output_type": "stream",
     "text": [
      "                                                  \n",
      "  2%|▏         | 110/4700 [02:23<11:05,  6.90it/s]"
     ]
    },
    {
     "name": "stdout",
     "output_type": "stream",
     "text": [
      "{'loss': 0.5857, 'grad_norm': 2.212134838104248, 'learning_rate': 9.936170212765958e-06, 'epoch': 0.64}\n"
     ]
    },
    {
     "name": "stderr",
     "output_type": "stream",
     "text": [
      "\n",
      "\u001b[A\n",
      "\n",
      "                                                  \n",
      "\u001b[A                                              \n",
      "  2%|▏         | 110/4700 [02:23<11:05,  6.90it/s]\n",
      "\u001b[A"
     ]
    },
    {
     "name": "stdout",
     "output_type": "stream",
     "text": [
      "{'eval_loss': 0.3017134666442871, 'eval_runtime': 0.0278, 'eval_samples_per_second': 395.675, 'eval_steps_per_second': 215.823, 'epoch': 0.64}\n"
     ]
    },
    {
     "name": "stderr",
     "output_type": "stream",
     "text": [
      "                                                  \n",
      "  2%|▏         | 110/4700 [02:25<11:05,  6.90it/s]"
     ]
    },
    {
     "name": "stdout",
     "output_type": "stream",
     "text": [
      "{'loss': 0.3203, 'grad_norm': 3.0291926860809326, 'learning_rate': 9.914893617021277e-06, 'epoch': 0.85}\n"
     ]
    },
    {
     "name": "stderr",
     "output_type": "stream",
     "text": [
      "\n",
      "\u001b[A\n",
      "\n",
      "                                                  \n",
      "\u001b[A                                              \n",
      "  2%|▏         | 110/4700 [02:25<11:05,  6.90it/s]\n",
      "\u001b[A"
     ]
    },
    {
     "name": "stdout",
     "output_type": "stream",
     "text": [
      "{'eval_loss': 0.25034913420677185, 'eval_runtime': 0.0288, 'eval_samples_per_second': 382.454, 'eval_steps_per_second': 208.611, 'epoch': 0.85}\n"
     ]
    },
    {
     "name": "stderr",
     "output_type": "stream",
     "text": [
      "                                                  \n",
      "  2%|▏         | 110/4700 [02:27<11:05,  6.90it/s]"
     ]
    },
    {
     "name": "stdout",
     "output_type": "stream",
     "text": [
      "{'loss': 0.3041, 'grad_norm': 1.6541122198104858, 'learning_rate': 9.893617021276596e-06, 'epoch': 1.06}\n"
     ]
    },
    {
     "name": "stderr",
     "output_type": "stream",
     "text": [
      "\n",
      "\u001b[A\n",
      "\n",
      "                                                  \n",
      "\u001b[A                                              \n",
      "  2%|▏         | 110/4700 [02:27<11:05,  6.90it/s]\n",
      "\u001b[A"
     ]
    },
    {
     "name": "stdout",
     "output_type": "stream",
     "text": [
      "{'eval_loss': 0.20666584372520447, 'eval_runtime': 0.0258, 'eval_samples_per_second': 426.278, 'eval_steps_per_second': 232.515, 'epoch': 1.06}\n"
     ]
    },
    {
     "name": "stderr",
     "output_type": "stream",
     "text": [
      "                                                  \n",
      "  2%|▏         | 110/4700 [02:30<11:05,  6.90it/s]"
     ]
    },
    {
     "name": "stdout",
     "output_type": "stream",
     "text": [
      "{'loss': 0.5544, 'grad_norm': 7.551794052124023, 'learning_rate': 9.872340425531915e-06, 'epoch': 1.28}\n"
     ]
    },
    {
     "name": "stderr",
     "output_type": "stream",
     "text": [
      "\n",
      "\u001b[A\n",
      "\n",
      "                                                  \n",
      "\u001b[A                                              \n",
      "  2%|▏         | 110/4700 [02:30<11:05,  6.90it/s]\n",
      "\u001b[A"
     ]
    },
    {
     "name": "stdout",
     "output_type": "stream",
     "text": [
      "{'eval_loss': 0.17982688546180725, 'eval_runtime': 0.0305, 'eval_samples_per_second': 360.262, 'eval_steps_per_second': 196.507, 'epoch': 1.28}\n"
     ]
    },
    {
     "name": "stderr",
     "output_type": "stream",
     "text": [
      "                                                  \n",
      "  2%|▏         | 110/4700 [02:32<11:05,  6.90it/s]"
     ]
    },
    {
     "name": "stdout",
     "output_type": "stream",
     "text": [
      "{'loss': 0.2043, 'grad_norm': 1.3758814334869385, 'learning_rate': 9.851063829787235e-06, 'epoch': 1.49}\n"
     ]
    },
    {
     "name": "stderr",
     "output_type": "stream",
     "text": [
      "\n",
      "\u001b[A\n",
      "\n",
      "                                                  \n",
      "\u001b[A                                              \n",
      "  2%|▏         | 110/4700 [02:32<11:05,  6.90it/s]\n",
      "\u001b[A"
     ]
    },
    {
     "name": "stdout",
     "output_type": "stream",
     "text": [
      "{'eval_loss': 0.16369609534740448, 'eval_runtime': 0.0266, 'eval_samples_per_second': 413.536, 'eval_steps_per_second': 225.565, 'epoch': 1.49}\n"
     ]
    },
    {
     "name": "stderr",
     "output_type": "stream",
     "text": [
      "                                                  \n",
      "  2%|▏         | 110/4700 [02:35<11:05,  6.90it/s]"
     ]
    },
    {
     "name": "stdout",
     "output_type": "stream",
     "text": [
      "{'loss': 0.3005, 'grad_norm': 4.4817986488342285, 'learning_rate': 9.829787234042554e-06, 'epoch': 1.7}\n"
     ]
    },
    {
     "name": "stderr",
     "output_type": "stream",
     "text": [
      "\n",
      "\u001b[A\n",
      "\n",
      "                                                  \n",
      "\u001b[A                                              \n",
      "  2%|▏         | 110/4700 [02:35<11:05,  6.90it/s]\n",
      "\u001b[A"
     ]
    },
    {
     "name": "stdout",
     "output_type": "stream",
     "text": [
      "{'eval_loss': 0.15013669431209564, 'eval_runtime': 0.0278, 'eval_samples_per_second': 396.206, 'eval_steps_per_second': 216.112, 'epoch': 1.7}\n"
     ]
    },
    {
     "name": "stderr",
     "output_type": "stream",
     "text": [
      "                                                  \n",
      "  2%|▏         | 110/4700 [02:38<11:05,  6.90it/s]"
     ]
    },
    {
     "name": "stdout",
     "output_type": "stream",
     "text": [
      "{'loss': 0.1915, 'grad_norm': 0.47217434644699097, 'learning_rate': 9.808510638297873e-06, 'epoch': 1.91}\n"
     ]
    },
    {
     "name": "stderr",
     "output_type": "stream",
     "text": [
      "\n",
      "\u001b[A\n",
      "\n",
      "                                                  \n",
      "\u001b[A                                              \n",
      "  2%|▏         | 110/4700 [02:38<11:05,  6.90it/s]\n",
      "\u001b[A"
     ]
    },
    {
     "name": "stdout",
     "output_type": "stream",
     "text": [
      "{'eval_loss': 0.13845525681972504, 'eval_runtime': 0.0267, 'eval_samples_per_second': 411.342, 'eval_steps_per_second': 224.368, 'epoch': 1.91}\n"
     ]
    },
    {
     "name": "stderr",
     "output_type": "stream",
     "text": [
      "                                                  \n",
      "  2%|▏         | 110/4700 [02:40<11:05,  6.90it/s]"
     ]
    },
    {
     "name": "stdout",
     "output_type": "stream",
     "text": [
      "{'loss': 0.1385, 'grad_norm': 2.0030481815338135, 'learning_rate': 9.787234042553192e-06, 'epoch': 2.13}\n"
     ]
    },
    {
     "name": "stderr",
     "output_type": "stream",
     "text": [
      "\n",
      "\u001b[A\n",
      "\n",
      "                                                  \n",
      "\u001b[A                                               \n",
      "  2%|▏         | 110/4700 [02:40<11:05,  6.90it/s]\n",
      "\u001b[A"
     ]
    },
    {
     "name": "stdout",
     "output_type": "stream",
     "text": [
      "{'eval_loss': 0.11687219887971878, 'eval_runtime': 0.0281, 'eval_samples_per_second': 391.27, 'eval_steps_per_second': 213.42, 'epoch': 2.13}\n"
     ]
    },
    {
     "name": "stderr",
     "output_type": "stream",
     "text": [
      "                                                  \n",
      "  2%|▏         | 110/4700 [02:43<11:05,  6.90it/s]"
     ]
    },
    {
     "name": "stdout",
     "output_type": "stream",
     "text": [
      "{'loss': 0.213, 'grad_norm': 1.1908998489379883, 'learning_rate': 9.765957446808511e-06, 'epoch': 2.34}\n"
     ]
    },
    {
     "name": "stderr",
     "output_type": "stream",
     "text": [
      "\n",
      "\u001b[A\n",
      "\n",
      "                                                  \n",
      "\u001b[A                                               \n",
      "  2%|▏         | 110/4700 [02:43<11:05,  6.90it/s]\n",
      "\u001b[A"
     ]
    },
    {
     "name": "stdout",
     "output_type": "stream",
     "text": [
      "{'eval_loss': 0.1017613634467125, 'eval_runtime': 0.0286, 'eval_samples_per_second': 384.343, 'eval_steps_per_second': 209.642, 'epoch': 2.34}\n"
     ]
    },
    {
     "name": "stderr",
     "output_type": "stream",
     "text": [
      "                                                  \n",
      "  2%|▏         | 110/4700 [02:46<11:05,  6.90it/s]"
     ]
    },
    {
     "name": "stdout",
     "output_type": "stream",
     "text": [
      "{'loss': 0.1836, 'grad_norm': 4.60689640045166, 'learning_rate': 9.74468085106383e-06, 'epoch': 2.55}\n"
     ]
    },
    {
     "name": "stderr",
     "output_type": "stream",
     "text": [
      "\n",
      "\u001b[A\n",
      "\n",
      "                                                  \n",
      "\u001b[A                                               \n",
      "  2%|▏         | 110/4700 [02:46<11:05,  6.90it/s]\n",
      "\u001b[A"
     ]
    },
    {
     "name": "stdout",
     "output_type": "stream",
     "text": [
      "{'eval_loss': 0.11298763006925583, 'eval_runtime': 0.0259, 'eval_samples_per_second': 424.568, 'eval_steps_per_second': 231.582, 'epoch': 2.55}\n"
     ]
    },
    {
     "name": "stderr",
     "output_type": "stream",
     "text": [
      "                                                  \n",
      "  2%|▏         | 110/4700 [02:49<11:05,  6.90it/s]"
     ]
    },
    {
     "name": "stdout",
     "output_type": "stream",
     "text": [
      "{'loss': 0.1521, 'grad_norm': 2.5090346336364746, 'learning_rate': 9.723404255319149e-06, 'epoch': 2.77}\n"
     ]
    },
    {
     "name": "stderr",
     "output_type": "stream",
     "text": [
      "\n",
      "\u001b[A\n",
      "\n",
      "                                                  \n",
      "\u001b[A                                               \n",
      "  2%|▏         | 110/4700 [02:49<11:05,  6.90it/s]\n",
      "\u001b[A"
     ]
    },
    {
     "name": "stdout",
     "output_type": "stream",
     "text": [
      "{'eval_loss': 0.08949635177850723, 'eval_runtime': 0.0268, 'eval_samples_per_second': 410.35, 'eval_steps_per_second': 223.828, 'epoch': 2.77}\n"
     ]
    },
    {
     "name": "stderr",
     "output_type": "stream",
     "text": [
      "                                                  \n",
      "  2%|▏         | 110/4700 [02:51<11:05,  6.90it/s]"
     ]
    },
    {
     "name": "stdout",
     "output_type": "stream",
     "text": [
      "{'loss': 0.0649, 'grad_norm': 0.9462102055549622, 'learning_rate': 9.702127659574468e-06, 'epoch': 2.98}\n"
     ]
    },
    {
     "name": "stderr",
     "output_type": "stream",
     "text": [
      "\n",
      "\u001b[A\n",
      "\n",
      "                                                  \n",
      "\u001b[A                                               \n",
      "  2%|▏         | 110/4700 [02:51<11:05,  6.90it/s]\n",
      "\u001b[A"
     ]
    },
    {
     "name": "stdout",
     "output_type": "stream",
     "text": [
      "{'eval_loss': 0.07901402562856674, 'eval_runtime': 0.0263, 'eval_samples_per_second': 417.548, 'eval_steps_per_second': 227.753, 'epoch': 2.98}\n"
     ]
    },
    {
     "name": "stderr",
     "output_type": "stream",
     "text": [
      "                                                  \n",
      "  2%|▏         | 110/4700 [02:54<11:05,  6.90it/s]"
     ]
    },
    {
     "name": "stdout",
     "output_type": "stream",
     "text": [
      "{'loss': 0.0535, 'grad_norm': 3.802363395690918, 'learning_rate': 9.680851063829787e-06, 'epoch': 3.19}\n"
     ]
    },
    {
     "name": "stderr",
     "output_type": "stream",
     "text": [
      "\n",
      "\u001b[A\n",
      "\n",
      "                                                  \n",
      "\u001b[A                                               \n",
      "  2%|▏         | 110/4700 [02:54<11:05,  6.90it/s]\n",
      "\u001b[A"
     ]
    },
    {
     "name": "stdout",
     "output_type": "stream",
     "text": [
      "{'eval_loss': 0.0805388018488884, 'eval_runtime': 0.0294, 'eval_samples_per_second': 374.297, 'eval_steps_per_second': 204.162, 'epoch': 3.19}\n"
     ]
    },
    {
     "name": "stderr",
     "output_type": "stream",
     "text": [
      "                                                  \n",
      "  2%|▏         | 110/4700 [02:57<11:05,  6.90it/s]"
     ]
    },
    {
     "name": "stdout",
     "output_type": "stream",
     "text": [
      "{'loss': 0.1511, 'grad_norm': 1.6760884523391724, 'learning_rate': 9.659574468085106e-06, 'epoch': 3.4}\n"
     ]
    },
    {
     "name": "stderr",
     "output_type": "stream",
     "text": [
      "\n",
      "\u001b[A\n",
      "\n",
      "                                                  \n",
      "\u001b[A                                               \n",
      "  2%|▏         | 110/4700 [02:57<11:05,  6.90it/s]\n",
      "\u001b[A"
     ]
    },
    {
     "name": "stdout",
     "output_type": "stream",
     "text": [
      "{'eval_loss': 0.06422558426856995, 'eval_runtime': 0.0268, 'eval_samples_per_second': 410.621, 'eval_steps_per_second': 223.975, 'epoch': 3.4}\n"
     ]
    },
    {
     "name": "stderr",
     "output_type": "stream",
     "text": [
      "                                                  \n",
      "  2%|▏         | 110/4700 [02:59<11:05,  6.90it/s]"
     ]
    },
    {
     "name": "stdout",
     "output_type": "stream",
     "text": [
      "{'loss': 0.0683, 'grad_norm': 0.1746620535850525, 'learning_rate': 9.638297872340426e-06, 'epoch': 3.62}\n"
     ]
    },
    {
     "name": "stderr",
     "output_type": "stream",
     "text": [
      "\n",
      "\u001b[A\n",
      "\n",
      "                                                  \n",
      "\u001b[A                                               \n",
      "  2%|▏         | 110/4700 [02:59<11:05,  6.90it/s]\n",
      "\u001b[A"
     ]
    },
    {
     "name": "stdout",
     "output_type": "stream",
     "text": [
      "{'eval_loss': 0.06494223326444626, 'eval_runtime': 0.0273, 'eval_samples_per_second': 402.809, 'eval_steps_per_second': 219.714, 'epoch': 3.62}\n"
     ]
    },
    {
     "name": "stderr",
     "output_type": "stream",
     "text": [
      "                                                  \n",
      "  2%|▏         | 110/4700 [03:02<11:05,  6.90it/s]"
     ]
    },
    {
     "name": "stdout",
     "output_type": "stream",
     "text": [
      "{'loss': 0.0467, 'grad_norm': 1.349178671836853, 'learning_rate': 9.617021276595745e-06, 'epoch': 3.83}\n"
     ]
    },
    {
     "name": "stderr",
     "output_type": "stream",
     "text": [
      "\n",
      "\u001b[A\n",
      "\n",
      "                                                  \n",
      "\u001b[A                                               \n",
      "  2%|▏         | 110/4700 [03:02<11:05,  6.90it/s]\n",
      "\u001b[A"
     ]
    },
    {
     "name": "stdout",
     "output_type": "stream",
     "text": [
      "{'eval_loss': 0.059570226818323135, 'eval_runtime': 0.0271, 'eval_samples_per_second': 405.186, 'eval_steps_per_second': 221.011, 'epoch': 3.83}\n"
     ]
    },
    {
     "name": "stderr",
     "output_type": "stream",
     "text": [
      "                                                  \n",
      "  2%|▏         | 110/4700 [03:04<11:05,  6.90it/s]"
     ]
    },
    {
     "name": "stdout",
     "output_type": "stream",
     "text": [
      "{'loss': 0.0505, 'grad_norm': 0.12458187341690063, 'learning_rate': 9.595744680851065e-06, 'epoch': 4.04}\n"
     ]
    },
    {
     "name": "stderr",
     "output_type": "stream",
     "text": [
      "\n",
      "\u001b[A\n",
      "\n",
      "                                                  \n",
      "\u001b[A                                               \n",
      "  2%|▏         | 110/4700 [03:04<11:05,  6.90it/s]\n",
      "\u001b[A"
     ]
    },
    {
     "name": "stdout",
     "output_type": "stream",
     "text": [
      "{'eval_loss': 0.051675163209438324, 'eval_runtime': 0.0281, 'eval_samples_per_second': 391.632, 'eval_steps_per_second': 213.617, 'epoch': 4.04}\n"
     ]
    },
    {
     "name": "stderr",
     "output_type": "stream",
     "text": [
      "                                                  \n",
      "  2%|▏         | 110/4700 [03:07<11:05,  6.90it/s]"
     ]
    },
    {
     "name": "stdout",
     "output_type": "stream",
     "text": [
      "{'loss': 0.0797, 'grad_norm': 2.073136568069458, 'learning_rate': 9.574468085106385e-06, 'epoch': 4.26}\n"
     ]
    },
    {
     "name": "stderr",
     "output_type": "stream",
     "text": [
      "\n",
      "\u001b[A\n",
      "\n",
      "                                                  \n",
      "\u001b[A                                               \n",
      "  2%|▏         | 110/4700 [03:07<11:05,  6.90it/s]\n",
      "\u001b[A"
     ]
    },
    {
     "name": "stdout",
     "output_type": "stream",
     "text": [
      "{'eval_loss': 0.054017625749111176, 'eval_runtime': 0.0269, 'eval_samples_per_second': 408.787, 'eval_steps_per_second': 222.975, 'epoch': 4.26}\n"
     ]
    },
    {
     "name": "stderr",
     "output_type": "stream",
     "text": [
      "                                                  \n",
      "  2%|▏         | 110/4700 [03:10<11:05,  6.90it/s]"
     ]
    },
    {
     "name": "stdout",
     "output_type": "stream",
     "text": [
      "{'loss': 0.0546, 'grad_norm': 0.0950949639081955, 'learning_rate': 9.553191489361704e-06, 'epoch': 4.47}\n"
     ]
    },
    {
     "name": "stderr",
     "output_type": "stream",
     "text": [
      "\n",
      "\u001b[A\n",
      "\n",
      "                                                  \n",
      "\u001b[A                                               \n",
      "  2%|▏         | 110/4700 [03:11<11:05,  6.90it/s]\n",
      "\u001b[A"
     ]
    },
    {
     "name": "stdout",
     "output_type": "stream",
     "text": [
      "{'eval_loss': 0.061294738203287125, 'eval_runtime': 0.0255, 'eval_samples_per_second': 431.941, 'eval_steps_per_second': 235.604, 'epoch': 4.47}\n"
     ]
    },
    {
     "name": "stderr",
     "output_type": "stream",
     "text": [
      "                                                  \n",
      "  2%|▏         | 110/4700 [03:13<11:05,  6.90it/s]"
     ]
    },
    {
     "name": "stdout",
     "output_type": "stream",
     "text": [
      "{'loss': 0.0509, 'grad_norm': 0.22962112724781036, 'learning_rate': 9.531914893617023e-06, 'epoch': 4.68}\n"
     ]
    },
    {
     "name": "stderr",
     "output_type": "stream",
     "text": [
      "\n",
      "\u001b[A\n",
      "\n",
      "                                                  \n",
      "\u001b[A                                               \n",
      "  2%|▏         | 110/4700 [03:13<11:05,  6.90it/s]\n",
      "\u001b[A"
     ]
    },
    {
     "name": "stdout",
     "output_type": "stream",
     "text": [
      "{'eval_loss': 0.05182240903377533, 'eval_runtime': 0.0445, 'eval_samples_per_second': 247.274, 'eval_steps_per_second': 134.877, 'epoch': 4.68}\n"
     ]
    },
    {
     "name": "stderr",
     "output_type": "stream",
     "text": [
      "                                                  \n",
      "  2%|▏         | 110/4700 [03:16<11:05,  6.90it/s]"
     ]
    },
    {
     "name": "stdout",
     "output_type": "stream",
     "text": [
      "{'loss': 0.0428, 'grad_norm': 0.24317121505737305, 'learning_rate': 9.510638297872342e-06, 'epoch': 4.89}\n"
     ]
    },
    {
     "name": "stderr",
     "output_type": "stream",
     "text": [
      "\n",
      "\u001b[A\n",
      "\n",
      "                                                  \n",
      "\u001b[A                                               \n",
      "  2%|▏         | 110/4700 [03:16<11:05,  6.90it/s]\n",
      "\u001b[A"
     ]
    },
    {
     "name": "stdout",
     "output_type": "stream",
     "text": [
      "{'eval_loss': 0.040666963905096054, 'eval_runtime': 0.0292, 'eval_samples_per_second': 377.001, 'eval_steps_per_second': 205.637, 'epoch': 4.89}\n"
     ]
    },
    {
     "name": "stderr",
     "output_type": "stream",
     "text": [
      "                                                  \n",
      "  2%|▏         | 110/4700 [03:18<11:05,  6.90it/s]"
     ]
    },
    {
     "name": "stdout",
     "output_type": "stream",
     "text": [
      "{'loss': 0.0267, 'grad_norm': 0.22350560128688812, 'learning_rate': 9.489361702127661e-06, 'epoch': 5.11}\n"
     ]
    },
    {
     "name": "stderr",
     "output_type": "stream",
     "text": [
      "\n",
      "\u001b[A\n",
      "\n",
      "                                                  \n",
      "\u001b[A                                               \n",
      "  2%|▏         | 110/4700 [03:18<11:05,  6.90it/s]\n",
      "\u001b[A"
     ]
    },
    {
     "name": "stdout",
     "output_type": "stream",
     "text": [
      "{'eval_loss': 0.04111504182219505, 'eval_runtime': 0.0289, 'eval_samples_per_second': 381.03, 'eval_steps_per_second': 207.834, 'epoch': 5.11}\n"
     ]
    },
    {
     "name": "stderr",
     "output_type": "stream",
     "text": [
      "                                                  \n",
      "  2%|▏         | 110/4700 [03:21<11:05,  6.90it/s]"
     ]
    },
    {
     "name": "stdout",
     "output_type": "stream",
     "text": [
      "{'loss': 0.0417, 'grad_norm': 1.176203966140747, 'learning_rate': 9.46808510638298e-06, 'epoch': 5.32}\n"
     ]
    },
    {
     "name": "stderr",
     "output_type": "stream",
     "text": [
      "\n",
      "\u001b[A\n",
      "\n",
      "                                                  \n",
      "\u001b[A                                               \n",
      "  2%|▏         | 110/4700 [03:21<11:05,  6.90it/s]\n",
      "\u001b[A"
     ]
    },
    {
     "name": "stdout",
     "output_type": "stream",
     "text": [
      "{'eval_loss': 0.03954043984413147, 'eval_runtime': 0.0282, 'eval_samples_per_second': 389.716, 'eval_steps_per_second': 212.573, 'epoch': 5.32}\n"
     ]
    },
    {
     "name": "stderr",
     "output_type": "stream",
     "text": [
      "                                                  \n",
      "  2%|▏         | 110/4700 [03:24<11:05,  6.90it/s]"
     ]
    },
    {
     "name": "stdout",
     "output_type": "stream",
     "text": [
      "{'loss': 0.0259, 'grad_norm': 1.013694167137146, 'learning_rate': 9.446808510638299e-06, 'epoch': 5.53}\n"
     ]
    },
    {
     "name": "stderr",
     "output_type": "stream",
     "text": [
      "\n",
      "\u001b[A\n",
      "\n",
      "                                                  \n",
      "\u001b[A                                               \n",
      "  2%|▏         | 110/4700 [03:24<11:05,  6.90it/s]\n",
      "\u001b[A"
     ]
    },
    {
     "name": "stdout",
     "output_type": "stream",
     "text": [
      "{'eval_loss': 0.03665453568100929, 'eval_runtime': 0.0265, 'eval_samples_per_second': 414.759, 'eval_steps_per_second': 226.232, 'epoch': 5.53}\n"
     ]
    },
    {
     "name": "stderr",
     "output_type": "stream",
     "text": [
      "                                                  \n",
      "  2%|▏         | 110/4700 [03:27<11:05,  6.90it/s]"
     ]
    },
    {
     "name": "stdout",
     "output_type": "stream",
     "text": [
      "{'loss': 0.0718, 'grad_norm': 4.590598106384277, 'learning_rate': 9.425531914893618e-06, 'epoch': 5.74}\n"
     ]
    },
    {
     "name": "stderr",
     "output_type": "stream",
     "text": [
      "\n",
      "\u001b[A\n",
      "\n",
      "                                                  \n",
      "\u001b[A                                               \n",
      "  2%|▏         | 110/4700 [03:27<11:05,  6.90it/s]\n",
      "\u001b[A"
     ]
    },
    {
     "name": "stdout",
     "output_type": "stream",
     "text": [
      "{'eval_loss': 0.03781463950872421, 'eval_runtime': 0.0278, 'eval_samples_per_second': 396.053, 'eval_steps_per_second': 216.029, 'epoch': 5.74}\n"
     ]
    },
    {
     "name": "stderr",
     "output_type": "stream",
     "text": [
      "                                                  \n",
      "  2%|▏         | 110/4700 [03:31<11:05,  6.90it/s]"
     ]
    },
    {
     "name": "stdout",
     "output_type": "stream",
     "text": [
      "{'loss': 0.0309, 'grad_norm': 0.1355167180299759, 'learning_rate': 9.404255319148937e-06, 'epoch': 5.96}\n"
     ]
    },
    {
     "name": "stderr",
     "output_type": "stream",
     "text": [
      "\n",
      "\u001b[A\n",
      "\n",
      "                                                  \n",
      "\u001b[A                                               \n",
      "  2%|▏         | 110/4700 [03:31<11:05,  6.90it/s]\n",
      "\u001b[A"
     ]
    },
    {
     "name": "stdout",
     "output_type": "stream",
     "text": [
      "{'eval_loss': 0.05118727311491966, 'eval_runtime': 0.0276, 'eval_samples_per_second': 398.378, 'eval_steps_per_second': 217.297, 'epoch': 5.96}\n"
     ]
    },
    {
     "name": "stderr",
     "output_type": "stream",
     "text": [
      "                                                  \n",
      "  2%|▏         | 110/4700 [03:34<11:05,  6.90it/s]"
     ]
    },
    {
     "name": "stdout",
     "output_type": "stream",
     "text": [
      "{'loss': 0.0482, 'grad_norm': 1.2150146961212158, 'learning_rate': 9.382978723404256e-06, 'epoch': 6.17}\n"
     ]
    },
    {
     "name": "stderr",
     "output_type": "stream",
     "text": [
      "\n",
      "\u001b[A\n",
      "\n",
      "                                                  \n",
      "\u001b[A                                               \n",
      "  2%|▏         | 110/4700 [03:34<11:05,  6.90it/s]\n",
      "\u001b[A"
     ]
    },
    {
     "name": "stdout",
     "output_type": "stream",
     "text": [
      "{'eval_loss': 0.041723642498254776, 'eval_runtime': 0.026, 'eval_samples_per_second': 423.5, 'eval_steps_per_second': 231.0, 'epoch': 6.17}\n"
     ]
    },
    {
     "name": "stderr",
     "output_type": "stream",
     "text": [
      "                                                  \n",
      "  2%|▏         | 110/4700 [03:36<11:05,  6.90it/s]"
     ]
    },
    {
     "name": "stdout",
     "output_type": "stream",
     "text": [
      "{'loss': 0.0191, 'grad_norm': 0.05515441298484802, 'learning_rate': 9.361702127659576e-06, 'epoch': 6.38}\n"
     ]
    },
    {
     "name": "stderr",
     "output_type": "stream",
     "text": [
      "\n",
      "\u001b[A\n",
      "\n",
      "                                                  \n",
      "\u001b[A                                               \n",
      "  2%|▏         | 110/4700 [03:36<11:05,  6.90it/s]\n",
      "\u001b[A"
     ]
    },
    {
     "name": "stdout",
     "output_type": "stream",
     "text": [
      "{'eval_loss': 0.05112731456756592, 'eval_runtime': 0.0286, 'eval_samples_per_second': 384.356, 'eval_steps_per_second': 209.649, 'epoch': 6.38}\n"
     ]
    },
    {
     "name": "stderr",
     "output_type": "stream",
     "text": [
      "                                                  \n",
      "  2%|▏         | 110/4700 [03:38<11:05,  6.90it/s]"
     ]
    },
    {
     "name": "stdout",
     "output_type": "stream",
     "text": [
      "{'loss': 0.0298, 'grad_norm': 0.12064744532108307, 'learning_rate': 9.340425531914895e-06, 'epoch': 6.6}\n"
     ]
    },
    {
     "name": "stderr",
     "output_type": "stream",
     "text": [
      "\n",
      "\u001b[A\n",
      "\n",
      "                                                  \n",
      "\u001b[A                                               \n",
      "  2%|▏         | 110/4700 [03:38<11:05,  6.90it/s]\n",
      "\u001b[A"
     ]
    },
    {
     "name": "stdout",
     "output_type": "stream",
     "text": [
      "{'eval_loss': 0.053305789828300476, 'eval_runtime': 0.0279, 'eval_samples_per_second': 394.532, 'eval_steps_per_second': 215.199, 'epoch': 6.6}\n"
     ]
    },
    {
     "name": "stderr",
     "output_type": "stream",
     "text": [
      "                                                  \n",
      "  2%|▏         | 110/4700 [03:41<11:05,  6.90it/s]"
     ]
    },
    {
     "name": "stdout",
     "output_type": "stream",
     "text": [
      "{'loss': 0.0305, 'grad_norm': 0.5077612400054932, 'learning_rate': 9.319148936170214e-06, 'epoch': 6.81}\n"
     ]
    },
    {
     "name": "stderr",
     "output_type": "stream",
     "text": [
      "\n",
      "\u001b[A\n",
      "\n",
      "                                                  \n",
      "\u001b[A                                               \n",
      "  2%|▏         | 110/4700 [03:41<11:05,  6.90it/s]\n",
      "\u001b[A"
     ]
    },
    {
     "name": "stdout",
     "output_type": "stream",
     "text": [
      "{'eval_loss': 0.06790988147258759, 'eval_runtime': 0.0273, 'eval_samples_per_second': 402.338, 'eval_steps_per_second': 219.457, 'epoch': 6.81}\n"
     ]
    },
    {
     "name": "stderr",
     "output_type": "stream",
     "text": [
      "                                                  \n",
      "  2%|▏         | 110/4700 [03:43<11:05,  6.90it/s]"
     ]
    },
    {
     "name": "stdout",
     "output_type": "stream",
     "text": [
      "{'loss': 0.0169, 'grad_norm': 0.71659255027771, 'learning_rate': 9.297872340425533e-06, 'epoch': 7.02}\n"
     ]
    },
    {
     "name": "stderr",
     "output_type": "stream",
     "text": [
      "\n",
      "\u001b[A\n",
      "\n",
      "                                                  \n",
      "\u001b[A                                               \n",
      "  2%|▏         | 110/4700 [03:43<11:05,  6.90it/s]\n",
      "\u001b[A"
     ]
    },
    {
     "name": "stdout",
     "output_type": "stream",
     "text": [
      "{'eval_loss': 0.08892915397882462, 'eval_runtime': 0.0274, 'eval_samples_per_second': 401.729, 'eval_steps_per_second': 219.125, 'epoch': 7.02}\n"
     ]
    },
    {
     "name": "stderr",
     "output_type": "stream",
     "text": [
      "                                                  \n",
      "  2%|▏         | 110/4700 [03:46<11:05,  6.90it/s]"
     ]
    },
    {
     "name": "stdout",
     "output_type": "stream",
     "text": [
      "{'loss': 0.0295, 'grad_norm': 1.034102439880371, 'learning_rate': 9.276595744680852e-06, 'epoch': 7.23}\n"
     ]
    },
    {
     "name": "stderr",
     "output_type": "stream",
     "text": [
      "\n",
      "\u001b[A\n",
      "\n",
      "                                                  \n",
      "\u001b[A                                               \n",
      "  2%|▏         | 110/4700 [03:46<11:05,  6.90it/s]\n",
      "\u001b[A"
     ]
    },
    {
     "name": "stdout",
     "output_type": "stream",
     "text": [
      "{'eval_loss': 0.04258401691913605, 'eval_runtime': 0.0274, 'eval_samples_per_second': 400.787, 'eval_steps_per_second': 218.611, 'epoch': 7.23}\n"
     ]
    },
    {
     "name": "stderr",
     "output_type": "stream",
     "text": [
      "                                                  \n",
      "  2%|▏         | 110/4700 [03:49<11:05,  6.90it/s]"
     ]
    },
    {
     "name": "stdout",
     "output_type": "stream",
     "text": [
      "{'loss': 0.0155, 'grad_norm': 0.4173926115036011, 'learning_rate': 9.255319148936171e-06, 'epoch': 7.45}\n"
     ]
    },
    {
     "name": "stderr",
     "output_type": "stream",
     "text": [
      "\n",
      "\u001b[A\n",
      "\n",
      "                                                  \n",
      "\u001b[A                                               \n",
      "  2%|▏         | 110/4700 [03:49<11:05,  6.90it/s]\n",
      "\u001b[A"
     ]
    },
    {
     "name": "stdout",
     "output_type": "stream",
     "text": [
      "{'eval_loss': 0.036602120846509933, 'eval_runtime': 0.0291, 'eval_samples_per_second': 378.107, 'eval_steps_per_second': 206.24, 'epoch': 7.45}\n"
     ]
    },
    {
     "name": "stderr",
     "output_type": "stream",
     "text": [
      "                                                  \n",
      "  2%|▏         | 110/4700 [03:51<11:05,  6.90it/s]"
     ]
    },
    {
     "name": "stdout",
     "output_type": "stream",
     "text": [
      "{'loss': 0.0141, 'grad_norm': 1.085924744606018, 'learning_rate': 9.23404255319149e-06, 'epoch': 7.66}\n"
     ]
    },
    {
     "name": "stderr",
     "output_type": "stream",
     "text": [
      "\n",
      "\u001b[A\n",
      "\n",
      "                                                  \n",
      "\u001b[A                                               \n",
      "  2%|▏         | 110/4700 [03:51<11:05,  6.90it/s]\n",
      "\u001b[A"
     ]
    },
    {
     "name": "stdout",
     "output_type": "stream",
     "text": [
      "{'eval_loss': 0.033845093101263046, 'eval_runtime': 0.0282, 'eval_samples_per_second': 389.387, 'eval_steps_per_second': 212.393, 'epoch': 7.66}\n"
     ]
    },
    {
     "name": "stderr",
     "output_type": "stream",
     "text": [
      "                                                  \n",
      "  2%|▏         | 110/4700 [03:55<11:05,  6.90it/s]"
     ]
    },
    {
     "name": "stdout",
     "output_type": "stream",
     "text": [
      "{'loss': 0.0275, 'grad_norm': 0.13208375871181488, 'learning_rate': 9.21276595744681e-06, 'epoch': 7.87}\n"
     ]
    },
    {
     "name": "stderr",
     "output_type": "stream",
     "text": [
      "\n",
      "\u001b[A\n",
      "\n",
      "                                                  \n",
      "\u001b[A                                               \n",
      "  2%|▏         | 110/4700 [03:55<11:05,  6.90it/s]\n",
      "\u001b[A"
     ]
    },
    {
     "name": "stdout",
     "output_type": "stream",
     "text": [
      "{'eval_loss': 0.05065593868494034, 'eval_runtime': 0.0272, 'eval_samples_per_second': 404.895, 'eval_steps_per_second': 220.852, 'epoch': 7.87}\n"
     ]
    },
    {
     "name": "stderr",
     "output_type": "stream",
     "text": [
      "                                                  \n",
      "  2%|▏         | 110/4700 [03:58<11:05,  6.90it/s]"
     ]
    },
    {
     "name": "stdout",
     "output_type": "stream",
     "text": [
      "{'loss': 0.0238, 'grad_norm': 0.13148480653762817, 'learning_rate': 9.191489361702128e-06, 'epoch': 8.09}\n"
     ]
    },
    {
     "name": "stderr",
     "output_type": "stream",
     "text": [
      "\n",
      "\u001b[A\n",
      "\n",
      "                                                  \n",
      "\u001b[A                                               \n",
      "  2%|▏         | 110/4700 [03:58<11:05,  6.90it/s]\n",
      "\u001b[A"
     ]
    },
    {
     "name": "stdout",
     "output_type": "stream",
     "text": [
      "{'eval_loss': 0.07097457349300385, 'eval_runtime': 0.0296, 'eval_samples_per_second': 371.82, 'eval_steps_per_second': 202.811, 'epoch': 8.09}\n"
     ]
    },
    {
     "name": "stderr",
     "output_type": "stream",
     "text": [
      "                                                  \n",
      "  2%|▏         | 110/4700 [04:00<11:05,  6.90it/s]"
     ]
    },
    {
     "name": "stdout",
     "output_type": "stream",
     "text": [
      "{'loss': 0.0278, 'grad_norm': 0.8442036509513855, 'learning_rate': 9.170212765957447e-06, 'epoch': 8.3}\n"
     ]
    },
    {
     "name": "stderr",
     "output_type": "stream",
     "text": [
      "\n",
      "\u001b[A\n",
      "\n",
      "                                                  \n",
      "\u001b[A                                               \n",
      "  2%|▏         | 110/4700 [04:00<11:05,  6.90it/s]\n",
      "\u001b[A"
     ]
    },
    {
     "name": "stdout",
     "output_type": "stream",
     "text": [
      "{'eval_loss': 0.04875544086098671, 'eval_runtime': 0.0261, 'eval_samples_per_second': 421.13, 'eval_steps_per_second': 229.707, 'epoch': 8.3}\n"
     ]
    },
    {
     "name": "stderr",
     "output_type": "stream",
     "text": [
      "                                                  \n",
      "  2%|▏         | 110/4700 [04:03<11:05,  6.90it/s]"
     ]
    },
    {
     "name": "stdout",
     "output_type": "stream",
     "text": [
      "{'loss': 0.0336, 'grad_norm': 0.0331575945019722, 'learning_rate': 9.148936170212767e-06, 'epoch': 8.51}\n"
     ]
    },
    {
     "name": "stderr",
     "output_type": "stream",
     "text": [
      "\n",
      "\u001b[A\n",
      "\n",
      "                                                  \n",
      "\u001b[A                                               \n",
      "  2%|▏         | 110/4700 [04:03<11:05,  6.90it/s]\n",
      "\u001b[A"
     ]
    },
    {
     "name": "stdout",
     "output_type": "stream",
     "text": [
      "{'eval_loss': 0.034593041986227036, 'eval_runtime': 0.0254, 'eval_samples_per_second': 433.548, 'eval_steps_per_second': 236.481, 'epoch': 8.51}\n"
     ]
    },
    {
     "name": "stderr",
     "output_type": "stream",
     "text": [
      "                                                  \n",
      "  2%|▏         | 110/4700 [04:05<11:05,  6.90it/s]"
     ]
    },
    {
     "name": "stdout",
     "output_type": "stream",
     "text": [
      "{'loss': 0.0043, 'grad_norm': 0.14372918009757996, 'learning_rate': 9.127659574468086e-06, 'epoch': 8.72}\n"
     ]
    },
    {
     "name": "stderr",
     "output_type": "stream",
     "text": [
      "\n",
      "\u001b[A\n",
      "\n",
      "                                                  \n",
      "\u001b[A                                               \n",
      "  2%|▏         | 110/4700 [04:06<11:05,  6.90it/s]\n",
      "\u001b[A"
     ]
    },
    {
     "name": "stdout",
     "output_type": "stream",
     "text": [
      "{'eval_loss': 0.031520310789346695, 'eval_runtime': 0.0277, 'eval_samples_per_second': 397.465, 'eval_steps_per_second': 216.799, 'epoch': 8.72}\n"
     ]
    },
    {
     "name": "stderr",
     "output_type": "stream",
     "text": [
      "                                                  \n",
      "  2%|▏         | 110/4700 [04:08<11:05,  6.90it/s]"
     ]
    },
    {
     "name": "stdout",
     "output_type": "stream",
     "text": [
      "{'loss': 0.0115, 'grad_norm': 0.02979268506169319, 'learning_rate': 9.106382978723405e-06, 'epoch': 8.94}\n"
     ]
    },
    {
     "name": "stderr",
     "output_type": "stream",
     "text": [
      "\n",
      "\u001b[A\n",
      "\n",
      "                                                  \n",
      "\u001b[A                                               \n",
      "  2%|▏         | 110/4700 [04:08<11:05,  6.90it/s]\n",
      "\u001b[A"
     ]
    },
    {
     "name": "stdout",
     "output_type": "stream",
     "text": [
      "{'eval_loss': 0.03237586468458176, 'eval_runtime': 0.0266, 'eval_samples_per_second': 414.263, 'eval_steps_per_second': 225.962, 'epoch': 8.94}\n"
     ]
    },
    {
     "name": "stderr",
     "output_type": "stream",
     "text": [
      "                                                  \n",
      "  2%|▏         | 110/4700 [04:10<11:05,  6.90it/s]"
     ]
    },
    {
     "name": "stdout",
     "output_type": "stream",
     "text": [
      "{'loss': 0.0144, 'grad_norm': 0.031686972826719284, 'learning_rate': 9.085106382978724e-06, 'epoch': 9.15}\n"
     ]
    },
    {
     "name": "stderr",
     "output_type": "stream",
     "text": [
      "\n",
      "\u001b[A\n",
      "\n",
      "                                                  \n",
      "\u001b[A                                               \n",
      "  2%|▏         | 110/4700 [04:10<11:05,  6.90it/s]\n",
      "\u001b[A"
     ]
    },
    {
     "name": "stdout",
     "output_type": "stream",
     "text": [
      "{'eval_loss': 0.03401298448443413, 'eval_runtime': 0.0276, 'eval_samples_per_second': 398.388, 'eval_steps_per_second': 217.303, 'epoch': 9.15}\n"
     ]
    },
    {
     "name": "stderr",
     "output_type": "stream",
     "text": [
      "                                                  \n",
      "  2%|▏         | 110/4700 [04:13<11:05,  6.90it/s]"
     ]
    },
    {
     "name": "stdout",
     "output_type": "stream",
     "text": [
      "{'loss': 0.0085, 'grad_norm': 0.032740768045186996, 'learning_rate': 9.063829787234043e-06, 'epoch': 9.36}\n"
     ]
    },
    {
     "name": "stderr",
     "output_type": "stream",
     "text": [
      "\n",
      "\u001b[A\n",
      "\n",
      "                                                  \n",
      "\u001b[A                                               \n",
      "  2%|▏         | 110/4700 [04:13<11:05,  6.90it/s]\n",
      "\u001b[A"
     ]
    },
    {
     "name": "stdout",
     "output_type": "stream",
     "text": [
      "{'eval_loss': 0.03387743979692459, 'eval_runtime': 0.028, 'eval_samples_per_second': 393.016, 'eval_steps_per_second': 214.372, 'epoch': 9.36}\n"
     ]
    },
    {
     "name": "stderr",
     "output_type": "stream",
     "text": [
      "                                                  \n",
      "  2%|▏         | 110/4700 [04:16<11:05,  6.90it/s]"
     ]
    },
    {
     "name": "stdout",
     "output_type": "stream",
     "text": [
      "{'loss': 0.0256, 'grad_norm': 0.17825259268283844, 'learning_rate': 9.042553191489362e-06, 'epoch': 9.57}\n"
     ]
    },
    {
     "name": "stderr",
     "output_type": "stream",
     "text": [
      "\n",
      "\u001b[A\n",
      "\n",
      "                                                  \n",
      "\u001b[A                                               \n",
      "  2%|▏         | 110/4700 [04:16<11:05,  6.90it/s]\n",
      "\u001b[A"
     ]
    },
    {
     "name": "stdout",
     "output_type": "stream",
     "text": [
      "{'eval_loss': 0.03373836725950241, 'eval_runtime': 0.0293, 'eval_samples_per_second': 375.143, 'eval_steps_per_second': 204.623, 'epoch': 9.57}\n"
     ]
    },
    {
     "name": "stderr",
     "output_type": "stream",
     "text": [
      "                                                  \n",
      "  2%|▏         | 110/4700 [04:18<11:05,  6.90it/s]"
     ]
    },
    {
     "name": "stdout",
     "output_type": "stream",
     "text": [
      "{'loss': 0.0161, 'grad_norm': 0.03721898794174194, 'learning_rate': 9.021276595744681e-06, 'epoch': 9.79}\n"
     ]
    },
    {
     "name": "stderr",
     "output_type": "stream",
     "text": [
      "\n",
      "\u001b[A\n",
      "\n",
      "                                                  \n",
      "\u001b[A                                               \n",
      "  2%|▏         | 110/4700 [04:18<11:05,  6.90it/s]\n",
      "\u001b[A"
     ]
    },
    {
     "name": "stdout",
     "output_type": "stream",
     "text": [
      "{'eval_loss': 0.04411259666085243, 'eval_runtime': 0.0262, 'eval_samples_per_second': 419.51, 'eval_steps_per_second': 228.824, 'epoch': 9.79}\n"
     ]
    },
    {
     "name": "stderr",
     "output_type": "stream",
     "text": [
      "                                                  \n",
      "  2%|▏         | 110/4700 [04:22<11:05,  6.90it/s]"
     ]
    },
    {
     "name": "stdout",
     "output_type": "stream",
     "text": [
      "{'loss': 0.0065, 'grad_norm': 0.06161282956600189, 'learning_rate': 9e-06, 'epoch': 10.0}\n"
     ]
    },
    {
     "name": "stderr",
     "output_type": "stream",
     "text": [
      "\n",
      "\u001b[A\n",
      "\n",
      "                                                  \n",
      "\u001b[A                                               \n",
      "  2%|▏         | 110/4700 [04:22<11:05,  6.90it/s]\n",
      "\u001b[A"
     ]
    },
    {
     "name": "stdout",
     "output_type": "stream",
     "text": [
      "{'eval_loss': 0.04909545183181763, 'eval_runtime': 0.028, 'eval_samples_per_second': 393.532, 'eval_steps_per_second': 214.654, 'epoch': 10.0}\n"
     ]
    },
    {
     "name": "stderr",
     "output_type": "stream",
     "text": [
      "                                                  \n",
      "  2%|▏         | 110/4700 [04:24<11:05,  6.90it/s]"
     ]
    },
    {
     "name": "stdout",
     "output_type": "stream",
     "text": [
      "{'loss': 0.0163, 'grad_norm': 0.034782711416482925, 'learning_rate': 8.97872340425532e-06, 'epoch': 10.21}\n"
     ]
    },
    {
     "name": "stderr",
     "output_type": "stream",
     "text": [
      "\n",
      "\u001b[A\n",
      "\n",
      "                                                  \n",
      "\u001b[A                                               \n",
      "  2%|▏         | 110/4700 [04:24<11:05,  6.90it/s]\n",
      "\u001b[A"
     ]
    },
    {
     "name": "stdout",
     "output_type": "stream",
     "text": [
      "{'eval_loss': 0.036442097276449203, 'eval_runtime': 0.0279, 'eval_samples_per_second': 394.765, 'eval_steps_per_second': 215.326, 'epoch': 10.21}\n"
     ]
    },
    {
     "name": "stderr",
     "output_type": "stream",
     "text": [
      "                                                  \n",
      "  2%|▏         | 110/4700 [04:27<11:05,  6.90it/s]"
     ]
    },
    {
     "name": "stdout",
     "output_type": "stream",
     "text": [
      "{'loss': 0.0066, 'grad_norm': 0.17028388381004333, 'learning_rate': 8.957446808510638e-06, 'epoch': 10.43}\n"
     ]
    },
    {
     "name": "stderr",
     "output_type": "stream",
     "text": [
      "\n",
      "\u001b[A\n",
      "\n",
      "                                                  \n",
      "\u001b[A                                               \n",
      "  2%|▏         | 110/4700 [04:27<11:05,  6.90it/s]\n",
      "\u001b[A"
     ]
    },
    {
     "name": "stdout",
     "output_type": "stream",
     "text": [
      "{'eval_loss': 0.034852758049964905, 'eval_runtime': 0.0281, 'eval_samples_per_second': 391.067, 'eval_steps_per_second': 213.309, 'epoch': 10.43}\n"
     ]
    },
    {
     "name": "stderr",
     "output_type": "stream",
     "text": [
      "                                                  \n",
      "  2%|▏         | 110/4700 [04:29<11:05,  6.90it/s]"
     ]
    },
    {
     "name": "stdout",
     "output_type": "stream",
     "text": [
      "{'loss': 0.0062, 'grad_norm': 0.049601539969444275, 'learning_rate': 8.936170212765958e-06, 'epoch': 10.64}\n"
     ]
    },
    {
     "name": "stderr",
     "output_type": "stream",
     "text": [
      "\n",
      "\u001b[A\n",
      "\n",
      "                                                  \n",
      "\u001b[A                                               \n",
      "  2%|▏         | 110/4700 [04:29<11:05,  6.90it/s]\n",
      "\u001b[A"
     ]
    },
    {
     "name": "stdout",
     "output_type": "stream",
     "text": [
      "{'eval_loss': 0.031975314021110535, 'eval_runtime': 0.0261, 'eval_samples_per_second': 421.492, 'eval_steps_per_second': 229.905, 'epoch': 10.64}\n"
     ]
    },
    {
     "name": "stderr",
     "output_type": "stream",
     "text": [
      "                                                  \n",
      "  2%|▏         | 110/4700 [04:32<11:05,  6.90it/s]"
     ]
    },
    {
     "name": "stdout",
     "output_type": "stream",
     "text": [
      "{'loss': 0.0084, 'grad_norm': 6.6729302406311035, 'learning_rate': 8.914893617021277e-06, 'epoch': 10.85}\n"
     ]
    },
    {
     "name": "stderr",
     "output_type": "stream",
     "text": [
      "\n",
      "\u001b[A\n",
      "\n",
      "                                                  \n",
      "\u001b[A                                               \n",
      "  2%|▏         | 110/4700 [04:32<11:05,  6.90it/s]\n",
      "\u001b[A"
     ]
    },
    {
     "name": "stdout",
     "output_type": "stream",
     "text": [
      "{'eval_loss': 0.03394145146012306, 'eval_runtime': 0.0275, 'eval_samples_per_second': 400.154, 'eval_steps_per_second': 218.266, 'epoch': 10.85}\n"
     ]
    },
    {
     "name": "stderr",
     "output_type": "stream",
     "text": [
      "                                                  \n",
      "  2%|▏         | 110/4700 [04:35<11:05,  6.90it/s]"
     ]
    },
    {
     "name": "stdout",
     "output_type": "stream",
     "text": [
      "{'loss': 0.0136, 'grad_norm': 1.9941906929016113, 'learning_rate': 8.893617021276596e-06, 'epoch': 11.06}\n"
     ]
    },
    {
     "name": "stderr",
     "output_type": "stream",
     "text": [
      "\n",
      "\u001b[A\n",
      "\n",
      "                                                  \n",
      "\u001b[A                                               \n",
      "  2%|▏         | 110/4700 [04:35<11:05,  6.90it/s]\n",
      "\u001b[A"
     ]
    },
    {
     "name": "stdout",
     "output_type": "stream",
     "text": [
      "{'eval_loss': 0.04594714939594269, 'eval_runtime': 0.0271, 'eval_samples_per_second': 406.228, 'eval_steps_per_second': 221.579, 'epoch': 11.06}\n"
     ]
    },
    {
     "name": "stderr",
     "output_type": "stream",
     "text": [
      "                                                  \n",
      "  2%|▏         | 110/4700 [04:38<11:05,  6.90it/s]"
     ]
    },
    {
     "name": "stdout",
     "output_type": "stream",
     "text": [
      "{'loss': 0.0117, 'grad_norm': 0.02442530356347561, 'learning_rate': 8.872340425531915e-06, 'epoch': 11.28}\n"
     ]
    },
    {
     "name": "stderr",
     "output_type": "stream",
     "text": [
      "\n",
      "\u001b[A\n",
      "\n",
      "                                                  \n",
      "\u001b[A                                               \n",
      "  2%|▏         | 110/4700 [04:38<11:05,  6.90it/s]\n",
      "\u001b[A"
     ]
    },
    {
     "name": "stdout",
     "output_type": "stream",
     "text": [
      "{'eval_loss': 0.0571538545191288, 'eval_runtime': 0.0275, 'eval_samples_per_second': 399.821, 'eval_steps_per_second': 218.084, 'epoch': 11.28}\n"
     ]
    },
    {
     "name": "stderr",
     "output_type": "stream",
     "text": [
      "                                                  \n",
      "  2%|▏         | 110/4700 [04:41<11:05,  6.90it/s]"
     ]
    },
    {
     "name": "stdout",
     "output_type": "stream",
     "text": [
      "{'loss': 0.0024, 'grad_norm': 0.04172931984066963, 'learning_rate': 8.851063829787234e-06, 'epoch': 11.49}\n"
     ]
    },
    {
     "name": "stderr",
     "output_type": "stream",
     "text": [
      "\n",
      "\u001b[A\n",
      "\n",
      "                                                  \n",
      "\u001b[A                                               \n",
      "  2%|▏         | 110/4700 [04:41<11:05,  6.90it/s]\n",
      "\u001b[A"
     ]
    },
    {
     "name": "stdout",
     "output_type": "stream",
     "text": [
      "{'eval_loss': 0.05251365900039673, 'eval_runtime': 0.0292, 'eval_samples_per_second': 376.548, 'eval_steps_per_second': 205.39, 'epoch': 11.49}\n"
     ]
    },
    {
     "name": "stderr",
     "output_type": "stream",
     "text": [
      "                                                  \n",
      "  2%|▏         | 110/4700 [04:43<11:05,  6.90it/s]"
     ]
    },
    {
     "name": "stdout",
     "output_type": "stream",
     "text": [
      "{'loss': 0.0047, 'grad_norm': 0.042814020067453384, 'learning_rate': 8.829787234042555e-06, 'epoch': 11.7}\n"
     ]
    },
    {
     "name": "stderr",
     "output_type": "stream",
     "text": [
      "\n",
      "\u001b[A\n",
      "\n",
      "                                                  \n",
      "\u001b[A                                               \n",
      "  2%|▏         | 110/4700 [04:43<11:05,  6.90it/s]\n",
      "\u001b[A"
     ]
    },
    {
     "name": "stdout",
     "output_type": "stream",
     "text": [
      "{'eval_loss': 0.03546074405312538, 'eval_runtime': 0.0275, 'eval_samples_per_second': 400.599, 'eval_steps_per_second': 218.508, 'epoch': 11.7}\n"
     ]
    },
    {
     "name": "stderr",
     "output_type": "stream",
     "text": [
      "                                                  \n",
      "  2%|▏         | 110/4700 [04:45<11:05,  6.90it/s]"
     ]
    },
    {
     "name": "stdout",
     "output_type": "stream",
     "text": [
      "{'loss': 0.0263, 'grad_norm': 6.841769695281982, 'learning_rate': 8.808510638297874e-06, 'epoch': 11.91}\n"
     ]
    },
    {
     "name": "stderr",
     "output_type": "stream",
     "text": [
      "\n",
      "\u001b[A\n",
      "\n",
      "                                                  \n",
      "\u001b[A                                               \n",
      "  2%|▏         | 110/4700 [04:45<11:05,  6.90it/s]\n",
      "\u001b[A"
     ]
    },
    {
     "name": "stdout",
     "output_type": "stream",
     "text": [
      "{'eval_loss': 0.03360186517238617, 'eval_runtime': 0.0274, 'eval_samples_per_second': 401.421, 'eval_steps_per_second': 218.957, 'epoch': 11.91}\n"
     ]
    },
    {
     "name": "stderr",
     "output_type": "stream",
     "text": [
      "                                                  \n",
      "  2%|▏         | 110/4700 [04:48<11:05,  6.90it/s]"
     ]
    },
    {
     "name": "stdout",
     "output_type": "stream",
     "text": [
      "{'loss': 0.0028, 'grad_norm': 0.02421237714588642, 'learning_rate': 8.787234042553193e-06, 'epoch': 12.13}\n"
     ]
    },
    {
     "name": "stderr",
     "output_type": "stream",
     "text": [
      "\n",
      "\u001b[A\n",
      "\n",
      "                                                  \n",
      "\u001b[A                                               \n",
      "  2%|▏         | 110/4700 [04:48<11:05,  6.90it/s]\n",
      "\u001b[A"
     ]
    },
    {
     "name": "stdout",
     "output_type": "stream",
     "text": [
      "{'eval_loss': 0.07021287828683853, 'eval_runtime': 0.0265, 'eval_samples_per_second': 415.091, 'eval_steps_per_second': 226.413, 'epoch': 12.13}\n"
     ]
    },
    {
     "name": "stderr",
     "output_type": "stream",
     "text": [
      "                                                  \n",
      "  2%|▏         | 110/4700 [04:50<11:05,  6.90it/s]"
     ]
    },
    {
     "name": "stdout",
     "output_type": "stream",
     "text": [
      "{'loss': 0.004, 'grad_norm': 0.08418174088001251, 'learning_rate': 8.765957446808512e-06, 'epoch': 12.34}\n"
     ]
    },
    {
     "name": "stderr",
     "output_type": "stream",
     "text": [
      "\n",
      "\u001b[A\n",
      "\n",
      "                                                  \n",
      "\u001b[A                                               \n",
      "  2%|▏         | 110/4700 [04:51<11:05,  6.90it/s]\n",
      "\u001b[A"
     ]
    },
    {
     "name": "stdout",
     "output_type": "stream",
     "text": [
      "{'eval_loss': 0.06080286577343941, 'eval_runtime': 0.0274, 'eval_samples_per_second': 401.977, 'eval_steps_per_second': 219.26, 'epoch': 12.34}\n"
     ]
    },
    {
     "name": "stderr",
     "output_type": "stream",
     "text": [
      "                                                  \n",
      "  2%|▏         | 110/4700 [04:53<11:05,  6.90it/s]"
     ]
    },
    {
     "name": "stdout",
     "output_type": "stream",
     "text": [
      "{'loss': 0.0032, 'grad_norm': 0.11590680480003357, 'learning_rate': 8.744680851063831e-06, 'epoch': 12.55}\n"
     ]
    },
    {
     "name": "stderr",
     "output_type": "stream",
     "text": [
      "\n",
      "\u001b[A\n",
      "\n",
      "                                                  \n",
      "\u001b[A                                               \n",
      "  2%|▏         | 110/4700 [04:53<11:05,  6.90it/s]\n",
      "\u001b[A"
     ]
    },
    {
     "name": "stdout",
     "output_type": "stream",
     "text": [
      "{'eval_loss': 0.05160022899508476, 'eval_runtime': 0.0284, 'eval_samples_per_second': 386.663, 'eval_steps_per_second': 210.907, 'epoch': 12.55}\n"
     ]
    },
    {
     "name": "stderr",
     "output_type": "stream",
     "text": [
      "                                                  \n",
      "  2%|▏         | 110/4700 [04:55<11:05,  6.90it/s]"
     ]
    },
    {
     "name": "stdout",
     "output_type": "stream",
     "text": [
      "{'loss': 0.0028, 'grad_norm': 0.09504877775907516, 'learning_rate': 8.72340425531915e-06, 'epoch': 12.77}\n"
     ]
    },
    {
     "name": "stderr",
     "output_type": "stream",
     "text": [
      "\n",
      "\u001b[A\n",
      "\n",
      "                                                  \n",
      "\u001b[A                                               \n",
      "  2%|▏         | 110/4700 [04:55<11:05,  6.90it/s]\n",
      "\u001b[A"
     ]
    },
    {
     "name": "stdout",
     "output_type": "stream",
     "text": [
      "{'eval_loss': 0.06213202700018883, 'eval_runtime': 0.0275, 'eval_samples_per_second': 400.268, 'eval_steps_per_second': 218.328, 'epoch': 12.77}\n"
     ]
    },
    {
     "name": "stderr",
     "output_type": "stream",
     "text": [
      "                                                  \n",
      "  2%|▏         | 110/4700 [04:58<11:05,  6.90it/s]"
     ]
    },
    {
     "name": "stdout",
     "output_type": "stream",
     "text": [
      "{'loss': 0.0192, 'grad_norm': 0.050345201045274734, 'learning_rate': 8.70212765957447e-06, 'epoch': 12.98}\n"
     ]
    },
    {
     "name": "stderr",
     "output_type": "stream",
     "text": [
      "\n",
      "\u001b[A\n",
      "\n",
      "                                                  \n",
      "\u001b[A                                               \n",
      "  2%|▏         | 110/4700 [04:58<11:05,  6.90it/s]\n",
      "\u001b[A"
     ]
    },
    {
     "name": "stdout",
     "output_type": "stream",
     "text": [
      "{'eval_loss': 0.05847925320267677, 'eval_runtime': 0.0325, 'eval_samples_per_second': 337.948, 'eval_steps_per_second': 184.335, 'epoch': 12.98}\n"
     ]
    },
    {
     "name": "stderr",
     "output_type": "stream",
     "text": [
      "                                                  \n",
      "  2%|▏         | 110/4700 [05:00<11:05,  6.90it/s]"
     ]
    },
    {
     "name": "stdout",
     "output_type": "stream",
     "text": [
      "{'loss': 0.0117, 'grad_norm': 0.07207951694726944, 'learning_rate': 8.680851063829788e-06, 'epoch': 13.19}\n"
     ]
    },
    {
     "name": "stderr",
     "output_type": "stream",
     "text": [
      "\n",
      "\u001b[A\n",
      "\n",
      "                                                  \n",
      "\u001b[A                                               \n",
      "  2%|▏         | 110/4700 [05:00<11:05,  6.90it/s]\n",
      "\u001b[A"
     ]
    },
    {
     "name": "stdout",
     "output_type": "stream",
     "text": [
      "{'eval_loss': 0.03303416818380356, 'eval_runtime': 0.0295, 'eval_samples_per_second': 373.126, 'eval_steps_per_second': 203.523, 'epoch': 13.19}\n"
     ]
    },
    {
     "name": "stderr",
     "output_type": "stream",
     "text": [
      "                                                  \n",
      "  2%|▏         | 110/4700 [05:03<11:05,  6.90it/s]"
     ]
    },
    {
     "name": "stdout",
     "output_type": "stream",
     "text": [
      "{'loss': 0.0029, 'grad_norm': 0.13326451182365417, 'learning_rate': 8.659574468085108e-06, 'epoch': 13.4}\n"
     ]
    },
    {
     "name": "stderr",
     "output_type": "stream",
     "text": [
      "\n",
      "\u001b[A\n",
      "\n",
      "                                                  \n",
      "\u001b[A                                               \n",
      "  2%|▏         | 110/4700 [05:03<11:05,  6.90it/s]\n",
      "\u001b[A"
     ]
    },
    {
     "name": "stdout",
     "output_type": "stream",
     "text": [
      "{'eval_loss': 0.030316907912492752, 'eval_runtime': 0.0295, 'eval_samples_per_second': 373.183, 'eval_steps_per_second': 203.554, 'epoch': 13.4}\n"
     ]
    },
    {
     "name": "stderr",
     "output_type": "stream",
     "text": [
      "                                                  \n",
      "  2%|▏         | 110/4700 [05:05<11:05,  6.90it/s]"
     ]
    },
    {
     "name": "stdout",
     "output_type": "stream",
     "text": [
      "{'loss': 0.0042, 'grad_norm': 0.391345739364624, 'learning_rate': 8.638297872340427e-06, 'epoch': 13.62}\n"
     ]
    },
    {
     "name": "stderr",
     "output_type": "stream",
     "text": [
      "\n",
      "\u001b[A\n",
      "\n",
      "                                                  \n",
      "\u001b[A                                               \n",
      "  2%|▏         | 110/4700 [05:05<11:05,  6.90it/s]\n",
      "\u001b[A"
     ]
    },
    {
     "name": "stdout",
     "output_type": "stream",
     "text": [
      "{'eval_loss': 0.03002288192510605, 'eval_runtime': 0.0274, 'eval_samples_per_second': 400.769, 'eval_steps_per_second': 218.601, 'epoch': 13.62}\n"
     ]
    },
    {
     "name": "stderr",
     "output_type": "stream",
     "text": [
      "                                                  \n",
      "  2%|▏         | 110/4700 [05:07<11:05,  6.90it/s]"
     ]
    },
    {
     "name": "stdout",
     "output_type": "stream",
     "text": [
      "{'loss': 0.0105, 'grad_norm': 0.12961770594120026, 'learning_rate': 8.617021276595746e-06, 'epoch': 13.83}\n"
     ]
    },
    {
     "name": "stderr",
     "output_type": "stream",
     "text": [
      "\n",
      "\u001b[A\n",
      "\n",
      "                                                  \n",
      "\u001b[A                                               \n",
      "  2%|▏         | 110/4700 [05:07<11:05,  6.90it/s]\n",
      "\u001b[A"
     ]
    },
    {
     "name": "stdout",
     "output_type": "stream",
     "text": [
      "{'eval_loss': 0.029720978811383247, 'eval_runtime': 0.027, 'eval_samples_per_second': 408.024, 'eval_steps_per_second': 222.559, 'epoch': 13.83}\n"
     ]
    },
    {
     "name": "stderr",
     "output_type": "stream",
     "text": [
      "                                                  \n",
      "  2%|▏         | 110/4700 [05:10<11:05,  6.90it/s]"
     ]
    },
    {
     "name": "stdout",
     "output_type": "stream",
     "text": [
      "{'loss': 0.0039, 'grad_norm': 0.05576295778155327, 'learning_rate': 8.595744680851065e-06, 'epoch': 14.04}\n"
     ]
    },
    {
     "name": "stderr",
     "output_type": "stream",
     "text": [
      "\n",
      "\u001b[A\n",
      "\n",
      "                                                  \n",
      "\u001b[A                                               \n",
      "  2%|▏         | 110/4700 [05:10<11:05,  6.90it/s]\n",
      "\u001b[A"
     ]
    },
    {
     "name": "stdout",
     "output_type": "stream",
     "text": [
      "{'eval_loss': 0.03310305252671242, 'eval_runtime': 0.0272, 'eval_samples_per_second': 404.717, 'eval_steps_per_second': 220.755, 'epoch': 14.04}\n"
     ]
    },
    {
     "name": "stderr",
     "output_type": "stream",
     "text": [
      "                                                  \n",
      "  2%|▏         | 110/4700 [05:13<11:05,  6.90it/s]"
     ]
    },
    {
     "name": "stdout",
     "output_type": "stream",
     "text": [
      "{'loss': 0.004, 'grad_norm': 0.015884054824709892, 'learning_rate': 8.574468085106384e-06, 'epoch': 14.26}\n"
     ]
    },
    {
     "name": "stderr",
     "output_type": "stream",
     "text": [
      "\n",
      "\u001b[A\n",
      "\n",
      "                                                  \n",
      "\u001b[A                                               \n",
      "  2%|▏         | 110/4700 [05:13<11:05,  6.90it/s]\n",
      "\u001b[A"
     ]
    },
    {
     "name": "stdout",
     "output_type": "stream",
     "text": [
      "{'eval_loss': 0.033441271632909775, 'eval_runtime': 0.0281, 'eval_samples_per_second': 391.622, 'eval_steps_per_second': 213.612, 'epoch': 14.26}\n"
     ]
    },
    {
     "name": "stderr",
     "output_type": "stream",
     "text": [
      "                                                  \n",
      "  2%|▏         | 110/4700 [05:16<11:05,  6.90it/s]"
     ]
    },
    {
     "name": "stdout",
     "output_type": "stream",
     "text": [
      "{'loss': 0.0018, 'grad_norm': 0.05071178451180458, 'learning_rate': 8.553191489361703e-06, 'epoch': 14.47}\n"
     ]
    },
    {
     "name": "stderr",
     "output_type": "stream",
     "text": [
      "\n",
      "\u001b[A\n",
      "\n",
      "                                                  \n",
      "\u001b[A                                               \n",
      "  2%|▏         | 110/4700 [05:16<11:05,  6.90it/s]\n",
      "\u001b[A"
     ]
    },
    {
     "name": "stdout",
     "output_type": "stream",
     "text": [
      "{'eval_loss': 0.033269647508859634, 'eval_runtime': 0.028, 'eval_samples_per_second': 393.18, 'eval_steps_per_second': 214.462, 'epoch': 14.47}\n"
     ]
    },
    {
     "name": "stderr",
     "output_type": "stream",
     "text": [
      "                                                  \n",
      "  2%|▏         | 110/4700 [05:19<11:05,  6.90it/s]"
     ]
    },
    {
     "name": "stdout",
     "output_type": "stream",
     "text": [
      "{'loss': 0.0067, 'grad_norm': 0.06782324612140656, 'learning_rate': 8.531914893617022e-06, 'epoch': 14.68}\n"
     ]
    },
    {
     "name": "stderr",
     "output_type": "stream",
     "text": [
      "\n",
      "\u001b[A\n",
      "\n",
      "                                                  \n",
      "\u001b[A                                               \n",
      "  2%|▏         | 110/4700 [05:19<11:05,  6.90it/s]\n",
      "\u001b[A"
     ]
    },
    {
     "name": "stdout",
     "output_type": "stream",
     "text": [
      "{'eval_loss': 0.03315192833542824, 'eval_runtime': 0.0318, 'eval_samples_per_second': 346.421, 'eval_steps_per_second': 188.957, 'epoch': 14.68}\n"
     ]
    },
    {
     "name": "stderr",
     "output_type": "stream",
     "text": [
      "                                                  \n",
      "  2%|▏         | 110/4700 [05:22<11:05,  6.90it/s]"
     ]
    },
    {
     "name": "stdout",
     "output_type": "stream",
     "text": [
      "{'loss': 0.0096, 'grad_norm': 0.49338299036026, 'learning_rate': 8.510638297872341e-06, 'epoch': 14.89}\n"
     ]
    },
    {
     "name": "stderr",
     "output_type": "stream",
     "text": [
      "\n",
      "\u001b[A\n",
      "\n",
      "                                                  \n",
      "\u001b[A                                               \n",
      "  2%|▏         | 110/4700 [05:22<11:05,  6.90it/s]\n",
      "\u001b[A"
     ]
    },
    {
     "name": "stdout",
     "output_type": "stream",
     "text": [
      "{'eval_loss': 0.033290281891822815, 'eval_runtime': 0.0303, 'eval_samples_per_second': 362.789, 'eval_steps_per_second': 197.885, 'epoch': 14.89}\n"
     ]
    },
    {
     "name": "stderr",
     "output_type": "stream",
     "text": [
      "                                                  \n",
      "  2%|▏         | 110/4700 [05:24<11:05,  6.90it/s]"
     ]
    },
    {
     "name": "stdout",
     "output_type": "stream",
     "text": [
      "{'loss': 0.0093, 'grad_norm': 0.01719733700156212, 'learning_rate': 8.48936170212766e-06, 'epoch': 15.11}\n"
     ]
    },
    {
     "name": "stderr",
     "output_type": "stream",
     "text": [
      "\n",
      "\u001b[A\n",
      "\n",
      "                                                  \n",
      "\u001b[A                                               \n",
      "  2%|▏         | 110/4700 [05:24<11:05,  6.90it/s]\n",
      "\u001b[A"
     ]
    },
    {
     "name": "stdout",
     "output_type": "stream",
     "text": [
      "{'eval_loss': 0.0373632051050663, 'eval_runtime': 0.0329, 'eval_samples_per_second': 334.019, 'eval_steps_per_second': 182.192, 'epoch': 15.11}\n"
     ]
    },
    {
     "name": "stderr",
     "output_type": "stream",
     "text": [
      "                                                  \n",
      "  2%|▏         | 110/4700 [05:27<11:05,  6.90it/s]"
     ]
    },
    {
     "name": "stdout",
     "output_type": "stream",
     "text": [
      "{'loss': 0.0022, 'grad_norm': 0.017093980684876442, 'learning_rate': 8.46808510638298e-06, 'epoch': 15.32}\n"
     ]
    },
    {
     "name": "stderr",
     "output_type": "stream",
     "text": [
      "\n",
      "\u001b[A\n",
      "\n",
      "                                                  \n",
      "\u001b[A                                               \n",
      "  2%|▏         | 110/4700 [05:27<11:05,  6.90it/s]\n",
      "\u001b[A"
     ]
    },
    {
     "name": "stdout",
     "output_type": "stream",
     "text": [
      "{'eval_loss': 0.043943919241428375, 'eval_runtime': 0.0268, 'eval_samples_per_second': 410.088, 'eval_steps_per_second': 223.684, 'epoch': 15.32}\n"
     ]
    },
    {
     "name": "stderr",
     "output_type": "stream",
     "text": [
      "                                                  \n",
      "  2%|▏         | 110/4700 [05:29<11:05,  6.90it/s]"
     ]
    },
    {
     "name": "stdout",
     "output_type": "stream",
     "text": [
      "{'loss': 0.0018, 'grad_norm': 0.1972607970237732, 'learning_rate': 8.446808510638299e-06, 'epoch': 15.53}\n"
     ]
    },
    {
     "name": "stderr",
     "output_type": "stream",
     "text": [
      "\n",
      "\u001b[A\n",
      "\n",
      "                                                  \n",
      "\u001b[A                                               \n",
      "  2%|▏         | 110/4700 [05:29<11:05,  6.90it/s]\n",
      "\u001b[A"
     ]
    },
    {
     "name": "stdout",
     "output_type": "stream",
     "text": [
      "{'eval_loss': 0.04561256244778633, 'eval_runtime': 0.0278, 'eval_samples_per_second': 395.201, 'eval_steps_per_second': 215.564, 'epoch': 15.53}\n"
     ]
    },
    {
     "name": "stderr",
     "output_type": "stream",
     "text": [
      "                                                  \n",
      "  2%|▏         | 110/4700 [05:31<11:05,  6.90it/s]"
     ]
    },
    {
     "name": "stdout",
     "output_type": "stream",
     "text": [
      "{'loss': 0.0027, 'grad_norm': 0.04894406720995903, 'learning_rate': 8.425531914893618e-06, 'epoch': 15.74}\n"
     ]
    },
    {
     "name": "stderr",
     "output_type": "stream",
     "text": [
      "\n",
      "\u001b[A\n",
      "\n",
      "                                                  \n",
      "\u001b[A                                               \n",
      "  2%|▏         | 110/4700 [05:31<11:05,  6.90it/s]\n",
      "\u001b[A"
     ]
    },
    {
     "name": "stdout",
     "output_type": "stream",
     "text": [
      "{'eval_loss': 0.051673971116542816, 'eval_runtime': 0.0304, 'eval_samples_per_second': 361.66, 'eval_steps_per_second': 197.269, 'epoch': 15.74}\n"
     ]
    },
    {
     "name": "stderr",
     "output_type": "stream",
     "text": [
      "                                                  \n",
      "  2%|▏         | 110/4700 [05:34<11:05,  6.90it/s]"
     ]
    },
    {
     "name": "stdout",
     "output_type": "stream",
     "text": [
      "{'loss': 0.0077, 'grad_norm': 0.9339205026626587, 'learning_rate': 8.404255319148937e-06, 'epoch': 15.96}\n"
     ]
    },
    {
     "name": "stderr",
     "output_type": "stream",
     "text": [
      "\n",
      "\u001b[A\n",
      "\n",
      "                                                  \n",
      "\u001b[A                                               \n",
      "  2%|▏         | 110/4700 [05:34<11:05,  6.90it/s]\n",
      "\u001b[A"
     ]
    },
    {
     "name": "stdout",
     "output_type": "stream",
     "text": [
      "{'eval_loss': 0.04841732606291771, 'eval_runtime': 0.0292, 'eval_samples_per_second': 376.429, 'eval_steps_per_second': 205.325, 'epoch': 15.96}\n"
     ]
    },
    {
     "name": "stderr",
     "output_type": "stream",
     "text": [
      "                                                  \n",
      "  2%|▏         | 110/4700 [05:36<11:05,  6.90it/s]"
     ]
    },
    {
     "name": "stdout",
     "output_type": "stream",
     "text": [
      "{'loss': 0.0025, 'grad_norm': 0.05676007270812988, 'learning_rate': 8.382978723404256e-06, 'epoch': 16.17}\n"
     ]
    },
    {
     "name": "stderr",
     "output_type": "stream",
     "text": [
      "\n",
      "\u001b[A\n",
      "\n",
      "                                                  \n",
      "\u001b[A                                               \n",
      "  2%|▏         | 110/4700 [05:36<11:05,  6.90it/s]\n",
      "\u001b[A"
     ]
    },
    {
     "name": "stdout",
     "output_type": "stream",
     "text": [
      "{'eval_loss': 0.03887132182717323, 'eval_runtime': 0.0287, 'eval_samples_per_second': 383.784, 'eval_steps_per_second': 209.337, 'epoch': 16.17}\n"
     ]
    },
    {
     "name": "stderr",
     "output_type": "stream",
     "text": [
      "                                                  \n",
      "  2%|▏         | 110/4700 [05:38<11:05,  6.90it/s]"
     ]
    },
    {
     "name": "stdout",
     "output_type": "stream",
     "text": [
      "{'loss': 0.0045, 'grad_norm': 0.013881660997867584, 'learning_rate': 8.361702127659575e-06, 'epoch': 16.38}\n"
     ]
    },
    {
     "name": "stderr",
     "output_type": "stream",
     "text": [
      "\n",
      "\u001b[A\n",
      "\n",
      "                                                  \n",
      "\u001b[A                                               \n",
      "  2%|▏         | 110/4700 [05:38<11:05,  6.90it/s]\n",
      "\u001b[A"
     ]
    },
    {
     "name": "stdout",
     "output_type": "stream",
     "text": [
      "{'eval_loss': 0.03963376581668854, 'eval_runtime': 0.039, 'eval_samples_per_second': 282.184, 'eval_steps_per_second': 153.918, 'epoch': 16.38}\n"
     ]
    },
    {
     "name": "stderr",
     "output_type": "stream",
     "text": [
      "                                                  \n",
      "  2%|▏         | 110/4700 [05:41<11:05,  6.90it/s]"
     ]
    },
    {
     "name": "stdout",
     "output_type": "stream",
     "text": [
      "{'loss': 0.0019, 'grad_norm': 0.014988496899604797, 'learning_rate': 8.340425531914894e-06, 'epoch': 16.6}\n"
     ]
    },
    {
     "name": "stderr",
     "output_type": "stream",
     "text": [
      "\n",
      "\u001b[A\n",
      "\n",
      "                                                  \n",
      "\u001b[A                                               \n",
      "  2%|▏         | 110/4700 [05:41<11:05,  6.90it/s]\n",
      "\u001b[A"
     ]
    },
    {
     "name": "stdout",
     "output_type": "stream",
     "text": [
      "{'eval_loss': 0.04262934625148773, 'eval_runtime': 0.03, 'eval_samples_per_second': 366.446, 'eval_steps_per_second': 199.879, 'epoch': 16.6}\n"
     ]
    },
    {
     "name": "stderr",
     "output_type": "stream",
     "text": [
      "                                                  \n",
      "  2%|▏         | 110/4700 [05:43<11:05,  6.90it/s]"
     ]
    },
    {
     "name": "stdout",
     "output_type": "stream",
     "text": [
      "{'loss': 0.0073, 'grad_norm': 0.053604673594236374, 'learning_rate': 8.319148936170213e-06, 'epoch': 16.81}\n"
     ]
    },
    {
     "name": "stderr",
     "output_type": "stream",
     "text": [
      "\n",
      "\u001b[A\n",
      "\n",
      "                                                  \n",
      "\u001b[A                                               \n",
      "  2%|▏         | 110/4700 [05:43<11:05,  6.90it/s]\n",
      "\u001b[A"
     ]
    },
    {
     "name": "stdout",
     "output_type": "stream",
     "text": [
      "{'eval_loss': 0.042047277092933655, 'eval_runtime': 0.0302, 'eval_samples_per_second': 363.917, 'eval_steps_per_second': 198.5, 'epoch': 16.81}\n"
     ]
    },
    {
     "name": "stderr",
     "output_type": "stream",
     "text": [
      "                                                  \n",
      "  2%|▏         | 110/4700 [05:46<11:05,  6.90it/s]"
     ]
    },
    {
     "name": "stdout",
     "output_type": "stream",
     "text": [
      "{'loss': 0.0013, 'grad_norm': 0.043101731687784195, 'learning_rate': 8.297872340425532e-06, 'epoch': 17.02}\n"
     ]
    },
    {
     "name": "stderr",
     "output_type": "stream",
     "text": [
      "\n",
      "\u001b[A\n",
      "\n",
      "                                                  \n",
      "\u001b[A                                               \n",
      "  2%|▏         | 110/4700 [05:46<11:05,  6.90it/s]\n",
      "\u001b[A"
     ]
    },
    {
     "name": "stdout",
     "output_type": "stream",
     "text": [
      "{'eval_loss': 0.04129178449511528, 'eval_runtime': 0.0335, 'eval_samples_per_second': 328.745, 'eval_steps_per_second': 179.315, 'epoch': 17.02}\n"
     ]
    },
    {
     "name": "stderr",
     "output_type": "stream",
     "text": [
      "                                                  \n",
      "  2%|▏         | 110/4700 [05:48<11:05,  6.90it/s]"
     ]
    },
    {
     "name": "stdout",
     "output_type": "stream",
     "text": [
      "{'loss': 0.0058, 'grad_norm': 1.2247872352600098, 'learning_rate': 8.276595744680851e-06, 'epoch': 17.23}\n"
     ]
    },
    {
     "name": "stderr",
     "output_type": "stream",
     "text": [
      "\n",
      "\u001b[A\n",
      "\n",
      "                                                  \n",
      "\u001b[A                                               \n",
      "  2%|▏         | 110/4700 [05:48<11:05,  6.90it/s]\n",
      "\u001b[A"
     ]
    },
    {
     "name": "stdout",
     "output_type": "stream",
     "text": [
      "{'eval_loss': 0.036455266177654266, 'eval_runtime': 0.0269, 'eval_samples_per_second': 409.669, 'eval_steps_per_second': 223.456, 'epoch': 17.23}\n"
     ]
    },
    {
     "name": "stderr",
     "output_type": "stream",
     "text": [
      "                                                  \n",
      "  2%|▏         | 110/4700 [05:51<11:05,  6.90it/s]"
     ]
    },
    {
     "name": "stdout",
     "output_type": "stream",
     "text": [
      "{'loss': 0.0059, 'grad_norm': 0.7844254374504089, 'learning_rate': 8.25531914893617e-06, 'epoch': 17.45}\n"
     ]
    },
    {
     "name": "stderr",
     "output_type": "stream",
     "text": [
      "\n",
      "\u001b[A\n",
      "\n",
      "                                                  \n",
      "\u001b[A                                               \n",
      "  2%|▏         | 110/4700 [05:51<11:05,  6.90it/s]\n",
      "\u001b[A"
     ]
    },
    {
     "name": "stdout",
     "output_type": "stream",
     "text": [
      "{'eval_loss': 0.0341184176504612, 'eval_runtime': 0.0314, 'eval_samples_per_second': 350.665, 'eval_steps_per_second': 191.272, 'epoch': 17.45}\n"
     ]
    },
    {
     "name": "stderr",
     "output_type": "stream",
     "text": [
      "                                                  \n",
      "  2%|▏         | 110/4700 [05:53<11:05,  6.90it/s]"
     ]
    },
    {
     "name": "stdout",
     "output_type": "stream",
     "text": [
      "{'loss': 0.0014, 'grad_norm': 0.029000524431467056, 'learning_rate': 8.23404255319149e-06, 'epoch': 17.66}\n"
     ]
    },
    {
     "name": "stderr",
     "output_type": "stream",
     "text": [
      "\n",
      "\u001b[A\n",
      "\n",
      "                                                  \n",
      "\u001b[A                                               \n",
      "  2%|▏         | 110/4700 [05:53<11:05,  6.90it/s]\n",
      "\u001b[A"
     ]
    },
    {
     "name": "stdout",
     "output_type": "stream",
     "text": [
      "{'eval_loss': 0.034199297428131104, 'eval_runtime': 0.0355, 'eval_samples_per_second': 309.755, 'eval_steps_per_second': 168.957, 'epoch': 17.66}\n"
     ]
    },
    {
     "name": "stderr",
     "output_type": "stream",
     "text": [
      "                                                  \n",
      "  2%|▏         | 110/4700 [05:55<11:05,  6.90it/s]"
     ]
    },
    {
     "name": "stdout",
     "output_type": "stream",
     "text": [
      "{'loss': 0.0026, 'grad_norm': 0.0447973757982254, 'learning_rate': 8.212765957446809e-06, 'epoch': 17.87}\n"
     ]
    },
    {
     "name": "stderr",
     "output_type": "stream",
     "text": [
      "\n",
      "\u001b[A\n",
      "\n",
      "                                                  \n",
      "\u001b[A                                               \n",
      "  2%|▏         | 110/4700 [05:55<11:05,  6.90it/s]\n",
      "\u001b[A"
     ]
    },
    {
     "name": "stdout",
     "output_type": "stream",
     "text": [
      "{'eval_loss': 0.03333542123436928, 'eval_runtime': 0.0272, 'eval_samples_per_second': 404.866, 'eval_steps_per_second': 220.836, 'epoch': 17.87}\n"
     ]
    },
    {
     "name": "stderr",
     "output_type": "stream",
     "text": [
      "                                                  \n",
      "  2%|▏         | 110/4700 [05:58<11:05,  6.90it/s]"
     ]
    },
    {
     "name": "stdout",
     "output_type": "stream",
     "text": [
      "{'loss': 0.002, 'grad_norm': 0.05341148003935814, 'learning_rate': 8.191489361702128e-06, 'epoch': 18.09}\n"
     ]
    },
    {
     "name": "stderr",
     "output_type": "stream",
     "text": [
      "\n",
      "\u001b[A\n",
      "\n",
      "                                                  \n",
      "\u001b[A                                               \n",
      "  2%|▏         | 110/4700 [05:58<11:05,  6.90it/s]\n",
      "\u001b[A"
     ]
    },
    {
     "name": "stdout",
     "output_type": "stream",
     "text": [
      "{'eval_loss': 0.033711664378643036, 'eval_runtime': 0.027, 'eval_samples_per_second': 408.01, 'eval_steps_per_second': 222.551, 'epoch': 18.09}\n"
     ]
    },
    {
     "name": "stderr",
     "output_type": "stream",
     "text": [
      "                                                  \n",
      "  2%|▏         | 110/4700 [06:00<11:05,  6.90it/s]"
     ]
    },
    {
     "name": "stdout",
     "output_type": "stream",
     "text": [
      "{'loss': 0.0069, 'grad_norm': 0.013588120229542255, 'learning_rate': 8.170212765957447e-06, 'epoch': 18.3}\n"
     ]
    },
    {
     "name": "stderr",
     "output_type": "stream",
     "text": [
      "\n",
      "\u001b[A\n",
      "\n",
      "                                                  \n",
      "\u001b[A                                               \n",
      "  2%|▏         | 110/4700 [06:00<11:05,  6.90it/s]\n",
      "\u001b[A"
     ]
    },
    {
     "name": "stdout",
     "output_type": "stream",
     "text": [
      "{'eval_loss': 0.0896047055721283, 'eval_runtime': 0.029, 'eval_samples_per_second': 379.088, 'eval_steps_per_second': 206.776, 'epoch': 18.3}\n"
     ]
    },
    {
     "name": "stderr",
     "output_type": "stream",
     "text": [
      "                                                  \n",
      "  2%|▏         | 110/4700 [06:02<11:05,  6.90it/s]"
     ]
    },
    {
     "name": "stdout",
     "output_type": "stream",
     "text": [
      "{'loss': 0.0039, 'grad_norm': 0.0722021609544754, 'learning_rate': 8.148936170212766e-06, 'epoch': 18.51}\n"
     ]
    },
    {
     "name": "stderr",
     "output_type": "stream",
     "text": [
      "\n",
      "\u001b[A\n",
      "\n",
      "                                                  \n",
      "\u001b[A                                               \n",
      "  2%|▏         | 110/4700 [06:02<11:05,  6.90it/s]\n",
      "\u001b[A"
     ]
    },
    {
     "name": "stdout",
     "output_type": "stream",
     "text": [
      "{'eval_loss': 0.1157418042421341, 'eval_runtime': 0.028, 'eval_samples_per_second': 393.355, 'eval_steps_per_second': 214.557, 'epoch': 18.51}\n"
     ]
    },
    {
     "name": "stderr",
     "output_type": "stream",
     "text": [
      "                                                  \n",
      "  2%|▏         | 110/4700 [06:05<11:05,  6.90it/s]"
     ]
    },
    {
     "name": "stdout",
     "output_type": "stream",
     "text": [
      "{'loss': 0.0012, 'grad_norm': 0.044531043618917465, 'learning_rate': 8.127659574468085e-06, 'epoch': 18.72}\n"
     ]
    },
    {
     "name": "stderr",
     "output_type": "stream",
     "text": [
      "\n",
      "\u001b[A\n",
      "\n",
      "                                                  \n",
      "\u001b[A                                               \n",
      "  2%|▏         | 110/4700 [06:05<11:05,  6.90it/s]\n",
      "\u001b[A"
     ]
    },
    {
     "name": "stdout",
     "output_type": "stream",
     "text": [
      "{'eval_loss': 0.12197493761777878, 'eval_runtime': 0.0262, 'eval_samples_per_second': 420.451, 'eval_steps_per_second': 229.337, 'epoch': 18.72}\n"
     ]
    },
    {
     "name": "stderr",
     "output_type": "stream",
     "text": [
      "                                                  \n",
      "  2%|▏         | 110/4700 [06:07<11:05,  6.90it/s]"
     ]
    },
    {
     "name": "stdout",
     "output_type": "stream",
     "text": [
      "{'loss': 0.0023, 'grad_norm': 0.029320204630494118, 'learning_rate': 8.106382978723404e-06, 'epoch': 18.94}\n"
     ]
    },
    {
     "name": "stderr",
     "output_type": "stream",
     "text": [
      "\n",
      "\u001b[A\n",
      "\n",
      "                                                  \n",
      "\u001b[A                                               \n",
      "  2%|▏         | 110/4700 [06:07<11:05,  6.90it/s]\n",
      "\u001b[A"
     ]
    },
    {
     "name": "stdout",
     "output_type": "stream",
     "text": [
      "{'eval_loss': 0.11928176134824753, 'eval_runtime': 0.0304, 'eval_samples_per_second': 361.581, 'eval_steps_per_second': 197.226, 'epoch': 18.94}\n"
     ]
    },
    {
     "name": "stderr",
     "output_type": "stream",
     "text": [
      "                                                  \n",
      "  2%|▏         | 110/4700 [06:09<11:05,  6.90it/s]"
     ]
    },
    {
     "name": "stdout",
     "output_type": "stream",
     "text": [
      "{'loss': 0.0015, 'grad_norm': 0.013730037026107311, 'learning_rate': 8.085106382978723e-06, 'epoch': 19.15}\n"
     ]
    },
    {
     "name": "stderr",
     "output_type": "stream",
     "text": [
      "\n",
      "\u001b[A\n",
      "\n",
      "                                                  \n",
      "\u001b[A                                               \n",
      "  2%|▏         | 110/4700 [06:09<11:05,  6.90it/s]\n",
      "\u001b[A"
     ]
    },
    {
     "name": "stdout",
     "output_type": "stream",
     "text": [
      "{'eval_loss': 0.11530052870512009, 'eval_runtime': 0.028, 'eval_samples_per_second': 392.932, 'eval_steps_per_second': 214.327, 'epoch': 19.15}\n"
     ]
    },
    {
     "name": "stderr",
     "output_type": "stream",
     "text": [
      "                                                  \n",
      "  2%|▏         | 110/4700 [06:12<11:05,  6.90it/s]"
     ]
    },
    {
     "name": "stdout",
     "output_type": "stream",
     "text": [
      "{'loss': 0.002, 'grad_norm': 0.1786094605922699, 'learning_rate': 8.063829787234044e-06, 'epoch': 19.36}\n"
     ]
    },
    {
     "name": "stderr",
     "output_type": "stream",
     "text": [
      "\n",
      "\u001b[A\n",
      "\n",
      "                                                  \n",
      "\u001b[A                                               \n",
      "  2%|▏         | 110/4700 [06:12<11:05,  6.90it/s]\n",
      "\u001b[A"
     ]
    },
    {
     "name": "stdout",
     "output_type": "stream",
     "text": [
      "{'eval_loss': 0.11092701554298401, 'eval_runtime': 0.0424, 'eval_samples_per_second': 259.155, 'eval_steps_per_second': 141.357, 'epoch': 19.36}\n"
     ]
    },
    {
     "name": "stderr",
     "output_type": "stream",
     "text": [
      "                                                  \n",
      "  2%|▏         | 110/4700 [06:14<11:05,  6.90it/s]"
     ]
    },
    {
     "name": "stdout",
     "output_type": "stream",
     "text": [
      "{'loss': 0.0014, 'grad_norm': 0.016583429649472237, 'learning_rate': 8.042553191489363e-06, 'epoch': 19.57}\n"
     ]
    },
    {
     "name": "stderr",
     "output_type": "stream",
     "text": [
      "\n",
      "\u001b[A\n",
      "\n",
      "                                                  \n",
      "\u001b[A                                               \n",
      "  2%|▏         | 110/4700 [06:14<11:05,  6.90it/s]\n",
      "\u001b[A"
     ]
    },
    {
     "name": "stdout",
     "output_type": "stream",
     "text": [
      "{'eval_loss': 0.10709193348884583, 'eval_runtime': 0.0281, 'eval_samples_per_second': 391.071, 'eval_steps_per_second': 213.311, 'epoch': 19.57}\n"
     ]
    },
    {
     "name": "stderr",
     "output_type": "stream",
     "text": [
      "                                                  \n",
      "  2%|▏         | 110/4700 [06:17<11:05,  6.90it/s]"
     ]
    },
    {
     "name": "stdout",
     "output_type": "stream",
     "text": [
      "{'loss': 0.0071, 'grad_norm': 0.06860634684562683, 'learning_rate': 8.021276595744682e-06, 'epoch': 19.79}\n"
     ]
    },
    {
     "name": "stderr",
     "output_type": "stream",
     "text": [
      "\n",
      "\u001b[A\n",
      "\n",
      "                                                  \n",
      "\u001b[A                                               \n",
      "  2%|▏         | 110/4700 [06:17<11:05,  6.90it/s]\n",
      "\u001b[A"
     ]
    },
    {
     "name": "stdout",
     "output_type": "stream",
     "text": [
      "{'eval_loss': 0.10208120197057724, 'eval_runtime': 0.0265, 'eval_samples_per_second': 415.712, 'eval_steps_per_second': 226.752, 'epoch': 19.79}\n"
     ]
    },
    {
     "name": "stderr",
     "output_type": "stream",
     "text": [
      "                                                  \n",
      "  2%|▏         | 110/4700 [06:19<11:05,  6.90it/s]"
     ]
    },
    {
     "name": "stdout",
     "output_type": "stream",
     "text": [
      "{'loss': 0.0016, 'grad_norm': 0.012871140614151955, 'learning_rate': 8.000000000000001e-06, 'epoch': 20.0}\n"
     ]
    },
    {
     "name": "stderr",
     "output_type": "stream",
     "text": [
      "\n",
      "\u001b[A\n",
      "\n",
      "                                                  \n",
      "\u001b[A                                               \n",
      "  2%|▏         | 110/4700 [06:19<11:05,  6.90it/s]\n",
      "\u001b[A"
     ]
    },
    {
     "name": "stdout",
     "output_type": "stream",
     "text": [
      "{'eval_loss': 0.09838104993104935, 'eval_runtime': 0.0286, 'eval_samples_per_second': 385.258, 'eval_steps_per_second': 210.141, 'epoch': 20.0}\n"
     ]
    },
    {
     "name": "stderr",
     "output_type": "stream",
     "text": [
      "                                                  \n",
      "  2%|▏         | 110/4700 [06:21<11:05,  6.90it/s]"
     ]
    },
    {
     "name": "stdout",
     "output_type": "stream",
     "text": [
      "{'loss': 0.0028, 'grad_norm': 0.25574591755867004, 'learning_rate': 7.97872340425532e-06, 'epoch': 20.21}\n"
     ]
    },
    {
     "name": "stderr",
     "output_type": "stream",
     "text": [
      "\n",
      "\u001b[A\n",
      "\n",
      "                                                  \n",
      "\u001b[A                                               \n",
      "  2%|▏         | 110/4700 [06:21<11:05,  6.90it/s]\n",
      "\u001b[A"
     ]
    },
    {
     "name": "stdout",
     "output_type": "stream",
     "text": [
      "{'eval_loss': 0.09708276391029358, 'eval_runtime': 0.0268, 'eval_samples_per_second': 410.551, 'eval_steps_per_second': 223.937, 'epoch': 20.21}\n"
     ]
    },
    {
     "name": "stderr",
     "output_type": "stream",
     "text": [
      "                                                  \n",
      "  2%|▏         | 110/4700 [06:24<11:05,  6.90it/s]"
     ]
    },
    {
     "name": "stdout",
     "output_type": "stream",
     "text": [
      "{'loss': 0.0016, 'grad_norm': 0.011808671057224274, 'learning_rate': 7.95744680851064e-06, 'epoch': 20.43}\n"
     ]
    },
    {
     "name": "stderr",
     "output_type": "stream",
     "text": [
      "\n",
      "\u001b[A\n",
      "\n",
      "                                                  \n",
      "\u001b[A                                               \n",
      "  2%|▏         | 110/4700 [06:24<11:05,  6.90it/s]\n",
      "\u001b[A"
     ]
    },
    {
     "name": "stdout",
     "output_type": "stream",
     "text": [
      "{'eval_loss': 0.09505417943000793, 'eval_runtime': 0.0291, 'eval_samples_per_second': 377.967, 'eval_steps_per_second': 206.164, 'epoch': 20.43}\n"
     ]
    },
    {
     "name": "stderr",
     "output_type": "stream",
     "text": [
      "                                                  \n",
      "  2%|▏         | 110/4700 [06:26<11:05,  6.90it/s]"
     ]
    },
    {
     "name": "stdout",
     "output_type": "stream",
     "text": [
      "{'loss': 0.0039, 'grad_norm': 0.03940035030245781, 'learning_rate': 7.936170212765959e-06, 'epoch': 20.64}\n"
     ]
    },
    {
     "name": "stderr",
     "output_type": "stream",
     "text": [
      "\n",
      "\u001b[A\n",
      "\n",
      "                                                  \n",
      "\u001b[A                                               \n",
      "  2%|▏         | 110/4700 [06:26<11:05,  6.90it/s]\n",
      "\u001b[A"
     ]
    },
    {
     "name": "stdout",
     "output_type": "stream",
     "text": [
      "{'eval_loss': 0.0937725380063057, 'eval_runtime': 0.0422, 'eval_samples_per_second': 260.557, 'eval_steps_per_second': 142.122, 'epoch': 20.64}\n"
     ]
    },
    {
     "name": "stderr",
     "output_type": "stream",
     "text": [
      "                                                  \n",
      "  2%|▏         | 110/4700 [06:29<11:05,  6.90it/s]"
     ]
    },
    {
     "name": "stdout",
     "output_type": "stream",
     "text": [
      "{'loss': 0.0011, 'grad_norm': 0.040233321487903595, 'learning_rate': 7.914893617021278e-06, 'epoch': 20.85}\n"
     ]
    },
    {
     "name": "stderr",
     "output_type": "stream",
     "text": [
      "\n",
      "\u001b[A\n",
      "\n",
      "                                                  \n",
      "\u001b[A                                               \n",
      "  2%|▏         | 110/4700 [06:29<11:05,  6.90it/s]\n",
      "\u001b[A"
     ]
    },
    {
     "name": "stdout",
     "output_type": "stream",
     "text": [
      "{'eval_loss': 0.09094817191362381, 'eval_runtime': 0.0283, 'eval_samples_per_second': 389.135, 'eval_steps_per_second': 212.255, 'epoch': 20.85}\n"
     ]
    },
    {
     "name": "stderr",
     "output_type": "stream",
     "text": [
      "                                                  \n",
      "  2%|▏         | 110/4700 [06:31<11:05,  6.90it/s]"
     ]
    },
    {
     "name": "stdout",
     "output_type": "stream",
     "text": [
      "{'loss': 0.0013, 'grad_norm': 0.01252650748938322, 'learning_rate': 7.893617021276597e-06, 'epoch': 21.06}\n"
     ]
    },
    {
     "name": "stderr",
     "output_type": "stream",
     "text": [
      "\n",
      "\u001b[A\n",
      "\n",
      "                                                  \n",
      "\u001b[A                                               \n",
      "  2%|▏         | 110/4700 [06:31<11:05,  6.90it/s]\n",
      "\u001b[A"
     ]
    },
    {
     "name": "stdout",
     "output_type": "stream",
     "text": [
      "{'eval_loss': 0.0880294218659401, 'eval_runtime': 0.0285, 'eval_samples_per_second': 386.18, 'eval_steps_per_second': 210.644, 'epoch': 21.06}\n"
     ]
    },
    {
     "name": "stderr",
     "output_type": "stream",
     "text": [
      "                                                  \n",
      "  2%|▏         | 110/4700 [06:33<11:05,  6.90it/s] "
     ]
    },
    {
     "name": "stdout",
     "output_type": "stream",
     "text": [
      "{'loss': 0.0025, 'grad_norm': 0.2521754205226898, 'learning_rate': 7.872340425531916e-06, 'epoch': 21.28}\n"
     ]
    },
    {
     "name": "stderr",
     "output_type": "stream",
     "text": [
      "\n",
      "\u001b[A\n",
      "\n",
      "                                                  \n",
      "\u001b[A                                                \n",
      "  2%|▏         | 110/4700 [06:33<11:05,  6.90it/s]\n",
      "\u001b[A"
     ]
    },
    {
     "name": "stdout",
     "output_type": "stream",
     "text": [
      "{'eval_loss': 0.08629319071769714, 'eval_runtime': 0.0294, 'eval_samples_per_second': 373.603, 'eval_steps_per_second': 203.783, 'epoch': 21.28}\n"
     ]
    },
    {
     "name": "stderr",
     "output_type": "stream",
     "text": [
      "                                                  \n",
      "  2%|▏         | 110/4700 [06:36<11:05,  6.90it/s] "
     ]
    },
    {
     "name": "stdout",
     "output_type": "stream",
     "text": [
      "{'loss': 0.0013, 'grad_norm': 0.025206295773386955, 'learning_rate': 7.851063829787235e-06, 'epoch': 21.49}\n"
     ]
    },
    {
     "name": "stderr",
     "output_type": "stream",
     "text": [
      "\n",
      "\u001b[A\n",
      "\n",
      "                                                  \n",
      "\u001b[A                                                \n",
      "  2%|▏         | 110/4700 [06:36<11:05,  6.90it/s]\n",
      "\u001b[A"
     ]
    },
    {
     "name": "stdout",
     "output_type": "stream",
     "text": [
      "{'eval_loss': 0.08446166664361954, 'eval_runtime': 0.0267, 'eval_samples_per_second': 411.981, 'eval_steps_per_second': 224.717, 'epoch': 21.49}\n"
     ]
    },
    {
     "name": "stderr",
     "output_type": "stream",
     "text": [
      "                                                  \n",
      "  2%|▏         | 110/4700 [06:38<11:05,  6.90it/s] "
     ]
    },
    {
     "name": "stdout",
     "output_type": "stream",
     "text": [
      "{'loss': 0.0027, 'grad_norm': 0.040808819234371185, 'learning_rate': 7.829787234042554e-06, 'epoch': 21.7}\n"
     ]
    },
    {
     "name": "stderr",
     "output_type": "stream",
     "text": [
      "\n",
      "\u001b[A\n",
      "\n",
      "                                                  \n",
      "\u001b[A                                                \n",
      "  2%|▏         | 110/4700 [06:38<11:05,  6.90it/s]\n",
      "\u001b[A"
     ]
    },
    {
     "name": "stdout",
     "output_type": "stream",
     "text": [
      "{'eval_loss': 0.08767563849687576, 'eval_runtime': 0.0272, 'eval_samples_per_second': 404.207, 'eval_steps_per_second': 220.476, 'epoch': 21.7}\n"
     ]
    },
    {
     "name": "stderr",
     "output_type": "stream",
     "text": [
      "                                                  \n",
      "  2%|▏         | 110/4700 [06:40<11:05,  6.90it/s] "
     ]
    },
    {
     "name": "stdout",
     "output_type": "stream",
     "text": [
      "{'loss': 0.0016, 'grad_norm': 0.027572084218263626, 'learning_rate': 7.808510638297873e-06, 'epoch': 21.91}\n"
     ]
    },
    {
     "name": "stderr",
     "output_type": "stream",
     "text": [
      "\n",
      "\u001b[A\n",
      "\n",
      "                                                  \n",
      "\u001b[A                                                \n",
      "  2%|▏         | 110/4700 [06:41<11:05,  6.90it/s]\n",
      "\u001b[A"
     ]
    },
    {
     "name": "stdout",
     "output_type": "stream",
     "text": [
      "{'eval_loss': 0.08932077884674072, 'eval_runtime': 0.0333, 'eval_samples_per_second': 330.715, 'eval_steps_per_second': 180.39, 'epoch': 21.91}\n"
     ]
    },
    {
     "name": "stderr",
     "output_type": "stream",
     "text": [
      "                                                  \n",
      "  2%|▏         | 110/4700 [06:43<11:05,  6.90it/s] "
     ]
    },
    {
     "name": "stdout",
     "output_type": "stream",
     "text": [
      "{'loss': 0.0008, 'grad_norm': 0.0166877880692482, 'learning_rate': 7.787234042553192e-06, 'epoch': 22.13}\n"
     ]
    },
    {
     "name": "stderr",
     "output_type": "stream",
     "text": [
      "\n",
      "\u001b[A\n",
      "\n",
      "                                                  \n",
      "\u001b[A                                                \n",
      "  2%|▏         | 110/4700 [06:43<11:05,  6.90it/s]\n",
      "\u001b[A"
     ]
    },
    {
     "name": "stdout",
     "output_type": "stream",
     "text": [
      "{'eval_loss': 0.0872858315706253, 'eval_runtime': 0.0262, 'eval_samples_per_second': 419.415, 'eval_steps_per_second': 228.772, 'epoch': 22.13}\n"
     ]
    },
    {
     "name": "stderr",
     "output_type": "stream",
     "text": [
      "                                                  \n",
      "  2%|▏         | 110/4700 [06:45<11:05,  6.90it/s] "
     ]
    },
    {
     "name": "stdout",
     "output_type": "stream",
     "text": [
      "{'loss': 0.0013, 'grad_norm': 0.0346531942486763, 'learning_rate': 7.765957446808511e-06, 'epoch': 22.34}\n"
     ]
    },
    {
     "name": "stderr",
     "output_type": "stream",
     "text": [
      "\n",
      "\u001b[A\n",
      "\n",
      "                                                  \n",
      "\u001b[A                                                \n",
      "  2%|▏         | 110/4700 [06:45<11:05,  6.90it/s]\n",
      "\u001b[A"
     ]
    },
    {
     "name": "stdout",
     "output_type": "stream",
     "text": [
      "{'eval_loss': 0.08580081909894943, 'eval_runtime': 0.0304, 'eval_samples_per_second': 362.029, 'eval_steps_per_second': 197.47, 'epoch': 22.34}\n"
     ]
    },
    {
     "name": "stderr",
     "output_type": "stream",
     "text": [
      "                                                  \n",
      "  2%|▏         | 110/4700 [06:48<11:05,  6.90it/s] "
     ]
    },
    {
     "name": "stdout",
     "output_type": "stream",
     "text": [
      "{'loss': 0.0013, 'grad_norm': 0.02296130172908306, 'learning_rate': 7.74468085106383e-06, 'epoch': 22.55}\n"
     ]
    },
    {
     "name": "stderr",
     "output_type": "stream",
     "text": [
      "\n",
      "\u001b[A\n",
      "\n",
      "                                                  \n",
      "\u001b[A                                                \n",
      "  2%|▏         | 110/4700 [06:48<11:05,  6.90it/s]\n",
      "\u001b[A"
     ]
    },
    {
     "name": "stdout",
     "output_type": "stream",
     "text": [
      "{'eval_loss': 0.08742813766002655, 'eval_runtime': 0.0324, 'eval_samples_per_second': 339.243, 'eval_steps_per_second': 185.041, 'epoch': 22.55}\n"
     ]
    },
    {
     "name": "stderr",
     "output_type": "stream",
     "text": [
      "                                                  \n",
      "  2%|▏         | 110/4700 [06:50<11:05,  6.90it/s] "
     ]
    },
    {
     "name": "stdout",
     "output_type": "stream",
     "text": [
      "{'loss': 0.0026, 'grad_norm': 0.02088942937552929, 'learning_rate': 7.72340425531915e-06, 'epoch': 22.77}\n"
     ]
    },
    {
     "name": "stderr",
     "output_type": "stream",
     "text": [
      "\n",
      "\u001b[A\n",
      "\n",
      "                                                  \n",
      "\u001b[A                                                \n",
      "  2%|▏         | 110/4700 [06:50<11:05,  6.90it/s]\n",
      "\u001b[A"
     ]
    },
    {
     "name": "stdout",
     "output_type": "stream",
     "text": [
      "{'eval_loss': 0.08659926801919937, 'eval_runtime': 0.033, 'eval_samples_per_second': 332.932, 'eval_steps_per_second': 181.599, 'epoch': 22.77}\n"
     ]
    },
    {
     "name": "stderr",
     "output_type": "stream",
     "text": [
      "                                                  \n",
      "  2%|▏         | 110/4700 [06:53<11:05,  6.90it/s] "
     ]
    },
    {
     "name": "stdout",
     "output_type": "stream",
     "text": [
      "{'loss': 0.0021, 'grad_norm': 0.05876706913113594, 'learning_rate': 7.702127659574469e-06, 'epoch': 22.98}\n"
     ]
    },
    {
     "name": "stderr",
     "output_type": "stream",
     "text": [
      "\n",
      "\u001b[A\n",
      "\n",
      "                                                  \n",
      "\u001b[A                                                \n",
      "  2%|▏         | 110/4700 [06:53<11:05,  6.90it/s]\n",
      "\u001b[A"
     ]
    },
    {
     "name": "stdout",
     "output_type": "stream",
     "text": [
      "{'eval_loss': 0.07995184510946274, 'eval_runtime': 0.0274, 'eval_samples_per_second': 401.533, 'eval_steps_per_second': 219.018, 'epoch': 22.98}\n"
     ]
    },
    {
     "name": "stderr",
     "output_type": "stream",
     "text": [
      "                                                  \n",
      "  2%|▏         | 110/4700 [06:55<11:05,  6.90it/s] "
     ]
    },
    {
     "name": "stdout",
     "output_type": "stream",
     "text": [
      "{'loss': 0.0012, 'grad_norm': 0.047738559544086456, 'learning_rate': 7.680851063829788e-06, 'epoch': 23.19}\n"
     ]
    },
    {
     "name": "stderr",
     "output_type": "stream",
     "text": [
      "\n",
      "\u001b[A\n",
      "\n",
      "                                                  \n",
      "\u001b[A                                                \n",
      "  2%|▏         | 110/4700 [06:55<11:05,  6.90it/s]\n",
      "\u001b[A"
     ]
    },
    {
     "name": "stdout",
     "output_type": "stream",
     "text": [
      "{'eval_loss': 0.07391344755887985, 'eval_runtime': 0.0312, 'eval_samples_per_second': 353.013, 'eval_steps_per_second': 192.552, 'epoch': 23.19}\n"
     ]
    },
    {
     "name": "stderr",
     "output_type": "stream",
     "text": [
      "                                                  \n",
      "  2%|▏         | 110/4700 [06:58<11:05,  6.90it/s] "
     ]
    },
    {
     "name": "stdout",
     "output_type": "stream",
     "text": [
      "{'loss': 0.0019, 'grad_norm': 0.019184159114956856, 'learning_rate': 7.659574468085107e-06, 'epoch': 23.4}\n"
     ]
    },
    {
     "name": "stderr",
     "output_type": "stream",
     "text": [
      "\n",
      "\u001b[A\n",
      "\n",
      "                                                  \n",
      "\u001b[A                                                \n",
      "  2%|▏         | 110/4700 [06:58<11:05,  6.90it/s]\n",
      "\u001b[A"
     ]
    },
    {
     "name": "stdout",
     "output_type": "stream",
     "text": [
      "{'eval_loss': 0.06942913681268692, 'eval_runtime': 0.0288, 'eval_samples_per_second': 381.666, 'eval_steps_per_second': 208.182, 'epoch': 23.4}\n"
     ]
    },
    {
     "name": "stderr",
     "output_type": "stream",
     "text": [
      "                                                  \n",
      "  2%|▏         | 110/4700 [07:01<11:05,  6.90it/s] "
     ]
    },
    {
     "name": "stdout",
     "output_type": "stream",
     "text": [
      "{'loss': 0.0024, 'grad_norm': 0.03259420394897461, 'learning_rate': 7.638297872340426e-06, 'epoch': 23.62}\n"
     ]
    },
    {
     "name": "stderr",
     "output_type": "stream",
     "text": [
      "\n",
      "\u001b[A\n",
      "\n",
      "                                                  \n",
      "\u001b[A                                                \n",
      "  2%|▏         | 110/4700 [07:01<11:05,  6.90it/s]\n",
      "\u001b[A"
     ]
    },
    {
     "name": "stdout",
     "output_type": "stream",
     "text": [
      "{'eval_loss': 0.07299545407295227, 'eval_runtime': 0.0271, 'eval_samples_per_second': 405.774, 'eval_steps_per_second': 221.331, 'epoch': 23.62}\n"
     ]
    },
    {
     "name": "stderr",
     "output_type": "stream",
     "text": [
      "                                                  \n",
      "  2%|▏         | 110/4700 [07:04<11:05,  6.90it/s] "
     ]
    },
    {
     "name": "stdout",
     "output_type": "stream",
     "text": [
      "{'loss': 0.001, 'grad_norm': 0.012673838064074516, 'learning_rate': 7.617021276595745e-06, 'epoch': 23.83}\n"
     ]
    },
    {
     "name": "stderr",
     "output_type": "stream",
     "text": [
      "\n",
      "\u001b[A\n",
      "\n",
      "                                                  \n",
      "\u001b[A                                                \n",
      "  2%|▏         | 110/4700 [07:04<11:05,  6.90it/s]\n",
      "\u001b[A"
     ]
    },
    {
     "name": "stdout",
     "output_type": "stream",
     "text": [
      "{'eval_loss': 0.0717325508594513, 'eval_runtime': 0.0316, 'eval_samples_per_second': 347.999, 'eval_steps_per_second': 189.818, 'epoch': 23.83}\n"
     ]
    },
    {
     "name": "stderr",
     "output_type": "stream",
     "text": [
      "                                                  \n",
      "  2%|▏         | 110/4700 [07:07<11:05,  6.90it/s] "
     ]
    },
    {
     "name": "stdout",
     "output_type": "stream",
     "text": [
      "{'loss': 0.0018, 'grad_norm': 0.01015236135572195, 'learning_rate': 7.595744680851065e-06, 'epoch': 24.04}\n"
     ]
    },
    {
     "name": "stderr",
     "output_type": "stream",
     "text": [
      "\n",
      "\u001b[A\n",
      "\n",
      "                                                  \n",
      "\u001b[A                                                \n",
      "  2%|▏         | 110/4700 [07:07<11:05,  6.90it/s]\n",
      "\u001b[A"
     ]
    },
    {
     "name": "stdout",
     "output_type": "stream",
     "text": [
      "{'eval_loss': 0.06884969770908356, 'eval_runtime': 0.0321, 'eval_samples_per_second': 342.176, 'eval_steps_per_second': 186.642, 'epoch': 24.04}\n"
     ]
    },
    {
     "name": "stderr",
     "output_type": "stream",
     "text": [
      "                                                  \n",
      "  2%|▏         | 110/4700 [07:09<11:05,  6.90it/s] "
     ]
    },
    {
     "name": "stdout",
     "output_type": "stream",
     "text": [
      "{'loss': 0.0013, 'grad_norm': 0.03339921683073044, 'learning_rate': 7.574468085106383e-06, 'epoch': 24.26}\n"
     ]
    },
    {
     "name": "stderr",
     "output_type": "stream",
     "text": [
      "\n",
      "\u001b[A\n",
      "\n",
      "                                                  \n",
      "\u001b[A                                                \n",
      "  2%|▏         | 110/4700 [07:09<11:05,  6.90it/s]\n",
      "\u001b[A"
     ]
    },
    {
     "name": "stdout",
     "output_type": "stream",
     "text": [
      "{'eval_loss': 0.0658835917711258, 'eval_runtime': 0.0281, 'eval_samples_per_second': 390.998, 'eval_steps_per_second': 213.272, 'epoch': 24.26}\n"
     ]
    },
    {
     "name": "stderr",
     "output_type": "stream",
     "text": [
      "                                                  \n",
      "  2%|▏         | 110/4700 [07:11<11:05,  6.90it/s] "
     ]
    },
    {
     "name": "stdout",
     "output_type": "stream",
     "text": [
      "{'loss': 0.0019, 'grad_norm': 0.08589805662631989, 'learning_rate': 7.553191489361703e-06, 'epoch': 24.47}\n"
     ]
    },
    {
     "name": "stderr",
     "output_type": "stream",
     "text": [
      "\n",
      "\u001b[A\n",
      "\n",
      "                                                  \n",
      "\u001b[A                                                \n",
      "  2%|▏         | 110/4700 [07:11<11:05,  6.90it/s]\n",
      "\u001b[A"
     ]
    },
    {
     "name": "stdout",
     "output_type": "stream",
     "text": [
      "{'eval_loss': 0.06569227576255798, 'eval_runtime': 0.0285, 'eval_samples_per_second': 386.009, 'eval_steps_per_second': 210.55, 'epoch': 24.47}\n"
     ]
    },
    {
     "name": "stderr",
     "output_type": "stream",
     "text": [
      "                                                  \n",
      "  2%|▏         | 110/4700 [07:14<11:05,  6.90it/s] "
     ]
    },
    {
     "name": "stdout",
     "output_type": "stream",
     "text": [
      "{'loss': 0.0021, 'grad_norm': 0.02177608571946621, 'learning_rate': 7.5319148936170215e-06, 'epoch': 24.68}\n"
     ]
    },
    {
     "name": "stderr",
     "output_type": "stream",
     "text": [
      "\n",
      "\u001b[A\n",
      "\n",
      "                                                  \n",
      "\u001b[A                                                \n",
      "  2%|▏         | 110/4700 [07:14<11:05,  6.90it/s]\n",
      "\u001b[A"
     ]
    },
    {
     "name": "stdout",
     "output_type": "stream",
     "text": [
      "{'eval_loss': 0.0662156268954277, 'eval_runtime': 0.0276, 'eval_samples_per_second': 399.236, 'eval_steps_per_second': 217.765, 'epoch': 24.68}\n"
     ]
    },
    {
     "name": "stderr",
     "output_type": "stream",
     "text": [
      "                                                  \n",
      "  2%|▏         | 110/4700 [07:16<11:05,  6.90it/s] "
     ]
    },
    {
     "name": "stdout",
     "output_type": "stream",
     "text": [
      "{'loss': 0.0012, 'grad_norm': 0.07359766960144043, 'learning_rate': 7.5106382978723415e-06, 'epoch': 24.89}\n"
     ]
    },
    {
     "name": "stderr",
     "output_type": "stream",
     "text": [
      "\n",
      "\u001b[A\n",
      "\n",
      "                                                  \n",
      "\u001b[A                                                \n",
      "  2%|▏         | 110/4700 [07:16<11:05,  6.90it/s]\n",
      "\u001b[A"
     ]
    },
    {
     "name": "stdout",
     "output_type": "stream",
     "text": [
      "{'eval_loss': 0.06541139632463455, 'eval_runtime': 0.0306, 'eval_samples_per_second': 359.163, 'eval_steps_per_second': 195.907, 'epoch': 24.89}\n"
     ]
    },
    {
     "name": "stderr",
     "output_type": "stream",
     "text": [
      "                                                  \n",
      "  2%|▏         | 110/4700 [07:18<11:05,  6.90it/s] "
     ]
    },
    {
     "name": "stdout",
     "output_type": "stream",
     "text": [
      "{'loss': 0.001, 'grad_norm': 0.026389291509985924, 'learning_rate': 7.48936170212766e-06, 'epoch': 25.11}\n"
     ]
    },
    {
     "name": "stderr",
     "output_type": "stream",
     "text": [
      "\n",
      "\u001b[A\n",
      "\n",
      "                                                  \n",
      "\u001b[A                                                \n",
      "  2%|▏         | 110/4700 [07:18<11:05,  6.90it/s]\n",
      "\u001b[A"
     ]
    },
    {
     "name": "stdout",
     "output_type": "stream",
     "text": [
      "{'eval_loss': 0.06454567611217499, 'eval_runtime': 0.029, 'eval_samples_per_second': 379.241, 'eval_steps_per_second': 206.859, 'epoch': 25.11}\n"
     ]
    },
    {
     "name": "stderr",
     "output_type": "stream",
     "text": [
      "                                                  \n",
      "  2%|▏         | 110/4700 [07:21<11:05,  6.90it/s] "
     ]
    },
    {
     "name": "stdout",
     "output_type": "stream",
     "text": [
      "{'loss': 0.0015, 'grad_norm': 0.022742852568626404, 'learning_rate': 7.46808510638298e-06, 'epoch': 25.32}\n"
     ]
    },
    {
     "name": "stderr",
     "output_type": "stream",
     "text": [
      "\n",
      "\u001b[A\n",
      "\n",
      "                                                  \n",
      "\u001b[A                                                \n",
      "  2%|▏         | 110/4700 [07:21<11:05,  6.90it/s]\n",
      "\u001b[A"
     ]
    },
    {
     "name": "stdout",
     "output_type": "stream",
     "text": [
      "{'eval_loss': 0.06495878100395203, 'eval_runtime': 0.0265, 'eval_samples_per_second': 415.611, 'eval_steps_per_second': 226.697, 'epoch': 25.32}\n"
     ]
    },
    {
     "name": "stderr",
     "output_type": "stream",
     "text": [
      "                                                  \n",
      "  2%|▏         | 110/4700 [07:24<11:05,  6.90it/s] "
     ]
    },
    {
     "name": "stdout",
     "output_type": "stream",
     "text": [
      "{'loss': 0.0011, 'grad_norm': 0.023086154833436012, 'learning_rate': 7.446808510638298e-06, 'epoch': 25.53}\n"
     ]
    },
    {
     "name": "stderr",
     "output_type": "stream",
     "text": [
      "\n",
      "\u001b[A\n",
      "\n",
      "                                                  \n",
      "\u001b[A                                                \n",
      "  2%|▏         | 110/4700 [07:24<11:05,  6.90it/s]\n",
      "\u001b[A"
     ]
    },
    {
     "name": "stdout",
     "output_type": "stream",
     "text": [
      "{'eval_loss': 0.06452559679746628, 'eval_runtime': 0.0306, 'eval_samples_per_second': 359.124, 'eval_steps_per_second': 195.886, 'epoch': 25.53}\n"
     ]
    },
    {
     "name": "stderr",
     "output_type": "stream",
     "text": [
      "                                                  \n",
      "  2%|▏         | 110/4700 [07:26<11:05,  6.90it/s] "
     ]
    },
    {
     "name": "stdout",
     "output_type": "stream",
     "text": [
      "{'loss': 0.0021, 'grad_norm': 0.01710215024650097, 'learning_rate': 7.425531914893618e-06, 'epoch': 25.74}\n"
     ]
    },
    {
     "name": "stderr",
     "output_type": "stream",
     "text": [
      "\n",
      "\u001b[A\n",
      "\n",
      "                                                  \n",
      "\u001b[A                                                \n",
      "  2%|▏         | 110/4700 [07:26<11:05,  6.90it/s]\n",
      "\u001b[A"
     ]
    },
    {
     "name": "stdout",
     "output_type": "stream",
     "text": [
      "{'eval_loss': 0.0627988651394844, 'eval_runtime': 0.0277, 'eval_samples_per_second': 396.679, 'eval_steps_per_second': 216.37, 'epoch': 25.74}\n"
     ]
    },
    {
     "name": "stderr",
     "output_type": "stream",
     "text": [
      "                                                  \n",
      "  2%|▏         | 110/4700 [07:29<11:05,  6.90it/s] "
     ]
    },
    {
     "name": "stdout",
     "output_type": "stream",
     "text": [
      "{'loss': 0.0009, 'grad_norm': 0.011955924332141876, 'learning_rate': 7.404255319148936e-06, 'epoch': 25.96}\n"
     ]
    },
    {
     "name": "stderr",
     "output_type": "stream",
     "text": [
      "\n",
      "\u001b[A\n",
      "\n",
      "                                                  \n",
      "\u001b[A                                                \n",
      "  2%|▏         | 110/4700 [07:29<11:05,  6.90it/s]\n",
      "\u001b[A"
     ]
    },
    {
     "name": "stdout",
     "output_type": "stream",
     "text": [
      "{'eval_loss': 0.0630706250667572, 'eval_runtime': 0.0322, 'eval_samples_per_second': 341.953, 'eval_steps_per_second': 186.52, 'epoch': 25.96}\n"
     ]
    },
    {
     "name": "stderr",
     "output_type": "stream",
     "text": [
      "                                                  \n",
      "  2%|▏         | 110/4700 [07:32<11:05,  6.90it/s] "
     ]
    },
    {
     "name": "stdout",
     "output_type": "stream",
     "text": [
      "{'loss': 0.0019, 'grad_norm': 0.026046570390462875, 'learning_rate': 7.382978723404256e-06, 'epoch': 26.17}\n"
     ]
    },
    {
     "name": "stderr",
     "output_type": "stream",
     "text": [
      "\n",
      "\u001b[A\n",
      "\n",
      "                                                  \n",
      "\u001b[A                                                \n",
      "  2%|▏         | 110/4700 [07:32<11:05,  6.90it/s]\n",
      "\u001b[A"
     ]
    },
    {
     "name": "stdout",
     "output_type": "stream",
     "text": [
      "{'eval_loss': 0.06262456625699997, 'eval_runtime': 0.0282, 'eval_samples_per_second': 390.488, 'eval_steps_per_second': 212.994, 'epoch': 26.17}\n"
     ]
    },
    {
     "name": "stderr",
     "output_type": "stream",
     "text": [
      "                                                  \n",
      "  2%|▏         | 110/4700 [07:34<11:05,  6.90it/s] "
     ]
    },
    {
     "name": "stdout",
     "output_type": "stream",
     "text": [
      "{'loss': 0.0011, 'grad_norm': 0.008772951550781727, 'learning_rate': 7.361702127659574e-06, 'epoch': 26.38}\n"
     ]
    },
    {
     "name": "stderr",
     "output_type": "stream",
     "text": [
      "\n",
      "\u001b[A\n",
      "\n",
      "                                                  \n",
      "\u001b[A                                                \n",
      "  2%|▏         | 110/4700 [07:34<11:05,  6.90it/s]\n",
      "\u001b[A"
     ]
    },
    {
     "name": "stdout",
     "output_type": "stream",
     "text": [
      "{'eval_loss': 0.06085016950964928, 'eval_runtime': 0.0311, 'eval_samples_per_second': 354.265, 'eval_steps_per_second': 193.235, 'epoch': 26.38}\n"
     ]
    },
    {
     "name": "stderr",
     "output_type": "stream",
     "text": [
      "                                                  \n",
      "  2%|▏         | 110/4700 [07:37<11:05,  6.90it/s] "
     ]
    },
    {
     "name": "stdout",
     "output_type": "stream",
     "text": [
      "{'loss': 0.0015, 'grad_norm': 0.009600686840713024, 'learning_rate': 7.340425531914894e-06, 'epoch': 26.6}\n"
     ]
    },
    {
     "name": "stderr",
     "output_type": "stream",
     "text": [
      "\n",
      "\u001b[A\n",
      "\n",
      "                                                  \n",
      "\u001b[A                                                \n",
      "  2%|▏         | 110/4700 [07:37<11:05,  6.90it/s]\n",
      "\u001b[A"
     ]
    },
    {
     "name": "stdout",
     "output_type": "stream",
     "text": [
      "{'eval_loss': 0.0603443942964077, 'eval_runtime': 0.0276, 'eval_samples_per_second': 398.946, 'eval_steps_per_second': 217.607, 'epoch': 26.6}\n"
     ]
    },
    {
     "name": "stderr",
     "output_type": "stream",
     "text": [
      "                                                  \n",
      "  2%|▏         | 110/4700 [07:39<11:05,  6.90it/s] "
     ]
    },
    {
     "name": "stdout",
     "output_type": "stream",
     "text": [
      "{'loss': 0.0011, 'grad_norm': 0.018770305439829826, 'learning_rate': 7.3191489361702125e-06, 'epoch': 26.81}\n"
     ]
    },
    {
     "name": "stderr",
     "output_type": "stream",
     "text": [
      "\n",
      "\u001b[A\n",
      "\n",
      "                                                  \n",
      "\u001b[A                                                \n",
      "  2%|▏         | 110/4700 [07:39<11:05,  6.90it/s]\n",
      "\u001b[A"
     ]
    },
    {
     "name": "stdout",
     "output_type": "stream",
     "text": [
      "{'eval_loss': 0.05922829732298851, 'eval_runtime': 0.0276, 'eval_samples_per_second': 398.739, 'eval_steps_per_second': 217.494, 'epoch': 26.81}\n"
     ]
    },
    {
     "name": "stderr",
     "output_type": "stream",
     "text": [
      "                                                  \n",
      "  2%|▏         | 110/4700 [07:42<11:05,  6.90it/s] "
     ]
    },
    {
     "name": "stdout",
     "output_type": "stream",
     "text": [
      "{'loss': 0.0008, 'grad_norm': 0.009285158477723598, 'learning_rate': 7.2978723404255325e-06, 'epoch': 27.02}\n"
     ]
    },
    {
     "name": "stderr",
     "output_type": "stream",
     "text": [
      "\n",
      "\u001b[A\n",
      "\n",
      "                                                  \n",
      "\u001b[A                                                \n",
      "  2%|▏         | 110/4700 [07:42<11:05,  6.90it/s]\n",
      "\u001b[A"
     ]
    },
    {
     "name": "stdout",
     "output_type": "stream",
     "text": [
      "{'eval_loss': 0.05831167474389076, 'eval_runtime': 0.0298, 'eval_samples_per_second': 368.889, 'eval_steps_per_second': 201.212, 'epoch': 27.02}\n"
     ]
    },
    {
     "name": "stderr",
     "output_type": "stream",
     "text": [
      "                                                  \n",
      "  2%|▏         | 110/4700 [07:44<11:05,  6.90it/s] "
     ]
    },
    {
     "name": "stdout",
     "output_type": "stream",
     "text": [
      "{'loss': 0.0023, 'grad_norm': 0.014179758727550507, 'learning_rate': 7.2765957446808524e-06, 'epoch': 27.23}\n"
     ]
    },
    {
     "name": "stderr",
     "output_type": "stream",
     "text": [
      "\n",
      "\u001b[A\n",
      "\n",
      "                                                  \n",
      "\u001b[A                                                \n",
      "  2%|▏         | 110/4700 [07:44<11:05,  6.90it/s]\n",
      "\u001b[A"
     ]
    },
    {
     "name": "stdout",
     "output_type": "stream",
     "text": [
      "{'eval_loss': 0.05856522172689438, 'eval_runtime': 0.0273, 'eval_samples_per_second': 403.115, 'eval_steps_per_second': 219.881, 'epoch': 27.23}\n"
     ]
    },
    {
     "name": "stderr",
     "output_type": "stream",
     "text": [
      "                                                  \n",
      "  2%|▏         | 110/4700 [07:47<11:05,  6.90it/s] "
     ]
    },
    {
     "name": "stdout",
     "output_type": "stream",
     "text": [
      "{'loss': 0.0009, 'grad_norm': 0.023797018453478813, 'learning_rate': 7.255319148936171e-06, 'epoch': 27.45}\n"
     ]
    },
    {
     "name": "stderr",
     "output_type": "stream",
     "text": [
      "\n",
      "\u001b[A\n",
      "\n",
      "                                                  \n",
      "\u001b[A                                                \n",
      "  2%|▏         | 110/4700 [07:47<11:05,  6.90it/s]\n",
      "\u001b[A"
     ]
    },
    {
     "name": "stdout",
     "output_type": "stream",
     "text": [
      "{'eval_loss': 0.060211196541786194, 'eval_runtime': 0.0294, 'eval_samples_per_second': 373.863, 'eval_steps_per_second': 203.925, 'epoch': 27.45}\n"
     ]
    },
    {
     "name": "stderr",
     "output_type": "stream",
     "text": [
      "                                                  \n",
      "  2%|▏         | 110/4700 [07:49<11:05,  6.90it/s] "
     ]
    },
    {
     "name": "stdout",
     "output_type": "stream",
     "text": [
      "{'loss': 0.001, 'grad_norm': 0.058506954461336136, 'learning_rate': 7.234042553191491e-06, 'epoch': 27.66}\n"
     ]
    },
    {
     "name": "stderr",
     "output_type": "stream",
     "text": [
      "\n",
      "\u001b[A\n",
      "\n",
      "                                                  \n",
      "\u001b[A                                                \n",
      "  2%|▏         | 110/4700 [07:49<11:05,  6.90it/s]\n",
      "\u001b[A"
     ]
    },
    {
     "name": "stdout",
     "output_type": "stream",
     "text": [
      "{'eval_loss': 0.0621161125600338, 'eval_runtime': 0.0279, 'eval_samples_per_second': 394.927, 'eval_steps_per_second': 215.415, 'epoch': 27.66}\n"
     ]
    },
    {
     "name": "stderr",
     "output_type": "stream",
     "text": [
      "                                                  \n",
      "  2%|▏         | 110/4700 [07:51<11:05,  6.90it/s] "
     ]
    },
    {
     "name": "stdout",
     "output_type": "stream",
     "text": [
      "{'loss': 0.0014, 'grad_norm': 0.17293600738048553, 'learning_rate': 7.212765957446809e-06, 'epoch': 27.87}\n"
     ]
    },
    {
     "name": "stderr",
     "output_type": "stream",
     "text": [
      "\n",
      "\u001b[A\n",
      "\n",
      "                                                  \n",
      "\u001b[A                                                \n",
      "  2%|▏         | 110/4700 [07:51<11:05,  6.90it/s]\n",
      "\u001b[A"
     ]
    },
    {
     "name": "stdout",
     "output_type": "stream",
     "text": [
      "{'eval_loss': 0.061683621257543564, 'eval_runtime': 0.0264, 'eval_samples_per_second': 416.835, 'eval_steps_per_second': 227.364, 'epoch': 27.87}\n"
     ]
    },
    {
     "name": "stderr",
     "output_type": "stream",
     "text": [
      "                                                  \n",
      "  2%|▏         | 110/4700 [07:54<11:05,  6.90it/s] "
     ]
    },
    {
     "name": "stdout",
     "output_type": "stream",
     "text": [
      "{'loss': 0.0019, 'grad_norm': 0.022276470437645912, 'learning_rate': 7.191489361702129e-06, 'epoch': 28.09}\n"
     ]
    },
    {
     "name": "stderr",
     "output_type": "stream",
     "text": [
      "\n",
      "\u001b[A\n",
      "\n",
      "                                                  \n",
      "\u001b[A                                                \n",
      "  2%|▏         | 110/4700 [07:54<11:05,  6.90it/s]\n",
      "\u001b[A"
     ]
    },
    {
     "name": "stdout",
     "output_type": "stream",
     "text": [
      "{'eval_loss': 0.06045885011553764, 'eval_runtime': 0.0254, 'eval_samples_per_second': 433.117, 'eval_steps_per_second': 236.246, 'epoch': 28.09}\n"
     ]
    },
    {
     "name": "stderr",
     "output_type": "stream",
     "text": [
      "                                                  \n",
      "  2%|▏         | 110/4700 [07:57<11:05,  6.90it/s] "
     ]
    },
    {
     "name": "stdout",
     "output_type": "stream",
     "text": [
      "{'loss': 0.0013, 'grad_norm': 0.11826682835817337, 'learning_rate': 7.170212765957447e-06, 'epoch': 28.3}\n"
     ]
    },
    {
     "name": "stderr",
     "output_type": "stream",
     "text": [
      "\n",
      "\u001b[A\n",
      "\n",
      "                                                  \n",
      "\u001b[A                                                \n",
      "  2%|▏         | 110/4700 [07:57<11:05,  6.90it/s]\n",
      "\u001b[A"
     ]
    },
    {
     "name": "stdout",
     "output_type": "stream",
     "text": [
      "{'eval_loss': 0.061515942215919495, 'eval_runtime': 0.0257, 'eval_samples_per_second': 427.384, 'eval_steps_per_second': 233.118, 'epoch': 28.3}\n"
     ]
    },
    {
     "name": "stderr",
     "output_type": "stream",
     "text": [
      "                                                  \n",
      "  2%|▏         | 110/4700 [07:59<11:05,  6.90it/s] "
     ]
    },
    {
     "name": "stdout",
     "output_type": "stream",
     "text": [
      "{'loss': 0.0013, 'grad_norm': 0.012349913828074932, 'learning_rate': 7.148936170212767e-06, 'epoch': 28.51}\n"
     ]
    },
    {
     "name": "stderr",
     "output_type": "stream",
     "text": [
      "\n",
      "\u001b[A\n",
      "\n",
      "                                                  \n",
      "\u001b[A                                                \n",
      "  2%|▏         | 110/4700 [07:59<11:05,  6.90it/s]\n",
      "\u001b[A"
     ]
    },
    {
     "name": "stdout",
     "output_type": "stream",
     "text": [
      "{'eval_loss': 0.06152978166937828, 'eval_runtime': 0.0258, 'eval_samples_per_second': 426.187, 'eval_steps_per_second': 232.466, 'epoch': 28.51}\n"
     ]
    },
    {
     "name": "stderr",
     "output_type": "stream",
     "text": [
      "                                                  \n",
      "  2%|▏         | 110/4700 [08:02<11:05,  6.90it/s] "
     ]
    },
    {
     "name": "stdout",
     "output_type": "stream",
     "text": [
      "{'loss': 0.0011, 'grad_norm': 0.009973939508199692, 'learning_rate': 7.127659574468085e-06, 'epoch': 28.72}\n"
     ]
    },
    {
     "name": "stderr",
     "output_type": "stream",
     "text": [
      "\n",
      "\u001b[A\n",
      "\n",
      "                                                  \n",
      "\u001b[A                                                \n",
      "  2%|▏         | 110/4700 [08:02<11:05,  6.90it/s]\n",
      "\u001b[A"
     ]
    },
    {
     "name": "stdout",
     "output_type": "stream",
     "text": [
      "{'eval_loss': 0.060167551040649414, 'eval_runtime': 0.026, 'eval_samples_per_second': 422.639, 'eval_steps_per_second': 230.53, 'epoch': 28.72}\n"
     ]
    },
    {
     "name": "stderr",
     "output_type": "stream",
     "text": [
      "                                                  \n",
      "  2%|▏         | 110/4700 [08:05<11:05,  6.90it/s] "
     ]
    },
    {
     "name": "stdout",
     "output_type": "stream",
     "text": [
      "{'loss': 0.0008, 'grad_norm': 0.011262195184826851, 'learning_rate': 7.106382978723405e-06, 'epoch': 28.94}\n"
     ]
    },
    {
     "name": "stderr",
     "output_type": "stream",
     "text": [
      "\n",
      "\u001b[A\n",
      "\n",
      "                                                  \n",
      "\u001b[A                                                \n",
      "  2%|▏         | 110/4700 [08:05<11:05,  6.90it/s]\n",
      "\u001b[A"
     ]
    },
    {
     "name": "stdout",
     "output_type": "stream",
     "text": [
      "{'eval_loss': 0.05848367512226105, 'eval_runtime': 0.0307, 'eval_samples_per_second': 358.85, 'eval_steps_per_second': 195.736, 'epoch': 28.94}\n"
     ]
    },
    {
     "name": "stderr",
     "output_type": "stream",
     "text": [
      "                                                  \n",
      "  2%|▏         | 110/4700 [08:07<11:05,  6.90it/s] "
     ]
    },
    {
     "name": "stdout",
     "output_type": "stream",
     "text": [
      "{'loss': 0.001, 'grad_norm': 0.01531432755291462, 'learning_rate': 7.0851063829787235e-06, 'epoch': 29.15}\n"
     ]
    },
    {
     "name": "stderr",
     "output_type": "stream",
     "text": [
      "\n",
      "\u001b[A\n",
      "\n",
      "                                                  \n",
      "\u001b[A                                                \n",
      "  2%|▏         | 110/4700 [08:07<11:05,  6.90it/s]\n",
      "\u001b[A"
     ]
    },
    {
     "name": "stdout",
     "output_type": "stream",
     "text": [
      "{'eval_loss': 0.056927476078271866, 'eval_runtime': 0.0263, 'eval_samples_per_second': 418.324, 'eval_steps_per_second': 228.177, 'epoch': 29.15}\n"
     ]
    },
    {
     "name": "stderr",
     "output_type": "stream",
     "text": [
      "                                                  \n",
      "  2%|▏         | 110/4700 [08:10<11:05,  6.90it/s] "
     ]
    },
    {
     "name": "stdout",
     "output_type": "stream",
     "text": [
      "{'loss': 0.0008, 'grad_norm': 0.016209818422794342, 'learning_rate': 7.0638297872340434e-06, 'epoch': 29.36}\n"
     ]
    },
    {
     "name": "stderr",
     "output_type": "stream",
     "text": [
      "\n",
      "\u001b[A\n",
      "\n",
      "                                                  \n",
      "\u001b[A                                                \n",
      "  2%|▏         | 110/4700 [08:10<11:05,  6.90it/s]\n",
      "\u001b[A"
     ]
    },
    {
     "name": "stdout",
     "output_type": "stream",
     "text": [
      "{'eval_loss': 0.05572493001818657, 'eval_runtime': 0.0289, 'eval_samples_per_second': 380.138, 'eval_steps_per_second': 207.348, 'epoch': 29.36}\n"
     ]
    },
    {
     "name": "stderr",
     "output_type": "stream",
     "text": [
      "                                                  \n",
      "  2%|▏         | 110/4700 [08:12<11:05,  6.90it/s] "
     ]
    },
    {
     "name": "stdout",
     "output_type": "stream",
     "text": [
      "{'loss': 0.0014, 'grad_norm': 0.05752766132354736, 'learning_rate': 7.042553191489362e-06, 'epoch': 29.57}\n"
     ]
    },
    {
     "name": "stderr",
     "output_type": "stream",
     "text": [
      "\n",
      "\u001b[A\n",
      "\n",
      "                                                  \n",
      "\u001b[A                                                \n",
      "  2%|▏         | 110/4700 [08:12<11:05,  6.90it/s]\n",
      "\u001b[A"
     ]
    },
    {
     "name": "stdout",
     "output_type": "stream",
     "text": [
      "{'eval_loss': 0.054790008813142776, 'eval_runtime': 0.026, 'eval_samples_per_second': 422.472, 'eval_steps_per_second': 230.439, 'epoch': 29.57}\n"
     ]
    },
    {
     "name": "stderr",
     "output_type": "stream",
     "text": [
      "                                                  \n",
      "  2%|▏         | 110/4700 [08:15<11:05,  6.90it/s] "
     ]
    },
    {
     "name": "stdout",
     "output_type": "stream",
     "text": [
      "{'loss': 0.0013, 'grad_norm': 0.009236305020749569, 'learning_rate': 7.021276595744682e-06, 'epoch': 29.79}\n"
     ]
    },
    {
     "name": "stderr",
     "output_type": "stream",
     "text": [
      "\n",
      "\u001b[A\n",
      "\n",
      "                                                  \n",
      "\u001b[A                                                \n",
      "  2%|▏         | 110/4700 [08:15<11:05,  6.90it/s]\n",
      "\u001b[A"
     ]
    },
    {
     "name": "stdout",
     "output_type": "stream",
     "text": [
      "{'eval_loss': 0.05489608272910118, 'eval_runtime': 0.0284, 'eval_samples_per_second': 386.961, 'eval_steps_per_second': 211.07, 'epoch': 29.79}\n"
     ]
    },
    {
     "name": "stderr",
     "output_type": "stream",
     "text": [
      "                                                  \n",
      "  2%|▏         | 110/4700 [08:17<11:05,  6.90it/s] "
     ]
    },
    {
     "name": "stdout",
     "output_type": "stream",
     "text": [
      "{'loss': 0.0008, 'grad_norm': 0.04183590039610863, 'learning_rate': 7e-06, 'epoch': 30.0}\n"
     ]
    },
    {
     "name": "stderr",
     "output_type": "stream",
     "text": [
      "\n",
      "\u001b[A\n",
      "\n",
      "                                                  \n",
      "\u001b[A                                                \n",
      "  2%|▏         | 110/4700 [08:17<11:05,  6.90it/s]\n",
      "\u001b[A"
     ]
    },
    {
     "name": "stdout",
     "output_type": "stream",
     "text": [
      "{'eval_loss': 0.0611165389418602, 'eval_runtime': 0.0266, 'eval_samples_per_second': 413.695, 'eval_steps_per_second': 225.652, 'epoch': 30.0}\n"
     ]
    },
    {
     "name": "stderr",
     "output_type": "stream",
     "text": [
      "                                                  \n",
      "  2%|▏         | 110/4700 [08:20<11:05,  6.90it/s] "
     ]
    },
    {
     "name": "stdout",
     "output_type": "stream",
     "text": [
      "{'loss': 0.0008, 'grad_norm': 0.009346850216388702, 'learning_rate': 6.97872340425532e-06, 'epoch': 30.21}\n"
     ]
    },
    {
     "name": "stderr",
     "output_type": "stream",
     "text": [
      "\n",
      "\u001b[A\n",
      "\n",
      "                                                  \n",
      "\u001b[A                                                \n",
      "  2%|▏         | 110/4700 [08:20<11:05,  6.90it/s]\n",
      "\u001b[A"
     ]
    },
    {
     "name": "stdout",
     "output_type": "stream",
     "text": [
      "{'eval_loss': 0.0626978948712349, 'eval_runtime': 0.0274, 'eval_samples_per_second': 401.648, 'eval_steps_per_second': 219.081, 'epoch': 30.21}\n"
     ]
    },
    {
     "name": "stderr",
     "output_type": "stream",
     "text": [
      "                                                  \n",
      "  2%|▏         | 110/4700 [08:22<11:05,  6.90it/s] "
     ]
    },
    {
     "name": "stdout",
     "output_type": "stream",
     "text": [
      "{'loss': 0.0009, 'grad_norm': 0.014529460109770298, 'learning_rate': 6.957446808510638e-06, 'epoch': 30.43}\n"
     ]
    },
    {
     "name": "stderr",
     "output_type": "stream",
     "text": [
      "\n",
      "\u001b[A\n",
      "\n",
      "                                                  \n",
      "\u001b[A                                                \n",
      "  2%|▏         | 110/4700 [08:22<11:05,  6.90it/s]\n",
      "\u001b[A"
     ]
    },
    {
     "name": "stdout",
     "output_type": "stream",
     "text": [
      "{'eval_loss': 0.06310992687940598, 'eval_runtime': 0.0263, 'eval_samples_per_second': 418.233, 'eval_steps_per_second': 228.127, 'epoch': 30.43}\n"
     ]
    },
    {
     "name": "stderr",
     "output_type": "stream",
     "text": [
      "                                                  \n",
      "  2%|▏         | 110/4700 [08:25<11:05,  6.90it/s] "
     ]
    },
    {
     "name": "stdout",
     "output_type": "stream",
     "text": [
      "{'loss': 0.0015, 'grad_norm': 0.01741175167262554, 'learning_rate': 6.936170212765958e-06, 'epoch': 30.64}\n"
     ]
    },
    {
     "name": "stderr",
     "output_type": "stream",
     "text": [
      "\n",
      "\u001b[A\n",
      "\n",
      "                                                  \n",
      "\u001b[A                                                \n",
      "  2%|▏         | 110/4700 [08:25<11:05,  6.90it/s]\n",
      "\u001b[A"
     ]
    },
    {
     "name": "stdout",
     "output_type": "stream",
     "text": [
      "{'eval_loss': 0.06255554407835007, 'eval_runtime': 0.0249, 'eval_samples_per_second': 442.111, 'eval_steps_per_second': 241.151, 'epoch': 30.64}\n"
     ]
    },
    {
     "name": "stderr",
     "output_type": "stream",
     "text": [
      "                                                  \n",
      "  2%|▏         | 110/4700 [08:28<11:05,  6.90it/s] "
     ]
    },
    {
     "name": "stdout",
     "output_type": "stream",
     "text": [
      "{'loss': 0.0016, 'grad_norm': 0.010997533798217773, 'learning_rate': 6.914893617021278e-06, 'epoch': 30.85}\n"
     ]
    },
    {
     "name": "stderr",
     "output_type": "stream",
     "text": [
      "\n",
      "\u001b[A\n",
      "\n",
      "                                                  \n",
      "\u001b[A                                                \n",
      "  2%|▏         | 110/4700 [08:28<11:05,  6.90it/s]\n",
      "\u001b[A"
     ]
    },
    {
     "name": "stdout",
     "output_type": "stream",
     "text": [
      "{'eval_loss': 0.061441000550985336, 'eval_runtime': 0.0267, 'eval_samples_per_second': 411.555, 'eval_steps_per_second': 224.484, 'epoch': 30.85}\n"
     ]
    },
    {
     "name": "stderr",
     "output_type": "stream",
     "text": [
      "                                                  \n",
      "  2%|▏         | 110/4700 [08:30<11:05,  6.90it/s] "
     ]
    },
    {
     "name": "stdout",
     "output_type": "stream",
     "text": [
      "{'loss': 0.0006, 'grad_norm': 0.0100172134116292, 'learning_rate': 6.893617021276596e-06, 'epoch': 31.06}\n"
     ]
    },
    {
     "name": "stderr",
     "output_type": "stream",
     "text": [
      "\n",
      "\u001b[A\n",
      "\n",
      "                                                  \n",
      "\u001b[A                                                \n",
      "  2%|▏         | 110/4700 [08:30<11:05,  6.90it/s]\n",
      "\u001b[A"
     ]
    },
    {
     "name": "stdout",
     "output_type": "stream",
     "text": [
      "{'eval_loss': 0.061667170375585556, 'eval_runtime': 0.0283, 'eval_samples_per_second': 388.568, 'eval_steps_per_second': 211.946, 'epoch': 31.06}\n"
     ]
    },
    {
     "name": "stderr",
     "output_type": "stream",
     "text": [
      "                                                  \n",
      "  2%|▏         | 110/4700 [08:32<11:05,  6.90it/s] "
     ]
    },
    {
     "name": "stdout",
     "output_type": "stream",
     "text": [
      "{'loss': 0.0015, 'grad_norm': 0.014430918730795383, 'learning_rate': 6.872340425531916e-06, 'epoch': 31.28}\n"
     ]
    },
    {
     "name": "stderr",
     "output_type": "stream",
     "text": [
      "\n",
      "\u001b[A\n",
      "\n",
      "                                                  \n",
      "\u001b[A                                                \n",
      "  2%|▏         | 110/4700 [08:32<11:05,  6.90it/s]\n",
      "\u001b[A"
     ]
    },
    {
     "name": "stdout",
     "output_type": "stream",
     "text": [
      "{'eval_loss': 0.06092158332467079, 'eval_runtime': 0.029, 'eval_samples_per_second': 379.878, 'eval_steps_per_second': 207.206, 'epoch': 31.28}\n"
     ]
    },
    {
     "name": "stderr",
     "output_type": "stream",
     "text": [
      "                                                  \n",
      "  2%|▏         | 110/4700 [08:35<11:05,  6.90it/s] "
     ]
    },
    {
     "name": "stdout",
     "output_type": "stream",
     "text": [
      "{'loss': 0.0007, 'grad_norm': 0.0074727535247802734, 'learning_rate': 6.8510638297872344e-06, 'epoch': 31.49}\n"
     ]
    },
    {
     "name": "stderr",
     "output_type": "stream",
     "text": [
      "\n",
      "\u001b[A\n",
      "\n",
      "                                                  \n",
      "\u001b[A                                                \n",
      "  2%|▏         | 110/4700 [08:35<11:05,  6.90it/s]\n",
      "\u001b[A"
     ]
    },
    {
     "name": "stdout",
     "output_type": "stream",
     "text": [
      "{'eval_loss': 0.05993379279971123, 'eval_runtime': 0.0283, 'eval_samples_per_second': 388.084, 'eval_steps_per_second': 211.682, 'epoch': 31.49}\n"
     ]
    },
    {
     "name": "stderr",
     "output_type": "stream",
     "text": [
      "                                                  \n",
      "  2%|▏         | 110/4700 [08:38<11:05,  6.90it/s] "
     ]
    },
    {
     "name": "stdout",
     "output_type": "stream",
     "text": [
      "{'loss': 0.0008, 'grad_norm': 0.017873452976346016, 'learning_rate': 6.829787234042554e-06, 'epoch': 31.7}\n"
     ]
    },
    {
     "name": "stderr",
     "output_type": "stream",
     "text": [
      "\n",
      "\u001b[A\n",
      "\n",
      "                                                  \n",
      "\u001b[A                                                \n",
      "  2%|▏         | 110/4700 [08:38<11:05,  6.90it/s]\n",
      "\u001b[A"
     ]
    },
    {
     "name": "stdout",
     "output_type": "stream",
     "text": [
      "{'eval_loss': 0.0589815229177475, 'eval_runtime': 0.0278, 'eval_samples_per_second': 395.726, 'eval_steps_per_second': 215.851, 'epoch': 31.7}\n"
     ]
    },
    {
     "name": "stderr",
     "output_type": "stream",
     "text": [
      "                                                  \n",
      "  2%|▏         | 110/4700 [08:40<11:05,  6.90it/s] "
     ]
    },
    {
     "name": "stdout",
     "output_type": "stream",
     "text": [
      "{'loss': 0.0008, 'grad_norm': 0.017746247351169586, 'learning_rate': 6.808510638297873e-06, 'epoch': 31.91}\n"
     ]
    },
    {
     "name": "stderr",
     "output_type": "stream",
     "text": [
      "\n",
      "\u001b[A\n",
      "\n",
      "                                                  \n",
      "\u001b[A                                                \n",
      "  2%|▏         | 110/4700 [08:40<11:05,  6.90it/s]\n",
      "\u001b[A"
     ]
    },
    {
     "name": "stdout",
     "output_type": "stream",
     "text": [
      "{'eval_loss': 0.05804579332470894, 'eval_runtime': 0.0267, 'eval_samples_per_second': 411.705, 'eval_steps_per_second': 224.567, 'epoch': 31.91}\n"
     ]
    },
    {
     "name": "stderr",
     "output_type": "stream",
     "text": [
      "                                                  \n",
      "  2%|▏         | 110/4700 [08:43<11:05,  6.90it/s] "
     ]
    },
    {
     "name": "stdout",
     "output_type": "stream",
     "text": [
      "{'loss': 0.0019, 'grad_norm': 0.009116525761783123, 'learning_rate': 6.787234042553193e-06, 'epoch': 32.13}\n"
     ]
    },
    {
     "name": "stderr",
     "output_type": "stream",
     "text": [
      "\n",
      "\u001b[A\n",
      "\n",
      "                                                  \n",
      "\u001b[A                                                \n",
      "  2%|▏         | 110/4700 [08:43<11:05,  6.90it/s]\n",
      "\u001b[A"
     ]
    },
    {
     "name": "stdout",
     "output_type": "stream",
     "text": [
      "{'eval_loss': 0.05786756053566933, 'eval_runtime': 0.0263, 'eval_samples_per_second': 418.76, 'eval_steps_per_second': 228.415, 'epoch': 32.13}\n"
     ]
    },
    {
     "name": "stderr",
     "output_type": "stream",
     "text": [
      "                                                  \n",
      "  2%|▏         | 110/4700 [08:45<11:05,  6.90it/s] "
     ]
    },
    {
     "name": "stdout",
     "output_type": "stream",
     "text": [
      "{'loss': 0.001, 'grad_norm': 0.010138506069779396, 'learning_rate': 6.765957446808511e-06, 'epoch': 32.34}\n"
     ]
    },
    {
     "name": "stderr",
     "output_type": "stream",
     "text": [
      "\n",
      "\u001b[A\n",
      "\n",
      "                                                  \n",
      "\u001b[A                                                \n",
      "  2%|▏         | 110/4700 [08:45<11:05,  6.90it/s]\n",
      "\u001b[A"
     ]
    },
    {
     "name": "stdout",
     "output_type": "stream",
     "text": [
      "{'eval_loss': 0.062424492090940475, 'eval_runtime': 0.0293, 'eval_samples_per_second': 374.805, 'eval_steps_per_second': 204.439, 'epoch': 32.34}\n"
     ]
    },
    {
     "name": "stderr",
     "output_type": "stream",
     "text": [
      "                                                  \n",
      "  2%|▏         | 110/4700 [08:47<11:05,  6.90it/s] "
     ]
    },
    {
     "name": "stdout",
     "output_type": "stream",
     "text": [
      "{'loss': 0.0007, 'grad_norm': 0.007442594971507788, 'learning_rate': 6.744680851063831e-06, 'epoch': 32.55}\n"
     ]
    },
    {
     "name": "stderr",
     "output_type": "stream",
     "text": [
      "\n",
      "\u001b[A\n",
      "\n",
      "                                                  \n",
      "\u001b[A                                                \n",
      "  2%|▏         | 110/4700 [08:48<11:05,  6.90it/s]\n",
      "\u001b[A"
     ]
    },
    {
     "name": "stdout",
     "output_type": "stream",
     "text": [
      "{'eval_loss': 0.06446653604507446, 'eval_runtime': 0.0276, 'eval_samples_per_second': 398.22, 'eval_steps_per_second': 217.211, 'epoch': 32.55}\n"
     ]
    },
    {
     "name": "stderr",
     "output_type": "stream",
     "text": [
      "                                                  \n",
      "  2%|▏         | 110/4700 [08:50<11:05,  6.90it/s] "
     ]
    },
    {
     "name": "stdout",
     "output_type": "stream",
     "text": [
      "{'loss': 0.0011, 'grad_norm': 0.016402585431933403, 'learning_rate': 6.723404255319149e-06, 'epoch': 32.77}\n"
     ]
    },
    {
     "name": "stderr",
     "output_type": "stream",
     "text": [
      "\n",
      "\u001b[A\n",
      "\n",
      "                                                  \n",
      "\u001b[A                                                \n",
      "  2%|▏         | 110/4700 [08:50<11:05,  6.90it/s]\n",
      "\u001b[A"
     ]
    },
    {
     "name": "stdout",
     "output_type": "stream",
     "text": [
      "{'eval_loss': 0.06443479657173157, 'eval_runtime': 0.0277, 'eval_samples_per_second': 396.495, 'eval_steps_per_second': 216.27, 'epoch': 32.77}\n"
     ]
    },
    {
     "name": "stderr",
     "output_type": "stream",
     "text": [
      "                                                  \n",
      "  2%|▏         | 110/4700 [08:52<11:05,  6.90it/s] "
     ]
    },
    {
     "name": "stdout",
     "output_type": "stream",
     "text": [
      "{'loss': 0.0009, 'grad_norm': 0.01850307360291481, 'learning_rate': 6.702127659574469e-06, 'epoch': 32.98}\n"
     ]
    },
    {
     "name": "stderr",
     "output_type": "stream",
     "text": [
      "\n",
      "\u001b[A\n",
      "\n",
      "                                                  \n",
      "\u001b[A                                                \n",
      "  2%|▏         | 110/4700 [08:52<11:05,  6.90it/s]\n",
      "\u001b[A"
     ]
    },
    {
     "name": "stdout",
     "output_type": "stream",
     "text": [
      "{'eval_loss': 0.06478828936815262, 'eval_runtime': 0.0268, 'eval_samples_per_second': 409.964, 'eval_steps_per_second': 223.617, 'epoch': 32.98}\n"
     ]
    },
    {
     "name": "stderr",
     "output_type": "stream",
     "text": [
      "                                                  \n",
      "  2%|▏         | 110/4700 [08:55<11:05,  6.90it/s] "
     ]
    },
    {
     "name": "stdout",
     "output_type": "stream",
     "text": [
      "{'loss': 0.001, 'grad_norm': 0.009331900626420975, 'learning_rate': 6.680851063829787e-06, 'epoch': 33.19}\n"
     ]
    },
    {
     "name": "stderr",
     "output_type": "stream",
     "text": [
      "\n",
      "\u001b[A\n",
      "\n",
      "                                                  \n",
      "\u001b[A                                                \n",
      "  2%|▏         | 110/4700 [08:55<11:05,  6.90it/s]\n",
      "\u001b[A"
     ]
    },
    {
     "name": "stdout",
     "output_type": "stream",
     "text": [
      "{'eval_loss': 0.0639139711856842, 'eval_runtime': 0.0274, 'eval_samples_per_second': 401.33, 'eval_steps_per_second': 218.907, 'epoch': 33.19}\n"
     ]
    },
    {
     "name": "stderr",
     "output_type": "stream",
     "text": [
      "                                                  \n",
      "  2%|▏         | 110/4700 [08:57<11:05,  6.90it/s] "
     ]
    },
    {
     "name": "stdout",
     "output_type": "stream",
     "text": [
      "{'loss': 0.0007, 'grad_norm': 0.007899660617113113, 'learning_rate': 6.659574468085107e-06, 'epoch': 33.4}\n"
     ]
    },
    {
     "name": "stderr",
     "output_type": "stream",
     "text": [
      "\n",
      "\u001b[A\n",
      "\n",
      "                                                  \n",
      "\u001b[A                                                \n",
      "  2%|▏         | 110/4700 [08:57<11:05,  6.90it/s]\n",
      "\u001b[A"
     ]
    },
    {
     "name": "stdout",
     "output_type": "stream",
     "text": [
      "{'eval_loss': 0.06203841045498848, 'eval_runtime': 0.0265, 'eval_samples_per_second': 414.889, 'eval_steps_per_second': 226.303, 'epoch': 33.4}\n"
     ]
    },
    {
     "name": "stderr",
     "output_type": "stream",
     "text": [
      "                                                  \n",
      "  2%|▏         | 110/4700 [09:00<11:05,  6.90it/s] "
     ]
    },
    {
     "name": "stdout",
     "output_type": "stream",
     "text": [
      "{'loss': 0.0011, 'grad_norm': 0.010281994007527828, 'learning_rate': 6.6382978723404254e-06, 'epoch': 33.62}\n"
     ]
    },
    {
     "name": "stderr",
     "output_type": "stream",
     "text": [
      "\n",
      "\u001b[A\n",
      "\n",
      "                                                  \n",
      "\u001b[A                                                \n",
      "  2%|▏         | 110/4700 [09:00<11:05,  6.90it/s]\n",
      "\u001b[A"
     ]
    },
    {
     "name": "stdout",
     "output_type": "stream",
     "text": [
      "{'eval_loss': 0.060201965272426605, 'eval_runtime': 0.032, 'eval_samples_per_second': 343.22, 'eval_steps_per_second': 187.211, 'epoch': 33.62}\n"
     ]
    },
    {
     "name": "stderr",
     "output_type": "stream",
     "text": [
      "                                                  \n",
      "  2%|▏         | 110/4700 [09:02<11:05,  6.90it/s] "
     ]
    },
    {
     "name": "stdout",
     "output_type": "stream",
     "text": [
      "{'loss': 0.0009, 'grad_norm': 0.008146866224706173, 'learning_rate': 6.617021276595745e-06, 'epoch': 33.83}\n"
     ]
    },
    {
     "name": "stderr",
     "output_type": "stream",
     "text": [
      "\n",
      "\u001b[A\n",
      "\n",
      "                                                  \n",
      "\u001b[A                                                \n",
      "  2%|▏         | 110/4700 [09:02<11:05,  6.90it/s]\n",
      "\u001b[A"
     ]
    },
    {
     "name": "stdout",
     "output_type": "stream",
     "text": [
      "{'eval_loss': 0.0583622083067894, 'eval_runtime': 0.0263, 'eval_samples_per_second': 418.513, 'eval_steps_per_second': 228.28, 'epoch': 33.83}\n"
     ]
    },
    {
     "name": "stderr",
     "output_type": "stream",
     "text": [
      "                                                  \n",
      "  2%|▏         | 110/4700 [09:05<11:05,  6.90it/s] "
     ]
    },
    {
     "name": "stdout",
     "output_type": "stream",
     "text": [
      "{'loss': 0.0007, 'grad_norm': 0.009175056591629982, 'learning_rate': 6.595744680851064e-06, 'epoch': 34.04}\n"
     ]
    },
    {
     "name": "stderr",
     "output_type": "stream",
     "text": [
      "\n",
      "\u001b[A\n",
      "\n",
      "                                                  \n",
      "\u001b[A                                                \n",
      "  2%|▏         | 110/4700 [09:05<11:05,  6.90it/s]\n",
      "\u001b[A"
     ]
    },
    {
     "name": "stdout",
     "output_type": "stream",
     "text": [
      "{'eval_loss': 0.05760157108306885, 'eval_runtime': 0.0297, 'eval_samples_per_second': 370.965, 'eval_steps_per_second': 202.345, 'epoch': 34.04}\n"
     ]
    },
    {
     "name": "stderr",
     "output_type": "stream",
     "text": [
      "                                                  \n",
      "  2%|▏         | 110/4700 [09:07<11:05,  6.90it/s] "
     ]
    },
    {
     "name": "stdout",
     "output_type": "stream",
     "text": [
      "{'loss': 0.0011, 'grad_norm': 0.018480492755770683, 'learning_rate': 6.574468085106384e-06, 'epoch': 34.26}\n"
     ]
    },
    {
     "name": "stderr",
     "output_type": "stream",
     "text": [
      "\n",
      "\u001b[A\n",
      "\n",
      "                                                  \n",
      "\u001b[A                                                \n",
      "  2%|▏         | 110/4700 [09:07<11:05,  6.90it/s]\n",
      "\u001b[A"
     ]
    },
    {
     "name": "stdout",
     "output_type": "stream",
     "text": [
      "{'eval_loss': 0.05684386193752289, 'eval_runtime': 0.0275, 'eval_samples_per_second': 400.019, 'eval_steps_per_second': 218.192, 'epoch': 34.26}\n"
     ]
    },
    {
     "name": "stderr",
     "output_type": "stream",
     "text": [
      "                                                  \n",
      "  2%|▏         | 110/4700 [09:10<11:05,  6.90it/s] "
     ]
    },
    {
     "name": "stdout",
     "output_type": "stream",
     "text": [
      "{'loss': 0.0011, 'grad_norm': 0.007322044111788273, 'learning_rate': 6.553191489361702e-06, 'epoch': 34.47}\n"
     ]
    },
    {
     "name": "stderr",
     "output_type": "stream",
     "text": [
      "\n",
      "\u001b[A\n",
      "\n",
      "                                                  \n",
      "\u001b[A                                                \n",
      "  2%|▏         | 110/4700 [09:10<11:05,  6.90it/s]\n",
      "\u001b[A"
     ]
    },
    {
     "name": "stdout",
     "output_type": "stream",
     "text": [
      "{'eval_loss': 0.0551668256521225, 'eval_runtime': 0.0292, 'eval_samples_per_second': 377.13, 'eval_steps_per_second': 205.707, 'epoch': 34.47}\n"
     ]
    },
    {
     "name": "stderr",
     "output_type": "stream",
     "text": [
      "                                                  \n",
      "  2%|▏         | 110/4700 [09:12<11:05,  6.90it/s] "
     ]
    },
    {
     "name": "stdout",
     "output_type": "stream",
     "text": [
      "{'loss': 0.0007, 'grad_norm': 0.008525554090738297, 'learning_rate': 6.531914893617022e-06, 'epoch': 34.68}\n"
     ]
    },
    {
     "name": "stderr",
     "output_type": "stream",
     "text": [
      "\n",
      "\u001b[A\n",
      "\n",
      "                                                  \n",
      "\u001b[A                                                \n",
      "  2%|▏         | 110/4700 [09:12<11:05,  6.90it/s]\n",
      "\u001b[A"
     ]
    },
    {
     "name": "stdout",
     "output_type": "stream",
     "text": [
      "{'eval_loss': 0.05467989668250084, 'eval_runtime': 0.0257, 'eval_samples_per_second': 427.931, 'eval_steps_per_second': 233.417, 'epoch': 34.68}\n"
     ]
    },
    {
     "name": "stderr",
     "output_type": "stream",
     "text": [
      "                                                  \n",
      "  2%|▏         | 110/4700 [09:14<11:05,  6.90it/s] "
     ]
    },
    {
     "name": "stdout",
     "output_type": "stream",
     "text": [
      "{'loss': 0.0007, 'grad_norm': 0.0115690091624856, 'learning_rate': 6.510638297872342e-06, 'epoch': 34.89}\n"
     ]
    },
    {
     "name": "stderr",
     "output_type": "stream",
     "text": [
      "\n",
      "\u001b[A\n",
      "\n",
      "                                                  \n",
      "\u001b[A                                                \n",
      "  2%|▏         | 110/4700 [09:14<11:05,  6.90it/s]\n",
      "\u001b[A"
     ]
    },
    {
     "name": "stdout",
     "output_type": "stream",
     "text": [
      "{'eval_loss': 0.05316508933901787, 'eval_runtime': 0.0272, 'eval_samples_per_second': 403.991, 'eval_steps_per_second': 220.359, 'epoch': 34.89}\n"
     ]
    },
    {
     "name": "stderr",
     "output_type": "stream",
     "text": [
      "                                                  \n",
      "  2%|▏         | 110/4700 [09:17<11:05,  6.90it/s] "
     ]
    },
    {
     "name": "stdout",
     "output_type": "stream",
     "text": [
      "{'loss': 0.0012, 'grad_norm': 0.08189920336008072, 'learning_rate': 6.48936170212766e-06, 'epoch': 35.11}\n"
     ]
    },
    {
     "name": "stderr",
     "output_type": "stream",
     "text": [
      "\n",
      "\u001b[A\n",
      "\n",
      "                                                  \n",
      "\u001b[A                                                \n",
      "  2%|▏         | 110/4700 [09:17<11:05,  6.90it/s]\n",
      "\u001b[A"
     ]
    },
    {
     "name": "stdout",
     "output_type": "stream",
     "text": [
      "{'eval_loss': 0.05182658135890961, 'eval_runtime': 0.0262, 'eval_samples_per_second': 419.251, 'eval_steps_per_second': 228.683, 'epoch': 35.11}\n"
     ]
    },
    {
     "name": "stderr",
     "output_type": "stream",
     "text": [
      "                                                  \n",
      "  2%|▏         | 110/4700 [09:19<11:05,  6.90it/s] "
     ]
    },
    {
     "name": "stdout",
     "output_type": "stream",
     "text": [
      "{'loss': 0.0006, 'grad_norm': 0.007199558895081282, 'learning_rate': 6.46808510638298e-06, 'epoch': 35.32}\n"
     ]
    },
    {
     "name": "stderr",
     "output_type": "stream",
     "text": [
      "\n",
      "\u001b[A\n",
      "\n",
      "                                                  \n",
      "\u001b[A                                                \n",
      "  2%|▏         | 110/4700 [09:19<11:05,  6.90it/s]\n",
      "\u001b[A"
     ]
    },
    {
     "name": "stdout",
     "output_type": "stream",
     "text": [
      "{'eval_loss': 0.050793133676052094, 'eval_runtime': 0.0268, 'eval_samples_per_second': 410.646, 'eval_steps_per_second': 223.989, 'epoch': 35.32}\n"
     ]
    },
    {
     "name": "stderr",
     "output_type": "stream",
     "text": [
      "                                                  \n",
      "  2%|▏         | 110/4700 [09:22<11:05,  6.90it/s] "
     ]
    },
    {
     "name": "stdout",
     "output_type": "stream",
     "text": [
      "{'loss': 0.0011, 'grad_norm': 0.01173236221075058, 'learning_rate': 6.446808510638298e-06, 'epoch': 35.53}\n"
     ]
    },
    {
     "name": "stderr",
     "output_type": "stream",
     "text": [
      "\n",
      "\u001b[A\n",
      "\n",
      "                                                  \n",
      "\u001b[A                                                \n",
      "  2%|▏         | 110/4700 [09:22<11:05,  6.90it/s]\n",
      "\u001b[A"
     ]
    },
    {
     "name": "stdout",
     "output_type": "stream",
     "text": [
      "{'eval_loss': 0.04999500513076782, 'eval_runtime': 0.0304, 'eval_samples_per_second': 361.969, 'eval_steps_per_second': 197.438, 'epoch': 35.53}\n"
     ]
    },
    {
     "name": "stderr",
     "output_type": "stream",
     "text": [
      "                                                  \n",
      "  2%|▏         | 110/4700 [09:24<11:05,  6.90it/s] "
     ]
    },
    {
     "name": "stdout",
     "output_type": "stream",
     "text": [
      "{'loss': 0.0007, 'grad_norm': 0.007700715679675341, 'learning_rate': 6.425531914893618e-06, 'epoch': 35.74}\n"
     ]
    },
    {
     "name": "stderr",
     "output_type": "stream",
     "text": [
      "\n",
      "\u001b[A\n",
      "\n",
      "                                                  \n",
      "\u001b[A                                                \n",
      "  2%|▏         | 110/4700 [09:24<11:05,  6.90it/s]\n",
      "\u001b[A"
     ]
    },
    {
     "name": "stdout",
     "output_type": "stream",
     "text": [
      "{'eval_loss': 0.0494682639837265, 'eval_runtime': 0.0268, 'eval_samples_per_second': 410.965, 'eval_steps_per_second': 224.162, 'epoch': 35.74}\n"
     ]
    },
    {
     "name": "stderr",
     "output_type": "stream",
     "text": [
      "                                                  \n",
      "  2%|▏         | 110/4700 [09:26<11:05,  6.90it/s] "
     ]
    },
    {
     "name": "stdout",
     "output_type": "stream",
     "text": [
      "{'loss': 0.0006, 'grad_norm': 0.006641091778874397, 'learning_rate': 6.404255319148936e-06, 'epoch': 35.96}\n"
     ]
    },
    {
     "name": "stderr",
     "output_type": "stream",
     "text": [
      "\n",
      "\u001b[A\n",
      "\n",
      "                                                  \n",
      "\u001b[A                                                \n",
      "  2%|▏         | 110/4700 [09:26<11:05,  6.90it/s]\n",
      "\u001b[A"
     ]
    },
    {
     "name": "stdout",
     "output_type": "stream",
     "text": [
      "{'eval_loss': 0.049333322793245316, 'eval_runtime': 0.0301, 'eval_samples_per_second': 364.979, 'eval_steps_per_second': 199.079, 'epoch': 35.96}\n"
     ]
    },
    {
     "name": "stderr",
     "output_type": "stream",
     "text": [
      "                                                  \n",
      "  2%|▏         | 110/4700 [09:29<11:05,  6.90it/s] "
     ]
    },
    {
     "name": "stdout",
     "output_type": "stream",
     "text": [
      "{'loss': 0.0006, 'grad_norm': 0.006213602144271135, 'learning_rate': 6.382978723404256e-06, 'epoch': 36.17}\n"
     ]
    },
    {
     "name": "stderr",
     "output_type": "stream",
     "text": [
      "\n",
      "\u001b[A\n",
      "\n",
      "                                                  \n",
      "\u001b[A                                                \n",
      "  2%|▏         | 110/4700 [09:29<11:05,  6.90it/s]\n",
      "\u001b[A"
     ]
    },
    {
     "name": "stdout",
     "output_type": "stream",
     "text": [
      "{'eval_loss': 0.048289671540260315, 'eval_runtime': 0.0287, 'eval_samples_per_second': 383.503, 'eval_steps_per_second': 209.184, 'epoch': 36.17}\n"
     ]
    },
    {
     "name": "stderr",
     "output_type": "stream",
     "text": [
      "                                                  \n",
      "  2%|▏         | 110/4700 [09:31<11:05,  6.90it/s] "
     ]
    },
    {
     "name": "stdout",
     "output_type": "stream",
     "text": [
      "{'loss': 0.0006, 'grad_norm': 0.015003793872892857, 'learning_rate': 6.361702127659575e-06, 'epoch': 36.38}\n"
     ]
    },
    {
     "name": "stderr",
     "output_type": "stream",
     "text": [
      "\n",
      "\u001b[A\n",
      "\n",
      "                                                  \n",
      "\u001b[A                                                \n",
      "  2%|▏         | 110/4700 [09:31<11:05,  6.90it/s]\n",
      "\u001b[A"
     ]
    },
    {
     "name": "stdout",
     "output_type": "stream",
     "text": [
      "{'eval_loss': 0.047409869730472565, 'eval_runtime': 0.0265, 'eval_samples_per_second': 415.641, 'eval_steps_per_second': 226.713, 'epoch': 36.38}\n"
     ]
    },
    {
     "name": "stderr",
     "output_type": "stream",
     "text": [
      "                                                  \n",
      "  2%|▏         | 110/4700 [09:34<11:05,  6.90it/s] "
     ]
    },
    {
     "name": "stdout",
     "output_type": "stream",
     "text": [
      "{'loss': 0.0014, 'grad_norm': 0.08070748299360275, 'learning_rate': 6.3404255319148945e-06, 'epoch': 36.6}\n"
     ]
    },
    {
     "name": "stderr",
     "output_type": "stream",
     "text": [
      "\n",
      "\u001b[A\n",
      "\n",
      "                                                  \n",
      "\u001b[A                                                \n",
      "  2%|▏         | 110/4700 [09:34<11:05,  6.90it/s]\n",
      "\u001b[A"
     ]
    },
    {
     "name": "stdout",
     "output_type": "stream",
     "text": [
      "{'eval_loss': 0.04943877458572388, 'eval_runtime': 0.0278, 'eval_samples_per_second': 395.618, 'eval_steps_per_second': 215.792, 'epoch': 36.6}\n"
     ]
    },
    {
     "name": "stderr",
     "output_type": "stream",
     "text": [
      "                                                  \n",
      "  2%|▏         | 110/4700 [09:37<11:05,  6.90it/s] "
     ]
    },
    {
     "name": "stdout",
     "output_type": "stream",
     "text": [
      "{'loss': 0.0006, 'grad_norm': 0.006422732956707478, 'learning_rate': 6.319148936170213e-06, 'epoch': 36.81}\n"
     ]
    },
    {
     "name": "stderr",
     "output_type": "stream",
     "text": [
      "\n",
      "\u001b[A\n",
      "\n",
      "                                                  \n",
      "\u001b[A                                                \n",
      "  2%|▏         | 110/4700 [09:37<11:05,  6.90it/s]\n",
      "\u001b[A"
     ]
    },
    {
     "name": "stdout",
     "output_type": "stream",
     "text": [
      "{'eval_loss': 0.049744270741939545, 'eval_runtime': 0.0259, 'eval_samples_per_second': 425.354, 'eval_steps_per_second': 232.012, 'epoch': 36.81}\n"
     ]
    },
    {
     "name": "stderr",
     "output_type": "stream",
     "text": [
      "                                                  \n",
      "  2%|▏         | 110/4700 [09:40<11:05,  6.90it/s] "
     ]
    },
    {
     "name": "stdout",
     "output_type": "stream",
     "text": [
      "{'loss': 0.001, 'grad_norm': 0.012207791209220886, 'learning_rate': 6.297872340425533e-06, 'epoch': 37.02}\n"
     ]
    },
    {
     "name": "stderr",
     "output_type": "stream",
     "text": [
      "\n",
      "\u001b[A\n",
      "\n",
      "                                                  \n",
      "\u001b[A                                                \n",
      "  2%|▏         | 110/4700 [09:40<11:05,  6.90it/s]\n",
      "\u001b[A"
     ]
    },
    {
     "name": "stdout",
     "output_type": "stream",
     "text": [
      "{'eval_loss': 0.049215421080589294, 'eval_runtime': 0.0277, 'eval_samples_per_second': 396.59, 'eval_steps_per_second': 216.322, 'epoch': 37.02}\n"
     ]
    },
    {
     "name": "stderr",
     "output_type": "stream",
     "text": [
      "                                                  \n",
      "  2%|▏         | 110/4700 [09:43<11:05,  6.90it/s] "
     ]
    },
    {
     "name": "stdout",
     "output_type": "stream",
     "text": [
      "{'loss': 0.0006, 'grad_norm': 0.006160037592053413, 'learning_rate': 6.276595744680851e-06, 'epoch': 37.23}\n"
     ]
    },
    {
     "name": "stderr",
     "output_type": "stream",
     "text": [
      "\n",
      "\u001b[A\n",
      "\n",
      "                                                  \n",
      "\u001b[A                                                \n",
      "  2%|▏         | 110/4700 [09:43<11:05,  6.90it/s]\n",
      "\u001b[A"
     ]
    },
    {
     "name": "stdout",
     "output_type": "stream",
     "text": [
      "{'eval_loss': 0.04835173860192299, 'eval_runtime': 0.0284, 'eval_samples_per_second': 387.211, 'eval_steps_per_second': 211.206, 'epoch': 37.23}\n"
     ]
    },
    {
     "name": "stderr",
     "output_type": "stream",
     "text": [
      "                                                  \n",
      "  2%|▏         | 110/4700 [09:45<11:05,  6.90it/s] "
     ]
    },
    {
     "name": "stdout",
     "output_type": "stream",
     "text": [
      "{'loss': 0.0017, 'grad_norm': 0.0927804708480835, 'learning_rate': 6.255319148936171e-06, 'epoch': 37.45}\n"
     ]
    },
    {
     "name": "stderr",
     "output_type": "stream",
     "text": [
      "\n",
      "\u001b[A\n",
      "\n",
      "                                                  \n",
      "\u001b[A                                                \n",
      "  2%|▏         | 110/4700 [09:45<11:05,  6.90it/s]\n",
      "\u001b[A"
     ]
    },
    {
     "name": "stdout",
     "output_type": "stream",
     "text": [
      "{'eval_loss': 0.04806039482355118, 'eval_runtime': 0.026, 'eval_samples_per_second': 423.177, 'eval_steps_per_second': 230.824, 'epoch': 37.45}\n"
     ]
    },
    {
     "name": "stderr",
     "output_type": "stream",
     "text": [
      "                                                  \n",
      "  2%|▏         | 110/4700 [09:47<11:05,  6.90it/s] "
     ]
    },
    {
     "name": "stdout",
     "output_type": "stream",
     "text": [
      "{'loss': 0.0005, 'grad_norm': 0.006690152455121279, 'learning_rate': 6.234042553191489e-06, 'epoch': 37.66}\n"
     ]
    },
    {
     "name": "stderr",
     "output_type": "stream",
     "text": [
      "\n",
      "\u001b[A\n",
      "\n",
      "                                                  \n",
      "\u001b[A                                                \n",
      "  2%|▏         | 110/4700 [09:48<11:05,  6.90it/s]\n",
      "\u001b[A"
     ]
    },
    {
     "name": "stdout",
     "output_type": "stream",
     "text": [
      "{'eval_loss': 0.048950448632240295, 'eval_runtime': 0.0266, 'eval_samples_per_second': 413.632, 'eval_steps_per_second': 225.617, 'epoch': 37.66}\n"
     ]
    },
    {
     "name": "stderr",
     "output_type": "stream",
     "text": [
      "                                                  \n",
      "  2%|▏         | 110/4700 [09:50<11:05,  6.90it/s] "
     ]
    },
    {
     "name": "stdout",
     "output_type": "stream",
     "text": [
      "{'loss': 0.0005, 'grad_norm': 0.009443194605410099, 'learning_rate': 6.212765957446809e-06, 'epoch': 37.87}\n"
     ]
    },
    {
     "name": "stderr",
     "output_type": "stream",
     "text": [
      "\n",
      "\u001b[A\n",
      "\n",
      "                                                  \n",
      "\u001b[A                                                \n",
      "  2%|▏         | 110/4700 [09:50<11:05,  6.90it/s]\n",
      "\u001b[A"
     ]
    },
    {
     "name": "stdout",
     "output_type": "stream",
     "text": [
      "{'eval_loss': 0.04843893274664879, 'eval_runtime': 0.0279, 'eval_samples_per_second': 393.882, 'eval_steps_per_second': 214.845, 'epoch': 37.87}\n"
     ]
    },
    {
     "name": "stderr",
     "output_type": "stream",
     "text": [
      "                                                  \n",
      "  2%|▏         | 110/4700 [09:53<11:05,  6.90it/s] "
     ]
    },
    {
     "name": "stdout",
     "output_type": "stream",
     "text": [
      "{'loss': 0.0006, 'grad_norm': 0.019100720062851906, 'learning_rate': 6.191489361702127e-06, 'epoch': 38.09}\n"
     ]
    },
    {
     "name": "stderr",
     "output_type": "stream",
     "text": [
      "\n",
      "\u001b[A\n",
      "\n",
      "                                                  \n",
      "\u001b[A                                                \n",
      "  2%|▏         | 110/4700 [09:53<11:05,  6.90it/s]\n",
      "\u001b[A"
     ]
    },
    {
     "name": "stdout",
     "output_type": "stream",
     "text": [
      "{'eval_loss': 0.048209335654973984, 'eval_runtime': 0.027, 'eval_samples_per_second': 407.826, 'eval_steps_per_second': 222.45, 'epoch': 38.09}\n"
     ]
    },
    {
     "name": "stderr",
     "output_type": "stream",
     "text": [
      "                                                  \n",
      "  2%|▏         | 110/4700 [09:55<11:05,  6.90it/s] "
     ]
    },
    {
     "name": "stdout",
     "output_type": "stream",
     "text": [
      "{'loss': 0.0011, 'grad_norm': 0.008600526489317417, 'learning_rate': 6.170212765957447e-06, 'epoch': 38.3}\n"
     ]
    },
    {
     "name": "stderr",
     "output_type": "stream",
     "text": [
      "\n",
      "\u001b[A\n",
      "\n",
      "                                                  \n",
      "\u001b[A                                                \n",
      "  2%|▏         | 110/4700 [09:55<11:05,  6.90it/s]\n",
      "\u001b[A"
     ]
    },
    {
     "name": "stdout",
     "output_type": "stream",
     "text": [
      "{'eval_loss': 0.048657335340976715, 'eval_runtime': 0.0281, 'eval_samples_per_second': 391.728, 'eval_steps_per_second': 213.67, 'epoch': 38.3}\n"
     ]
    },
    {
     "name": "stderr",
     "output_type": "stream",
     "text": [
      "                                                  \n",
      "  2%|▏         | 110/4700 [09:58<11:05,  6.90it/s] "
     ]
    },
    {
     "name": "stdout",
     "output_type": "stream",
     "text": [
      "{'loss': 0.0006, 'grad_norm': 0.006632466800510883, 'learning_rate': 6.148936170212767e-06, 'epoch': 38.51}\n"
     ]
    },
    {
     "name": "stderr",
     "output_type": "stream",
     "text": [
      "\n",
      "\u001b[A\n",
      "\n",
      "                                                  \n",
      "\u001b[A                                                \n",
      "  2%|▏         | 110/4700 [09:58<11:05,  6.90it/s]\n",
      "\u001b[A"
     ]
    },
    {
     "name": "stdout",
     "output_type": "stream",
     "text": [
      "{'eval_loss': 0.049584899097681046, 'eval_runtime': 0.0265, 'eval_samples_per_second': 415.498, 'eval_steps_per_second': 226.635, 'epoch': 38.51}\n"
     ]
    },
    {
     "name": "stderr",
     "output_type": "stream",
     "text": [
      "                                                  \n",
      "  2%|▏         | 110/4700 [10:00<11:05,  6.90it/s] "
     ]
    },
    {
     "name": "stdout",
     "output_type": "stream",
     "text": [
      "{'loss': 0.0007, 'grad_norm': 0.008517980575561523, 'learning_rate': 6.1276595744680855e-06, 'epoch': 38.72}\n"
     ]
    },
    {
     "name": "stderr",
     "output_type": "stream",
     "text": [
      "\n",
      "\u001b[A\n",
      "\n",
      "                                                  \n",
      "\u001b[A                                                \n",
      "  2%|▏         | 110/4700 [10:00<11:05,  6.90it/s]\n",
      "\u001b[A"
     ]
    },
    {
     "name": "stdout",
     "output_type": "stream",
     "text": [
      "{'eval_loss': 0.04954652860760689, 'eval_runtime': 0.0278, 'eval_samples_per_second': 396.114, 'eval_steps_per_second': 216.062, 'epoch': 38.72}\n"
     ]
    },
    {
     "name": "stderr",
     "output_type": "stream",
     "text": [
      "                                                  \n",
      "  2%|▏         | 110/4700 [10:03<11:05,  6.90it/s] "
     ]
    },
    {
     "name": "stdout",
     "output_type": "stream",
     "text": [
      "{'loss': 0.0007, 'grad_norm': 0.012694488279521465, 'learning_rate': 6.1063829787234055e-06, 'epoch': 38.94}\n"
     ]
    },
    {
     "name": "stderr",
     "output_type": "stream",
     "text": [
      "\n",
      "\u001b[A\n",
      "\n",
      "                                                  \n",
      "\u001b[A                                                \n",
      "  2%|▏         | 110/4700 [10:03<11:05,  6.90it/s]\n",
      "\u001b[A"
     ]
    },
    {
     "name": "stdout",
     "output_type": "stream",
     "text": [
      "{'eval_loss': 0.04912124574184418, 'eval_runtime': 0.0252, 'eval_samples_per_second': 436.994, 'eval_steps_per_second': 238.36, 'epoch': 38.94}\n"
     ]
    },
    {
     "name": "stderr",
     "output_type": "stream",
     "text": [
      "                                                  \n",
      "  2%|▏         | 110/4700 [10:05<11:05,  6.90it/s] "
     ]
    },
    {
     "name": "stdout",
     "output_type": "stream",
     "text": [
      "{'loss': 0.0006, 'grad_norm': 0.007849229499697685, 'learning_rate': 6.085106382978724e-06, 'epoch': 39.15}\n"
     ]
    },
    {
     "name": "stderr",
     "output_type": "stream",
     "text": [
      "\n",
      "\u001b[A\n",
      "\n",
      "                                                  \n",
      "\u001b[A                                                \n",
      "  2%|▏         | 110/4700 [10:05<11:05,  6.90it/s]\n",
      "\u001b[A"
     ]
    },
    {
     "name": "stdout",
     "output_type": "stream",
     "text": [
      "{'eval_loss': 0.04843201860785484, 'eval_runtime': 0.0261, 'eval_samples_per_second': 420.884, 'eval_steps_per_second': 229.573, 'epoch': 39.15}\n"
     ]
    },
    {
     "name": "stderr",
     "output_type": "stream",
     "text": [
      "                                                  \n",
      "  2%|▏         | 110/4700 [10:07<11:05,  6.90it/s] "
     ]
    },
    {
     "name": "stdout",
     "output_type": "stream",
     "text": [
      "{'loss': 0.0006, 'grad_norm': 0.009930015541613102, 'learning_rate': 6.063829787234044e-06, 'epoch': 39.36}\n"
     ]
    },
    {
     "name": "stderr",
     "output_type": "stream",
     "text": [
      "\n",
      "\u001b[A\n",
      "\n",
      "                                                  \n",
      "\u001b[A                                                \n",
      "  2%|▏         | 110/4700 [10:07<11:05,  6.90it/s]\n",
      "\u001b[A"
     ]
    },
    {
     "name": "stdout",
     "output_type": "stream",
     "text": [
      "{'eval_loss': 0.0483773835003376, 'eval_runtime': 0.0263, 'eval_samples_per_second': 418.726, 'eval_steps_per_second': 228.396, 'epoch': 39.36}\n"
     ]
    },
    {
     "name": "stderr",
     "output_type": "stream",
     "text": [
      "                                                  \n",
      "  2%|▏         | 110/4700 [10:10<11:05,  6.90it/s] "
     ]
    },
    {
     "name": "stdout",
     "output_type": "stream",
     "text": [
      "{'loss': 0.0012, 'grad_norm': 0.010933857411146164, 'learning_rate': 6.042553191489362e-06, 'epoch': 39.57}\n"
     ]
    },
    {
     "name": "stderr",
     "output_type": "stream",
     "text": [
      "\n",
      "\u001b[A\n",
      "\n",
      "                                                  \n",
      "\u001b[A                                                \n",
      "  2%|▏         | 110/4700 [10:10<11:05,  6.90it/s]\n",
      "\u001b[A"
     ]
    },
    {
     "name": "stdout",
     "output_type": "stream",
     "text": [
      "{'eval_loss': 0.05602136626839638, 'eval_runtime': 0.0267, 'eval_samples_per_second': 412.235, 'eval_steps_per_second': 224.855, 'epoch': 39.57}\n"
     ]
    },
    {
     "name": "stderr",
     "output_type": "stream",
     "text": [
      "                                                  \n",
      "  2%|▏         | 110/4700 [10:12<11:05,  6.90it/s] "
     ]
    },
    {
     "name": "stdout",
     "output_type": "stream",
     "text": [
      "{'loss': 0.0008, 'grad_norm': 0.007047162391245365, 'learning_rate': 6.021276595744682e-06, 'epoch': 39.79}\n"
     ]
    },
    {
     "name": "stderr",
     "output_type": "stream",
     "text": [
      "\n",
      "\u001b[A\n",
      "\n",
      "                                                  \n",
      "\u001b[A                                                \n",
      "  2%|▏         | 110/4700 [10:12<11:05,  6.90it/s]\n",
      "\u001b[A"
     ]
    },
    {
     "name": "stdout",
     "output_type": "stream",
     "text": [
      "{'eval_loss': 0.06662046909332275, 'eval_runtime': 0.0275, 'eval_samples_per_second': 400.63, 'eval_steps_per_second': 218.525, 'epoch': 39.79}\n"
     ]
    },
    {
     "name": "stderr",
     "output_type": "stream",
     "text": [
      "                                                  \n",
      "  2%|▏         | 110/4700 [10:14<11:05,  6.90it/s] "
     ]
    },
    {
     "name": "stdout",
     "output_type": "stream",
     "text": [
      "{'loss': 0.0006, 'grad_norm': 0.006545775569975376, 'learning_rate': 6e-06, 'epoch': 40.0}\n"
     ]
    },
    {
     "name": "stderr",
     "output_type": "stream",
     "text": [
      "\n",
      "\u001b[A\n",
      "\n",
      "                                                  \n",
      "\u001b[A                                                \n",
      "  2%|▏         | 110/4700 [10:14<11:05,  6.90it/s]\n",
      "\u001b[A"
     ]
    },
    {
     "name": "stdout",
     "output_type": "stream",
     "text": [
      "{'eval_loss': 0.06932903081178665, 'eval_runtime': 0.0264, 'eval_samples_per_second': 417.155, 'eval_steps_per_second': 227.539, 'epoch': 40.0}\n"
     ]
    },
    {
     "name": "stderr",
     "output_type": "stream",
     "text": [
      "                                                  \n",
      "  2%|▏         | 110/4700 [10:17<11:05,  6.90it/s] "
     ]
    },
    {
     "name": "stdout",
     "output_type": "stream",
     "text": [
      "{'loss': 0.0009, 'grad_norm': 0.0065116253681480885, 'learning_rate': 5.97872340425532e-06, 'epoch': 40.21}\n"
     ]
    },
    {
     "name": "stderr",
     "output_type": "stream",
     "text": [
      "\n",
      "\u001b[A\n",
      "\n",
      "                                                  \n",
      "\u001b[A                                                \n",
      "  2%|▏         | 110/4700 [10:17<11:05,  6.90it/s]\n",
      "\u001b[A"
     ]
    },
    {
     "name": "stdout",
     "output_type": "stream",
     "text": [
      "{'eval_loss': 0.07021678239107132, 'eval_runtime': 0.0268, 'eval_samples_per_second': 410.533, 'eval_steps_per_second': 223.927, 'epoch': 40.21}\n"
     ]
    },
    {
     "name": "stderr",
     "output_type": "stream",
     "text": [
      "                                                  \n",
      "  2%|▏         | 110/4700 [10:19<11:05,  6.90it/s] "
     ]
    },
    {
     "name": "stdout",
     "output_type": "stream",
     "text": [
      "{'loss': 0.0006, 'grad_norm': 0.006956621538847685, 'learning_rate': 5.957446808510638e-06, 'epoch': 40.43}\n"
     ]
    },
    {
     "name": "stderr",
     "output_type": "stream",
     "text": [
      "\n",
      "\u001b[A\n",
      "\n",
      "                                                  \n",
      "\u001b[A                                                \n",
      "  2%|▏         | 110/4700 [10:19<11:05,  6.90it/s]\n",
      "\u001b[A"
     ]
    },
    {
     "name": "stdout",
     "output_type": "stream",
     "text": [
      "{'eval_loss': 0.06950026005506516, 'eval_runtime': 0.0293, 'eval_samples_per_second': 375.354, 'eval_steps_per_second': 204.738, 'epoch': 40.43}\n"
     ]
    },
    {
     "name": "stderr",
     "output_type": "stream",
     "text": [
      "                                                  \n",
      "  2%|▏         | 110/4700 [10:22<11:05,  6.90it/s] "
     ]
    },
    {
     "name": "stdout",
     "output_type": "stream",
     "text": [
      "{'loss': 0.0008, 'grad_norm': 0.008967948146164417, 'learning_rate': 5.936170212765958e-06, 'epoch': 40.64}\n"
     ]
    },
    {
     "name": "stderr",
     "output_type": "stream",
     "text": [
      "\n",
      "\u001b[A\n",
      "\n",
      "                                                  \n",
      "\u001b[A                                                \n",
      "  2%|▏         | 110/4700 [10:22<11:05,  6.90it/s]\n",
      "\u001b[A"
     ]
    },
    {
     "name": "stdout",
     "output_type": "stream",
     "text": [
      "{'eval_loss': 0.07422906905412674, 'eval_runtime': 0.0264, 'eval_samples_per_second': 416.154, 'eval_steps_per_second': 226.993, 'epoch': 40.64}\n"
     ]
    },
    {
     "name": "stderr",
     "output_type": "stream",
     "text": [
      "                                                  \n",
      "  2%|▏         | 110/4700 [10:25<11:05,  6.90it/s] "
     ]
    },
    {
     "name": "stdout",
     "output_type": "stream",
     "text": [
      "{'loss': 0.0009, 'grad_norm': 0.09392758458852768, 'learning_rate': 5.9148936170212766e-06, 'epoch': 40.85}\n"
     ]
    },
    {
     "name": "stderr",
     "output_type": "stream",
     "text": [
      "\n",
      "\u001b[A\n",
      "\n",
      "                                                  \n",
      "\u001b[A                                                \n",
      "  2%|▏         | 110/4700 [10:25<11:05,  6.90it/s]\n",
      "\u001b[A"
     ]
    },
    {
     "name": "stdout",
     "output_type": "stream",
     "text": [
      "{'eval_loss': 0.07386763393878937, 'eval_runtime': 0.0299, 'eval_samples_per_second': 367.634, 'eval_steps_per_second': 200.528, 'epoch': 40.85}\n"
     ]
    },
    {
     "name": "stderr",
     "output_type": "stream",
     "text": [
      "                                                  \n",
      "  2%|▏         | 110/4700 [10:28<11:05,  6.90it/s] "
     ]
    },
    {
     "name": "stdout",
     "output_type": "stream",
     "text": [
      "{'loss': 0.0005, 'grad_norm': 0.006388755980879068, 'learning_rate': 5.8936170212765965e-06, 'epoch': 41.06}\n"
     ]
    },
    {
     "name": "stderr",
     "output_type": "stream",
     "text": [
      "\n",
      "\u001b[A\n",
      "\n",
      "                                                  \n",
      "\u001b[A                                                \n",
      "  2%|▏         | 110/4700 [10:28<11:05,  6.90it/s]\n",
      "\u001b[A"
     ]
    },
    {
     "name": "stdout",
     "output_type": "stream",
     "text": [
      "{'eval_loss': 0.07179439067840576, 'eval_runtime': 0.0275, 'eval_samples_per_second': 399.682, 'eval_steps_per_second': 218.009, 'epoch': 41.06}\n"
     ]
    },
    {
     "name": "stderr",
     "output_type": "stream",
     "text": [
      "                                                  \n",
      "  2%|▏         | 110/4700 [10:30<11:05,  6.90it/s] "
     ]
    },
    {
     "name": "stdout",
     "output_type": "stream",
     "text": [
      "{'loss': 0.0012, 'grad_norm': 0.014865885488688946, 'learning_rate': 5.872340425531915e-06, 'epoch': 41.28}\n"
     ]
    },
    {
     "name": "stderr",
     "output_type": "stream",
     "text": [
      "\n",
      "\u001b[A\n",
      "\n",
      "                                                  \n",
      "\u001b[A                                                \n",
      "  2%|▏         | 110/4700 [10:30<11:05,  6.90it/s]\n",
      "\u001b[A"
     ]
    },
    {
     "name": "stdout",
     "output_type": "stream",
     "text": [
      "{'eval_loss': 0.06890594214200974, 'eval_runtime': 0.0264, 'eval_samples_per_second': 416.722, 'eval_steps_per_second': 227.303, 'epoch': 41.28}\n"
     ]
    },
    {
     "name": "stderr",
     "output_type": "stream",
     "text": [
      "                                                  \n",
      "  2%|▏         | 110/4700 [10:33<11:05,  6.90it/s] "
     ]
    },
    {
     "name": "stdout",
     "output_type": "stream",
     "text": [
      "{'loss': 0.0006, 'grad_norm': 0.03741537779569626, 'learning_rate': 5.851063829787235e-06, 'epoch': 41.49}\n"
     ]
    },
    {
     "name": "stderr",
     "output_type": "stream",
     "text": [
      "\n",
      "\u001b[A\n",
      "\n",
      "                                                  \n",
      "\u001b[A                                                \n",
      "  2%|▏         | 110/4700 [10:33<11:05,  6.90it/s]\n",
      "\u001b[A"
     ]
    },
    {
     "name": "stdout",
     "output_type": "stream",
     "text": [
      "{'eval_loss': 0.06637164950370789, 'eval_runtime': 0.0269, 'eval_samples_per_second': 408.498, 'eval_steps_per_second': 222.817, 'epoch': 41.49}\n"
     ]
    },
    {
     "name": "stderr",
     "output_type": "stream",
     "text": [
      "                                                  \n",
      "  2%|▏         | 110/4700 [10:36<11:05,  6.90it/s] "
     ]
    },
    {
     "name": "stdout",
     "output_type": "stream",
     "text": [
      "{'loss': 0.0007, 'grad_norm': 0.013874238356947899, 'learning_rate': 5.829787234042553e-06, 'epoch': 41.7}\n"
     ]
    },
    {
     "name": "stderr",
     "output_type": "stream",
     "text": [
      "\n",
      "\u001b[A\n",
      "\n",
      "                                                  \n",
      "\u001b[A                                                \n",
      "  2%|▏         | 110/4700 [10:36<11:05,  6.90it/s]\n",
      "\u001b[A"
     ]
    },
    {
     "name": "stdout",
     "output_type": "stream",
     "text": [
      "{'eval_loss': 0.06406902521848679, 'eval_runtime': 0.0307, 'eval_samples_per_second': 358.616, 'eval_steps_per_second': 195.609, 'epoch': 41.7}\n"
     ]
    },
    {
     "name": "stderr",
     "output_type": "stream",
     "text": [
      "                                                  \n",
      "  2%|▏         | 110/4700 [10:38<11:05,  6.90it/s] "
     ]
    },
    {
     "name": "stdout",
     "output_type": "stream",
     "text": [
      "{'loss': 0.0006, 'grad_norm': 0.015078525058925152, 'learning_rate': 5.808510638297873e-06, 'epoch': 41.91}\n"
     ]
    },
    {
     "name": "stderr",
     "output_type": "stream",
     "text": [
      "\n",
      "\u001b[A\n",
      "\n",
      "                                                  \n",
      "\u001b[A                                                \n",
      "  2%|▏         | 110/4700 [10:38<11:05,  6.90it/s]\n",
      "\u001b[A"
     ]
    },
    {
     "name": "stdout",
     "output_type": "stream",
     "text": [
      "{'eval_loss': 0.06323079019784927, 'eval_runtime': 0.028, 'eval_samples_per_second': 392.158, 'eval_steps_per_second': 213.904, 'epoch': 41.91}\n"
     ]
    },
    {
     "name": "stderr",
     "output_type": "stream",
     "text": [
      "                                                  \n",
      "  2%|▏         | 110/4700 [10:41<11:05,  6.90it/s] "
     ]
    },
    {
     "name": "stdout",
     "output_type": "stream",
     "text": [
      "{'loss': 0.0008, 'grad_norm': 0.06488773971796036, 'learning_rate': 5.787234042553191e-06, 'epoch': 42.13}\n"
     ]
    },
    {
     "name": "stderr",
     "output_type": "stream",
     "text": [
      "\n",
      "\u001b[A\n",
      "\n",
      "                                                  \n",
      "\u001b[A                                                \n",
      "  2%|▏         | 110/4700 [10:41<11:05,  6.90it/s]\n",
      "\u001b[A"
     ]
    },
    {
     "name": "stdout",
     "output_type": "stream",
     "text": [
      "{'eval_loss': 0.06215900555253029, 'eval_runtime': 0.0285, 'eval_samples_per_second': 386.533, 'eval_steps_per_second': 210.836, 'epoch': 42.13}\n"
     ]
    },
    {
     "name": "stderr",
     "output_type": "stream",
     "text": [
      "                                                  \n",
      "  2%|▏         | 110/4700 [10:45<11:05,  6.90it/s] "
     ]
    },
    {
     "name": "stdout",
     "output_type": "stream",
     "text": [
      "{'loss': 0.0008, 'grad_norm': 0.01685546152293682, 'learning_rate': 5.765957446808511e-06, 'epoch': 42.34}\n"
     ]
    },
    {
     "name": "stderr",
     "output_type": "stream",
     "text": [
      "\n",
      "\u001b[A\n",
      "\n",
      "                                                  \n",
      "\u001b[A                                                \n",
      "  2%|▏         | 110/4700 [10:45<11:05,  6.90it/s]\n",
      "\u001b[A"
     ]
    },
    {
     "name": "stdout",
     "output_type": "stream",
     "text": [
      "{'eval_loss': 0.060000523924827576, 'eval_runtime': 0.0301, 'eval_samples_per_second': 365.086, 'eval_steps_per_second': 199.138, 'epoch': 42.34}\n"
     ]
    },
    {
     "name": "stderr",
     "output_type": "stream",
     "text": [
      "                                                  \n",
      "  2%|▏         | 110/4700 [10:47<11:05,  6.90it/s] "
     ]
    },
    {
     "name": "stdout",
     "output_type": "stream",
     "text": [
      "{'loss': 0.0006, 'grad_norm': 0.005660791415721178, 'learning_rate': 5.744680851063831e-06, 'epoch': 42.55}\n"
     ]
    },
    {
     "name": "stderr",
     "output_type": "stream",
     "text": [
      "\n",
      "\u001b[A\n",
      "\n",
      "                                                  \n",
      "\u001b[A                                                \n",
      "  2%|▏         | 110/4700 [10:47<11:05,  6.90it/s]\n",
      "\u001b[A"
     ]
    },
    {
     "name": "stdout",
     "output_type": "stream",
     "text": [
      "{'eval_loss': 0.056840065866708755, 'eval_runtime': 0.0271, 'eval_samples_per_second': 405.924, 'eval_steps_per_second': 221.413, 'epoch': 42.55}\n"
     ]
    },
    {
     "name": "stderr",
     "output_type": "stream",
     "text": [
      "                                                  \n",
      "  2%|▏         | 110/4700 [10:49<11:05,  6.90it/s] "
     ]
    },
    {
     "name": "stdout",
     "output_type": "stream",
     "text": [
      "{'loss': 0.0005, 'grad_norm': 0.011026782914996147, 'learning_rate': 5.723404255319149e-06, 'epoch': 42.77}\n"
     ]
    },
    {
     "name": "stderr",
     "output_type": "stream",
     "text": [
      "\n",
      "\u001b[A\n",
      "\n",
      "                                                  \n",
      "\u001b[A                                                \n",
      "  2%|▏         | 110/4700 [10:49<11:05,  6.90it/s]\n",
      "\u001b[A"
     ]
    },
    {
     "name": "stdout",
     "output_type": "stream",
     "text": [
      "{'eval_loss': 0.05340935289859772, 'eval_runtime': 0.0303, 'eval_samples_per_second': 362.866, 'eval_steps_per_second': 197.927, 'epoch': 42.77}\n"
     ]
    },
    {
     "name": "stderr",
     "output_type": "stream",
     "text": [
      "                                                  \n",
      "  2%|▏         | 110/4700 [10:52<11:05,  6.90it/s] "
     ]
    },
    {
     "name": "stdout",
     "output_type": "stream",
     "text": [
      "{'loss': 0.0006, 'grad_norm': 0.010178170166909695, 'learning_rate': 5.702127659574469e-06, 'epoch': 42.98}\n"
     ]
    },
    {
     "name": "stderr",
     "output_type": "stream",
     "text": [
      "\n",
      "\u001b[A\n",
      "\n",
      "                                                  \n",
      "\u001b[A                                                \n",
      "  2%|▏         | 110/4700 [10:52<11:05,  6.90it/s]\n",
      "\u001b[A"
     ]
    },
    {
     "name": "stdout",
     "output_type": "stream",
     "text": [
      "{'eval_loss': 0.05146677419543266, 'eval_runtime': 0.0272, 'eval_samples_per_second': 403.948, 'eval_steps_per_second': 220.335, 'epoch': 42.98}\n"
     ]
    },
    {
     "name": "stderr",
     "output_type": "stream",
     "text": [
      "                                                  \n",
      "  2%|▏         | 110/4700 [10:54<11:05,  6.90it/s] "
     ]
    },
    {
     "name": "stdout",
     "output_type": "stream",
     "text": [
      "{'loss': 0.0008, 'grad_norm': 0.013684525154531002, 'learning_rate': 5.6808510638297875e-06, 'epoch': 43.19}\n"
     ]
    },
    {
     "name": "stderr",
     "output_type": "stream",
     "text": [
      "\n",
      "\u001b[A\n",
      "\n",
      "                                                  \n",
      "\u001b[A                                                \n",
      "  2%|▏         | 110/4700 [10:54<11:05,  6.90it/s]\n",
      "\u001b[A"
     ]
    },
    {
     "name": "stdout",
     "output_type": "stream",
     "text": [
      "{'eval_loss': 0.04922594875097275, 'eval_runtime': 0.0288, 'eval_samples_per_second': 381.919, 'eval_steps_per_second': 208.319, 'epoch': 43.19}\n"
     ]
    },
    {
     "name": "stderr",
     "output_type": "stream",
     "text": [
      "                                                  \n",
      "  2%|▏         | 110/4700 [10:57<11:05,  6.90it/s] "
     ]
    },
    {
     "name": "stdout",
     "output_type": "stream",
     "text": [
      "{'loss': 0.0007, 'grad_norm': 0.021542444825172424, 'learning_rate': 5.6595744680851075e-06, 'epoch': 43.4}\n"
     ]
    },
    {
     "name": "stderr",
     "output_type": "stream",
     "text": [
      "\n",
      "\u001b[A\n",
      "\n",
      "                                                  \n",
      "\u001b[A                                                \n",
      "  2%|▏         | 110/4700 [10:57<11:05,  6.90it/s]\n",
      "\u001b[A"
     ]
    },
    {
     "name": "stdout",
     "output_type": "stream",
     "text": [
      "{'eval_loss': 0.046733781695365906, 'eval_runtime': 0.026, 'eval_samples_per_second': 422.519, 'eval_steps_per_second': 230.465, 'epoch': 43.4}\n"
     ]
    },
    {
     "name": "stderr",
     "output_type": "stream",
     "text": [
      "                                                  \n",
      "  2%|▏         | 110/4700 [10:59<11:05,  6.90it/s] "
     ]
    },
    {
     "name": "stdout",
     "output_type": "stream",
     "text": [
      "{'loss': 0.001, 'grad_norm': 0.011170587502419949, 'learning_rate': 5.638297872340426e-06, 'epoch': 43.62}\n"
     ]
    },
    {
     "name": "stderr",
     "output_type": "stream",
     "text": [
      "\n",
      "\u001b[A\n",
      "\n",
      "                                                  \n",
      "\u001b[A                                                \n",
      "  2%|▏         | 110/4700 [10:59<11:05,  6.90it/s]\n",
      "\u001b[A"
     ]
    },
    {
     "name": "stdout",
     "output_type": "stream",
     "text": [
      "{'eval_loss': 0.04304755851626396, 'eval_runtime': 0.0298, 'eval_samples_per_second': 369.034, 'eval_steps_per_second': 201.291, 'epoch': 43.62}\n"
     ]
    },
    {
     "name": "stderr",
     "output_type": "stream",
     "text": [
      "                                                  \n",
      "  2%|▏         | 110/4700 [11:02<11:05,  6.90it/s] "
     ]
    },
    {
     "name": "stdout",
     "output_type": "stream",
     "text": [
      "{'loss': 0.0005, 'grad_norm': 0.012594085186719894, 'learning_rate': 5.617021276595746e-06, 'epoch': 43.83}\n"
     ]
    },
    {
     "name": "stderr",
     "output_type": "stream",
     "text": [
      "\n",
      "\u001b[A\n",
      "\n",
      "                                                  \n",
      "\u001b[A                                                \n",
      "  2%|▏         | 110/4700 [11:02<11:05,  6.90it/s]\n",
      "\u001b[A"
     ]
    },
    {
     "name": "stdout",
     "output_type": "stream",
     "text": [
      "{'eval_loss': 0.04210670664906502, 'eval_runtime': 0.0252, 'eval_samples_per_second': 436.799, 'eval_steps_per_second': 238.254, 'epoch': 43.83}\n"
     ]
    },
    {
     "name": "stderr",
     "output_type": "stream",
     "text": [
      "                                                  \n",
      "  2%|▏         | 110/4700 [11:04<11:05,  6.90it/s] "
     ]
    },
    {
     "name": "stdout",
     "output_type": "stream",
     "text": [
      "{'loss': 0.0009, 'grad_norm': 0.017372090369462967, 'learning_rate': 5.595744680851064e-06, 'epoch': 44.04}\n"
     ]
    },
    {
     "name": "stderr",
     "output_type": "stream",
     "text": [
      "\n",
      "\u001b[A\n",
      "\n",
      "                                                  \n",
      "\u001b[A                                                \n",
      "  2%|▏         | 110/4700 [11:04<11:05,  6.90it/s]\n",
      "\u001b[A"
     ]
    },
    {
     "name": "stdout",
     "output_type": "stream",
     "text": [
      "{'eval_loss': 0.041834745556116104, 'eval_runtime': 0.0266, 'eval_samples_per_second': 413.006, 'eval_steps_per_second': 225.276, 'epoch': 44.04}\n"
     ]
    },
    {
     "name": "stderr",
     "output_type": "stream",
     "text": [
      "                                                  \n",
      "  2%|▏         | 110/4700 [11:07<11:05,  6.90it/s] "
     ]
    },
    {
     "name": "stdout",
     "output_type": "stream",
     "text": [
      "{'loss': 0.0006, 'grad_norm': 0.014139031991362572, 'learning_rate': 5.574468085106384e-06, 'epoch': 44.26}\n"
     ]
    },
    {
     "name": "stderr",
     "output_type": "stream",
     "text": [
      "\n",
      "\u001b[A\n",
      "\n",
      "                                                  \n",
      "\u001b[A                                                \n",
      "  2%|▏         | 110/4700 [11:07<11:05,  6.90it/s]\n",
      "\u001b[A"
     ]
    },
    {
     "name": "stdout",
     "output_type": "stream",
     "text": [
      "{'eval_loss': 0.041690077632665634, 'eval_runtime': 0.0283, 'eval_samples_per_second': 388.581, 'eval_steps_per_second': 211.953, 'epoch': 44.26}\n"
     ]
    },
    {
     "name": "stderr",
     "output_type": "stream",
     "text": [
      "                                                  \n",
      "  2%|▏         | 110/4700 [11:09<11:05,  6.90it/s] "
     ]
    },
    {
     "name": "stdout",
     "output_type": "stream",
     "text": [
      "{'loss': 0.0011, 'grad_norm': 0.009587575681507587, 'learning_rate': 5.553191489361702e-06, 'epoch': 44.47}\n"
     ]
    },
    {
     "name": "stderr",
     "output_type": "stream",
     "text": [
      "\n",
      "\u001b[A\n",
      "\n",
      "                                                  \n",
      "\u001b[A                                                \n",
      "  2%|▏         | 110/4700 [11:09<11:05,  6.90it/s]\n",
      "\u001b[A"
     ]
    },
    {
     "name": "stdout",
     "output_type": "stream",
     "text": [
      "{'eval_loss': 0.04184674844145775, 'eval_runtime': 0.0259, 'eval_samples_per_second': 424.053, 'eval_steps_per_second': 231.301, 'epoch': 44.47}\n"
     ]
    },
    {
     "name": "stderr",
     "output_type": "stream",
     "text": [
      "                                                  \n",
      "  2%|▏         | 110/4700 [11:11<11:05,  6.90it/s] "
     ]
    },
    {
     "name": "stdout",
     "output_type": "stream",
     "text": [
      "{'loss': 0.0005, 'grad_norm': 0.00769082410261035, 'learning_rate': 5.531914893617022e-06, 'epoch': 44.68}\n"
     ]
    },
    {
     "name": "stderr",
     "output_type": "stream",
     "text": [
      "\n",
      "\u001b[A\n",
      "\n",
      "                                                  \n",
      "\u001b[A                                                \n",
      "  2%|▏         | 110/4700 [11:11<11:05,  6.90it/s]\n",
      "\u001b[A"
     ]
    },
    {
     "name": "stdout",
     "output_type": "stream",
     "text": [
      "{'eval_loss': 0.07031102478504181, 'eval_runtime': 0.0268, 'eval_samples_per_second': 410.022, 'eval_steps_per_second': 223.649, 'epoch': 44.68}\n"
     ]
    },
    {
     "name": "stderr",
     "output_type": "stream",
     "text": [
      "                                                  \n",
      "  2%|▏         | 110/4700 [11:14<11:05,  6.90it/s] "
     ]
    },
    {
     "name": "stdout",
     "output_type": "stream",
     "text": [
      "{'loss': 0.0009, 'grad_norm': 0.00785884540528059, 'learning_rate': 5.51063829787234e-06, 'epoch': 44.89}\n"
     ]
    },
    {
     "name": "stderr",
     "output_type": "stream",
     "text": [
      "\n",
      "\u001b[A\n",
      "\n",
      "                                                  \n",
      "\u001b[A                                                \n",
      "  2%|▏         | 110/4700 [11:14<11:05,  6.90it/s]\n",
      "\u001b[A"
     ]
    },
    {
     "name": "stdout",
     "output_type": "stream",
     "text": [
      "{'eval_loss': 0.07092029601335526, 'eval_runtime': 0.0281, 'eval_samples_per_second': 390.812, 'eval_steps_per_second': 213.17, 'epoch': 44.89}\n"
     ]
    },
    {
     "name": "stderr",
     "output_type": "stream",
     "text": [
      "                                                  \n",
      "  2%|▏         | 110/4700 [11:16<11:05,  6.90it/s] "
     ]
    },
    {
     "name": "stdout",
     "output_type": "stream",
     "text": [
      "{'loss': 0.0007, 'grad_norm': 0.010079404339194298, 'learning_rate': 5.48936170212766e-06, 'epoch': 45.11}\n"
     ]
    },
    {
     "name": "stderr",
     "output_type": "stream",
     "text": [
      "\n",
      "\u001b[A\n",
      "\n",
      "                                                  \n",
      "\u001b[A                                                \n",
      "  2%|▏         | 110/4700 [11:16<11:05,  6.90it/s]\n",
      "\u001b[A"
     ]
    },
    {
     "name": "stdout",
     "output_type": "stream",
     "text": [
      "{'eval_loss': 0.055223021656274796, 'eval_runtime': 0.0263, 'eval_samples_per_second': 417.461, 'eval_steps_per_second': 227.706, 'epoch': 45.11}\n"
     ]
    },
    {
     "name": "stderr",
     "output_type": "stream",
     "text": [
      "                                                  \n",
      "  2%|▏         | 110/4700 [11:18<11:05,  6.90it/s] "
     ]
    },
    {
     "name": "stdout",
     "output_type": "stream",
     "text": [
      "{'loss': 0.0008, 'grad_norm': 0.00545191764831543, 'learning_rate': 5.4680851063829785e-06, 'epoch': 45.32}\n"
     ]
    },
    {
     "name": "stderr",
     "output_type": "stream",
     "text": [
      "\n",
      "\u001b[A\n",
      "\n",
      "                                                  \n",
      "\u001b[A                                                \n",
      "  2%|▏         | 110/4700 [11:18<11:05,  6.90it/s]\n",
      "\u001b[A"
     ]
    },
    {
     "name": "stdout",
     "output_type": "stream",
     "text": [
      "{'eval_loss': 0.06839790940284729, 'eval_runtime': 0.0327, 'eval_samples_per_second': 336.246, 'eval_steps_per_second': 183.407, 'epoch': 45.32}\n"
     ]
    },
    {
     "name": "stderr",
     "output_type": "stream",
     "text": [
      "                                                  \n",
      "  2%|▏         | 110/4700 [11:21<11:05,  6.90it/s] "
     ]
    },
    {
     "name": "stdout",
     "output_type": "stream",
     "text": [
      "{'loss': 0.0005, 'grad_norm': 0.010491151362657547, 'learning_rate': 5.4468085106382985e-06, 'epoch': 45.53}\n"
     ]
    },
    {
     "name": "stderr",
     "output_type": "stream",
     "text": [
      "\n",
      "\u001b[A\n",
      "\n",
      "                                                  \n",
      "\u001b[A                                                \n",
      "  2%|▏         | 110/4700 [11:21<11:05,  6.90it/s]\n",
      "\u001b[A"
     ]
    },
    {
     "name": "stdout",
     "output_type": "stream",
     "text": [
      "{'eval_loss': 0.07058317959308624, 'eval_runtime': 0.0307, 'eval_samples_per_second': 358.081, 'eval_steps_per_second': 195.317, 'epoch': 45.53}\n"
     ]
    },
    {
     "name": "stderr",
     "output_type": "stream",
     "text": [
      "                                                  \n",
      "  2%|▏         | 110/4700 [11:23<11:05,  6.90it/s] "
     ]
    },
    {
     "name": "stdout",
     "output_type": "stream",
     "text": [
      "{'loss': 0.0008, 'grad_norm': 0.011205633170902729, 'learning_rate': 5.425531914893617e-06, 'epoch': 45.74}\n"
     ]
    },
    {
     "name": "stderr",
     "output_type": "stream",
     "text": [
      "\n",
      "\u001b[A\n",
      "\n",
      "                                                  \n",
      "\u001b[A                                                \n",
      "  2%|▏         | 110/4700 [11:23<11:05,  6.90it/s]\n",
      "\u001b[A"
     ]
    },
    {
     "name": "stdout",
     "output_type": "stream",
     "text": [
      "{'eval_loss': 0.0691438540816307, 'eval_runtime': 0.0269, 'eval_samples_per_second': 408.241, 'eval_steps_per_second': 222.677, 'epoch': 45.74}\n"
     ]
    },
    {
     "name": "stderr",
     "output_type": "stream",
     "text": [
      "                                                  \n",
      "  2%|▏         | 110/4700 [11:26<11:05,  6.90it/s] "
     ]
    },
    {
     "name": "stdout",
     "output_type": "stream",
     "text": [
      "{'loss': 0.0005, 'grad_norm': 0.005728778429329395, 'learning_rate': 5.404255319148937e-06, 'epoch': 45.96}\n"
     ]
    },
    {
     "name": "stderr",
     "output_type": "stream",
     "text": [
      "\n",
      "\u001b[A\n",
      "\n",
      "                                                  \n",
      "\u001b[A                                                \n",
      "  2%|▏         | 110/4700 [11:26<11:05,  6.90it/s]\n",
      "\u001b[A"
     ]
    },
    {
     "name": "stdout",
     "output_type": "stream",
     "text": [
      "{'eval_loss': 0.06681421399116516, 'eval_runtime': 0.027, 'eval_samples_per_second': 406.963, 'eval_steps_per_second': 221.98, 'epoch': 45.96}\n"
     ]
    },
    {
     "name": "stderr",
     "output_type": "stream",
     "text": [
      "                                                  \n",
      "  2%|▏         | 110/4700 [11:28<11:05,  6.90it/s] "
     ]
    },
    {
     "name": "stdout",
     "output_type": "stream",
     "text": [
      "{'loss': 0.0007, 'grad_norm': 0.014890066348016262, 'learning_rate': 5.382978723404257e-06, 'epoch': 46.17}\n"
     ]
    },
    {
     "name": "stderr",
     "output_type": "stream",
     "text": [
      "\n",
      "\u001b[A\n",
      "\n",
      "                                                  \n",
      "\u001b[A                                                \n",
      "  2%|▏         | 110/4700 [11:28<11:05,  6.90it/s]\n",
      "\u001b[A"
     ]
    },
    {
     "name": "stdout",
     "output_type": "stream",
     "text": [
      "{'eval_loss': 0.06401710957288742, 'eval_runtime': 0.0268, 'eval_samples_per_second': 410.646, 'eval_steps_per_second': 223.989, 'epoch': 46.17}\n"
     ]
    },
    {
     "name": "stderr",
     "output_type": "stream",
     "text": [
      "                                                  \n",
      "  2%|▏         | 110/4700 [11:30<11:05,  6.90it/s] "
     ]
    },
    {
     "name": "stdout",
     "output_type": "stream",
     "text": [
      "{'loss': 0.0005, 'grad_norm': 0.008365204557776451, 'learning_rate': 5.361702127659575e-06, 'epoch': 46.38}\n"
     ]
    },
    {
     "name": "stderr",
     "output_type": "stream",
     "text": [
      "\n",
      "\u001b[A\n",
      "\n",
      "                                                  \n",
      "\u001b[A                                                \n",
      "  2%|▏         | 110/4700 [11:30<11:05,  6.90it/s]\n",
      "\u001b[A"
     ]
    },
    {
     "name": "stdout",
     "output_type": "stream",
     "text": [
      "{'eval_loss': 0.061725616455078125, 'eval_runtime': 0.0255, 'eval_samples_per_second': 431.69, 'eval_steps_per_second': 235.467, 'epoch': 46.38}\n"
     ]
    },
    {
     "name": "stderr",
     "output_type": "stream",
     "text": [
      "                                                  \n",
      "  2%|▏         | 110/4700 [11:33<11:05,  6.90it/s] "
     ]
    },
    {
     "name": "stdout",
     "output_type": "stream",
     "text": [
      "{'loss': 0.0007, 'grad_norm': 0.03542078658938408, 'learning_rate': 5.340425531914895e-06, 'epoch': 46.6}\n"
     ]
    },
    {
     "name": "stderr",
     "output_type": "stream",
     "text": [
      "\n",
      "\u001b[A\n",
      "\n",
      "                                                  \n",
      "\u001b[A                                                \n",
      "  2%|▏         | 110/4700 [11:33<11:05,  6.90it/s]\n",
      "\u001b[A"
     ]
    },
    {
     "name": "stdout",
     "output_type": "stream",
     "text": [
      "{'eval_loss': 0.06023542582988739, 'eval_runtime': 0.026, 'eval_samples_per_second': 423.232, 'eval_steps_per_second': 230.854, 'epoch': 46.6}\n"
     ]
    },
    {
     "name": "stderr",
     "output_type": "stream",
     "text": [
      "                                                  \n",
      "  2%|▏         | 110/4700 [11:35<11:05,  6.90it/s] "
     ]
    },
    {
     "name": "stdout",
     "output_type": "stream",
     "text": [
      "{'loss': 0.0011, 'grad_norm': 0.0114370072260499, 'learning_rate': 5.319148936170213e-06, 'epoch': 46.81}\n"
     ]
    },
    {
     "name": "stderr",
     "output_type": "stream",
     "text": [
      "\n",
      "\u001b[A\n",
      "\n",
      "                                                  \n",
      "\u001b[A                                                \n",
      "  2%|▏         | 110/4700 [11:35<11:05,  6.90it/s]\n",
      "\u001b[A"
     ]
    },
    {
     "name": "stdout",
     "output_type": "stream",
     "text": [
      "{'eval_loss': 0.05879861116409302, 'eval_runtime': 0.0258, 'eval_samples_per_second': 426.656, 'eval_steps_per_second': 232.722, 'epoch': 46.81}\n"
     ]
    },
    {
     "name": "stderr",
     "output_type": "stream",
     "text": [
      "                                                  \n",
      "  2%|▏         | 110/4700 [11:37<11:05,  6.90it/s] "
     ]
    },
    {
     "name": "stdout",
     "output_type": "stream",
     "text": [
      "{'loss': 0.0005, 'grad_norm': 0.009506006725132465, 'learning_rate': 5.297872340425533e-06, 'epoch': 47.02}\n"
     ]
    },
    {
     "name": "stderr",
     "output_type": "stream",
     "text": [
      "\n",
      "\u001b[A\n",
      "\n",
      "                                                  \n",
      "\u001b[A                                                \n",
      "  2%|▏         | 110/4700 [11:37<11:05,  6.90it/s]\n",
      "\u001b[A"
     ]
    },
    {
     "name": "stdout",
     "output_type": "stream",
     "text": [
      "{'eval_loss': 0.058488380163908005, 'eval_runtime': 0.0288, 'eval_samples_per_second': 381.951, 'eval_steps_per_second': 208.337, 'epoch': 47.02}\n"
     ]
    },
    {
     "name": "stderr",
     "output_type": "stream",
     "text": [
      "                                                  \n",
      "  2%|▏         | 110/4700 [11:40<11:05,  6.90it/s] "
     ]
    },
    {
     "name": "stdout",
     "output_type": "stream",
     "text": [
      "{'loss': 0.0008, 'grad_norm': 0.03269919753074646, 'learning_rate': 5.276595744680851e-06, 'epoch': 47.23}\n"
     ]
    },
    {
     "name": "stderr",
     "output_type": "stream",
     "text": [
      "\n",
      "\u001b[A\n",
      "\n",
      "                                                  \n",
      "\u001b[A                                                \n",
      "  2%|▏         | 110/4700 [11:40<11:05,  6.90it/s]\n",
      "\u001b[A"
     ]
    },
    {
     "name": "stdout",
     "output_type": "stream",
     "text": [
      "{'eval_loss': 0.05780705437064171, 'eval_runtime': 0.0269, 'eval_samples_per_second': 408.885, 'eval_steps_per_second': 223.028, 'epoch': 47.23}\n"
     ]
    },
    {
     "name": "stderr",
     "output_type": "stream",
     "text": [
      "                                                  \n",
      "  2%|▏         | 110/4700 [11:42<11:05,  6.90it/s] "
     ]
    },
    {
     "name": "stdout",
     "output_type": "stream",
     "text": [
      "{'loss': 0.0005, 'grad_norm': 0.007728462107479572, 'learning_rate': 5.255319148936171e-06, 'epoch': 47.45}\n"
     ]
    },
    {
     "name": "stderr",
     "output_type": "stream",
     "text": [
      "\n",
      "\u001b[A\n",
      "\n",
      "                                                  \n",
      "\u001b[A                                                \n",
      "  2%|▏         | 110/4700 [11:42<11:05,  6.90it/s]\n",
      "\u001b[A"
     ]
    },
    {
     "name": "stdout",
     "output_type": "stream",
     "text": [
      "{'eval_loss': 0.05771792307496071, 'eval_runtime': 0.0301, 'eval_samples_per_second': 365.444, 'eval_steps_per_second': 199.333, 'epoch': 47.45}\n"
     ]
    },
    {
     "name": "stderr",
     "output_type": "stream",
     "text": [
      "                                                  \n",
      "  2%|▏         | 110/4700 [11:45<11:05,  6.90it/s] "
     ]
    },
    {
     "name": "stdout",
     "output_type": "stream",
     "text": [
      "{'loss': 0.0005, 'grad_norm': 0.015634234994649887, 'learning_rate': 5.2340425531914895e-06, 'epoch': 47.66}\n"
     ]
    },
    {
     "name": "stderr",
     "output_type": "stream",
     "text": [
      "\n",
      "\u001b[A\n",
      "\n",
      "                                                  \n",
      "\u001b[A                                                \n",
      "  2%|▏         | 110/4700 [11:45<11:05,  6.90it/s]\n",
      "\u001b[A"
     ]
    },
    {
     "name": "stdout",
     "output_type": "stream",
     "text": [
      "{'eval_loss': 0.056784115731716156, 'eval_runtime': 0.0375, 'eval_samples_per_second': 293.416, 'eval_steps_per_second': 160.045, 'epoch': 47.66}\n"
     ]
    },
    {
     "name": "stderr",
     "output_type": "stream",
     "text": [
      "                                                  \n",
      "  2%|▏         | 110/4700 [11:48<11:05,  6.90it/s] "
     ]
    },
    {
     "name": "stdout",
     "output_type": "stream",
     "text": [
      "{'loss': 0.0006, 'grad_norm': 0.004896081052720547, 'learning_rate': 5.212765957446809e-06, 'epoch': 47.87}\n"
     ]
    },
    {
     "name": "stderr",
     "output_type": "stream",
     "text": [
      "\n",
      "\u001b[A\n",
      "\n",
      "                                                  \n",
      "\u001b[A                                                \n",
      "  2%|▏         | 110/4700 [11:48<11:05,  6.90it/s]\n",
      "\u001b[A"
     ]
    },
    {
     "name": "stdout",
     "output_type": "stream",
     "text": [
      "{'eval_loss': 0.055559124797582626, 'eval_runtime': 0.0289, 'eval_samples_per_second': 380.608, 'eval_steps_per_second': 207.605, 'epoch': 47.87}\n"
     ]
    },
    {
     "name": "stderr",
     "output_type": "stream",
     "text": [
      "                                                  \n",
      "  2%|▏         | 110/4700 [11:50<11:05,  6.90it/s] "
     ]
    },
    {
     "name": "stdout",
     "output_type": "stream",
     "text": [
      "{'loss': 0.0006, 'grad_norm': 0.00993959978222847, 'learning_rate': 5.191489361702128e-06, 'epoch': 48.09}\n"
     ]
    },
    {
     "name": "stderr",
     "output_type": "stream",
     "text": [
      "\n",
      "\u001b[A\n",
      "\n",
      "                                                  \n",
      "\u001b[A                                                \n",
      "  2%|▏         | 110/4700 [11:50<11:05,  6.90it/s]\n",
      "\u001b[A"
     ]
    },
    {
     "name": "stdout",
     "output_type": "stream",
     "text": [
      "{'eval_loss': 0.054418884217739105, 'eval_runtime': 0.0274, 'eval_samples_per_second': 401.904, 'eval_steps_per_second': 219.22, 'epoch': 48.09}\n"
     ]
    },
    {
     "name": "stderr",
     "output_type": "stream",
     "text": [
      "                                                  \n",
      "  2%|▏         | 110/4700 [11:53<11:05,  6.90it/s] "
     ]
    },
    {
     "name": "stdout",
     "output_type": "stream",
     "text": [
      "{'loss': 0.0007, 'grad_norm': 0.005783666856586933, 'learning_rate': 5.170212765957448e-06, 'epoch': 48.3}\n"
     ]
    },
    {
     "name": "stderr",
     "output_type": "stream",
     "text": [
      "\n",
      "\u001b[A\n",
      "\n",
      "                                                  \n",
      "\u001b[A                                                \n",
      "  2%|▏         | 110/4700 [11:53<11:05,  6.90it/s]\n",
      "\u001b[A"
     ]
    },
    {
     "name": "stdout",
     "output_type": "stream",
     "text": [
      "{'eval_loss': 0.05370596796274185, 'eval_runtime': 0.029, 'eval_samples_per_second': 379.953, 'eval_steps_per_second': 207.247, 'epoch': 48.3}\n"
     ]
    },
    {
     "name": "stderr",
     "output_type": "stream",
     "text": [
      "                                                  \n",
      "  2%|▏         | 110/4700 [11:55<11:05,  6.90it/s] "
     ]
    },
    {
     "name": "stdout",
     "output_type": "stream",
     "text": [
      "{'loss': 0.0006, 'grad_norm': 0.010350821539759636, 'learning_rate': 5.148936170212766e-06, 'epoch': 48.51}\n"
     ]
    },
    {
     "name": "stderr",
     "output_type": "stream",
     "text": [
      "\n",
      "\u001b[A\n",
      "\n",
      "                                                  \n",
      "\u001b[A                                                \n",
      "  2%|▏         | 110/4700 [11:55<11:05,  6.90it/s]\n",
      "\u001b[A"
     ]
    },
    {
     "name": "stdout",
     "output_type": "stream",
     "text": [
      "{'eval_loss': 0.051087841391563416, 'eval_runtime': 0.0263, 'eval_samples_per_second': 417.718, 'eval_steps_per_second': 227.846, 'epoch': 48.51}\n"
     ]
    },
    {
     "name": "stderr",
     "output_type": "stream",
     "text": [
      "                                                  \n",
      "  2%|▏         | 110/4700 [11:58<11:05,  6.90it/s] "
     ]
    },
    {
     "name": "stdout",
     "output_type": "stream",
     "text": [
      "{'loss': 0.0006, 'grad_norm': 0.0055794622749090195, 'learning_rate': 5.127659574468086e-06, 'epoch': 48.72}\n"
     ]
    },
    {
     "name": "stderr",
     "output_type": "stream",
     "text": [
      "\n",
      "\u001b[A\n",
      "\n",
      "                                                  \n",
      "\u001b[A                                                \n",
      "  2%|▏         | 110/4700 [11:58<11:05,  6.90it/s]\n",
      "\u001b[A"
     ]
    },
    {
     "name": "stdout",
     "output_type": "stream",
     "text": [
      "{'eval_loss': 0.04865304380655289, 'eval_runtime': 0.0264, 'eval_samples_per_second': 417.008, 'eval_steps_per_second': 227.459, 'epoch': 48.72}\n"
     ]
    },
    {
     "name": "stderr",
     "output_type": "stream",
     "text": [
      "                                                  \n",
      "  2%|▏         | 110/4700 [12:01<11:05,  6.90it/s] "
     ]
    },
    {
     "name": "stdout",
     "output_type": "stream",
     "text": [
      "{'loss': 0.0007, 'grad_norm': 0.005128003191202879, 'learning_rate': 5.106382978723404e-06, 'epoch': 48.94}\n"
     ]
    },
    {
     "name": "stderr",
     "output_type": "stream",
     "text": [
      "\n",
      "\u001b[A\n",
      "\n",
      "                                                  \n",
      "\u001b[A                                                \n",
      "  2%|▏         | 110/4700 [12:01<11:05,  6.90it/s]\n",
      "\u001b[A"
     ]
    },
    {
     "name": "stdout",
     "output_type": "stream",
     "text": [
      "{'eval_loss': 0.04721188172698021, 'eval_runtime': 0.0282, 'eval_samples_per_second': 389.72, 'eval_steps_per_second': 212.574, 'epoch': 48.94}\n"
     ]
    },
    {
     "name": "stderr",
     "output_type": "stream",
     "text": [
      "                                                  \n",
      "  2%|▏         | 110/4700 [12:03<11:05,  6.90it/s] "
     ]
    },
    {
     "name": "stdout",
     "output_type": "stream",
     "text": [
      "{'loss': 0.0005, 'grad_norm': 0.009188791736960411, 'learning_rate': 5.085106382978724e-06, 'epoch': 49.15}\n"
     ]
    },
    {
     "name": "stderr",
     "output_type": "stream",
     "text": [
      "\n",
      "\u001b[A\n",
      "\n",
      "                                                  \n",
      "\u001b[A                                                \n",
      "  2%|▏         | 110/4700 [12:03<11:05,  6.90it/s]\n",
      "\u001b[A"
     ]
    },
    {
     "name": "stdout",
     "output_type": "stream",
     "text": [
      "{'eval_loss': 0.04628795012831688, 'eval_runtime': 0.0326, 'eval_samples_per_second': 337.414, 'eval_steps_per_second': 184.044, 'epoch': 49.15}\n"
     ]
    },
    {
     "name": "stderr",
     "output_type": "stream",
     "text": [
      "                                                  \n",
      "  2%|▏         | 110/4700 [12:05<11:05,  6.90it/s] "
     ]
    },
    {
     "name": "stdout",
     "output_type": "stream",
     "text": [
      "{'loss': 0.0009, 'grad_norm': 0.004692451562732458, 'learning_rate': 5.063829787234042e-06, 'epoch': 49.36}\n"
     ]
    },
    {
     "name": "stderr",
     "output_type": "stream",
     "text": [
      "\n",
      "\u001b[A\n",
      "\n",
      "                                                  \n",
      "\u001b[A                                                \n",
      "  2%|▏         | 110/4700 [12:05<11:05,  6.90it/s]\n",
      "\u001b[A"
     ]
    },
    {
     "name": "stdout",
     "output_type": "stream",
     "text": [
      "{'eval_loss': 0.04546784237027168, 'eval_runtime': 0.0287, 'eval_samples_per_second': 383.736, 'eval_steps_per_second': 209.311, 'epoch': 49.36}\n"
     ]
    },
    {
     "name": "stderr",
     "output_type": "stream",
     "text": [
      "                                                  \n",
      "  2%|▏         | 110/4700 [12:08<11:05,  6.90it/s] "
     ]
    },
    {
     "name": "stdout",
     "output_type": "stream",
     "text": [
      "{'loss': 0.0016, 'grad_norm': 0.005549907218664885, 'learning_rate': 5.042553191489362e-06, 'epoch': 49.57}\n"
     ]
    },
    {
     "name": "stderr",
     "output_type": "stream",
     "text": [
      "\n",
      "\u001b[A\n",
      "\n",
      "                                                  \n",
      "\u001b[A                                                \n",
      "  2%|▏         | 110/4700 [12:08<11:05,  6.90it/s]\n",
      "\u001b[A"
     ]
    },
    {
     "name": "stdout",
     "output_type": "stream",
     "text": [
      "{'eval_loss': 0.03858489543199539, 'eval_runtime': 0.0274, 'eval_samples_per_second': 400.762, 'eval_steps_per_second': 218.598, 'epoch': 49.57}\n"
     ]
    },
    {
     "name": "stderr",
     "output_type": "stream",
     "text": [
      "                                                  \n",
      "  2%|▏         | 110/4700 [12:11<11:05,  6.90it/s] "
     ]
    },
    {
     "name": "stdout",
     "output_type": "stream",
     "text": [
      "{'loss': 0.0004, 'grad_norm': 0.02970098704099655, 'learning_rate': 5.0212765957446805e-06, 'epoch': 49.79}\n"
     ]
    },
    {
     "name": "stderr",
     "output_type": "stream",
     "text": [
      "\n",
      "\u001b[A\n",
      "\n",
      "                                                  \n",
      "\u001b[A                                                \n",
      "  2%|▏         | 110/4700 [12:11<11:05,  6.90it/s]\n",
      "\u001b[A"
     ]
    },
    {
     "name": "stdout",
     "output_type": "stream",
     "text": [
      "{'eval_loss': 0.044021621346473694, 'eval_runtime': 0.0309, 'eval_samples_per_second': 356.086, 'eval_steps_per_second': 194.229, 'epoch': 49.79}\n"
     ]
    },
    {
     "name": "stderr",
     "output_type": "stream",
     "text": [
      "                                                  \n",
      "  2%|▏         | 110/4700 [12:14<11:05,  6.90it/s] "
     ]
    },
    {
     "name": "stdout",
     "output_type": "stream",
     "text": [
      "{'loss': 0.0004, 'grad_norm': 0.006052690092474222, 'learning_rate': 5e-06, 'epoch': 50.0}\n"
     ]
    },
    {
     "name": "stderr",
     "output_type": "stream",
     "text": [
      "\n",
      "\u001b[A\n",
      "\n",
      "                                                  \n",
      "\u001b[A                                                \n",
      "  2%|▏         | 110/4700 [12:14<11:05,  6.90it/s]\n",
      "\u001b[A"
     ]
    },
    {
     "name": "stdout",
     "output_type": "stream",
     "text": [
      "{'eval_loss': 0.046306826174259186, 'eval_runtime': 0.0257, 'eval_samples_per_second': 428.221, 'eval_steps_per_second': 233.575, 'epoch': 50.0}\n"
     ]
    },
    {
     "name": "stderr",
     "output_type": "stream",
     "text": [
      "                                                  \n",
      "  2%|▏         | 110/4700 [12:16<11:05,  6.90it/s] "
     ]
    },
    {
     "name": "stdout",
     "output_type": "stream",
     "text": [
      "{'loss': 0.0014, 'grad_norm': 8.983323097229004, 'learning_rate': 4.9787234042553195e-06, 'epoch': 50.21}\n"
     ]
    },
    {
     "name": "stderr",
     "output_type": "stream",
     "text": [
      "\n",
      "\u001b[A\n",
      "\n",
      "                                                  \n",
      "\u001b[A                                                \n",
      "  2%|▏         | 110/4700 [12:16<11:05,  6.90it/s]\n",
      "\u001b[A"
     ]
    },
    {
     "name": "stdout",
     "output_type": "stream",
     "text": [
      "{'eval_loss': 0.04710397869348526, 'eval_runtime': 0.0293, 'eval_samples_per_second': 375.323, 'eval_steps_per_second': 204.722, 'epoch': 50.21}\n"
     ]
    },
    {
     "name": "stderr",
     "output_type": "stream",
     "text": [
      "                                                  \n",
      "  2%|▏         | 110/4700 [12:18<11:05,  6.90it/s] "
     ]
    },
    {
     "name": "stdout",
     "output_type": "stream",
     "text": [
      "{'loss': 0.0009, 'grad_norm': 0.0488692931830883, 'learning_rate': 4.957446808510639e-06, 'epoch': 50.43}\n"
     ]
    },
    {
     "name": "stderr",
     "output_type": "stream",
     "text": [
      "\n",
      "\u001b[A\n",
      "\n",
      "                                                  \n",
      "\u001b[A                                                \n",
      "  2%|▏         | 110/4700 [12:18<11:05,  6.90it/s]\n",
      "\u001b[A"
     ]
    },
    {
     "name": "stdout",
     "output_type": "stream",
     "text": [
      "{'eval_loss': 0.21666501462459564, 'eval_runtime': 0.0306, 'eval_samples_per_second': 359.625, 'eval_steps_per_second': 196.159, 'epoch': 50.43}\n"
     ]
    },
    {
     "name": "stderr",
     "output_type": "stream",
     "text": [
      "                                                  \n",
      "  2%|▏         | 110/4700 [12:21<11:05,  6.90it/s] "
     ]
    },
    {
     "name": "stdout",
     "output_type": "stream",
     "text": [
      "{'loss': 0.0192, 'grad_norm': 0.004649610724300146, 'learning_rate': 4.936170212765958e-06, 'epoch': 50.64}\n"
     ]
    },
    {
     "name": "stderr",
     "output_type": "stream",
     "text": [
      "\n",
      "\u001b[A\n",
      "\n",
      "                                                  \n",
      "\u001b[A                                                \n",
      "  2%|▏         | 110/4700 [12:21<11:05,  6.90it/s]\n",
      "\u001b[A"
     ]
    },
    {
     "name": "stdout",
     "output_type": "stream",
     "text": [
      "{'eval_loss': 0.03792707994580269, 'eval_runtime': 0.0282, 'eval_samples_per_second': 390.29, 'eval_steps_per_second': 212.885, 'epoch': 50.64}\n"
     ]
    },
    {
     "name": "stderr",
     "output_type": "stream",
     "text": [
      "                                                  \n",
      "  2%|▏         | 110/4700 [12:23<11:05,  6.90it/s] "
     ]
    },
    {
     "name": "stdout",
     "output_type": "stream",
     "text": [
      "{'loss': 0.0004, 'grad_norm': 0.006244683172553778, 'learning_rate': 4.914893617021277e-06, 'epoch': 50.85}\n"
     ]
    },
    {
     "name": "stderr",
     "output_type": "stream",
     "text": [
      "\n",
      "\u001b[A\n",
      "\n",
      "                                                  \n",
      "\u001b[A                                                \n",
      "  2%|▏         | 110/4700 [12:23<11:05,  6.90it/s]\n",
      "\u001b[A"
     ]
    },
    {
     "name": "stdout",
     "output_type": "stream",
     "text": [
      "{'eval_loss': 0.0413401834666729, 'eval_runtime': 0.0252, 'eval_samples_per_second': 436.853, 'eval_steps_per_second': 238.283, 'epoch': 50.85}\n"
     ]
    },
    {
     "name": "stderr",
     "output_type": "stream",
     "text": [
      "                                                  \n",
      "  2%|▏         | 110/4700 [12:25<11:05,  6.90it/s] "
     ]
    },
    {
     "name": "stdout",
     "output_type": "stream",
     "text": [
      "{'loss': 0.0004, 'grad_norm': 0.005533450748771429, 'learning_rate': 4.893617021276596e-06, 'epoch': 51.06}\n"
     ]
    },
    {
     "name": "stderr",
     "output_type": "stream",
     "text": [
      "\n",
      "\u001b[A\n",
      "\n",
      "                                                  \n",
      "\u001b[A                                                \n",
      "  2%|▏         | 110/4700 [12:25<11:05,  6.90it/s]\n",
      "\u001b[A"
     ]
    },
    {
     "name": "stdout",
     "output_type": "stream",
     "text": [
      "{'eval_loss': 0.045230381190776825, 'eval_runtime': 0.0255, 'eval_samples_per_second': 432.042, 'eval_steps_per_second': 235.659, 'epoch': 51.06}\n"
     ]
    },
    {
     "name": "stderr",
     "output_type": "stream",
     "text": [
      "                                                  \n",
      "  2%|▏         | 110/4700 [12:27<11:05,  6.90it/s] "
     ]
    },
    {
     "name": "stdout",
     "output_type": "stream",
     "text": [
      "{'loss': 0.0306, 'grad_norm': 0.010011432692408562, 'learning_rate': 4.872340425531915e-06, 'epoch': 51.28}\n"
     ]
    },
    {
     "name": "stderr",
     "output_type": "stream",
     "text": [
      "\n",
      "\u001b[A\n",
      "\n",
      "                                                  \n",
      "\u001b[A                                                \n",
      "  2%|▏         | 110/4700 [12:27<11:05,  6.90it/s]\n",
      "\u001b[A"
     ]
    },
    {
     "name": "stdout",
     "output_type": "stream",
     "text": [
      "{'eval_loss': 0.03840799257159233, 'eval_runtime': 0.0297, 'eval_samples_per_second': 370.664, 'eval_steps_per_second': 202.181, 'epoch': 51.28}\n"
     ]
    },
    {
     "name": "stderr",
     "output_type": "stream",
     "text": [
      "                                                  \n",
      "  2%|▏         | 110/4700 [12:30<11:05,  6.90it/s] "
     ]
    },
    {
     "name": "stdout",
     "output_type": "stream",
     "text": [
      "{'loss': 0.0005, 'grad_norm': 0.01055916491895914, 'learning_rate': 4.851063829787234e-06, 'epoch': 51.49}\n"
     ]
    },
    {
     "name": "stderr",
     "output_type": "stream",
     "text": [
      "\n",
      "\u001b[A\n",
      "\n",
      "                                                  \n",
      "\u001b[A                                                \n",
      "  2%|▏         | 110/4700 [12:30<11:05,  6.90it/s]\n",
      "\u001b[A"
     ]
    },
    {
     "name": "stdout",
     "output_type": "stream",
     "text": [
      "{'eval_loss': 0.057927656918764114, 'eval_runtime': 0.0262, 'eval_samples_per_second': 419.881, 'eval_steps_per_second': 229.026, 'epoch': 51.49}\n"
     ]
    },
    {
     "name": "stderr",
     "output_type": "stream",
     "text": [
      "                                                  \n",
      "  2%|▏         | 110/4700 [12:32<11:05,  6.90it/s] "
     ]
    },
    {
     "name": "stdout",
     "output_type": "stream",
     "text": [
      "{'loss': 0.0009, 'grad_norm': 0.026265081018209457, 'learning_rate': 4.829787234042553e-06, 'epoch': 51.7}\n"
     ]
    },
    {
     "name": "stderr",
     "output_type": "stream",
     "text": [
      "\n",
      "\u001b[A\n",
      "\n",
      "                                                  \n",
      "\u001b[A                                                \n",
      "  2%|▏         | 110/4700 [12:32<11:05,  6.90it/s]\n",
      "\u001b[A"
     ]
    },
    {
     "name": "stdout",
     "output_type": "stream",
     "text": [
      "{'eval_loss': 0.06625718623399734, 'eval_runtime': 0.0259, 'eval_samples_per_second': 424.575, 'eval_steps_per_second': 231.587, 'epoch': 51.7}\n"
     ]
    },
    {
     "name": "stderr",
     "output_type": "stream",
     "text": [
      "                                                  \n",
      "  2%|▏         | 110/4700 [12:34<11:05,  6.90it/s] "
     ]
    },
    {
     "name": "stdout",
     "output_type": "stream",
     "text": [
      "{'loss': 0.0004, 'grad_norm': 0.0058682868257164955, 'learning_rate': 4.808510638297872e-06, 'epoch': 51.91}\n"
     ]
    },
    {
     "name": "stderr",
     "output_type": "stream",
     "text": [
      "\n",
      "\u001b[A\n",
      "\n",
      "                                                  \n",
      "\u001b[A                                                \n",
      "  2%|▏         | 110/4700 [12:34<11:05,  6.90it/s]\n",
      "\u001b[A"
     ]
    },
    {
     "name": "stdout",
     "output_type": "stream",
     "text": [
      "{'eval_loss': 0.06881645321846008, 'eval_runtime': 0.0266, 'eval_samples_per_second': 412.929, 'eval_steps_per_second': 225.234, 'epoch': 51.91}\n"
     ]
    },
    {
     "name": "stderr",
     "output_type": "stream",
     "text": [
      "                                                  \n",
      "  2%|▏         | 110/4700 [12:37<11:05,  6.90it/s] "
     ]
    },
    {
     "name": "stdout",
     "output_type": "stream",
     "text": [
      "{'loss': 0.0007, 'grad_norm': 0.005436535459011793, 'learning_rate': 4.787234042553192e-06, 'epoch': 52.13}\n"
     ]
    },
    {
     "name": "stderr",
     "output_type": "stream",
     "text": [
      "\n",
      "\u001b[A\n",
      "\n",
      "                                                  \n",
      "\u001b[A                                                \n",
      "  2%|▏         | 110/4700 [12:37<11:05,  6.90it/s]\n",
      "\u001b[A"
     ]
    },
    {
     "name": "stdout",
     "output_type": "stream",
     "text": [
      "{'eval_loss': 0.06815320998430252, 'eval_runtime': 0.0269, 'eval_samples_per_second': 409.19, 'eval_steps_per_second': 223.194, 'epoch': 52.13}\n"
     ]
    },
    {
     "name": "stderr",
     "output_type": "stream",
     "text": [
      "                                                  \n",
      "  2%|▏         | 110/4700 [12:39<11:05,  6.90it/s] "
     ]
    },
    {
     "name": "stdout",
     "output_type": "stream",
     "text": [
      "{'loss': 0.0005, 'grad_norm': 0.004698841366916895, 'learning_rate': 4.765957446808511e-06, 'epoch': 52.34}\n"
     ]
    },
    {
     "name": "stderr",
     "output_type": "stream",
     "text": [
      "\n",
      "\u001b[A\n",
      "\n",
      "                                                  \n",
      "\u001b[A                                                \n",
      "  2%|▏         | 110/4700 [12:39<11:05,  6.90it/s]\n",
      "\u001b[A"
     ]
    },
    {
     "name": "stdout",
     "output_type": "stream",
     "text": [
      "{'eval_loss': 0.05678185075521469, 'eval_runtime': 0.0274, 'eval_samples_per_second': 401.1, 'eval_steps_per_second': 218.782, 'epoch': 52.34}\n"
     ]
    },
    {
     "name": "stderr",
     "output_type": "stream",
     "text": [
      "                                                  \n",
      "  2%|▏         | 110/4700 [12:41<11:05,  6.90it/s] "
     ]
    },
    {
     "name": "stdout",
     "output_type": "stream",
     "text": [
      "{'loss': 0.0006, 'grad_norm': 0.0042201196774840355, 'learning_rate': 4.7446808510638305e-06, 'epoch': 52.55}\n"
     ]
    },
    {
     "name": "stderr",
     "output_type": "stream",
     "text": [
      "\n",
      "\u001b[A\n",
      "\n",
      "                                                  \n",
      "\u001b[A                                                \n",
      "  2%|▏         | 110/4700 [12:41<11:05,  6.90it/s]\n",
      "\u001b[A"
     ]
    },
    {
     "name": "stdout",
     "output_type": "stream",
     "text": [
      "{'eval_loss': 0.05086129531264305, 'eval_runtime': 0.0271, 'eval_samples_per_second': 405.892, 'eval_steps_per_second': 221.396, 'epoch': 52.55}\n"
     ]
    },
    {
     "name": "stderr",
     "output_type": "stream",
     "text": [
      "                                                  \n",
      "  2%|▏         | 110/4700 [12:43<11:05,  6.90it/s] "
     ]
    },
    {
     "name": "stdout",
     "output_type": "stream",
     "text": [
      "{'loss': 0.0005, 'grad_norm': 0.006238087080419064, 'learning_rate': 4.7234042553191496e-06, 'epoch': 52.77}\n"
     ]
    },
    {
     "name": "stderr",
     "output_type": "stream",
     "text": [
      "\n",
      "\u001b[A\n",
      "\n",
      "                                                  \n",
      "\u001b[A                                                \n",
      "  2%|▏         | 110/4700 [12:43<11:05,  6.90it/s]\n",
      "\u001b[A"
     ]
    },
    {
     "name": "stdout",
     "output_type": "stream",
     "text": [
      "{'eval_loss': 0.04965902864933014, 'eval_runtime': 0.0296, 'eval_samples_per_second': 371.524, 'eval_steps_per_second': 202.649, 'epoch': 52.77}\n"
     ]
    },
    {
     "name": "stderr",
     "output_type": "stream",
     "text": [
      "                                                  \n",
      "  2%|▏         | 110/4700 [12:46<11:05,  6.90it/s] "
     ]
    },
    {
     "name": "stdout",
     "output_type": "stream",
     "text": [
      "{'loss': 0.0004, 'grad_norm': 0.005036207847297192, 'learning_rate': 4.702127659574469e-06, 'epoch': 52.98}\n"
     ]
    },
    {
     "name": "stderr",
     "output_type": "stream",
     "text": [
      "\n",
      "\u001b[A\n",
      "\n",
      "                                                  \n",
      "\u001b[A                                                \n",
      "  2%|▏         | 110/4700 [12:46<11:05,  6.90it/s]\n",
      "\u001b[A"
     ]
    },
    {
     "name": "stdout",
     "output_type": "stream",
     "text": [
      "{'eval_loss': 0.04903274402022362, 'eval_runtime': 0.0269, 'eval_samples_per_second': 408.816, 'eval_steps_per_second': 222.991, 'epoch': 52.98}\n"
     ]
    },
    {
     "name": "stderr",
     "output_type": "stream",
     "text": [
      "                                                  \n",
      "  2%|▏         | 110/4700 [12:48<11:05,  6.90it/s] "
     ]
    },
    {
     "name": "stdout",
     "output_type": "stream",
     "text": [
      "{'loss': 0.0008, 'grad_norm': 0.03468431904911995, 'learning_rate': 4.680851063829788e-06, 'epoch': 53.19}\n"
     ]
    },
    {
     "name": "stderr",
     "output_type": "stream",
     "text": [
      "\n",
      "\u001b[A\n",
      "\n",
      "                                                  \n",
      "\u001b[A                                                \n",
      "  2%|▏         | 110/4700 [12:48<11:05,  6.90it/s]\n",
      "\u001b[A"
     ]
    },
    {
     "name": "stdout",
     "output_type": "stream",
     "text": [
      "{'eval_loss': 0.04864015802741051, 'eval_runtime': 0.0261, 'eval_samples_per_second': 420.677, 'eval_steps_per_second': 229.46, 'epoch': 53.19}\n"
     ]
    },
    {
     "name": "stderr",
     "output_type": "stream",
     "text": [
      "                                                  \n",
      "  2%|▏         | 110/4700 [12:51<11:05,  6.90it/s] "
     ]
    },
    {
     "name": "stdout",
     "output_type": "stream",
     "text": [
      "{'loss': 0.0006, 'grad_norm': 0.005324742291122675, 'learning_rate': 4.659574468085107e-06, 'epoch': 53.4}\n"
     ]
    },
    {
     "name": "stderr",
     "output_type": "stream",
     "text": [
      "\n",
      "\u001b[A\n",
      "\n",
      "                                                  \n",
      "\u001b[A                                                \n",
      "  2%|▏         | 110/4700 [12:51<11:05,  6.90it/s]\n",
      "\u001b[A"
     ]
    },
    {
     "name": "stdout",
     "output_type": "stream",
     "text": [
      "{'eval_loss': 0.04894021898508072, 'eval_runtime': 0.0272, 'eval_samples_per_second': 404.1, 'eval_steps_per_second': 220.418, 'epoch': 53.4}\n"
     ]
    },
    {
     "name": "stderr",
     "output_type": "stream",
     "text": [
      "                                                  \n",
      "  2%|▏         | 110/4700 [12:53<11:05,  6.90it/s] "
     ]
    },
    {
     "name": "stdout",
     "output_type": "stream",
     "text": [
      "{'loss': 0.0005, 'grad_norm': 0.00554282171651721, 'learning_rate': 4.638297872340426e-06, 'epoch': 53.62}\n"
     ]
    },
    {
     "name": "stderr",
     "output_type": "stream",
     "text": [
      "\n",
      "\u001b[A\n",
      "\n",
      "                                                  \n",
      "\u001b[A                                                \n",
      "  2%|▏         | 110/4700 [12:53<11:05,  6.90it/s]\n",
      "\u001b[A"
     ]
    },
    {
     "name": "stdout",
     "output_type": "stream",
     "text": [
      "{'eval_loss': 0.04847037419676781, 'eval_runtime': 0.0265, 'eval_samples_per_second': 414.927, 'eval_steps_per_second': 226.324, 'epoch': 53.62}\n"
     ]
    },
    {
     "name": "stderr",
     "output_type": "stream",
     "text": [
      "                                                  \n",
      "  2%|▏         | 110/4700 [12:55<11:05,  6.90it/s] "
     ]
    },
    {
     "name": "stdout",
     "output_type": "stream",
     "text": [
      "{'loss': 0.0008, 'grad_norm': 0.004532778635621071, 'learning_rate': 4.617021276595745e-06, 'epoch': 53.83}\n"
     ]
    },
    {
     "name": "stderr",
     "output_type": "stream",
     "text": [
      "\n",
      "\u001b[A\n",
      "\n",
      "                                                  \n",
      "\u001b[A                                                \n",
      "  2%|▏         | 110/4700 [12:55<11:05,  6.90it/s]\n",
      "\u001b[A"
     ]
    },
    {
     "name": "stdout",
     "output_type": "stream",
     "text": [
      "{'eval_loss': 0.048422928899526596, 'eval_runtime': 0.0291, 'eval_samples_per_second': 378.482, 'eval_steps_per_second': 206.445, 'epoch': 53.83}\n"
     ]
    },
    {
     "name": "stderr",
     "output_type": "stream",
     "text": [
      "                                                  \n",
      "  2%|▏         | 110/4700 [12:58<11:05,  6.90it/s] "
     ]
    },
    {
     "name": "stdout",
     "output_type": "stream",
     "text": [
      "{'loss': 0.0004, 'grad_norm': 0.008133688941597939, 'learning_rate': 4.595744680851064e-06, 'epoch': 54.04}\n"
     ]
    },
    {
     "name": "stderr",
     "output_type": "stream",
     "text": [
      "\n",
      "\u001b[A\n",
      "\n",
      "                                                  \n",
      "\u001b[A                                                \n",
      "  2%|▏         | 110/4700 [12:58<11:05,  6.90it/s]\n",
      "\u001b[A"
     ]
    },
    {
     "name": "stdout",
     "output_type": "stream",
     "text": [
      "{'eval_loss': 0.04817168787121773, 'eval_runtime': 0.0279, 'eval_samples_per_second': 394.788, 'eval_steps_per_second': 215.339, 'epoch': 54.04}\n"
     ]
    },
    {
     "name": "stderr",
     "output_type": "stream",
     "text": [
      "                                                  \n",
      "  2%|▏         | 110/4700 [13:00<11:05,  6.90it/s] "
     ]
    },
    {
     "name": "stdout",
     "output_type": "stream",
     "text": [
      "{'loss': 0.0004, 'grad_norm': 0.004534965846687555, 'learning_rate': 4.574468085106383e-06, 'epoch': 54.26}\n"
     ]
    },
    {
     "name": "stderr",
     "output_type": "stream",
     "text": [
      "\n",
      "\u001b[A\n",
      "\n",
      "                                                  \n",
      "\u001b[A                                                \n",
      "  2%|▏         | 110/4700 [13:00<11:05,  6.90it/s]\n",
      "\u001b[A"
     ]
    },
    {
     "name": "stdout",
     "output_type": "stream",
     "text": [
      "{'eval_loss': 0.04766092076897621, 'eval_runtime': 0.0282, 'eval_samples_per_second': 389.618, 'eval_steps_per_second': 212.519, 'epoch': 54.26}\n"
     ]
    },
    {
     "name": "stderr",
     "output_type": "stream",
     "text": [
      "                                                  \n",
      "  2%|▏         | 110/4700 [13:02<11:05,  6.90it/s] "
     ]
    },
    {
     "name": "stdout",
     "output_type": "stream",
     "text": [
      "{'loss': 0.0004, 'grad_norm': 0.004524799529463053, 'learning_rate': 4.553191489361702e-06, 'epoch': 54.47}\n"
     ]
    },
    {
     "name": "stderr",
     "output_type": "stream",
     "text": [
      "\n",
      "\u001b[A\n",
      "\n",
      "                                                  \n",
      "\u001b[A                                                \n",
      "  2%|▏         | 110/4700 [13:02<11:05,  6.90it/s]\n",
      "\u001b[A"
     ]
    },
    {
     "name": "stdout",
     "output_type": "stream",
     "text": [
      "{'eval_loss': 0.04713687673211098, 'eval_runtime': 0.0274, 'eval_samples_per_second': 401.865, 'eval_steps_per_second': 219.199, 'epoch': 54.47}\n"
     ]
    },
    {
     "name": "stderr",
     "output_type": "stream",
     "text": [
      "                                                  \n",
      "  2%|▏         | 110/4700 [13:05<11:05,  6.90it/s] "
     ]
    },
    {
     "name": "stdout",
     "output_type": "stream",
     "text": [
      "{'loss': 0.0009, 'grad_norm': 0.01059374213218689, 'learning_rate': 4.5319148936170215e-06, 'epoch': 54.68}\n"
     ]
    },
    {
     "name": "stderr",
     "output_type": "stream",
     "text": [
      "\n",
      "\u001b[A\n",
      "\n",
      "                                                  \n",
      "\u001b[A                                                \n",
      "  2%|▏         | 110/4700 [13:05<11:05,  6.90it/s]\n",
      "\u001b[A"
     ]
    },
    {
     "name": "stdout",
     "output_type": "stream",
     "text": [
      "{'eval_loss': 0.04647747427225113, 'eval_runtime': 0.0264, 'eval_samples_per_second': 417.083, 'eval_steps_per_second': 227.5, 'epoch': 54.68}\n"
     ]
    },
    {
     "name": "stderr",
     "output_type": "stream",
     "text": [
      "                                                  \n",
      "  2%|▏         | 110/4700 [13:07<11:05,  6.90it/s] "
     ]
    },
    {
     "name": "stdout",
     "output_type": "stream",
     "text": [
      "{'loss': 0.0004, 'grad_norm': 0.0055858236737549305, 'learning_rate': 4.5106382978723406e-06, 'epoch': 54.89}\n"
     ]
    },
    {
     "name": "stderr",
     "output_type": "stream",
     "text": [
      "\n",
      "\u001b[A\n",
      "\n",
      "                                                  \n",
      "\u001b[A                                                \n",
      "  2%|▏         | 110/4700 [13:07<11:05,  6.90it/s]\n",
      "\u001b[A"
     ]
    },
    {
     "name": "stdout",
     "output_type": "stream",
     "text": [
      "{'eval_loss': 0.04538385197520256, 'eval_runtime': 0.0284, 'eval_samples_per_second': 387.523, 'eval_steps_per_second': 211.376, 'epoch': 54.89}\n"
     ]
    },
    {
     "name": "stderr",
     "output_type": "stream",
     "text": [
      "                                                  \n",
      "  2%|▏         | 110/4700 [13:09<11:05,  6.90it/s] "
     ]
    },
    {
     "name": "stdout",
     "output_type": "stream",
     "text": [
      "{'loss': 0.0004, 'grad_norm': 0.00440530851483345, 'learning_rate': 4.48936170212766e-06, 'epoch': 55.11}\n"
     ]
    },
    {
     "name": "stderr",
     "output_type": "stream",
     "text": [
      "\n",
      "\u001b[A\n",
      "\n",
      "                                                  \n",
      "\u001b[A                                                \n",
      "  2%|▏         | 110/4700 [13:09<11:05,  6.90it/s]\n",
      "\u001b[A"
     ]
    },
    {
     "name": "stdout",
     "output_type": "stream",
     "text": [
      "{'eval_loss': 0.04477662220597267, 'eval_runtime': 0.027, 'eval_samples_per_second': 406.765, 'eval_steps_per_second': 221.872, 'epoch': 55.11}\n"
     ]
    },
    {
     "name": "stderr",
     "output_type": "stream",
     "text": [
      "                                                  \n",
      "  2%|▏         | 110/4700 [13:12<11:05,  6.90it/s] "
     ]
    },
    {
     "name": "stdout",
     "output_type": "stream",
     "text": [
      "{'loss': 0.0007, 'grad_norm': 0.004585681948810816, 'learning_rate': 4.468085106382979e-06, 'epoch': 55.32}\n"
     ]
    },
    {
     "name": "stderr",
     "output_type": "stream",
     "text": [
      "\n",
      "\u001b[A\n",
      "\n",
      "                                                  \n",
      "\u001b[A                                                \n",
      "  2%|▏         | 110/4700 [13:12<11:05,  6.90it/s]\n",
      "\u001b[A"
     ]
    },
    {
     "name": "stdout",
     "output_type": "stream",
     "text": [
      "{'eval_loss': 0.04495787248015404, 'eval_runtime': 0.0277, 'eval_samples_per_second': 397.222, 'eval_steps_per_second': 216.667, 'epoch': 55.32}\n"
     ]
    },
    {
     "name": "stderr",
     "output_type": "stream",
     "text": [
      "                                                  \n",
      "  2%|▏         | 110/4700 [13:14<11:05,  6.90it/s] "
     ]
    },
    {
     "name": "stdout",
     "output_type": "stream",
     "text": [
      "{'loss': 0.0007, 'grad_norm': 0.0056839268654584885, 'learning_rate': 4.446808510638298e-06, 'epoch': 55.53}\n"
     ]
    },
    {
     "name": "stderr",
     "output_type": "stream",
     "text": [
      "\n",
      "\u001b[A\n",
      "\n",
      "                                                  \n",
      "\u001b[A                                                \n",
      "  2%|▏         | 110/4700 [13:14<11:05,  6.90it/s]\n",
      "\u001b[A"
     ]
    },
    {
     "name": "stdout",
     "output_type": "stream",
     "text": [
      "{'eval_loss': 0.04496561363339424, 'eval_runtime': 0.027, 'eval_samples_per_second': 407.16, 'eval_steps_per_second': 222.087, 'epoch': 55.53}\n"
     ]
    },
    {
     "name": "stderr",
     "output_type": "stream",
     "text": [
      "                                                  \n",
      "  2%|▏         | 110/4700 [13:16<11:05,  6.90it/s] "
     ]
    },
    {
     "name": "stdout",
     "output_type": "stream",
     "text": [
      "{'loss': 0.0004, 'grad_norm': 0.007907248102128506, 'learning_rate': 4.425531914893617e-06, 'epoch': 55.74}\n"
     ]
    },
    {
     "name": "stderr",
     "output_type": "stream",
     "text": [
      "\n",
      "\u001b[A\n",
      "\n",
      "                                                  \n",
      "\u001b[A                                                \n",
      "  2%|▏         | 110/4700 [13:16<11:05,  6.90it/s]\n",
      "\u001b[A"
     ]
    },
    {
     "name": "stdout",
     "output_type": "stream",
     "text": [
      "{'eval_loss': 0.04490133747458458, 'eval_runtime': 0.0261, 'eval_samples_per_second': 421.269, 'eval_steps_per_second': 229.783, 'epoch': 55.74}\n"
     ]
    },
    {
     "name": "stderr",
     "output_type": "stream",
     "text": [
      "                                                  \n",
      "  2%|▏         | 110/4700 [13:18<11:05,  6.90it/s] "
     ]
    },
    {
     "name": "stdout",
     "output_type": "stream",
     "text": [
      "{'loss': 0.0005, 'grad_norm': 0.0043939873576164246, 'learning_rate': 4.404255319148937e-06, 'epoch': 55.96}\n"
     ]
    },
    {
     "name": "stderr",
     "output_type": "stream",
     "text": [
      "\n",
      "\u001b[A\n",
      "\n",
      "                                                  \n",
      "\u001b[A                                                \n",
      "  2%|▏         | 110/4700 [13:18<11:05,  6.90it/s]\n",
      "\u001b[A"
     ]
    },
    {
     "name": "stdout",
     "output_type": "stream",
     "text": [
      "{'eval_loss': 0.044643010944128036, 'eval_runtime': 0.0257, 'eval_samples_per_second': 428.26, 'eval_steps_per_second': 233.597, 'epoch': 55.96}\n"
     ]
    },
    {
     "name": "stderr",
     "output_type": "stream",
     "text": [
      "                                                  \n",
      "  2%|▏         | 110/4700 [13:21<11:05,  6.90it/s] "
     ]
    },
    {
     "name": "stdout",
     "output_type": "stream",
     "text": [
      "{'loss': 0.0005, 'grad_norm': 0.0039703575894236565, 'learning_rate': 4.382978723404256e-06, 'epoch': 56.17}\n"
     ]
    },
    {
     "name": "stderr",
     "output_type": "stream",
     "text": [
      "\n",
      "\u001b[A\n",
      "\n",
      "                                                  \n",
      "\u001b[A                                                \n",
      "  2%|▏         | 110/4700 [13:21<11:05,  6.90it/s]\n",
      "\u001b[A"
     ]
    },
    {
     "name": "stdout",
     "output_type": "stream",
     "text": [
      "{'eval_loss': 0.04426811635494232, 'eval_runtime': 0.0285, 'eval_samples_per_second': 386.167, 'eval_steps_per_second': 210.637, 'epoch': 56.17}\n"
     ]
    },
    {
     "name": "stderr",
     "output_type": "stream",
     "text": [
      "                                                  \n",
      "  2%|▏         | 110/4700 [13:23<11:05,  6.90it/s] "
     ]
    },
    {
     "name": "stdout",
     "output_type": "stream",
     "text": [
      "{'loss': 0.0004, 'grad_norm': 0.011535008437931538, 'learning_rate': 4.361702127659575e-06, 'epoch': 56.38}\n"
     ]
    },
    {
     "name": "stderr",
     "output_type": "stream",
     "text": [
      "\n",
      "\u001b[A\n",
      "\n",
      "                                                  \n",
      "\u001b[A                                                \n",
      "  2%|▏         | 110/4700 [13:23<11:05,  6.90it/s]\n",
      "\u001b[A"
     ]
    },
    {
     "name": "stdout",
     "output_type": "stream",
     "text": [
      "{'eval_loss': 0.04409267008304596, 'eval_runtime': 0.0308, 'eval_samples_per_second': 356.865, 'eval_steps_per_second': 194.654, 'epoch': 56.38}\n"
     ]
    },
    {
     "name": "stderr",
     "output_type": "stream",
     "text": [
      "                                                  \n",
      "  2%|▏         | 110/4700 [13:25<11:05,  6.90it/s] "
     ]
    },
    {
     "name": "stdout",
     "output_type": "stream",
     "text": [
      "{'loss': 0.0004, 'grad_norm': 0.007095940411090851, 'learning_rate': 4.340425531914894e-06, 'epoch': 56.6}\n"
     ]
    },
    {
     "name": "stderr",
     "output_type": "stream",
     "text": [
      "\n",
      "\u001b[A\n",
      "\n",
      "                                                  \n",
      "\u001b[A                                                \n",
      "  2%|▏         | 110/4700 [13:25<11:05,  6.90it/s]\n",
      "\u001b[A"
     ]
    },
    {
     "name": "stdout",
     "output_type": "stream",
     "text": [
      "{'eval_loss': 0.043769922107458115, 'eval_runtime': 0.0285, 'eval_samples_per_second': 385.557, 'eval_steps_per_second': 210.304, 'epoch': 56.6}\n"
     ]
    },
    {
     "name": "stderr",
     "output_type": "stream",
     "text": [
      "                                                  \n",
      "  2%|▏         | 110/4700 [13:28<11:05,  6.90it/s] "
     ]
    },
    {
     "name": "stdout",
     "output_type": "stream",
     "text": [
      "{'loss': 0.0006, 'grad_norm': 0.008054038509726524, 'learning_rate': 4.319148936170213e-06, 'epoch': 56.81}\n"
     ]
    },
    {
     "name": "stderr",
     "output_type": "stream",
     "text": [
      "\n",
      "\u001b[A\n",
      "\n",
      "                                                  \n",
      "\u001b[A                                                \n",
      "  2%|▏         | 110/4700 [13:28<11:05,  6.90it/s]\n",
      "\u001b[A"
     ]
    },
    {
     "name": "stdout",
     "output_type": "stream",
     "text": [
      "{'eval_loss': 0.043162163347005844, 'eval_runtime': 0.0273, 'eval_samples_per_second': 403.517, 'eval_steps_per_second': 220.1, 'epoch': 56.81}\n"
     ]
    },
    {
     "name": "stderr",
     "output_type": "stream",
     "text": [
      "                                                  \n",
      "  2%|▏         | 110/4700 [13:30<11:05,  6.90it/s] "
     ]
    },
    {
     "name": "stdout",
     "output_type": "stream",
     "text": [
      "{'loss': 0.0008, 'grad_norm': 0.0388229563832283, 'learning_rate': 4.297872340425532e-06, 'epoch': 57.02}\n"
     ]
    },
    {
     "name": "stderr",
     "output_type": "stream",
     "text": [
      "\n",
      "\u001b[A\n",
      "\n",
      "                                                  \n",
      "\u001b[A                                                \n",
      "  2%|▏         | 110/4700 [13:30<11:05,  6.90it/s]\n",
      "\u001b[A"
     ]
    },
    {
     "name": "stdout",
     "output_type": "stream",
     "text": [
      "{'eval_loss': 0.04283102974295616, 'eval_runtime': 0.0283, 'eval_samples_per_second': 388.296, 'eval_steps_per_second': 211.798, 'epoch': 57.02}\n"
     ]
    },
    {
     "name": "stderr",
     "output_type": "stream",
     "text": [
      "                                                  \n",
      "  2%|▏         | 110/4700 [13:32<11:05,  6.90it/s] "
     ]
    },
    {
     "name": "stdout",
     "output_type": "stream",
     "text": [
      "{'loss': 0.0004, 'grad_norm': 0.004778198432177305, 'learning_rate': 4.2765957446808515e-06, 'epoch': 57.23}\n"
     ]
    },
    {
     "name": "stderr",
     "output_type": "stream",
     "text": [
      "\n",
      "\u001b[A\n",
      "\n",
      "                                                  \n",
      "\u001b[A                                                \n",
      "  2%|▏         | 110/4700 [13:32<11:05,  6.90it/s]\n",
      "\u001b[A"
     ]
    },
    {
     "name": "stdout",
     "output_type": "stream",
     "text": [
      "{'eval_loss': 0.04270000755786896, 'eval_runtime': 0.0274, 'eval_samples_per_second': 400.874, 'eval_steps_per_second': 218.658, 'epoch': 57.23}\n"
     ]
    },
    {
     "name": "stderr",
     "output_type": "stream",
     "text": [
      "                                                  \n",
      "  2%|▏         | 110/4700 [13:35<11:05,  6.90it/s] "
     ]
    },
    {
     "name": "stdout",
     "output_type": "stream",
     "text": [
      "{'loss': 0.0004, 'grad_norm': 0.00967947207391262, 'learning_rate': 4.255319148936171e-06, 'epoch': 57.45}\n"
     ]
    },
    {
     "name": "stderr",
     "output_type": "stream",
     "text": [
      "\n",
      "\u001b[A\n",
      "\n",
      "                                                  \n",
      "\u001b[A                                                \n",
      "  2%|▏         | 110/4700 [13:35<11:05,  6.90it/s]\n",
      "\u001b[A"
     ]
    },
    {
     "name": "stdout",
     "output_type": "stream",
     "text": [
      "{'eval_loss': 0.04244435578584671, 'eval_runtime': 0.0282, 'eval_samples_per_second': 390.65, 'eval_steps_per_second': 213.082, 'epoch': 57.45}\n"
     ]
    },
    {
     "name": "stderr",
     "output_type": "stream",
     "text": [
      "                                                  \n",
      "  2%|▏         | 110/4700 [13:37<11:05,  6.90it/s] "
     ]
    },
    {
     "name": "stdout",
     "output_type": "stream",
     "text": [
      "{'loss': 0.0004, 'grad_norm': 0.009801513515412807, 'learning_rate': 4.23404255319149e-06, 'epoch': 57.66}\n"
     ]
    },
    {
     "name": "stderr",
     "output_type": "stream",
     "text": [
      "\n",
      "\u001b[A\n",
      "\n",
      "                                                  \n",
      "\u001b[A                                                \n",
      "  2%|▏         | 110/4700 [13:37<11:05,  6.90it/s]\n",
      "\u001b[A"
     ]
    },
    {
     "name": "stdout",
     "output_type": "stream",
     "text": [
      "{'eval_loss': 0.042184337973594666, 'eval_runtime': 0.0276, 'eval_samples_per_second': 397.839, 'eval_steps_per_second': 217.003, 'epoch': 57.66}\n"
     ]
    },
    {
     "name": "stderr",
     "output_type": "stream",
     "text": [
      "                                                  \n",
      "  2%|▏         | 110/4700 [13:39<11:05,  6.90it/s] "
     ]
    },
    {
     "name": "stdout",
     "output_type": "stream",
     "text": [
      "{'loss': 0.0007, 'grad_norm': 0.006688443943858147, 'learning_rate': 4.212765957446809e-06, 'epoch': 57.87}\n"
     ]
    },
    {
     "name": "stderr",
     "output_type": "stream",
     "text": [
      "\n",
      "\u001b[A\n",
      "\n",
      "                                                  \n",
      "\u001b[A                                                \n",
      "  2%|▏         | 110/4700 [13:39<11:05,  6.90it/s]\n",
      "\u001b[A"
     ]
    },
    {
     "name": "stdout",
     "output_type": "stream",
     "text": [
      "{'eval_loss': 0.04191949963569641, 'eval_runtime': 0.031, 'eval_samples_per_second': 354.733, 'eval_steps_per_second': 193.491, 'epoch': 57.87}\n"
     ]
    },
    {
     "name": "stderr",
     "output_type": "stream",
     "text": [
      "                                                  \n",
      "  2%|▏         | 110/4700 [13:41<11:05,  6.90it/s] "
     ]
    },
    {
     "name": "stdout",
     "output_type": "stream",
     "text": [
      "{'loss': 0.0004, 'grad_norm': 0.004247765522450209, 'learning_rate': 4.191489361702128e-06, 'epoch': 58.09}\n"
     ]
    },
    {
     "name": "stderr",
     "output_type": "stream",
     "text": [
      "\n",
      "\u001b[A\n",
      "\n",
      "                                                  \n",
      "\u001b[A                                                \n",
      "  2%|▏         | 110/4700 [13:41<11:05,  6.90it/s]\n",
      "\u001b[A"
     ]
    },
    {
     "name": "stdout",
     "output_type": "stream",
     "text": [
      "{'eval_loss': 0.04174834489822388, 'eval_runtime': 0.0271, 'eval_samples_per_second': 405.996, 'eval_steps_per_second': 221.452, 'epoch': 58.09}\n"
     ]
    },
    {
     "name": "stderr",
     "output_type": "stream",
     "text": [
      "                                                  \n",
      "  2%|▏         | 110/4700 [13:44<11:05,  6.90it/s] "
     ]
    },
    {
     "name": "stdout",
     "output_type": "stream",
     "text": [
      "{'loss': 0.0005, 'grad_norm': 0.005408608820289373, 'learning_rate': 4.170212765957447e-06, 'epoch': 58.3}\n"
     ]
    },
    {
     "name": "stderr",
     "output_type": "stream",
     "text": [
      "\n",
      "\u001b[A\n",
      "\n",
      "                                                  \n",
      "\u001b[A                                                \n",
      "  2%|▏         | 110/4700 [13:44<11:05,  6.90it/s]\n",
      "\u001b[A"
     ]
    },
    {
     "name": "stdout",
     "output_type": "stream",
     "text": [
      "{'eval_loss': 0.04140536114573479, 'eval_runtime': 0.0271, 'eval_samples_per_second': 406.41, 'eval_steps_per_second': 221.678, 'epoch': 58.3}\n"
     ]
    },
    {
     "name": "stderr",
     "output_type": "stream",
     "text": [
      "                                                  \n",
      "  2%|▏         | 110/4700 [13:46<11:05,  6.90it/s] "
     ]
    },
    {
     "name": "stdout",
     "output_type": "stream",
     "text": [
      "{'loss': 0.0004, 'grad_norm': 0.0054796962067484856, 'learning_rate': 4.148936170212766e-06, 'epoch': 58.51}\n"
     ]
    },
    {
     "name": "stderr",
     "output_type": "stream",
     "text": [
      "\n",
      "\u001b[A\n",
      "\n",
      "                                                  \n",
      "\u001b[A                                                \n",
      "  2%|▏         | 110/4700 [13:46<11:05,  6.90it/s]\n",
      "\u001b[A"
     ]
    },
    {
     "name": "stdout",
     "output_type": "stream",
     "text": [
      "{'eval_loss': 0.04134226217865944, 'eval_runtime': 0.0263, 'eval_samples_per_second': 418.483, 'eval_steps_per_second': 228.264, 'epoch': 58.51}\n"
     ]
    },
    {
     "name": "stderr",
     "output_type": "stream",
     "text": [
      "                                                  \n",
      "  2%|▏         | 110/4700 [13:48<11:05,  6.90it/s] "
     ]
    },
    {
     "name": "stdout",
     "output_type": "stream",
     "text": [
      "{'loss': 0.0006, 'grad_norm': 0.006307391915470362, 'learning_rate': 4.127659574468085e-06, 'epoch': 58.72}\n"
     ]
    },
    {
     "name": "stderr",
     "output_type": "stream",
     "text": [
      "\n",
      "\u001b[A\n",
      "\n",
      "                                                  \n",
      "\u001b[A                                                \n",
      "  2%|▏         | 110/4700 [13:48<11:05,  6.90it/s]\n",
      "\u001b[A"
     ]
    },
    {
     "name": "stdout",
     "output_type": "stream",
     "text": [
      "{'eval_loss': 0.04128933697938919, 'eval_runtime': 0.0284, 'eval_samples_per_second': 387.842, 'eval_steps_per_second': 211.55, 'epoch': 58.72}\n"
     ]
    },
    {
     "name": "stderr",
     "output_type": "stream",
     "text": [
      "                                                  \n",
      "  2%|▏         | 110/4700 [13:51<11:05,  6.90it/s] "
     ]
    },
    {
     "name": "stdout",
     "output_type": "stream",
     "text": [
      "{'loss': 0.0006, 'grad_norm': 0.0037836816627532244, 'learning_rate': 4.106382978723404e-06, 'epoch': 58.94}\n"
     ]
    },
    {
     "name": "stderr",
     "output_type": "stream",
     "text": [
      "\n",
      "\u001b[A\n",
      "\n",
      "                                                  \n",
      "\u001b[A                                                \n",
      "  2%|▏         | 110/4700 [13:51<11:05,  6.90it/s]\n",
      "\u001b[A"
     ]
    },
    {
     "name": "stdout",
     "output_type": "stream",
     "text": [
      "{'eval_loss': 0.04137203469872475, 'eval_runtime': 0.0292, 'eval_samples_per_second': 377.297, 'eval_steps_per_second': 205.798, 'epoch': 58.94}\n"
     ]
    },
    {
     "name": "stderr",
     "output_type": "stream",
     "text": [
      "                                                  \n",
      "  2%|▏         | 110/4700 [13:53<11:05,  6.90it/s] "
     ]
    },
    {
     "name": "stdout",
     "output_type": "stream",
     "text": [
      "{'loss': 0.0005, 'grad_norm': 0.03698904439806938, 'learning_rate': 4.085106382978723e-06, 'epoch': 59.15}\n"
     ]
    },
    {
     "name": "stderr",
     "output_type": "stream",
     "text": [
      "\n",
      "\u001b[A\n",
      "\n",
      "                                                  \n",
      "\u001b[A                                                \n",
      "  2%|▏         | 110/4700 [13:53<11:05,  6.90it/s]\n",
      "\u001b[A"
     ]
    },
    {
     "name": "stdout",
     "output_type": "stream",
     "text": [
      "{'eval_loss': 0.04124490171670914, 'eval_runtime': 0.0278, 'eval_samples_per_second': 395.215, 'eval_steps_per_second': 215.572, 'epoch': 59.15}\n"
     ]
    },
    {
     "name": "stderr",
     "output_type": "stream",
     "text": [
      "                                                  \n",
      "  2%|▏         | 110/4700 [13:56<11:05,  6.90it/s] "
     ]
    },
    {
     "name": "stdout",
     "output_type": "stream",
     "text": [
      "{'loss': 0.0004, 'grad_norm': 0.005197351798415184, 'learning_rate': 4.0638297872340425e-06, 'epoch': 59.36}\n"
     ]
    },
    {
     "name": "stderr",
     "output_type": "stream",
     "text": [
      "\n",
      "\u001b[A\n",
      "\n",
      "                                                  \n",
      "\u001b[A                                                \n",
      "  2%|▏         | 110/4700 [13:56<11:05,  6.90it/s]\n",
      "\u001b[A"
     ]
    },
    {
     "name": "stdout",
     "output_type": "stream",
     "text": [
      "{'eval_loss': 0.04102597013115883, 'eval_runtime': 0.0275, 'eval_samples_per_second': 399.506, 'eval_steps_per_second': 217.912, 'epoch': 59.36}\n"
     ]
    },
    {
     "name": "stderr",
     "output_type": "stream",
     "text": [
      "                                                  \n",
      "  2%|▏         | 110/4700 [13:59<11:05,  6.90it/s] "
     ]
    },
    {
     "name": "stdout",
     "output_type": "stream",
     "text": [
      "{'loss': 0.0005, 'grad_norm': 0.004736719187349081, 'learning_rate': 4.042553191489362e-06, 'epoch': 59.57}\n"
     ]
    },
    {
     "name": "stderr",
     "output_type": "stream",
     "text": [
      "\n",
      "\u001b[A\n",
      "\n",
      "                                                  \n",
      "\u001b[A                                                \n",
      "  2%|▏         | 110/4700 [13:59<11:05,  6.90it/s]\n",
      "\u001b[A"
     ]
    },
    {
     "name": "stdout",
     "output_type": "stream",
     "text": [
      "{'eval_loss': 0.04090018570423126, 'eval_runtime': 0.0268, 'eval_samples_per_second': 410.033, 'eval_steps_per_second': 223.654, 'epoch': 59.57}\n"
     ]
    },
    {
     "name": "stderr",
     "output_type": "stream",
     "text": [
      "                                                  \n",
      "  2%|▏         | 110/4700 [14:01<11:05,  6.90it/s] "
     ]
    },
    {
     "name": "stdout",
     "output_type": "stream",
     "text": [
      "{'loss': 0.0006, 'grad_norm': 0.00573181826621294, 'learning_rate': 4.0212765957446816e-06, 'epoch': 59.79}\n"
     ]
    },
    {
     "name": "stderr",
     "output_type": "stream",
     "text": [
      "\n",
      "\u001b[A\n",
      "\n",
      "                                                  \n",
      "\u001b[A                                                \n",
      "  2%|▏         | 110/4700 [14:01<11:05,  6.90it/s]\n",
      "\u001b[A"
     ]
    },
    {
     "name": "stdout",
     "output_type": "stream",
     "text": [
      "{'eval_loss': 0.04085385054349899, 'eval_runtime': 0.028, 'eval_samples_per_second': 392.866, 'eval_steps_per_second': 214.29, 'epoch': 59.79}\n"
     ]
    },
    {
     "name": "stderr",
     "output_type": "stream",
     "text": [
      "                                                  \n",
      "  2%|▏         | 110/4700 [14:04<11:05,  6.90it/s] "
     ]
    },
    {
     "name": "stdout",
     "output_type": "stream",
     "text": [
      "{'loss': 0.0005, 'grad_norm': 0.019039751961827278, 'learning_rate': 4.000000000000001e-06, 'epoch': 60.0}\n"
     ]
    },
    {
     "name": "stderr",
     "output_type": "stream",
     "text": [
      "\n",
      "\u001b[A\n",
      "\n",
      "                                                  \n",
      "\u001b[A                                                \n",
      "  2%|▏         | 110/4700 [14:04<11:05,  6.90it/s]\n",
      "\u001b[A"
     ]
    },
    {
     "name": "stdout",
     "output_type": "stream",
     "text": [
      "{'eval_loss': 0.04091751575469971, 'eval_runtime': 0.0293, 'eval_samples_per_second': 374.963, 'eval_steps_per_second': 204.525, 'epoch': 60.0}\n"
     ]
    },
    {
     "name": "stderr",
     "output_type": "stream",
     "text": [
      "                                                  \n",
      "  2%|▏         | 110/4700 [14:06<11:05,  6.90it/s] "
     ]
    },
    {
     "name": "stdout",
     "output_type": "stream",
     "text": [
      "{'loss': 0.0004, 'grad_norm': 0.014366241171956062, 'learning_rate': 3.97872340425532e-06, 'epoch': 60.21}\n"
     ]
    },
    {
     "name": "stderr",
     "output_type": "stream",
     "text": [
      "\n",
      "\u001b[A\n",
      "\n",
      "                                                  \n",
      "\u001b[A                                                \n",
      "  2%|▏         | 110/4700 [14:06<11:05,  6.90it/s]\n",
      "\u001b[A"
     ]
    },
    {
     "name": "stdout",
     "output_type": "stream",
     "text": [
      "{'eval_loss': 0.04077388346195221, 'eval_runtime': 0.0336, 'eval_samples_per_second': 327.134, 'eval_steps_per_second': 178.437, 'epoch': 60.21}\n"
     ]
    },
    {
     "name": "stderr",
     "output_type": "stream",
     "text": [
      "                                                  \n",
      "  2%|▏         | 110/4700 [14:09<11:05,  6.90it/s] "
     ]
    },
    {
     "name": "stdout",
     "output_type": "stream",
     "text": [
      "{'loss': 0.0004, 'grad_norm': 0.004542449489235878, 'learning_rate': 3.957446808510639e-06, 'epoch': 60.43}\n"
     ]
    },
    {
     "name": "stderr",
     "output_type": "stream",
     "text": [
      "\n",
      "\u001b[A\n",
      "\n",
      "                                                  \n",
      "\u001b[A                                                \n",
      "  2%|▏         | 110/4700 [14:09<11:05,  6.90it/s]\n",
      "\u001b[A"
     ]
    },
    {
     "name": "stdout",
     "output_type": "stream",
     "text": [
      "{'eval_loss': 0.04059961438179016, 'eval_runtime': 0.0253, 'eval_samples_per_second': 435.472, 'eval_steps_per_second': 237.53, 'epoch': 60.43}\n"
     ]
    },
    {
     "name": "stderr",
     "output_type": "stream",
     "text": [
      "                                                  \n",
      "  2%|▏         | 110/4700 [14:11<11:05,  6.90it/s] "
     ]
    },
    {
     "name": "stdout",
     "output_type": "stream",
     "text": [
      "{'loss': 0.0008, 'grad_norm': 0.04118560254573822, 'learning_rate': 3.936170212765958e-06, 'epoch': 60.64}\n"
     ]
    },
    {
     "name": "stderr",
     "output_type": "stream",
     "text": [
      "\n",
      "\u001b[A\n",
      "\n",
      "                                                  \n",
      "\u001b[A                                                \n",
      "  2%|▏         | 110/4700 [14:11<11:05,  6.90it/s]\n",
      "\u001b[A"
     ]
    },
    {
     "name": "stdout",
     "output_type": "stream",
     "text": [
      "{'eval_loss': 0.040521785616874695, 'eval_runtime': 0.033, 'eval_samples_per_second': 333.033, 'eval_steps_per_second': 181.654, 'epoch': 60.64}\n"
     ]
    },
    {
     "name": "stderr",
     "output_type": "stream",
     "text": [
      "                                                  \n",
      "  2%|▏         | 110/4700 [14:14<11:05,  6.90it/s] "
     ]
    },
    {
     "name": "stdout",
     "output_type": "stream",
     "text": [
      "{'loss': 0.0003, 'grad_norm': 0.004395774565637112, 'learning_rate': 3.914893617021277e-06, 'epoch': 60.85}\n"
     ]
    },
    {
     "name": "stderr",
     "output_type": "stream",
     "text": [
      "\n",
      "\u001b[A\n",
      "\n",
      "                                                  \n",
      "\u001b[A                                                \n",
      "  2%|▏         | 110/4700 [14:14<11:05,  6.90it/s]\n",
      "\u001b[A"
     ]
    },
    {
     "name": "stdout",
     "output_type": "stream",
     "text": [
      "{'eval_loss': 0.040527526289224625, 'eval_runtime': 0.0288, 'eval_samples_per_second': 381.786, 'eval_steps_per_second': 208.247, 'epoch': 60.85}\n"
     ]
    },
    {
     "name": "stderr",
     "output_type": "stream",
     "text": [
      "                                                  \n",
      "  2%|▏         | 110/4700 [14:17<11:05,  6.90it/s] "
     ]
    },
    {
     "name": "stdout",
     "output_type": "stream",
     "text": [
      "{'loss': 0.0004, 'grad_norm': 0.003963802009820938, 'learning_rate': 3.893617021276596e-06, 'epoch': 61.06}\n"
     ]
    },
    {
     "name": "stderr",
     "output_type": "stream",
     "text": [
      "\n",
      "\u001b[A\n",
      "\n",
      "                                                  \n",
      "\u001b[A                                                \n",
      "  2%|▏         | 110/4700 [14:17<11:05,  6.90it/s]\n",
      "\u001b[A"
     ]
    },
    {
     "name": "stdout",
     "output_type": "stream",
     "text": [
      "{'eval_loss': 0.040561921894550323, 'eval_runtime': 0.0291, 'eval_samples_per_second': 378.175, 'eval_steps_per_second': 206.277, 'epoch': 61.06}\n"
     ]
    },
    {
     "name": "stderr",
     "output_type": "stream",
     "text": [
      "                                                  \n",
      "  2%|▏         | 110/4700 [14:19<11:05,  6.90it/s] "
     ]
    },
    {
     "name": "stdout",
     "output_type": "stream",
     "text": [
      "{'loss': 0.0005, 'grad_norm': 0.004058731719851494, 'learning_rate': 3.872340425531915e-06, 'epoch': 61.28}\n"
     ]
    },
    {
     "name": "stderr",
     "output_type": "stream",
     "text": [
      "\n",
      "\u001b[A\n",
      "\n",
      "                                                  \n",
      "\u001b[A                                                \n",
      "  2%|▏         | 110/4700 [14:19<11:05,  6.90it/s]\n",
      "\u001b[A"
     ]
    },
    {
     "name": "stdout",
     "output_type": "stream",
     "text": [
      "{'eval_loss': 0.04334365203976631, 'eval_runtime': 0.03, 'eval_samples_per_second': 366.164, 'eval_steps_per_second': 199.726, 'epoch': 61.28}\n"
     ]
    },
    {
     "name": "stderr",
     "output_type": "stream",
     "text": [
      "                                                  \n",
      "  2%|▏         | 110/4700 [14:21<11:05,  6.90it/s] "
     ]
    },
    {
     "name": "stdout",
     "output_type": "stream",
     "text": [
      "{'loss': 0.0004, 'grad_norm': 0.016871947795152664, 'learning_rate': 3.851063829787234e-06, 'epoch': 61.49}\n"
     ]
    },
    {
     "name": "stderr",
     "output_type": "stream",
     "text": [
      "\n",
      "\u001b[A\n",
      "\n",
      "                                                  \n",
      "\u001b[A                                                \n",
      "  2%|▏         | 110/4700 [14:21<11:05,  6.90it/s]\n",
      "\u001b[A"
     ]
    },
    {
     "name": "stdout",
     "output_type": "stream",
     "text": [
      "{'eval_loss': 0.04425270855426788, 'eval_runtime': 0.0283, 'eval_samples_per_second': 388.045, 'eval_steps_per_second': 211.661, 'epoch': 61.49}\n"
     ]
    },
    {
     "name": "stderr",
     "output_type": "stream",
     "text": [
      "                                                  \n",
      "  2%|▏         | 110/4700 [14:24<11:05,  6.90it/s] "
     ]
    },
    {
     "name": "stdout",
     "output_type": "stream",
     "text": [
      "{'loss': 0.0004, 'grad_norm': 0.006676517892628908, 'learning_rate': 3.8297872340425535e-06, 'epoch': 61.7}\n"
     ]
    },
    {
     "name": "stderr",
     "output_type": "stream",
     "text": [
      "\n",
      "\u001b[A\n",
      "\n",
      "                                                  \n",
      "\u001b[A                                                \n",
      "  2%|▏         | 110/4700 [14:24<11:05,  6.90it/s]\n",
      "\u001b[A"
     ]
    },
    {
     "name": "stdout",
     "output_type": "stream",
     "text": [
      "{'eval_loss': 0.04457787051796913, 'eval_runtime': 0.0273, 'eval_samples_per_second': 402.24, 'eval_steps_per_second': 219.404, 'epoch': 61.7}\n"
     ]
    },
    {
     "name": "stderr",
     "output_type": "stream",
     "text": [
      "                                                  \n",
      "  2%|▏         | 110/4700 [14:26<11:05,  6.90it/s] "
     ]
    },
    {
     "name": "stdout",
     "output_type": "stream",
     "text": [
      "{'loss': 0.0006, 'grad_norm': 0.007298307027667761, 'learning_rate': 3.8085106382978726e-06, 'epoch': 61.91}\n"
     ]
    },
    {
     "name": "stderr",
     "output_type": "stream",
     "text": [
      "\n",
      "\u001b[A\n",
      "\n",
      "                                                  \n",
      "\u001b[A                                                \n",
      "  2%|▏         | 110/4700 [14:26<11:05,  6.90it/s]\n",
      "\u001b[A"
     ]
    },
    {
     "name": "stdout",
     "output_type": "stream",
     "text": [
      "{'eval_loss': 0.044464901089668274, 'eval_runtime': 0.0282, 'eval_samples_per_second': 390.511, 'eval_steps_per_second': 213.006, 'epoch': 61.91}\n"
     ]
    },
    {
     "name": "stderr",
     "output_type": "stream",
     "text": [
      "                                                  \n",
      "  2%|▏         | 110/4700 [14:28<11:05,  6.90it/s] "
     ]
    },
    {
     "name": "stdout",
     "output_type": "stream",
     "text": [
      "{'loss': 0.0006, 'grad_norm': 0.00593141932040453, 'learning_rate': 3.7872340425531917e-06, 'epoch': 62.13}\n"
     ]
    },
    {
     "name": "stderr",
     "output_type": "stream",
     "text": [
      "\n",
      "\u001b[A\n",
      "\n",
      "                                                  \n",
      "\u001b[A                                                \n",
      "  2%|▏         | 110/4700 [14:28<11:05,  6.90it/s]\n",
      "\u001b[A"
     ]
    },
    {
     "name": "stdout",
     "output_type": "stream",
     "text": [
      "{'eval_loss': 0.04351009055972099, 'eval_runtime': 0.0269, 'eval_samples_per_second': 408.573, 'eval_steps_per_second': 222.858, 'epoch': 62.13}\n"
     ]
    },
    {
     "name": "stderr",
     "output_type": "stream",
     "text": [
      "                                                  \n",
      "  2%|▏         | 110/4700 [14:31<11:05,  6.90it/s] "
     ]
    },
    {
     "name": "stdout",
     "output_type": "stream",
     "text": [
      "{'loss': 0.0004, 'grad_norm': 0.006360040046274662, 'learning_rate': 3.7659574468085108e-06, 'epoch': 62.34}\n"
     ]
    },
    {
     "name": "stderr",
     "output_type": "stream",
     "text": [
      "\n",
      "\u001b[A\n",
      "\n",
      "                                                  \n",
      "\u001b[A                                                \n",
      "  2%|▏         | 110/4700 [14:31<11:05,  6.90it/s]\n",
      "\u001b[A"
     ]
    },
    {
     "name": "stdout",
     "output_type": "stream",
     "text": [
      "{'eval_loss': 0.042188189923763275, 'eval_runtime': 0.0271, 'eval_samples_per_second': 405.881, 'eval_steps_per_second': 221.39, 'epoch': 62.34}\n"
     ]
    },
    {
     "name": "stderr",
     "output_type": "stream",
     "text": [
      "                                                  \n",
      "  2%|▏         | 110/4700 [14:33<11:05,  6.90it/s] "
     ]
    },
    {
     "name": "stdout",
     "output_type": "stream",
     "text": [
      "{'loss': 0.0003, 'grad_norm': 0.004194213077425957, 'learning_rate': 3.74468085106383e-06, 'epoch': 62.55}\n"
     ]
    },
    {
     "name": "stderr",
     "output_type": "stream",
     "text": [
      "\n",
      "\u001b[A\n",
      "\n",
      "                                                  \n",
      "\u001b[A                                                \n",
      "  2%|▏         | 110/4700 [14:33<11:05,  6.90it/s]\n",
      "\u001b[A"
     ]
    },
    {
     "name": "stdout",
     "output_type": "stream",
     "text": [
      "{'eval_loss': 0.04152683913707733, 'eval_runtime': 0.0262, 'eval_samples_per_second': 419.08, 'eval_steps_per_second': 228.589, 'epoch': 62.55}\n"
     ]
    },
    {
     "name": "stderr",
     "output_type": "stream",
     "text": [
      "                                                  \n",
      "  2%|▏         | 110/4700 [14:35<11:05,  6.90it/s] "
     ]
    },
    {
     "name": "stdout",
     "output_type": "stream",
     "text": [
      "{'loss': 0.0005, 'grad_norm': 0.013930818066000938, 'learning_rate': 3.723404255319149e-06, 'epoch': 62.77}\n"
     ]
    },
    {
     "name": "stderr",
     "output_type": "stream",
     "text": [
      "\n",
      "\u001b[A\n",
      "\n",
      "                                                  \n",
      "\u001b[A                                                \n",
      "  2%|▏         | 110/4700 [14:35<11:05,  6.90it/s]\n",
      "\u001b[A"
     ]
    },
    {
     "name": "stdout",
     "output_type": "stream",
     "text": [
      "{'eval_loss': 0.04123041406273842, 'eval_runtime': 0.0276, 'eval_samples_per_second': 398.719, 'eval_steps_per_second': 217.483, 'epoch': 62.77}\n"
     ]
    },
    {
     "name": "stderr",
     "output_type": "stream",
     "text": [
      "                                                  \n",
      "  2%|▏         | 110/4700 [14:38<11:05,  6.90it/s] "
     ]
    },
    {
     "name": "stdout",
     "output_type": "stream",
     "text": [
      "{'loss': 0.0004, 'grad_norm': 0.007091093342751265, 'learning_rate': 3.702127659574468e-06, 'epoch': 62.98}\n"
     ]
    },
    {
     "name": "stderr",
     "output_type": "stream",
     "text": [
      "\n",
      "\u001b[A\n",
      "\n",
      "                                                  \n",
      "\u001b[A                                                \n",
      "  2%|▏         | 110/4700 [14:38<11:05,  6.90it/s]\n",
      "\u001b[A"
     ]
    },
    {
     "name": "stdout",
     "output_type": "stream",
     "text": [
      "{'eval_loss': 0.0412273071706295, 'eval_runtime': 0.0271, 'eval_samples_per_second': 405.179, 'eval_steps_per_second': 221.007, 'epoch': 62.98}\n"
     ]
    },
    {
     "name": "stderr",
     "output_type": "stream",
     "text": [
      "                                                  \n",
      "  2%|▏         | 110/4700 [14:40<11:05,  6.90it/s] "
     ]
    },
    {
     "name": "stdout",
     "output_type": "stream",
     "text": [
      "{'loss': 0.0005, 'grad_norm': 0.004664180800318718, 'learning_rate': 3.680851063829787e-06, 'epoch': 63.19}\n"
     ]
    },
    {
     "name": "stderr",
     "output_type": "stream",
     "text": [
      "\n",
      "\u001b[A\n",
      "\n",
      "                                                  \n",
      "\u001b[A                                                \n",
      "  2%|▏         | 110/4700 [14:40<11:05,  6.90it/s]\n",
      "\u001b[A"
     ]
    },
    {
     "name": "stdout",
     "output_type": "stream",
     "text": [
      "{'eval_loss': 0.04117566719651222, 'eval_runtime': 0.0278, 'eval_samples_per_second': 395.9, 'eval_steps_per_second': 215.945, 'epoch': 63.19}\n"
     ]
    },
    {
     "name": "stderr",
     "output_type": "stream",
     "text": [
      "                                                  \n",
      "  2%|▏         | 110/4700 [14:42<11:05,  6.90it/s] "
     ]
    },
    {
     "name": "stdout",
     "output_type": "stream",
     "text": [
      "{'loss': 0.0004, 'grad_norm': 0.005289835389703512, 'learning_rate': 3.6595744680851063e-06, 'epoch': 63.4}\n"
     ]
    },
    {
     "name": "stderr",
     "output_type": "stream",
     "text": [
      "\n",
      "\u001b[A\n",
      "\n",
      "                                                  \n",
      "\u001b[A                                                \n",
      "  2%|▏         | 110/4700 [14:42<11:05,  6.90it/s]\n",
      "\u001b[A"
     ]
    },
    {
     "name": "stdout",
     "output_type": "stream",
     "text": [
      "{'eval_loss': 0.04104182496666908, 'eval_runtime': 0.0282, 'eval_samples_per_second': 390.102, 'eval_steps_per_second': 212.783, 'epoch': 63.4}\n"
     ]
    },
    {
     "name": "stderr",
     "output_type": "stream",
     "text": [
      "                                                  \n",
      "  2%|▏         | 110/4700 [14:44<11:05,  6.90it/s] "
     ]
    },
    {
     "name": "stdout",
     "output_type": "stream",
     "text": [
      "{'loss': 0.0006, 'grad_norm': 0.008003802970051765, 'learning_rate': 3.6382978723404262e-06, 'epoch': 63.62}\n"
     ]
    },
    {
     "name": "stderr",
     "output_type": "stream",
     "text": [
      "\n",
      "\u001b[A\n",
      "\n",
      "                                                  \n",
      "\u001b[A                                                \n",
      "  2%|▏         | 110/4700 [14:44<11:05,  6.90it/s]\n",
      "\u001b[A"
     ]
    },
    {
     "name": "stdout",
     "output_type": "stream",
     "text": [
      "{'eval_loss': 0.04106636345386505, 'eval_runtime': 0.0285, 'eval_samples_per_second': 386.116, 'eval_steps_per_second': 210.609, 'epoch': 63.62}\n"
     ]
    },
    {
     "name": "stderr",
     "output_type": "stream",
     "text": [
      "                                                  \n",
      "  2%|▏         | 110/4700 [14:47<11:05,  6.90it/s] "
     ]
    },
    {
     "name": "stdout",
     "output_type": "stream",
     "text": [
      "{'loss': 0.0005, 'grad_norm': 0.005144460592418909, 'learning_rate': 3.6170212765957453e-06, 'epoch': 63.83}\n"
     ]
    },
    {
     "name": "stderr",
     "output_type": "stream",
     "text": [
      "\n",
      "\u001b[A\n",
      "\n",
      "                                                  \n",
      "\u001b[A                                                \n",
      "  2%|▏         | 110/4700 [14:47<11:05,  6.90it/s]\n",
      "\u001b[A"
     ]
    },
    {
     "name": "stdout",
     "output_type": "stream",
     "text": [
      "{'eval_loss': 0.04069903492927551, 'eval_runtime': 0.0281, 'eval_samples_per_second': 391.356, 'eval_steps_per_second': 213.467, 'epoch': 63.83}\n"
     ]
    },
    {
     "name": "stderr",
     "output_type": "stream",
     "text": [
      "                                                  \n",
      "  2%|▏         | 110/4700 [14:49<11:05,  6.90it/s] "
     ]
    },
    {
     "name": "stdout",
     "output_type": "stream",
     "text": [
      "{'loss': 0.0004, 'grad_norm': 0.0061631654389202595, 'learning_rate': 3.5957446808510644e-06, 'epoch': 64.04}\n"
     ]
    },
    {
     "name": "stderr",
     "output_type": "stream",
     "text": [
      "\n",
      "\u001b[A\n",
      "\n",
      "                                                  \n",
      "\u001b[A                                                \n",
      "  2%|▏         | 110/4700 [14:49<11:05,  6.90it/s]\n",
      "\u001b[A"
     ]
    },
    {
     "name": "stdout",
     "output_type": "stream",
     "text": [
      "{'eval_loss': 0.040470171719789505, 'eval_runtime': 0.0301, 'eval_samples_per_second': 365.282, 'eval_steps_per_second': 199.245, 'epoch': 64.04}\n"
     ]
    },
    {
     "name": "stderr",
     "output_type": "stream",
     "text": [
      "                                                  \n",
      "  2%|▏         | 110/4700 [14:52<11:05,  6.90it/s] "
     ]
    },
    {
     "name": "stdout",
     "output_type": "stream",
     "text": [
      "{'loss': 0.0004, 'grad_norm': 0.005987133830785751, 'learning_rate': 3.5744680851063835e-06, 'epoch': 64.26}\n"
     ]
    },
    {
     "name": "stderr",
     "output_type": "stream",
     "text": [
      "\n",
      "\u001b[A\n",
      "\n",
      "                                                  \n",
      "\u001b[A                                                \n",
      "  2%|▏         | 110/4700 [14:52<11:05,  6.90it/s]\n",
      "\u001b[A"
     ]
    },
    {
     "name": "stdout",
     "output_type": "stream",
     "text": [
      "{'eval_loss': 0.04043512046337128, 'eval_runtime': 0.0258, 'eval_samples_per_second': 426.688, 'eval_steps_per_second': 232.739, 'epoch': 64.26}\n"
     ]
    },
    {
     "name": "stderr",
     "output_type": "stream",
     "text": [
      "                                                  \n",
      "  2%|▏         | 110/4700 [14:54<11:05,  6.90it/s] "
     ]
    },
    {
     "name": "stdout",
     "output_type": "stream",
     "text": [
      "{'loss': 0.0003, 'grad_norm': 0.005441153421998024, 'learning_rate': 3.5531914893617026e-06, 'epoch': 64.47}\n"
     ]
    },
    {
     "name": "stderr",
     "output_type": "stream",
     "text": [
      "\n",
      "\u001b[A\n",
      "\n",
      "                                                  \n",
      "\u001b[A                                                \n",
      "  2%|▏         | 110/4700 [14:54<11:05,  6.90it/s]\n",
      "\u001b[A"
     ]
    },
    {
     "name": "stdout",
     "output_type": "stream",
     "text": [
      "{'eval_loss': 0.04041615501046181, 'eval_runtime': 0.0295, 'eval_samples_per_second': 373.02, 'eval_steps_per_second': 203.465, 'epoch': 64.47}\n"
     ]
    },
    {
     "name": "stderr",
     "output_type": "stream",
     "text": [
      "                                                  \n",
      "  2%|▏         | 110/4700 [14:56<11:05,  6.90it/s] "
     ]
    },
    {
     "name": "stdout",
     "output_type": "stream",
     "text": [
      "{'loss': 0.0004, 'grad_norm': 0.0075008017010986805, 'learning_rate': 3.5319148936170217e-06, 'epoch': 64.68}\n"
     ]
    },
    {
     "name": "stderr",
     "output_type": "stream",
     "text": [
      "\n",
      "\u001b[A\n",
      "\n",
      "                                                  \n",
      "\u001b[A                                                \n",
      "  2%|▏         | 110/4700 [14:56<11:05,  6.90it/s]\n",
      "\u001b[A"
     ]
    },
    {
     "name": "stdout",
     "output_type": "stream",
     "text": [
      "{'eval_loss': 0.04040621221065521, 'eval_runtime': 0.0281, 'eval_samples_per_second': 390.905, 'eval_steps_per_second': 213.221, 'epoch': 64.68}\n"
     ]
    },
    {
     "name": "stderr",
     "output_type": "stream",
     "text": [
      "                                                  \n",
      "  2%|▏         | 110/4700 [14:58<11:05,  6.90it/s] "
     ]
    },
    {
     "name": "stdout",
     "output_type": "stream",
     "text": [
      "{'loss': 0.0007, 'grad_norm': 0.008235510438680649, 'learning_rate': 3.510638297872341e-06, 'epoch': 64.89}\n"
     ]
    },
    {
     "name": "stderr",
     "output_type": "stream",
     "text": [
      "\n",
      "\u001b[A\n",
      "\n",
      "                                                  \n",
      "\u001b[A                                                \n",
      "  2%|▏         | 110/4700 [14:59<11:05,  6.90it/s]\n",
      "\u001b[A"
     ]
    },
    {
     "name": "stdout",
     "output_type": "stream",
     "text": [
      "{'eval_loss': 0.04039027541875839, 'eval_runtime': 0.0274, 'eval_samples_per_second': 401.827, 'eval_steps_per_second': 219.178, 'epoch': 64.89}\n"
     ]
    },
    {
     "name": "stderr",
     "output_type": "stream",
     "text": [
      "                                                  \n",
      "  2%|▏         | 110/4700 [15:01<11:05,  6.90it/s] "
     ]
    },
    {
     "name": "stdout",
     "output_type": "stream",
     "text": [
      "{'loss': 0.0003, 'grad_norm': 0.004296037368476391, 'learning_rate': 3.48936170212766e-06, 'epoch': 65.11}\n"
     ]
    },
    {
     "name": "stderr",
     "output_type": "stream",
     "text": [
      "\n",
      "\u001b[A\n",
      "\n",
      "                                                  \n",
      "\u001b[A                                                \n",
      "  2%|▏         | 110/4700 [15:01<11:05,  6.90it/s]\n",
      "\u001b[A"
     ]
    },
    {
     "name": "stdout",
     "output_type": "stream",
     "text": [
      "{'eval_loss': 0.0403941310942173, 'eval_runtime': 0.0267, 'eval_samples_per_second': 411.485, 'eval_steps_per_second': 224.446, 'epoch': 65.11}\n"
     ]
    },
    {
     "name": "stderr",
     "output_type": "stream",
     "text": [
      "                                                  \n",
      "  2%|▏         | 110/4700 [15:03<11:05,  6.90it/s] "
     ]
    },
    {
     "name": "stdout",
     "output_type": "stream",
     "text": [
      "{'loss': 0.0004, 'grad_norm': 0.006568580400198698, 'learning_rate': 3.468085106382979e-06, 'epoch': 65.32}\n"
     ]
    },
    {
     "name": "stderr",
     "output_type": "stream",
     "text": [
      "\n",
      "\u001b[A\n",
      "\n",
      "                                                  \n",
      "\u001b[A                                                \n",
      "  2%|▏         | 110/4700 [15:03<11:05,  6.90it/s]\n",
      "\u001b[A"
     ]
    },
    {
     "name": "stdout",
     "output_type": "stream",
     "text": [
      "{'eval_loss': 0.04042593017220497, 'eval_runtime': 0.0263, 'eval_samples_per_second': 418.373, 'eval_steps_per_second': 228.203, 'epoch': 65.32}\n"
     ]
    },
    {
     "name": "stderr",
     "output_type": "stream",
     "text": [
      "                                                  \n",
      "  2%|▏         | 110/4700 [15:06<11:05,  6.90it/s] "
     ]
    },
    {
     "name": "stdout",
     "output_type": "stream",
     "text": [
      "{'loss': 0.0004, 'grad_norm': 0.004245121497660875, 'learning_rate': 3.446808510638298e-06, 'epoch': 65.53}\n"
     ]
    },
    {
     "name": "stderr",
     "output_type": "stream",
     "text": [
      "\n",
      "\u001b[A\n",
      "\n",
      "                                                  \n",
      "\u001b[A                                                \n",
      "  2%|▏         | 110/4700 [15:06<11:05,  6.90it/s]\n",
      "\u001b[A"
     ]
    },
    {
     "name": "stdout",
     "output_type": "stream",
     "text": [
      "{'eval_loss': 0.040483538061380386, 'eval_runtime': 0.0302, 'eval_samples_per_second': 364.653, 'eval_steps_per_second': 198.902, 'epoch': 65.53}\n"
     ]
    },
    {
     "name": "stderr",
     "output_type": "stream",
     "text": [
      "                                                  \n",
      "  2%|▏         | 110/4700 [15:08<11:05,  6.90it/s] "
     ]
    },
    {
     "name": "stdout",
     "output_type": "stream",
     "text": [
      "{'loss': 0.0005, 'grad_norm': 0.006594439968466759, 'learning_rate': 3.4255319148936172e-06, 'epoch': 65.74}\n"
     ]
    },
    {
     "name": "stderr",
     "output_type": "stream",
     "text": [
      "\n",
      "\u001b[A\n",
      "\n",
      "                                                  \n",
      "\u001b[A                                                \n",
      "  2%|▏         | 110/4700 [15:08<11:05,  6.90it/s]\n",
      "\u001b[A"
     ]
    },
    {
     "name": "stdout",
     "output_type": "stream",
     "text": [
      "{'eval_loss': 0.04050164297223091, 'eval_runtime': 0.0323, 'eval_samples_per_second': 340.915, 'eval_steps_per_second': 185.953, 'epoch': 65.74}\n"
     ]
    },
    {
     "name": "stderr",
     "output_type": "stream",
     "text": [
      "                                                  \n",
      "  2%|▏         | 110/4700 [15:11<11:05,  6.90it/s] "
     ]
    },
    {
     "name": "stdout",
     "output_type": "stream",
     "text": [
      "{'loss': 0.0004, 'grad_norm': 0.003609020495787263, 'learning_rate': 3.4042553191489363e-06, 'epoch': 65.96}\n"
     ]
    },
    {
     "name": "stderr",
     "output_type": "stream",
     "text": [
      "\n",
      "\u001b[A\n",
      "\n",
      "                                                  \n",
      "\u001b[A                                                \n",
      "  2%|▏         | 110/4700 [15:11<11:05,  6.90it/s]\n",
      "\u001b[A"
     ]
    },
    {
     "name": "stdout",
     "output_type": "stream",
     "text": [
      "{'eval_loss': 0.04049143195152283, 'eval_runtime': 0.0306, 'eval_samples_per_second': 359.945, 'eval_steps_per_second': 196.333, 'epoch': 65.96}\n"
     ]
    },
    {
     "name": "stderr",
     "output_type": "stream",
     "text": [
      "                                                  \n",
      "  2%|▏         | 110/4700 [15:13<11:05,  6.90it/s] "
     ]
    },
    {
     "name": "stdout",
     "output_type": "stream",
     "text": [
      "{'loss': 0.0005, 'grad_norm': 0.0052807568572461605, 'learning_rate': 3.3829787234042554e-06, 'epoch': 66.17}\n"
     ]
    },
    {
     "name": "stderr",
     "output_type": "stream",
     "text": [
      "\n",
      "\u001b[A\n",
      "\n",
      "                                                  \n",
      "\u001b[A                                                \n",
      "  2%|▏         | 110/4700 [15:13<11:05,  6.90it/s]\n",
      "\u001b[A"
     ]
    },
    {
     "name": "stdout",
     "output_type": "stream",
     "text": [
      "{'eval_loss': 0.04049622640013695, 'eval_runtime': 0.0265, 'eval_samples_per_second': 415.697, 'eval_steps_per_second': 226.744, 'epoch': 66.17}\n"
     ]
    },
    {
     "name": "stderr",
     "output_type": "stream",
     "text": [
      "                                                  \n",
      "  2%|▏         | 110/4700 [15:15<11:05,  6.90it/s] "
     ]
    },
    {
     "name": "stdout",
     "output_type": "stream",
     "text": [
      "{'loss': 0.0004, 'grad_norm': 0.008724706247448921, 'learning_rate': 3.3617021276595745e-06, 'epoch': 66.38}\n"
     ]
    },
    {
     "name": "stderr",
     "output_type": "stream",
     "text": [
      "\n",
      "\u001b[A\n",
      "\n",
      "                                                  \n",
      "\u001b[A                                                \n",
      "  2%|▏         | 110/4700 [15:15<11:05,  6.90it/s]\n",
      "\u001b[A"
     ]
    },
    {
     "name": "stdout",
     "output_type": "stream",
     "text": [
      "{'eval_loss': 0.04048753157258034, 'eval_runtime': 0.0299, 'eval_samples_per_second': 367.318, 'eval_steps_per_second': 200.355, 'epoch': 66.38}\n"
     ]
    },
    {
     "name": "stderr",
     "output_type": "stream",
     "text": [
      "                                                  \n",
      "  2%|▏         | 110/4700 [15:18<11:05,  6.90it/s] "
     ]
    },
    {
     "name": "stdout",
     "output_type": "stream",
     "text": [
      "{'loss': 0.0004, 'grad_norm': 0.004644363187253475, 'learning_rate': 3.3404255319148936e-06, 'epoch': 66.6}\n"
     ]
    },
    {
     "name": "stderr",
     "output_type": "stream",
     "text": [
      "\n",
      "\u001b[A\n",
      "\n",
      "                                                  \n",
      "\u001b[A                                                \n",
      "  2%|▏         | 110/4700 [15:18<11:05,  6.90it/s]\n",
      "\u001b[A"
     ]
    },
    {
     "name": "stdout",
     "output_type": "stream",
     "text": [
      "{'eval_loss': 0.04049881175160408, 'eval_runtime': 0.0263, 'eval_samples_per_second': 418.259, 'eval_steps_per_second': 228.141, 'epoch': 66.6}\n"
     ]
    },
    {
     "name": "stderr",
     "output_type": "stream",
     "text": [
      "                                                  \n",
      "  2%|▏         | 110/4700 [15:20<11:05,  6.90it/s] "
     ]
    },
    {
     "name": "stdout",
     "output_type": "stream",
     "text": [
      "{'loss': 0.0005, 'grad_norm': 0.005632068030536175, 'learning_rate': 3.3191489361702127e-06, 'epoch': 66.81}\n"
     ]
    },
    {
     "name": "stderr",
     "output_type": "stream",
     "text": [
      "\n",
      "\u001b[A\n",
      "\n",
      "                                                  \n",
      "\u001b[A                                                \n",
      "  2%|▏         | 110/4700 [15:20<11:05,  6.90it/s]\n",
      "\u001b[A"
     ]
    },
    {
     "name": "stdout",
     "output_type": "stream",
     "text": [
      "{'eval_loss': 0.04056094214320183, 'eval_runtime': 0.0263, 'eval_samples_per_second': 418.494, 'eval_steps_per_second': 228.27, 'epoch': 66.81}\n"
     ]
    },
    {
     "name": "stderr",
     "output_type": "stream",
     "text": [
      "                                                  \n",
      "  2%|▏         | 110/4700 [15:23<11:05,  6.90it/s] "
     ]
    },
    {
     "name": "stdout",
     "output_type": "stream",
     "text": [
      "{'loss': 0.0003, 'grad_norm': 0.012811618857085705, 'learning_rate': 3.297872340425532e-06, 'epoch': 67.02}\n"
     ]
    },
    {
     "name": "stderr",
     "output_type": "stream",
     "text": [
      "\n",
      "\u001b[A\n",
      "\n",
      "                                                  \n",
      "\u001b[A                                                \n",
      "  2%|▏         | 110/4700 [15:23<11:05,  6.90it/s]\n",
      "\u001b[A"
     ]
    },
    {
     "name": "stdout",
     "output_type": "stream",
     "text": [
      "{'eval_loss': 0.04060901701450348, 'eval_runtime': 0.0266, 'eval_samples_per_second': 414.17, 'eval_steps_per_second': 225.911, 'epoch': 67.02}\n"
     ]
    },
    {
     "name": "stderr",
     "output_type": "stream",
     "text": [
      "                                                  \n",
      "  2%|▏         | 110/4700 [15:26<11:05,  6.90it/s] "
     ]
    },
    {
     "name": "stdout",
     "output_type": "stream",
     "text": [
      "{'loss': 0.0004, 'grad_norm': 0.005411047954112291, 'learning_rate': 3.276595744680851e-06, 'epoch': 67.23}\n"
     ]
    },
    {
     "name": "stderr",
     "output_type": "stream",
     "text": [
      "\n",
      "\u001b[A\n",
      "\n",
      "                                                  \n",
      "\u001b[A                                                \n",
      "  2%|▏         | 110/4700 [15:26<11:05,  6.90it/s]\n",
      "\u001b[A"
     ]
    },
    {
     "name": "stdout",
     "output_type": "stream",
     "text": [
      "{'eval_loss': 0.04071517661213875, 'eval_runtime': 0.026, 'eval_samples_per_second': 423.706, 'eval_steps_per_second': 231.112, 'epoch': 67.23}\n"
     ]
    },
    {
     "name": "stderr",
     "output_type": "stream",
     "text": [
      "                                                  \n",
      "  2%|▏         | 110/4700 [15:28<11:05,  6.90it/s] "
     ]
    },
    {
     "name": "stdout",
     "output_type": "stream",
     "text": [
      "{'loss': 0.0004, 'grad_norm': 0.0048608495853841305, 'learning_rate': 3.255319148936171e-06, 'epoch': 67.45}\n"
     ]
    },
    {
     "name": "stderr",
     "output_type": "stream",
     "text": [
      "\n",
      "\u001b[A\n",
      "\n",
      "                                                  \n",
      "\u001b[A                                                \n",
      "  2%|▏         | 110/4700 [15:28<11:05,  6.90it/s]\n",
      "\u001b[A"
     ]
    },
    {
     "name": "stdout",
     "output_type": "stream",
     "text": [
      "{'eval_loss': 0.04082297906279564, 'eval_runtime': 0.0267, 'eval_samples_per_second': 411.379, 'eval_steps_per_second': 224.388, 'epoch': 67.45}\n"
     ]
    },
    {
     "name": "stderr",
     "output_type": "stream",
     "text": [
      "                                                  \n",
      "  2%|▏         | 110/4700 [15:31<11:05,  6.90it/s] "
     ]
    },
    {
     "name": "stdout",
     "output_type": "stream",
     "text": [
      "{'loss': 0.0003, 'grad_norm': 0.0059784478507936, 'learning_rate': 3.23404255319149e-06, 'epoch': 67.66}\n"
     ]
    },
    {
     "name": "stderr",
     "output_type": "stream",
     "text": [
      "\n",
      "\u001b[A\n",
      "\n",
      "                                                  \n",
      "\u001b[A                                                \n",
      "  2%|▏         | 110/4700 [15:31<11:05,  6.90it/s]\n",
      "\u001b[A"
     ]
    },
    {
     "name": "stdout",
     "output_type": "stream",
     "text": [
      "{'eval_loss': 0.040952228009700775, 'eval_runtime': 0.0268, 'eval_samples_per_second': 409.935, 'eval_steps_per_second': 223.601, 'epoch': 67.66}\n"
     ]
    },
    {
     "name": "stderr",
     "output_type": "stream",
     "text": [
      "                                                  \n",
      "  2%|▏         | 110/4700 [15:33<11:05,  6.90it/s] "
     ]
    },
    {
     "name": "stdout",
     "output_type": "stream",
     "text": [
      "{'loss': 0.0006, 'grad_norm': 0.0037098710890859365, 'learning_rate': 3.212765957446809e-06, 'epoch': 67.87}\n"
     ]
    },
    {
     "name": "stderr",
     "output_type": "stream",
     "text": [
      "\n",
      "\u001b[A\n",
      "\n",
      "                                                  \n",
      "\u001b[A                                                \n",
      "  2%|▏         | 110/4700 [15:33<11:05,  6.90it/s]\n",
      "\u001b[A"
     ]
    },
    {
     "name": "stdout",
     "output_type": "stream",
     "text": [
      "{'eval_loss': 0.04106008633971214, 'eval_runtime': 0.0302, 'eval_samples_per_second': 363.767, 'eval_steps_per_second': 198.419, 'epoch': 67.87}\n"
     ]
    },
    {
     "name": "stderr",
     "output_type": "stream",
     "text": [
      "                                                  \n",
      "  2%|▏         | 110/4700 [15:35<11:05,  6.90it/s] "
     ]
    },
    {
     "name": "stdout",
     "output_type": "stream",
     "text": [
      "{'loss': 0.0003, 'grad_norm': 0.004781297408044338, 'learning_rate': 3.191489361702128e-06, 'epoch': 68.09}\n"
     ]
    },
    {
     "name": "stderr",
     "output_type": "stream",
     "text": [
      "\n",
      "\u001b[A\n",
      "\n",
      "                                                  \n",
      "\u001b[A                                                \n",
      "  2%|▏         | 110/4700 [15:35<11:05,  6.90it/s]\n",
      "\u001b[A"
     ]
    },
    {
     "name": "stdout",
     "output_type": "stream",
     "text": [
      "{'eval_loss': 0.04116367548704147, 'eval_runtime': 0.0304, 'eval_samples_per_second': 361.654, 'eval_steps_per_second': 197.266, 'epoch': 68.09}\n"
     ]
    },
    {
     "name": "stderr",
     "output_type": "stream",
     "text": [
      "                                                  \n",
      "  2%|▏         | 110/4700 [15:38<11:05,  6.90it/s] "
     ]
    },
    {
     "name": "stdout",
     "output_type": "stream",
     "text": [
      "{'loss': 0.0004, 'grad_norm': 0.0038271192461252213, 'learning_rate': 3.1702127659574473e-06, 'epoch': 68.3}\n"
     ]
    },
    {
     "name": "stderr",
     "output_type": "stream",
     "text": [
      "\n",
      "\u001b[A\n",
      "\n",
      "                                                  \n",
      "\u001b[A                                                \n",
      "  2%|▏         | 110/4700 [15:38<11:05,  6.90it/s]\n",
      "\u001b[A"
     ]
    },
    {
     "name": "stdout",
     "output_type": "stream",
     "text": [
      "{'eval_loss': 0.041274551302194595, 'eval_runtime': 0.0265, 'eval_samples_per_second': 414.334, 'eval_steps_per_second': 226.0, 'epoch': 68.3}\n"
     ]
    },
    {
     "name": "stderr",
     "output_type": "stream",
     "text": [
      "                                                  \n",
      "  2%|▏         | 110/4700 [15:41<11:05,  6.90it/s] "
     ]
    },
    {
     "name": "stdout",
     "output_type": "stream",
     "text": [
      "{'loss': 0.0003, 'grad_norm': 0.003601904958486557, 'learning_rate': 3.1489361702127664e-06, 'epoch': 68.51}\n"
     ]
    },
    {
     "name": "stderr",
     "output_type": "stream",
     "text": [
      "\n",
      "\u001b[A\n",
      "\n",
      "                                                  \n",
      "\u001b[A                                                \n",
      "  2%|▏         | 110/4700 [15:41<11:05,  6.90it/s]\n",
      "\u001b[A"
     ]
    },
    {
     "name": "stdout",
     "output_type": "stream",
     "text": [
      "{'eval_loss': 0.041288141161203384, 'eval_runtime': 0.0268, 'eval_samples_per_second': 410.913, 'eval_steps_per_second': 224.135, 'epoch': 68.51}\n"
     ]
    },
    {
     "name": "stderr",
     "output_type": "stream",
     "text": [
      "                                                  \n",
      "  2%|▏         | 110/4700 [15:43<11:05,  6.90it/s] "
     ]
    },
    {
     "name": "stdout",
     "output_type": "stream",
     "text": [
      "{'loss': 0.0003, 'grad_norm': 0.00492035411298275, 'learning_rate': 3.1276595744680855e-06, 'epoch': 68.72}\n"
     ]
    },
    {
     "name": "stderr",
     "output_type": "stream",
     "text": [
      "\n",
      "\u001b[A\n",
      "\n",
      "                                                  \n",
      "\u001b[A                                                \n",
      "  2%|▏         | 110/4700 [15:43<11:05,  6.90it/s]\n",
      "\u001b[A"
     ]
    },
    {
     "name": "stdout",
     "output_type": "stream",
     "text": [
      "{'eval_loss': 0.04131469130516052, 'eval_runtime': 0.0276, 'eval_samples_per_second': 398.182, 'eval_steps_per_second': 217.19, 'epoch': 68.72}\n"
     ]
    },
    {
     "name": "stderr",
     "output_type": "stream",
     "text": [
      "                                                  \n",
      "  2%|▏         | 110/4700 [15:45<11:05,  6.90it/s] "
     ]
    },
    {
     "name": "stdout",
     "output_type": "stream",
     "text": [
      "{'loss': 0.0005, 'grad_norm': 0.022768810391426086, 'learning_rate': 3.1063829787234046e-06, 'epoch': 68.94}\n"
     ]
    },
    {
     "name": "stderr",
     "output_type": "stream",
     "text": [
      "\n",
      "\u001b[A\n",
      "\n",
      "                                                  \n",
      "\u001b[A                                                \n",
      "  2%|▏         | 110/4700 [15:45<11:05,  6.90it/s]\n",
      "\u001b[A"
     ]
    },
    {
     "name": "stdout",
     "output_type": "stream",
     "text": [
      "{'eval_loss': 0.04137083515524864, 'eval_runtime': 0.0263, 'eval_samples_per_second': 417.729, 'eval_steps_per_second': 227.852, 'epoch': 68.94}\n"
     ]
    },
    {
     "name": "stderr",
     "output_type": "stream",
     "text": [
      "                                                  \n",
      "  2%|▏         | 110/4700 [15:48<11:05,  6.90it/s] "
     ]
    },
    {
     "name": "stdout",
     "output_type": "stream",
     "text": [
      "{'loss': 0.0004, 'grad_norm': 0.005973242223262787, 'learning_rate': 3.0851063829787237e-06, 'epoch': 69.15}\n"
     ]
    },
    {
     "name": "stderr",
     "output_type": "stream",
     "text": [
      "\n",
      "\u001b[A\n",
      "\n",
      "                                                  \n",
      "\u001b[A                                                \n",
      "  2%|▏         | 110/4700 [15:48<11:05,  6.90it/s]\n",
      "\u001b[A"
     ]
    },
    {
     "name": "stdout",
     "output_type": "stream",
     "text": [
      "{'eval_loss': 0.041372328996658325, 'eval_runtime': 0.027, 'eval_samples_per_second': 407.286, 'eval_steps_per_second': 222.156, 'epoch': 69.15}\n"
     ]
    },
    {
     "name": "stderr",
     "output_type": "stream",
     "text": [
      "                                                  \n",
      "  2%|▏         | 110/4700 [15:50<11:05,  6.90it/s] "
     ]
    },
    {
     "name": "stdout",
     "output_type": "stream",
     "text": [
      "{'loss': 0.0006, 'grad_norm': 0.004332514945417643, 'learning_rate': 3.0638297872340428e-06, 'epoch': 69.36}\n"
     ]
    },
    {
     "name": "stderr",
     "output_type": "stream",
     "text": [
      "\n",
      "\u001b[A\n",
      "\n",
      "                                                  \n",
      "\u001b[A                                                \n",
      "  2%|▏         | 110/4700 [15:50<11:05,  6.90it/s]\n",
      "\u001b[A"
     ]
    },
    {
     "name": "stdout",
     "output_type": "stream",
     "text": [
      "{'eval_loss': 0.04136321693658829, 'eval_runtime': 0.0273, 'eval_samples_per_second': 403.655, 'eval_steps_per_second': 220.175, 'epoch': 69.36}\n"
     ]
    },
    {
     "name": "stderr",
     "output_type": "stream",
     "text": [
      "                                                  \n",
      "  2%|▏         | 110/4700 [15:52<11:05,  6.90it/s] "
     ]
    },
    {
     "name": "stdout",
     "output_type": "stream",
     "text": [
      "{'loss': 0.0004, 'grad_norm': 0.006523124407976866, 'learning_rate': 3.042553191489362e-06, 'epoch': 69.57}\n"
     ]
    },
    {
     "name": "stderr",
     "output_type": "stream",
     "text": [
      "\n",
      "\u001b[A\n",
      "\n",
      "                                                  \n",
      "\u001b[A                                                \n",
      "  2%|▏         | 110/4700 [15:52<11:05,  6.90it/s]\n",
      "\u001b[A"
     ]
    },
    {
     "name": "stdout",
     "output_type": "stream",
     "text": [
      "{'eval_loss': 0.04145880788564682, 'eval_runtime': 0.0264, 'eval_samples_per_second': 416.008, 'eval_steps_per_second': 226.913, 'epoch': 69.57}\n"
     ]
    },
    {
     "name": "stderr",
     "output_type": "stream",
     "text": [
      "                                                  \n",
      "  2%|▏         | 110/4700 [15:55<11:05,  6.90it/s] "
     ]
    },
    {
     "name": "stdout",
     "output_type": "stream",
     "text": [
      "{'loss': 0.0004, 'grad_norm': 0.02654588222503662, 'learning_rate': 3.021276595744681e-06, 'epoch': 69.79}\n"
     ]
    },
    {
     "name": "stderr",
     "output_type": "stream",
     "text": [
      "\n",
      "\u001b[A\n",
      "\n",
      "                                                  \n",
      "\u001b[A                                                \n",
      "  2%|▏         | 110/4700 [15:55<11:05,  6.90it/s]\n",
      "\u001b[A"
     ]
    },
    {
     "name": "stdout",
     "output_type": "stream",
     "text": [
      "{'eval_loss': 0.0414799302816391, 'eval_runtime': 0.028, 'eval_samples_per_second': 392.261, 'eval_steps_per_second': 213.961, 'epoch': 69.79}\n"
     ]
    },
    {
     "name": "stderr",
     "output_type": "stream",
     "text": [
      "                                                  \n",
      "  2%|▏         | 110/4700 [15:57<11:05,  6.90it/s] "
     ]
    },
    {
     "name": "stdout",
     "output_type": "stream",
     "text": [
      "{'loss': 0.0003, 'grad_norm': 0.009718847461044788, 'learning_rate': 3e-06, 'epoch': 70.0}\n"
     ]
    },
    {
     "name": "stderr",
     "output_type": "stream",
     "text": [
      "\n",
      "\u001b[A\n",
      "\n",
      "                                                  \n",
      "\u001b[A                                                \n",
      "  2%|▏         | 110/4700 [15:57<11:05,  6.90it/s]\n",
      "\u001b[A"
     ]
    },
    {
     "name": "stdout",
     "output_type": "stream",
     "text": [
      "{'eval_loss': 0.0413069874048233, 'eval_runtime': 0.0271, 'eval_samples_per_second': 405.592, 'eval_steps_per_second': 221.232, 'epoch': 70.0}\n"
     ]
    },
    {
     "name": "stderr",
     "output_type": "stream",
     "text": [
      "                                                  \n",
      "  2%|▏         | 110/4700 [15:59<11:05,  6.90it/s] "
     ]
    },
    {
     "name": "stdout",
     "output_type": "stream",
     "text": [
      "{'loss': 0.0004, 'grad_norm': 0.005321388132870197, 'learning_rate': 2.978723404255319e-06, 'epoch': 70.21}\n"
     ]
    },
    {
     "name": "stderr",
     "output_type": "stream",
     "text": [
      "\n",
      "\u001b[A\n",
      "\n",
      "                                                  \n",
      "\u001b[A                                                \n",
      "  2%|▏         | 110/4700 [15:59<11:05,  6.90it/s]\n",
      "\u001b[A"
     ]
    },
    {
     "name": "stdout",
     "output_type": "stream",
     "text": [
      "{'eval_loss': 0.04139417037367821, 'eval_runtime': 0.0294, 'eval_samples_per_second': 373.833, 'eval_steps_per_second': 203.909, 'epoch': 70.21}\n"
     ]
    },
    {
     "name": "stderr",
     "output_type": "stream",
     "text": [
      "                                                  \n",
      "  2%|▏         | 110/4700 [16:02<11:05,  6.90it/s] "
     ]
    },
    {
     "name": "stdout",
     "output_type": "stream",
     "text": [
      "{'loss': 0.0005, 'grad_norm': 0.003694008570164442, 'learning_rate': 2.9574468085106383e-06, 'epoch': 70.43}\n"
     ]
    },
    {
     "name": "stderr",
     "output_type": "stream",
     "text": [
      "\n",
      "\u001b[A\n",
      "\n",
      "                                                  \n",
      "\u001b[A                                                \n",
      "  2%|▏         | 110/4700 [16:02<11:05,  6.90it/s]\n",
      "\u001b[A"
     ]
    },
    {
     "name": "stdout",
     "output_type": "stream",
     "text": [
      "{'eval_loss': 0.041381340473890305, 'eval_runtime': 0.0304, 'eval_samples_per_second': 362.174, 'eval_steps_per_second': 197.549, 'epoch': 70.43}\n"
     ]
    },
    {
     "name": "stderr",
     "output_type": "stream",
     "text": [
      "                                                  \n",
      "  2%|▏         | 110/4700 [16:04<11:05,  6.90it/s] "
     ]
    },
    {
     "name": "stdout",
     "output_type": "stream",
     "text": [
      "{'loss': 0.0005, 'grad_norm': 0.005766750313341618, 'learning_rate': 2.9361702127659574e-06, 'epoch': 70.64}\n"
     ]
    },
    {
     "name": "stderr",
     "output_type": "stream",
     "text": [
      "\n",
      "\u001b[A\n",
      "\n",
      "                                                  \n",
      "\u001b[A                                                \n",
      "  2%|▏         | 110/4700 [16:04<11:05,  6.90it/s]\n",
      "\u001b[A"
     ]
    },
    {
     "name": "stdout",
     "output_type": "stream",
     "text": [
      "{'eval_loss': 0.04125141352415085, 'eval_runtime': 0.0276, 'eval_samples_per_second': 398.509, 'eval_steps_per_second': 217.368, 'epoch': 70.64}\n"
     ]
    },
    {
     "name": "stderr",
     "output_type": "stream",
     "text": [
      "                                                  \n",
      "  2%|▏         | 110/4700 [16:06<11:05,  6.90it/s] "
     ]
    },
    {
     "name": "stdout",
     "output_type": "stream",
     "text": [
      "{'loss': 0.0003, 'grad_norm': 0.004228976555168629, 'learning_rate': 2.9148936170212765e-06, 'epoch': 70.85}\n"
     ]
    },
    {
     "name": "stderr",
     "output_type": "stream",
     "text": [
      "\n",
      "\u001b[A\n",
      "\n",
      "                                                  \n",
      "\u001b[A                                                \n",
      "  2%|▏         | 110/4700 [16:06<11:05,  6.90it/s]\n",
      "\u001b[A"
     ]
    },
    {
     "name": "stdout",
     "output_type": "stream",
     "text": [
      "{'eval_loss': 0.041236236691474915, 'eval_runtime': 0.0281, 'eval_samples_per_second': 391.901, 'eval_steps_per_second': 213.764, 'epoch': 70.85}\n"
     ]
    },
    {
     "name": "stderr",
     "output_type": "stream",
     "text": [
      "                                                  \n",
      "  2%|▏         | 110/4700 [16:09<11:05,  6.90it/s] "
     ]
    },
    {
     "name": "stdout",
     "output_type": "stream",
     "text": [
      "{'loss': 0.0004, 'grad_norm': 0.00874244049191475, 'learning_rate': 2.8936170212765956e-06, 'epoch': 71.06}\n"
     ]
    },
    {
     "name": "stderr",
     "output_type": "stream",
     "text": [
      "\n",
      "\u001b[A\n",
      "\n",
      "                                                  \n",
      "\u001b[A                                                \n",
      "  2%|▏         | 110/4700 [16:09<11:05,  6.90it/s]\n",
      "\u001b[A"
     ]
    },
    {
     "name": "stdout",
     "output_type": "stream",
     "text": [
      "{'eval_loss': 0.041235391050577164, 'eval_runtime': 0.0273, 'eval_samples_per_second': 403.612, 'eval_steps_per_second': 220.152, 'epoch': 71.06}\n"
     ]
    },
    {
     "name": "stderr",
     "output_type": "stream",
     "text": [
      "                                                  \n",
      "  2%|▏         | 110/4700 [16:11<11:05,  6.90it/s] "
     ]
    },
    {
     "name": "stdout",
     "output_type": "stream",
     "text": [
      "{'loss': 0.0003, 'grad_norm': 0.0033815219067037106, 'learning_rate': 2.8723404255319155e-06, 'epoch': 71.28}\n"
     ]
    },
    {
     "name": "stderr",
     "output_type": "stream",
     "text": [
      "\n",
      "\u001b[A\n",
      "\n",
      "                                                  \n",
      "\u001b[A                                                \n",
      "  2%|▏         | 110/4700 [16:11<11:05,  6.90it/s]\n",
      "\u001b[A"
     ]
    },
    {
     "name": "stdout",
     "output_type": "stream",
     "text": [
      "{'eval_loss': 0.04128873720765114, 'eval_runtime': 0.028, 'eval_samples_per_second': 393.438, 'eval_steps_per_second': 214.603, 'epoch': 71.28}\n"
     ]
    },
    {
     "name": "stderr",
     "output_type": "stream",
     "text": [
      "                                                  \n",
      "  2%|▏         | 110/4700 [16:13<11:05,  6.90it/s] "
     ]
    },
    {
     "name": "stdout",
     "output_type": "stream",
     "text": [
      "{'loss': 0.0004, 'grad_norm': 0.006121288985013962, 'learning_rate': 2.8510638297872346e-06, 'epoch': 71.49}\n"
     ]
    },
    {
     "name": "stderr",
     "output_type": "stream",
     "text": [
      "\n",
      "\u001b[A\n",
      "\n",
      "                                                  \n",
      "\u001b[A                                                \n",
      "  2%|▏         | 110/4700 [16:13<11:05,  6.90it/s]\n",
      "\u001b[A"
     ]
    },
    {
     "name": "stdout",
     "output_type": "stream",
     "text": [
      "{'eval_loss': 0.04128679260611534, 'eval_runtime': 0.0278, 'eval_samples_per_second': 396.24, 'eval_steps_per_second': 216.131, 'epoch': 71.49}\n"
     ]
    },
    {
     "name": "stderr",
     "output_type": "stream",
     "text": [
      "                                                  \n",
      "  2%|▏         | 110/4700 [16:16<11:05,  6.90it/s] "
     ]
    },
    {
     "name": "stdout",
     "output_type": "stream",
     "text": [
      "{'loss': 0.0005, 'grad_norm': 0.004500066861510277, 'learning_rate': 2.8297872340425537e-06, 'epoch': 71.7}\n"
     ]
    },
    {
     "name": "stderr",
     "output_type": "stream",
     "text": [
      "\n",
      "\u001b[A\n",
      "\n",
      "                                                  \n",
      "\u001b[A                                                \n",
      "  2%|▏         | 110/4700 [16:16<11:05,  6.90it/s]\n",
      "\u001b[A"
     ]
    },
    {
     "name": "stdout",
     "output_type": "stream",
     "text": [
      "{'eval_loss': 0.04129574075341225, 'eval_runtime': 0.029, 'eval_samples_per_second': 379.397, 'eval_steps_per_second': 206.944, 'epoch': 71.7}\n"
     ]
    },
    {
     "name": "stderr",
     "output_type": "stream",
     "text": [
      "                                                  \n",
      "  2%|▏         | 110/4700 [16:19<11:05,  6.90it/s] "
     ]
    },
    {
     "name": "stdout",
     "output_type": "stream",
     "text": [
      "{'loss': 0.0005, 'grad_norm': 0.0055099367164075375, 'learning_rate': 2.808510638297873e-06, 'epoch': 71.91}\n"
     ]
    },
    {
     "name": "stderr",
     "output_type": "stream",
     "text": [
      "\n",
      "\u001b[A\n",
      "\n",
      "                                                  \n",
      "\u001b[A                                                \n",
      "  2%|▏         | 110/4700 [16:19<11:05,  6.90it/s]\n",
      "\u001b[A"
     ]
    },
    {
     "name": "stdout",
     "output_type": "stream",
     "text": [
      "{'eval_loss': 0.04126879572868347, 'eval_runtime': 0.0296, 'eval_samples_per_second': 371.955, 'eval_steps_per_second': 202.885, 'epoch': 71.91}\n"
     ]
    },
    {
     "name": "stderr",
     "output_type": "stream",
     "text": [
      "                                                  \n",
      "  2%|▏         | 110/4700 [16:21<11:05,  6.90it/s] "
     ]
    },
    {
     "name": "stdout",
     "output_type": "stream",
     "text": [
      "{'loss': 0.0003, 'grad_norm': 0.0032604422885924578, 'learning_rate': 2.787234042553192e-06, 'epoch': 72.13}\n"
     ]
    },
    {
     "name": "stderr",
     "output_type": "stream",
     "text": [
      "\n",
      "\u001b[A\n",
      "\n",
      "                                                  \n",
      "\u001b[A                                                \n",
      "  2%|▏         | 110/4700 [16:21<11:05,  6.90it/s]\n",
      "\u001b[A"
     ]
    },
    {
     "name": "stdout",
     "output_type": "stream",
     "text": [
      "{'eval_loss': 0.04133405163884163, 'eval_runtime': 0.0286, 'eval_samples_per_second': 385.014, 'eval_steps_per_second': 210.007, 'epoch': 72.13}\n"
     ]
    },
    {
     "name": "stderr",
     "output_type": "stream",
     "text": [
      "                                                  \n",
      "  2%|▏         | 110/4700 [16:24<11:05,  6.90it/s] "
     ]
    },
    {
     "name": "stdout",
     "output_type": "stream",
     "text": [
      "{'loss': 0.0006, 'grad_norm': 0.029203854501247406, 'learning_rate': 2.765957446808511e-06, 'epoch': 72.34}\n"
     ]
    },
    {
     "name": "stderr",
     "output_type": "stream",
     "text": [
      "\n",
      "\u001b[A\n",
      "\n",
      "                                                  \n",
      "\u001b[A                                                \n",
      "  2%|▏         | 110/4700 [16:24<11:05,  6.90it/s]\n",
      "\u001b[A"
     ]
    },
    {
     "name": "stdout",
     "output_type": "stream",
     "text": [
      "{'eval_loss': 0.041441190987825394, 'eval_runtime': 0.0272, 'eval_samples_per_second': 404.341, 'eval_steps_per_second': 220.55, 'epoch': 72.34}\n"
     ]
    },
    {
     "name": "stderr",
     "output_type": "stream",
     "text": [
      "                                                  \n",
      "  2%|▏         | 110/4700 [16:26<11:05,  6.90it/s] "
     ]
    },
    {
     "name": "stdout",
     "output_type": "stream",
     "text": [
      "{'loss': 0.0003, 'grad_norm': 0.0035500365775078535, 'learning_rate': 2.74468085106383e-06, 'epoch': 72.55}\n"
     ]
    },
    {
     "name": "stderr",
     "output_type": "stream",
     "text": [
      "\n",
      "\u001b[A\n",
      "\n",
      "                                                  \n",
      "\u001b[A                                                \n",
      "  2%|▏         | 110/4700 [16:26<11:05,  6.90it/s]\n",
      "\u001b[A"
     ]
    },
    {
     "name": "stdout",
     "output_type": "stream",
     "text": [
      "{'eval_loss': 0.04156910628080368, 'eval_runtime': 0.0282, 'eval_samples_per_second': 390.663, 'eval_steps_per_second': 213.089, 'epoch': 72.55}\n"
     ]
    },
    {
     "name": "stderr",
     "output_type": "stream",
     "text": [
      "                                                  \n",
      "  2%|▏         | 110/4700 [16:29<11:05,  6.90it/s] "
     ]
    },
    {
     "name": "stdout",
     "output_type": "stream",
     "text": [
      "{'loss': 0.0005, 'grad_norm': 0.007280735764652491, 'learning_rate': 2.7234042553191492e-06, 'epoch': 72.77}\n"
     ]
    },
    {
     "name": "stderr",
     "output_type": "stream",
     "text": [
      "\n",
      "\u001b[A\n",
      "\n",
      "                                                  \n",
      "\u001b[A                                                \n",
      "  2%|▏         | 110/4700 [16:29<11:05,  6.90it/s]\n",
      "\u001b[A"
     ]
    },
    {
     "name": "stdout",
     "output_type": "stream",
     "text": [
      "{'eval_loss': 0.04145044460892677, 'eval_runtime': 0.0279, 'eval_samples_per_second': 393.62, 'eval_steps_per_second': 214.702, 'epoch': 72.77}\n"
     ]
    },
    {
     "name": "stderr",
     "output_type": "stream",
     "text": [
      "                                                  \n",
      "  2%|▏         | 110/4700 [16:31<11:05,  6.90it/s] "
     ]
    },
    {
     "name": "stdout",
     "output_type": "stream",
     "text": [
      "{'loss': 0.0004, 'grad_norm': 0.0038512099999934435, 'learning_rate': 2.7021276595744683e-06, 'epoch': 72.98}\n"
     ]
    },
    {
     "name": "stderr",
     "output_type": "stream",
     "text": [
      "\n",
      "\u001b[A\n",
      "\n",
      "                                                  \n",
      "\u001b[A                                                \n",
      "  2%|▏         | 110/4700 [16:31<11:05,  6.90it/s]\n",
      "\u001b[A"
     ]
    },
    {
     "name": "stdout",
     "output_type": "stream",
     "text": [
      "{'eval_loss': 0.04141668230295181, 'eval_runtime': 0.028, 'eval_samples_per_second': 392.475, 'eval_steps_per_second': 214.077, 'epoch': 72.98}\n"
     ]
    },
    {
     "name": "stderr",
     "output_type": "stream",
     "text": [
      "                                                  \n",
      "  2%|▏         | 110/4700 [16:33<11:05,  6.90it/s] "
     ]
    },
    {
     "name": "stdout",
     "output_type": "stream",
     "text": [
      "{'loss': 0.0003, 'grad_norm': 0.003075371263548732, 'learning_rate': 2.6808510638297874e-06, 'epoch': 73.19}\n"
     ]
    },
    {
     "name": "stderr",
     "output_type": "stream",
     "text": [
      "\n",
      "\u001b[A\n",
      "\n",
      "                                                  \n",
      "\u001b[A                                                \n",
      "  2%|▏         | 110/4700 [16:33<11:05,  6.90it/s]\n",
      "\u001b[A"
     ]
    },
    {
     "name": "stdout",
     "output_type": "stream",
     "text": [
      "{'eval_loss': 0.04120147228240967, 'eval_runtime': 0.0305, 'eval_samples_per_second': 360.319, 'eval_steps_per_second': 196.537, 'epoch': 73.19}\n"
     ]
    },
    {
     "name": "stderr",
     "output_type": "stream",
     "text": [
      "                                                  \n",
      "  2%|▏         | 110/4700 [16:36<11:05,  6.90it/s] "
     ]
    },
    {
     "name": "stdout",
     "output_type": "stream",
     "text": [
      "{'loss': 0.0006, 'grad_norm': 0.003326988546177745, 'learning_rate': 2.6595744680851065e-06, 'epoch': 73.4}\n"
     ]
    },
    {
     "name": "stderr",
     "output_type": "stream",
     "text": [
      "\n",
      "\u001b[A\n",
      "\n",
      "                                                  \n",
      "\u001b[A                                                \n",
      "  2%|▏         | 110/4700 [16:36<11:05,  6.90it/s]\n",
      "\u001b[A"
     ]
    },
    {
     "name": "stdout",
     "output_type": "stream",
     "text": [
      "{'eval_loss': 0.04113483056426048, 'eval_runtime': 0.0356, 'eval_samples_per_second': 308.944, 'eval_steps_per_second': 168.515, 'epoch': 73.4}\n"
     ]
    },
    {
     "name": "stderr",
     "output_type": "stream",
     "text": [
      "                                                  \n",
      "  2%|▏         | 110/4700 [16:38<11:05,  6.90it/s] "
     ]
    },
    {
     "name": "stdout",
     "output_type": "stream",
     "text": [
      "{'loss': 0.0003, 'grad_norm': 0.0062299203127622604, 'learning_rate': 2.6382978723404256e-06, 'epoch': 73.62}\n"
     ]
    },
    {
     "name": "stderr",
     "output_type": "stream",
     "text": [
      "\n",
      "\u001b[A\n",
      "\n",
      "                                                  \n",
      "\u001b[A                                                \n",
      "  2%|▏         | 110/4700 [16:38<11:05,  6.90it/s]\n",
      "\u001b[A"
     ]
    },
    {
     "name": "stdout",
     "output_type": "stream",
     "text": [
      "{'eval_loss': 0.0411975234746933, 'eval_runtime': 0.0272, 'eval_samples_per_second': 403.807, 'eval_steps_per_second': 220.258, 'epoch': 73.62}\n"
     ]
    },
    {
     "name": "stderr",
     "output_type": "stream",
     "text": [
      "                                                  \n",
      "  2%|▏         | 110/4700 [16:41<11:05,  6.90it/s] "
     ]
    },
    {
     "name": "stdout",
     "output_type": "stream",
     "text": [
      "{'loss': 0.0004, 'grad_norm': 0.006392442621290684, 'learning_rate': 2.6170212765957447e-06, 'epoch': 73.83}\n"
     ]
    },
    {
     "name": "stderr",
     "output_type": "stream",
     "text": [
      "\n",
      "\u001b[A\n",
      "\n",
      "                                                  \n",
      "\u001b[A                                                \n",
      "  2%|▏         | 110/4700 [16:41<11:05,  6.90it/s]\n",
      "\u001b[A"
     ]
    },
    {
     "name": "stdout",
     "output_type": "stream",
     "text": [
      "{'eval_loss': 0.0411941334605217, 'eval_runtime': 0.0258, 'eval_samples_per_second': 426.447, 'eval_steps_per_second': 232.608, 'epoch': 73.83}\n"
     ]
    },
    {
     "name": "stderr",
     "output_type": "stream",
     "text": [
      "                                                  \n",
      "  2%|▏         | 110/4700 [16:43<11:05,  6.90it/s] "
     ]
    },
    {
     "name": "stdout",
     "output_type": "stream",
     "text": [
      "{'loss': 0.0003, 'grad_norm': 0.0033122277818620205, 'learning_rate': 2.595744680851064e-06, 'epoch': 74.04}\n"
     ]
    },
    {
     "name": "stderr",
     "output_type": "stream",
     "text": [
      "\n",
      "\u001b[A\n",
      "\n",
      "                                                  \n",
      "\u001b[A                                                \n",
      "  2%|▏         | 110/4700 [16:43<11:05,  6.90it/s]\n",
      "\u001b[A"
     ]
    },
    {
     "name": "stdout",
     "output_type": "stream",
     "text": [
      "{'eval_loss': 0.041189126670360565, 'eval_runtime': 0.0269, 'eval_samples_per_second': 409.665, 'eval_steps_per_second': 223.454, 'epoch': 74.04}\n"
     ]
    },
    {
     "name": "stderr",
     "output_type": "stream",
     "text": [
      "                                                  \n",
      "  2%|▏         | 110/4700 [16:46<11:05,  6.90it/s] "
     ]
    },
    {
     "name": "stdout",
     "output_type": "stream",
     "text": [
      "{'loss': 0.0004, 'grad_norm': 0.004236504901200533, 'learning_rate': 2.574468085106383e-06, 'epoch': 74.26}\n"
     ]
    },
    {
     "name": "stderr",
     "output_type": "stream",
     "text": [
      "\n",
      "\u001b[A\n",
      "\n",
      "                                                  \n",
      "\u001b[A                                                \n",
      "  2%|▏         | 110/4700 [16:46<11:05,  6.90it/s]\n",
      "\u001b[A"
     ]
    },
    {
     "name": "stdout",
     "output_type": "stream",
     "text": [
      "{'eval_loss': 0.04124386981129646, 'eval_runtime': 0.0288, 'eval_samples_per_second': 381.966, 'eval_steps_per_second': 208.345, 'epoch': 74.26}\n"
     ]
    },
    {
     "name": "stderr",
     "output_type": "stream",
     "text": [
      "                                                  \n",
      "  2%|▏         | 110/4700 [16:48<11:05,  6.90it/s] "
     ]
    },
    {
     "name": "stdout",
     "output_type": "stream",
     "text": [
      "{'loss': 0.0005, 'grad_norm': 0.0036313196178525686, 'learning_rate': 2.553191489361702e-06, 'epoch': 74.47}\n"
     ]
    },
    {
     "name": "stderr",
     "output_type": "stream",
     "text": [
      "\n",
      "\u001b[A\n",
      "\n",
      "                                                  \n",
      "\u001b[A                                                \n",
      "  2%|▏         | 110/4700 [16:48<11:05,  6.90it/s]\n",
      "\u001b[A"
     ]
    },
    {
     "name": "stdout",
     "output_type": "stream",
     "text": [
      "{'eval_loss': 0.0410492867231369, 'eval_runtime': 0.0293, 'eval_samples_per_second': 375.668, 'eval_steps_per_second': 204.91, 'epoch': 74.47}\n"
     ]
    },
    {
     "name": "stderr",
     "output_type": "stream",
     "text": [
      "                                                  \n",
      "  2%|▏         | 110/4700 [16:50<11:05,  6.90it/s] "
     ]
    },
    {
     "name": "stdout",
     "output_type": "stream",
     "text": [
      "{'loss': 0.0003, 'grad_norm': 0.005897818598896265, 'learning_rate': 2.531914893617021e-06, 'epoch': 74.68}\n"
     ]
    },
    {
     "name": "stderr",
     "output_type": "stream",
     "text": [
      "\n",
      "\u001b[A\n",
      "\n",
      "                                                  \n",
      "\u001b[A                                                \n",
      "  2%|▏         | 110/4700 [16:51<11:05,  6.90it/s]\n",
      "\u001b[A"
     ]
    },
    {
     "name": "stdout",
     "output_type": "stream",
     "text": [
      "{'eval_loss': 0.04093533381819725, 'eval_runtime': 0.0265, 'eval_samples_per_second': 414.446, 'eval_steps_per_second': 226.061, 'epoch': 74.68}\n"
     ]
    },
    {
     "name": "stderr",
     "output_type": "stream",
     "text": [
      "                                                  \n",
      "  2%|▏         | 110/4700 [16:54<11:05,  6.90it/s] "
     ]
    },
    {
     "name": "stdout",
     "output_type": "stream",
     "text": [
      "{'loss': 0.0127, 'grad_norm': 0.02792414091527462, 'learning_rate': 2.5106382978723402e-06, 'epoch': 74.89}\n"
     ]
    },
    {
     "name": "stderr",
     "output_type": "stream",
     "text": [
      "\n",
      "\u001b[A\n",
      "\n",
      "                                                  \n",
      "\u001b[A                                                \n",
      "  2%|▏         | 110/4700 [16:54<11:05,  6.90it/s]\n",
      "\u001b[A"
     ]
    },
    {
     "name": "stdout",
     "output_type": "stream",
     "text": [
      "{'eval_loss': 0.044656671583652496, 'eval_runtime': 0.0274, 'eval_samples_per_second': 401.062, 'eval_steps_per_second': 218.761, 'epoch': 74.89}\n"
     ]
    },
    {
     "name": "stderr",
     "output_type": "stream",
     "text": [
      "                                                  \n",
      "  2%|▏         | 110/4700 [16:56<11:05,  6.90it/s] "
     ]
    },
    {
     "name": "stdout",
     "output_type": "stream",
     "text": [
      "{'loss': 0.0004, 'grad_norm': 0.0034769433550536633, 'learning_rate': 2.4893617021276598e-06, 'epoch': 75.11}\n"
     ]
    },
    {
     "name": "stderr",
     "output_type": "stream",
     "text": [
      "\n",
      "\u001b[A\n",
      "\n",
      "                                                  \n",
      "\u001b[A                                                \n",
      "  2%|▏         | 110/4700 [16:56<11:05,  6.90it/s]\n",
      "\u001b[A"
     ]
    },
    {
     "name": "stdout",
     "output_type": "stream",
     "text": [
      "{'eval_loss': 0.0542614609003067, 'eval_runtime': 0.0286, 'eval_samples_per_second': 384.363, 'eval_steps_per_second': 209.652, 'epoch': 75.11}\n"
     ]
    },
    {
     "name": "stderr",
     "output_type": "stream",
     "text": [
      "                                                  \n",
      "  2%|▏         | 110/4700 [16:59<11:05,  6.90it/s] "
     ]
    },
    {
     "name": "stdout",
     "output_type": "stream",
     "text": [
      "{'loss': 0.0003, 'grad_norm': 0.0033219342585653067, 'learning_rate': 2.468085106382979e-06, 'epoch': 75.32}\n"
     ]
    },
    {
     "name": "stderr",
     "output_type": "stream",
     "text": [
      "\n",
      "\u001b[A\n",
      "\n",
      "                                                  \n",
      "\u001b[A                                                \n",
      "  2%|▏         | 110/4700 [16:59<11:05,  6.90it/s]\n",
      "\u001b[A"
     ]
    },
    {
     "name": "stdout",
     "output_type": "stream",
     "text": [
      "{'eval_loss': 0.05743006616830826, 'eval_runtime': 0.0305, 'eval_samples_per_second': 361.08, 'eval_steps_per_second': 196.953, 'epoch': 75.32}\n"
     ]
    },
    {
     "name": "stderr",
     "output_type": "stream",
     "text": [
      "                                                  \n",
      "  2%|▏         | 110/4700 [17:01<11:05,  6.90it/s] "
     ]
    },
    {
     "name": "stdout",
     "output_type": "stream",
     "text": [
      "{'loss': 0.0007, 'grad_norm': 0.004174823872745037, 'learning_rate': 2.446808510638298e-06, 'epoch': 75.53}\n"
     ]
    },
    {
     "name": "stderr",
     "output_type": "stream",
     "text": [
      "\n",
      "\u001b[A\n",
      "\n",
      "                                                  \n",
      "\u001b[A                                                \n",
      "  2%|▏         | 110/4700 [17:01<11:05,  6.90it/s]\n",
      "\u001b[A"
     ]
    },
    {
     "name": "stdout",
     "output_type": "stream",
     "text": [
      "{'eval_loss': 0.043331123888492584, 'eval_runtime': 0.0291, 'eval_samples_per_second': 378.473, 'eval_steps_per_second': 206.44, 'epoch': 75.53}\n"
     ]
    },
    {
     "name": "stderr",
     "output_type": "stream",
     "text": [
      "                                                  \n",
      "  2%|▏         | 110/4700 [17:03<11:05,  6.90it/s] "
     ]
    },
    {
     "name": "stdout",
     "output_type": "stream",
     "text": [
      "{'loss': 0.0005, 'grad_norm': 0.0460241362452507, 'learning_rate': 2.425531914893617e-06, 'epoch': 75.74}\n"
     ]
    },
    {
     "name": "stderr",
     "output_type": "stream",
     "text": [
      "\n",
      "\u001b[A\n",
      "\n",
      "                                                  \n",
      "\u001b[A                                                \n",
      "  2%|▏         | 110/4700 [17:03<11:05,  6.90it/s]\n",
      "\u001b[A"
     ]
    },
    {
     "name": "stdout",
     "output_type": "stream",
     "text": [
      "{'eval_loss': 0.04208821430802345, 'eval_runtime': 0.0276, 'eval_samples_per_second': 398.268, 'eval_steps_per_second': 217.237, 'epoch': 75.74}\n"
     ]
    },
    {
     "name": "stderr",
     "output_type": "stream",
     "text": [
      "                                                  \n",
      "  2%|▏         | 110/4700 [17:06<11:05,  6.90it/s] "
     ]
    },
    {
     "name": "stdout",
     "output_type": "stream",
     "text": [
      "{'loss': 0.0003, 'grad_norm': 0.003892861772328615, 'learning_rate': 2.404255319148936e-06, 'epoch': 75.96}\n"
     ]
    },
    {
     "name": "stderr",
     "output_type": "stream",
     "text": [
      "\n",
      "\u001b[A\n",
      "\n",
      "                                                  \n",
      "\u001b[A                                                \n",
      "  2%|▏         | 110/4700 [17:06<11:05,  6.90it/s]\n",
      "\u001b[A"
     ]
    },
    {
     "name": "stdout",
     "output_type": "stream",
     "text": [
      "{'eval_loss': 0.042141858488321304, 'eval_runtime': 0.0277, 'eval_samples_per_second': 396.682, 'eval_steps_per_second': 216.372, 'epoch': 75.96}\n"
     ]
    },
    {
     "name": "stderr",
     "output_type": "stream",
     "text": [
      "                                                  \n",
      "  2%|▏         | 110/4700 [17:08<11:05,  6.90it/s] "
     ]
    },
    {
     "name": "stdout",
     "output_type": "stream",
     "text": [
      "{'loss': 0.0005, 'grad_norm': 0.003395542735233903, 'learning_rate': 2.3829787234042557e-06, 'epoch': 76.17}\n"
     ]
    },
    {
     "name": "stderr",
     "output_type": "stream",
     "text": [
      "\n",
      "\u001b[A\n",
      "\n",
      "                                                  \n",
      "\u001b[A                                                \n",
      "  2%|▏         | 110/4700 [17:08<11:05,  6.90it/s]\n",
      "\u001b[A"
     ]
    },
    {
     "name": "stdout",
     "output_type": "stream",
     "text": [
      "{'eval_loss': 0.04343587905168533, 'eval_runtime': 0.0273, 'eval_samples_per_second': 403.306, 'eval_steps_per_second': 219.985, 'epoch': 76.17}\n"
     ]
    },
    {
     "name": "stderr",
     "output_type": "stream",
     "text": [
      "                                                  \n",
      "  2%|▏         | 110/4700 [17:10<11:05,  6.90it/s] "
     ]
    },
    {
     "name": "stdout",
     "output_type": "stream",
     "text": [
      "{'loss': 0.0004, 'grad_norm': 0.004329044371843338, 'learning_rate': 2.3617021276595748e-06, 'epoch': 76.38}\n"
     ]
    },
    {
     "name": "stderr",
     "output_type": "stream",
     "text": [
      "\n",
      "\u001b[A\n",
      "\n",
      "                                                  \n",
      "\u001b[A                                                \n",
      "  2%|▏         | 110/4700 [17:10<11:05,  6.90it/s]\n",
      "\u001b[A"
     ]
    },
    {
     "name": "stdout",
     "output_type": "stream",
     "text": [
      "{'eval_loss': 0.04423179477453232, 'eval_runtime': 0.0268, 'eval_samples_per_second': 410.022, 'eval_steps_per_second': 223.649, 'epoch': 76.38}\n"
     ]
    },
    {
     "name": "stderr",
     "output_type": "stream",
     "text": [
      "                                                  \n",
      "  2%|▏         | 110/4700 [17:13<11:05,  6.90it/s] "
     ]
    },
    {
     "name": "stdout",
     "output_type": "stream",
     "text": [
      "{'loss': 0.0004, 'grad_norm': 0.01857021078467369, 'learning_rate': 2.340425531914894e-06, 'epoch': 76.6}\n"
     ]
    },
    {
     "name": "stderr",
     "output_type": "stream",
     "text": [
      "\n",
      "\u001b[A\n",
      "\n",
      "                                                  \n",
      "\u001b[A                                                \n",
      "  2%|▏         | 110/4700 [17:13<11:05,  6.90it/s]\n",
      "\u001b[A"
     ]
    },
    {
     "name": "stdout",
     "output_type": "stream",
     "text": [
      "{'eval_loss': 0.04370024427771568, 'eval_runtime': 0.0274, 'eval_samples_per_second': 401.596, 'eval_steps_per_second': 219.052, 'epoch': 76.6}\n"
     ]
    },
    {
     "name": "stderr",
     "output_type": "stream",
     "text": [
      "                                                  \n",
      "  2%|▏         | 110/4700 [17:15<11:05,  6.90it/s] "
     ]
    },
    {
     "name": "stdout",
     "output_type": "stream",
     "text": [
      "{'loss': 0.0004, 'grad_norm': 0.0030585876666009426, 'learning_rate': 2.319148936170213e-06, 'epoch': 76.81}\n"
     ]
    },
    {
     "name": "stderr",
     "output_type": "stream",
     "text": [
      "\n",
      "\u001b[A\n",
      "\n",
      "                                                  \n",
      "\u001b[A                                                \n",
      "  2%|▏         | 110/4700 [17:15<11:05,  6.90it/s]\n",
      "\u001b[A"
     ]
    },
    {
     "name": "stdout",
     "output_type": "stream",
     "text": [
      "{'eval_loss': 0.04285711795091629, 'eval_runtime': 0.0277, 'eval_samples_per_second': 397.715, 'eval_steps_per_second': 216.936, 'epoch': 76.81}\n"
     ]
    },
    {
     "name": "stderr",
     "output_type": "stream",
     "text": [
      "                                                  \n",
      "  2%|▏         | 110/4700 [17:17<11:05,  6.90it/s] "
     ]
    },
    {
     "name": "stdout",
     "output_type": "stream",
     "text": [
      "{'loss': 0.0005, 'grad_norm': 0.024328453466296196, 'learning_rate': 2.297872340425532e-06, 'epoch': 77.02}\n"
     ]
    },
    {
     "name": "stderr",
     "output_type": "stream",
     "text": [
      "\n",
      "\u001b[A\n",
      "\n",
      "                                                  \n",
      "\u001b[A                                                \n",
      "  2%|▏         | 110/4700 [17:17<11:05,  6.90it/s]\n",
      "\u001b[A"
     ]
    },
    {
     "name": "stdout",
     "output_type": "stream",
     "text": [
      "{'eval_loss': 0.04241938516497612, 'eval_runtime': 0.0287, 'eval_samples_per_second': 383.691, 'eval_steps_per_second': 209.286, 'epoch': 77.02}\n"
     ]
    },
    {
     "name": "stderr",
     "output_type": "stream",
     "text": [
      "                                                  \n",
      "  2%|▏         | 110/4700 [17:20<11:05,  6.90it/s] "
     ]
    },
    {
     "name": "stdout",
     "output_type": "stream",
     "text": [
      "{'loss': 0.0003, 'grad_norm': 0.0039497739635407925, 'learning_rate': 2.276595744680851e-06, 'epoch': 77.23}\n"
     ]
    },
    {
     "name": "stderr",
     "output_type": "stream",
     "text": [
      "\n",
      "\u001b[A\n",
      "\n",
      "                                                  \n",
      "\u001b[A                                                \n",
      "  2%|▏         | 110/4700 [17:20<11:05,  6.90it/s]\n",
      "\u001b[A"
     ]
    },
    {
     "name": "stdout",
     "output_type": "stream",
     "text": [
      "{'eval_loss': 0.04224392771720886, 'eval_runtime': 0.0269, 'eval_samples_per_second': 408.867, 'eval_steps_per_second': 223.018, 'epoch': 77.23}\n"
     ]
    },
    {
     "name": "stderr",
     "output_type": "stream",
     "text": [
      "                                                  \n",
      "  2%|▏         | 110/4700 [17:22<11:05,  6.90it/s] "
     ]
    },
    {
     "name": "stdout",
     "output_type": "stream",
     "text": [
      "{'loss': 0.0005, 'grad_norm': 0.019248053431510925, 'learning_rate': 2.2553191489361703e-06, 'epoch': 77.45}\n"
     ]
    },
    {
     "name": "stderr",
     "output_type": "stream",
     "text": [
      "\n",
      "\u001b[A\n",
      "\n",
      "                                                  \n",
      "\u001b[A                                                \n",
      "  2%|▏         | 110/4700 [17:22<11:05,  6.90it/s]\n",
      "\u001b[A"
     ]
    },
    {
     "name": "stdout",
     "output_type": "stream",
     "text": [
      "{'eval_loss': 0.041971027851104736, 'eval_runtime': 0.0317, 'eval_samples_per_second': 346.832, 'eval_steps_per_second': 189.181, 'epoch': 77.45}\n"
     ]
    },
    {
     "name": "stderr",
     "output_type": "stream",
     "text": [
      "                                                  \n",
      "  2%|▏         | 110/4700 [17:25<11:05,  6.90it/s] "
     ]
    },
    {
     "name": "stdout",
     "output_type": "stream",
     "text": [
      "{'loss': 0.0003, 'grad_norm': 0.004587425850331783, 'learning_rate': 2.2340425531914894e-06, 'epoch': 77.66}\n"
     ]
    },
    {
     "name": "stderr",
     "output_type": "stream",
     "text": [
      "\n",
      "\u001b[A\n",
      "\n",
      "                                                  \n",
      "\u001b[A                                                \n",
      "  2%|▏         | 110/4700 [17:25<11:05,  6.90it/s]\n",
      "\u001b[A"
     ]
    },
    {
     "name": "stdout",
     "output_type": "stream",
     "text": [
      "{'eval_loss': 0.04192511364817619, 'eval_runtime': 0.0265, 'eval_samples_per_second': 415.289, 'eval_steps_per_second': 226.521, 'epoch': 77.66}\n"
     ]
    },
    {
     "name": "stderr",
     "output_type": "stream",
     "text": [
      "                                                  \n",
      "  2%|▏         | 110/4700 [17:27<11:05,  6.90it/s] "
     ]
    },
    {
     "name": "stdout",
     "output_type": "stream",
     "text": [
      "{'loss': 0.0003, 'grad_norm': 0.004501808900386095, 'learning_rate': 2.2127659574468085e-06, 'epoch': 77.87}\n"
     ]
    },
    {
     "name": "stderr",
     "output_type": "stream",
     "text": [
      "\n",
      "\u001b[A\n",
      "\n",
      "                                                  \n",
      "\u001b[A                                                \n",
      "  2%|▏         | 110/4700 [17:27<11:05,  6.90it/s]\n",
      "\u001b[A"
     ]
    },
    {
     "name": "stdout",
     "output_type": "stream",
     "text": [
      "{'eval_loss': 0.04195686802268028, 'eval_runtime': 0.0267, 'eval_samples_per_second': 412.191, 'eval_steps_per_second': 224.831, 'epoch': 77.87}\n"
     ]
    },
    {
     "name": "stderr",
     "output_type": "stream",
     "text": [
      "                                                  \n",
      "  2%|▏         | 110/4700 [17:29<11:05,  6.90it/s] "
     ]
    },
    {
     "name": "stdout",
     "output_type": "stream",
     "text": [
      "{'loss': 0.0003, 'grad_norm': 0.00637146458029747, 'learning_rate': 2.191489361702128e-06, 'epoch': 78.09}\n"
     ]
    },
    {
     "name": "stderr",
     "output_type": "stream",
     "text": [
      "\n",
      "\u001b[A\n",
      "\n",
      "                                                  \n",
      "\u001b[A                                                \n",
      "  2%|▏         | 110/4700 [17:29<11:05,  6.90it/s]\n",
      "\u001b[A"
     ]
    },
    {
     "name": "stdout",
     "output_type": "stream",
     "text": [
      "{'eval_loss': 0.041966263204813004, 'eval_runtime': 0.0277, 'eval_samples_per_second': 396.785, 'eval_steps_per_second': 216.428, 'epoch': 78.09}\n"
     ]
    },
    {
     "name": "stderr",
     "output_type": "stream",
     "text": [
      "                                                  \n",
      "  2%|▏         | 110/4700 [17:32<11:05,  6.90it/s] "
     ]
    },
    {
     "name": "stdout",
     "output_type": "stream",
     "text": [
      "{'loss': 0.0004, 'grad_norm': 0.0049497270956635475, 'learning_rate': 2.170212765957447e-06, 'epoch': 78.3}\n"
     ]
    },
    {
     "name": "stderr",
     "output_type": "stream",
     "text": [
      "\n",
      "\u001b[A\n",
      "\n",
      "                                                  \n",
      "\u001b[A                                                \n",
      "  2%|▏         | 110/4700 [17:32<11:05,  6.90it/s]\n",
      "\u001b[A"
     ]
    },
    {
     "name": "stdout",
     "output_type": "stream",
     "text": [
      "{'eval_loss': 0.041986748576164246, 'eval_runtime': 0.0262, 'eval_samples_per_second': 419.48, 'eval_steps_per_second': 228.807, 'epoch': 78.3}\n"
     ]
    },
    {
     "name": "stderr",
     "output_type": "stream",
     "text": [
      "                                                  \n",
      "  2%|▏         | 110/4700 [17:34<11:05,  6.90it/s] "
     ]
    },
    {
     "name": "stdout",
     "output_type": "stream",
     "text": [
      "{'loss': 0.0004, 'grad_norm': 0.0035121000837534666, 'learning_rate': 2.148936170212766e-06, 'epoch': 78.51}\n"
     ]
    },
    {
     "name": "stderr",
     "output_type": "stream",
     "text": [
      "\n",
      "\u001b[A\n",
      "\n",
      "                                                  \n",
      "\u001b[A                                                \n",
      "  2%|▏         | 110/4700 [17:34<11:05,  6.90it/s]\n",
      "\u001b[A"
     ]
    },
    {
     "name": "stdout",
     "output_type": "stream",
     "text": [
      "{'eval_loss': 0.042015764862298965, 'eval_runtime': 0.0292, 'eval_samples_per_second': 377.328, 'eval_steps_per_second': 205.815, 'epoch': 78.51}\n"
     ]
    },
    {
     "name": "stderr",
     "output_type": "stream",
     "text": [
      "                                                  \n",
      "  2%|▏         | 110/4700 [17:36<11:05,  6.90it/s] "
     ]
    },
    {
     "name": "stdout",
     "output_type": "stream",
     "text": [
      "{'loss': 0.0003, 'grad_norm': 0.004208201542496681, 'learning_rate': 2.1276595744680853e-06, 'epoch': 78.72}\n"
     ]
    },
    {
     "name": "stderr",
     "output_type": "stream",
     "text": [
      "\n",
      "\u001b[A\n",
      "\n",
      "                                                  \n",
      "\u001b[A                                                \n",
      "  2%|▏         | 110/4700 [17:36<11:05,  6.90it/s]\n",
      "\u001b[A"
     ]
    },
    {
     "name": "stdout",
     "output_type": "stream",
     "text": [
      "{'eval_loss': 0.042061708867549896, 'eval_runtime': 0.0273, 'eval_samples_per_second': 402.756, 'eval_steps_per_second': 219.685, 'epoch': 78.72}\n"
     ]
    },
    {
     "name": "stderr",
     "output_type": "stream",
     "text": [
      "                                                  \n",
      "  2%|▏         | 110/4700 [17:39<11:05,  6.90it/s] "
     ]
    },
    {
     "name": "stdout",
     "output_type": "stream",
     "text": [
      "{'loss': 0.0004, 'grad_norm': 0.00578483659774065, 'learning_rate': 2.1063829787234044e-06, 'epoch': 78.94}\n"
     ]
    },
    {
     "name": "stderr",
     "output_type": "stream",
     "text": [
      "\n",
      "\u001b[A\n",
      "\n",
      "                                                  \n",
      "\u001b[A                                                \n",
      "  2%|▏         | 110/4700 [17:39<11:05,  6.90it/s]\n",
      "\u001b[A"
     ]
    },
    {
     "name": "stdout",
     "output_type": "stream",
     "text": [
      "{'eval_loss': 0.04199173301458359, 'eval_runtime': 0.0259, 'eval_samples_per_second': 425.076, 'eval_steps_per_second': 231.86, 'epoch': 78.94}\n"
     ]
    },
    {
     "name": "stderr",
     "output_type": "stream",
     "text": [
      "                                                  \n",
      "  2%|▏         | 110/4700 [17:41<11:05,  6.90it/s] "
     ]
    },
    {
     "name": "stdout",
     "output_type": "stream",
     "text": [
      "{'loss': 0.0005, 'grad_norm': 0.019534088671207428, 'learning_rate': 2.0851063829787235e-06, 'epoch': 79.15}\n"
     ]
    },
    {
     "name": "stderr",
     "output_type": "stream",
     "text": [
      "\n",
      "\u001b[A\n",
      "\n",
      "                                                  \n",
      "\u001b[A                                                \n",
      "  2%|▏         | 110/4700 [17:41<11:05,  6.90it/s]\n",
      "\u001b[A"
     ]
    },
    {
     "name": "stdout",
     "output_type": "stream",
     "text": [
      "{'eval_loss': 0.042029108852148056, 'eval_runtime': 0.0268, 'eval_samples_per_second': 410.548, 'eval_steps_per_second': 223.935, 'epoch': 79.15}\n"
     ]
    },
    {
     "name": "stderr",
     "output_type": "stream",
     "text": [
      "                                                  \n",
      "  2%|▏         | 110/4700 [17:44<11:05,  6.90it/s] "
     ]
    },
    {
     "name": "stdout",
     "output_type": "stream",
     "text": [
      "{'loss': 0.0004, 'grad_norm': 0.0030289890710264444, 'learning_rate': 2.0638297872340426e-06, 'epoch': 79.36}\n"
     ]
    },
    {
     "name": "stderr",
     "output_type": "stream",
     "text": [
      "\n",
      "\u001b[A\n",
      "\n",
      "                                                  \n",
      "\u001b[A                                                \n",
      "  2%|▏         | 110/4700 [17:44<11:05,  6.90it/s]\n",
      "\u001b[A"
     ]
    },
    {
     "name": "stdout",
     "output_type": "stream",
     "text": [
      "{'eval_loss': 0.042113181203603745, 'eval_runtime': 0.035, 'eval_samples_per_second': 314.394, 'eval_steps_per_second': 171.488, 'epoch': 79.36}\n"
     ]
    },
    {
     "name": "stderr",
     "output_type": "stream",
     "text": [
      "                                                  \n",
      "  2%|▏         | 110/4700 [17:46<11:05,  6.90it/s] "
     ]
    },
    {
     "name": "stdout",
     "output_type": "stream",
     "text": [
      "{'loss': 0.0003, 'grad_norm': 0.005165147129446268, 'learning_rate': 2.0425531914893617e-06, 'epoch': 79.57}\n"
     ]
    },
    {
     "name": "stderr",
     "output_type": "stream",
     "text": [
      "\n",
      "\u001b[A\n",
      "\n",
      "                                                  \n",
      "\u001b[A                                                \n",
      "  2%|▏         | 110/4700 [17:46<11:05,  6.90it/s]\n",
      "\u001b[A"
     ]
    },
    {
     "name": "stdout",
     "output_type": "stream",
     "text": [
      "{'eval_loss': 0.04324227198958397, 'eval_runtime': 0.0286, 'eval_samples_per_second': 384.744, 'eval_steps_per_second': 209.86, 'epoch': 79.57}\n"
     ]
    },
    {
     "name": "stderr",
     "output_type": "stream",
     "text": [
      "                                                  \n",
      "  2%|▏         | 110/4700 [17:48<11:05,  6.90it/s] "
     ]
    },
    {
     "name": "stdout",
     "output_type": "stream",
     "text": [
      "{'loss': 0.0003, 'grad_norm': 0.005394443403929472, 'learning_rate': 2.021276595744681e-06, 'epoch': 79.79}\n"
     ]
    },
    {
     "name": "stderr",
     "output_type": "stream",
     "text": [
      "\n",
      "\u001b[A\n",
      "\n",
      "                                                  \n",
      "\u001b[A                                                \n",
      "  2%|▏         | 110/4700 [17:48<11:05,  6.90it/s]\n",
      "\u001b[A"
     ]
    },
    {
     "name": "stdout",
     "output_type": "stream",
     "text": [
      "{'eval_loss': 0.04420642927289009, 'eval_runtime': 0.0274, 'eval_samples_per_second': 401.904, 'eval_steps_per_second': 219.22, 'epoch': 79.79}\n"
     ]
    },
    {
     "name": "stderr",
     "output_type": "stream",
     "text": [
      "                                                  \n",
      "  2%|▏         | 110/4700 [17:51<11:05,  6.90it/s] "
     ]
    },
    {
     "name": "stdout",
     "output_type": "stream",
     "text": [
      "{'loss': 0.0005, 'grad_norm': 0.00794969405978918, 'learning_rate': 2.0000000000000003e-06, 'epoch': 80.0}\n"
     ]
    },
    {
     "name": "stderr",
     "output_type": "stream",
     "text": [
      "\n",
      "\u001b[A\n",
      "\n",
      "                                                  \n",
      "\u001b[A                                                \n",
      "  2%|▏         | 110/4700 [17:51<11:05,  6.90it/s]\n",
      "\u001b[A"
     ]
    },
    {
     "name": "stdout",
     "output_type": "stream",
     "text": [
      "{'eval_loss': 0.044655945152044296, 'eval_runtime': 0.0267, 'eval_samples_per_second': 412.582, 'eval_steps_per_second': 225.044, 'epoch': 80.0}\n"
     ]
    },
    {
     "name": "stderr",
     "output_type": "stream",
     "text": [
      "                                                  \n",
      "  2%|▏         | 110/4700 [17:53<11:05,  6.90it/s] "
     ]
    },
    {
     "name": "stdout",
     "output_type": "stream",
     "text": [
      "{'loss': 0.0005, 'grad_norm': 0.0032649808563292027, 'learning_rate': 1.9787234042553194e-06, 'epoch': 80.21}\n"
     ]
    },
    {
     "name": "stderr",
     "output_type": "stream",
     "text": [
      "\n",
      "\u001b[A\n",
      "\n",
      "                                                  \n",
      "\u001b[A                                                \n",
      "  2%|▏         | 110/4700 [17:53<11:05,  6.90it/s]\n",
      "\u001b[A"
     ]
    },
    {
     "name": "stdout",
     "output_type": "stream",
     "text": [
      "{'eval_loss': 0.04449057579040527, 'eval_runtime': 0.0285, 'eval_samples_per_second': 385.986, 'eval_steps_per_second': 210.538, 'epoch': 80.21}\n"
     ]
    },
    {
     "name": "stderr",
     "output_type": "stream",
     "text": [
      "                                                  \n",
      "  2%|▏         | 110/4700 [17:55<11:05,  6.90it/s] "
     ]
    },
    {
     "name": "stdout",
     "output_type": "stream",
     "text": [
      "{'loss': 0.0003, 'grad_norm': 0.004099126439541578, 'learning_rate': 1.9574468085106385e-06, 'epoch': 80.43}\n"
     ]
    },
    {
     "name": "stderr",
     "output_type": "stream",
     "text": [
      "\n",
      "\u001b[A\n",
      "\n",
      "                                                  \n",
      "\u001b[A                                                \n",
      "  2%|▏         | 110/4700 [17:55<11:05,  6.90it/s]\n",
      "\u001b[A"
     ]
    },
    {
     "name": "stdout",
     "output_type": "stream",
     "text": [
      "{'eval_loss': 0.04437170922756195, 'eval_runtime': 0.0287, 'eval_samples_per_second': 383.032, 'eval_steps_per_second': 208.927, 'epoch': 80.43}\n"
     ]
    },
    {
     "name": "stderr",
     "output_type": "stream",
     "text": [
      "                                                  \n",
      "  2%|▏         | 110/4700 [17:58<11:05,  6.90it/s] "
     ]
    },
    {
     "name": "stdout",
     "output_type": "stream",
     "text": [
      "{'loss': 0.0002, 'grad_norm': 0.0035187050234526396, 'learning_rate': 1.9361702127659576e-06, 'epoch': 80.64}\n"
     ]
    },
    {
     "name": "stderr",
     "output_type": "stream",
     "text": [
      "\n",
      "\u001b[A\n",
      "\n",
      "                                                  \n",
      "\u001b[A                                                \n",
      "  2%|▏         | 110/4700 [17:58<11:05,  6.90it/s]\n",
      "\u001b[A"
     ]
    },
    {
     "name": "stdout",
     "output_type": "stream",
     "text": [
      "{'eval_loss': 0.044293466955423355, 'eval_runtime': 0.0313, 'eval_samples_per_second': 351.18, 'eval_steps_per_second': 191.553, 'epoch': 80.64}\n"
     ]
    },
    {
     "name": "stderr",
     "output_type": "stream",
     "text": [
      "                                                  \n",
      "  2%|▏         | 110/4700 [18:00<11:05,  6.90it/s] "
     ]
    },
    {
     "name": "stdout",
     "output_type": "stream",
     "text": [
      "{'loss': 0.0005, 'grad_norm': 0.005443071946501732, 'learning_rate': 1.9148936170212767e-06, 'epoch': 80.85}\n"
     ]
    },
    {
     "name": "stderr",
     "output_type": "stream",
     "text": [
      "\n",
      "\u001b[A\n",
      "\n",
      "                                                  \n",
      "\u001b[A                                                \n",
      "  2%|▏         | 110/4700 [18:00<11:05,  6.90it/s]\n",
      "\u001b[A"
     ]
    },
    {
     "name": "stdout",
     "output_type": "stream",
     "text": [
      "{'eval_loss': 0.044205643236637115, 'eval_runtime': 0.0293, 'eval_samples_per_second': 375.256, 'eval_steps_per_second': 204.685, 'epoch': 80.85}\n"
     ]
    },
    {
     "name": "stderr",
     "output_type": "stream",
     "text": [
      "                                                  \n",
      "  2%|▏         | 110/4700 [18:03<11:05,  6.90it/s] "
     ]
    },
    {
     "name": "stdout",
     "output_type": "stream",
     "text": [
      "{'loss': 0.0003, 'grad_norm': 0.004452635068446398, 'learning_rate': 1.8936170212765958e-06, 'epoch': 81.06}\n"
     ]
    },
    {
     "name": "stderr",
     "output_type": "stream",
     "text": [
      "\n",
      "\u001b[A\n",
      "\n",
      "                                                  \n",
      "\u001b[A                                                \n",
      "  2%|▏         | 110/4700 [18:03<11:05,  6.90it/s]\n",
      "\u001b[A"
     ]
    },
    {
     "name": "stdout",
     "output_type": "stream",
     "text": [
      "{'eval_loss': 0.04410376027226448, 'eval_runtime': 0.0272, 'eval_samples_per_second': 404.575, 'eval_steps_per_second': 220.677, 'epoch': 81.06}\n"
     ]
    },
    {
     "name": "stderr",
     "output_type": "stream",
     "text": [
      "                                                  \n",
      "  2%|▏         | 110/4700 [18:06<11:05,  6.90it/s] "
     ]
    },
    {
     "name": "stdout",
     "output_type": "stream",
     "text": [
      "{'loss': 0.0003, 'grad_norm': 0.021368358284235, 'learning_rate': 1.872340425531915e-06, 'epoch': 81.28}\n"
     ]
    },
    {
     "name": "stderr",
     "output_type": "stream",
     "text": [
      "\n",
      "\u001b[A\n",
      "\n",
      "                                                  \n",
      "\u001b[A                                                \n",
      "  2%|▏         | 110/4700 [18:06<11:05,  6.90it/s]\n",
      "\u001b[A"
     ]
    },
    {
     "name": "stdout",
     "output_type": "stream",
     "text": [
      "{'eval_loss': 0.04404664412140846, 'eval_runtime': 0.0265, 'eval_samples_per_second': 414.77, 'eval_steps_per_second': 226.238, 'epoch': 81.28}\n"
     ]
    },
    {
     "name": "stderr",
     "output_type": "stream",
     "text": [
      "                                                  \n",
      "  2%|▏         | 110/4700 [18:08<11:05,  6.90it/s] "
     ]
    },
    {
     "name": "stdout",
     "output_type": "stream",
     "text": [
      "{'loss': 0.0003, 'grad_norm': 0.003263176418840885, 'learning_rate': 1.851063829787234e-06, 'epoch': 81.49}\n"
     ]
    },
    {
     "name": "stderr",
     "output_type": "stream",
     "text": [
      "\n",
      "\u001b[A\n",
      "\n",
      "                                                  \n",
      "\u001b[A                                                \n",
      "  2%|▏         | 110/4700 [18:08<11:05,  6.90it/s]\n",
      "\u001b[A"
     ]
    },
    {
     "name": "stdout",
     "output_type": "stream",
     "text": [
      "{'eval_loss': 0.04417974129319191, 'eval_runtime': 0.0282, 'eval_samples_per_second': 390.458, 'eval_steps_per_second': 212.977, 'epoch': 81.49}\n"
     ]
    },
    {
     "name": "stderr",
     "output_type": "stream",
     "text": [
      "                                                  \n",
      "  2%|▏         | 110/4700 [18:11<11:05,  6.90it/s] "
     ]
    },
    {
     "name": "stdout",
     "output_type": "stream",
     "text": [
      "{'loss': 0.0005, 'grad_norm': 0.01455068401992321, 'learning_rate': 1.8297872340425531e-06, 'epoch': 81.7}\n"
     ]
    },
    {
     "name": "stderr",
     "output_type": "stream",
     "text": [
      "\n",
      "\u001b[A\n",
      "\n",
      "                                                  \n",
      "\u001b[A                                                \n",
      "  2%|▏         | 110/4700 [18:11<11:05,  6.90it/s]\n",
      "\u001b[A"
     ]
    },
    {
     "name": "stdout",
     "output_type": "stream",
     "text": [
      "{'eval_loss': 0.044007204473018646, 'eval_runtime': 0.0305, 'eval_samples_per_second': 360.361, 'eval_steps_per_second': 196.56, 'epoch': 81.7}\n"
     ]
    },
    {
     "name": "stderr",
     "output_type": "stream",
     "text": [
      "                                                  \n",
      "  2%|▏         | 110/4700 [18:13<11:05,  6.90it/s] "
     ]
    },
    {
     "name": "stdout",
     "output_type": "stream",
     "text": [
      "{'loss': 0.0004, 'grad_norm': 0.0031662716064602137, 'learning_rate': 1.8085106382978727e-06, 'epoch': 81.91}\n"
     ]
    },
    {
     "name": "stderr",
     "output_type": "stream",
     "text": [
      "\n",
      "\u001b[A\n",
      "\n",
      "                                                  \n",
      "\u001b[A                                                \n",
      "  2%|▏         | 110/4700 [18:13<11:05,  6.90it/s]\n",
      "\u001b[A"
     ]
    },
    {
     "name": "stdout",
     "output_type": "stream",
     "text": [
      "{'eval_loss': 0.04388876631855965, 'eval_runtime': 0.0266, 'eval_samples_per_second': 413.402, 'eval_steps_per_second': 225.492, 'epoch': 81.91}\n"
     ]
    },
    {
     "name": "stderr",
     "output_type": "stream",
     "text": [
      "                                                  \n",
      "  2%|▏         | 110/4700 [18:15<11:05,  6.90it/s] "
     ]
    },
    {
     "name": "stdout",
     "output_type": "stream",
     "text": [
      "{'loss': 0.0005, 'grad_norm': 0.009471695870161057, 'learning_rate': 1.7872340425531918e-06, 'epoch': 82.13}\n"
     ]
    },
    {
     "name": "stderr",
     "output_type": "stream",
     "text": [
      "\n",
      "\u001b[A\n",
      "\n",
      "                                                  \n",
      "\u001b[A                                                \n",
      "  2%|▏         | 110/4700 [18:15<11:05,  6.90it/s]\n",
      "\u001b[A"
     ]
    },
    {
     "name": "stdout",
     "output_type": "stream",
     "text": [
      "{'eval_loss': 0.04377436265349388, 'eval_runtime': 0.0274, 'eval_samples_per_second': 400.992, 'eval_steps_per_second': 218.723, 'epoch': 82.13}\n"
     ]
    },
    {
     "name": "stderr",
     "output_type": "stream",
     "text": [
      "                                                  \n",
      "  2%|▏         | 110/4700 [18:18<11:05,  6.90it/s] "
     ]
    },
    {
     "name": "stdout",
     "output_type": "stream",
     "text": [
      "{'loss': 0.0003, 'grad_norm': 0.0031852673273533583, 'learning_rate': 1.7659574468085109e-06, 'epoch': 82.34}\n"
     ]
    },
    {
     "name": "stderr",
     "output_type": "stream",
     "text": [
      "\n",
      "\u001b[A\n",
      "\n",
      "                                                  \n",
      "\u001b[A                                                \n",
      "  2%|▏         | 110/4700 [18:18<11:05,  6.90it/s]\n",
      "\u001b[A"
     ]
    },
    {
     "name": "stdout",
     "output_type": "stream",
     "text": [
      "{'eval_loss': 0.04365149140357971, 'eval_runtime': 0.0279, 'eval_samples_per_second': 393.563, 'eval_steps_per_second': 214.671, 'epoch': 82.34}\n"
     ]
    },
    {
     "name": "stderr",
     "output_type": "stream",
     "text": [
      "                                                  \n",
      "  2%|▏         | 110/4700 [18:20<11:05,  6.90it/s] "
     ]
    },
    {
     "name": "stdout",
     "output_type": "stream",
     "text": [
      "{'loss': 0.0004, 'grad_norm': 0.004676005337387323, 'learning_rate': 1.74468085106383e-06, 'epoch': 82.55}\n"
     ]
    },
    {
     "name": "stderr",
     "output_type": "stream",
     "text": [
      "\n",
      "\u001b[A\n",
      "\n",
      "                                                  \n",
      "\u001b[A                                                \n",
      "  2%|▏         | 110/4700 [18:20<11:05,  6.90it/s]\n",
      "\u001b[A"
     ]
    },
    {
     "name": "stdout",
     "output_type": "stream",
     "text": [
      "{'eval_loss': 0.04351751506328583, 'eval_runtime': 0.026, 'eval_samples_per_second': 422.345, 'eval_steps_per_second': 230.37, 'epoch': 82.55}\n"
     ]
    },
    {
     "name": "stderr",
     "output_type": "stream",
     "text": [
      "                                                  \n",
      "  2%|▏         | 110/4700 [18:22<11:05,  6.90it/s] "
     ]
    },
    {
     "name": "stdout",
     "output_type": "stream",
     "text": [
      "{'loss': 0.0003, 'grad_norm': 0.01714441552758217, 'learning_rate': 1.723404255319149e-06, 'epoch': 82.77}\n"
     ]
    },
    {
     "name": "stderr",
     "output_type": "stream",
     "text": [
      "\n",
      "\u001b[A\n",
      "\n",
      "                                                  \n",
      "\u001b[A                                                \n",
      "  2%|▏         | 110/4700 [18:22<11:05,  6.90it/s]\n",
      "\u001b[A"
     ]
    },
    {
     "name": "stdout",
     "output_type": "stream",
     "text": [
      "{'eval_loss': 0.04336896166205406, 'eval_runtime': 0.0287, 'eval_samples_per_second': 382.657, 'eval_steps_per_second': 208.722, 'epoch': 82.77}\n"
     ]
    },
    {
     "name": "stderr",
     "output_type": "stream",
     "text": [
      "                                                  \n",
      "  2%|▏         | 110/4700 [18:24<11:05,  6.90it/s] "
     ]
    },
    {
     "name": "stdout",
     "output_type": "stream",
     "text": [
      "{'loss': 0.0003, 'grad_norm': 0.003399396315217018, 'learning_rate': 1.7021276595744682e-06, 'epoch': 82.98}\n"
     ]
    },
    {
     "name": "stderr",
     "output_type": "stream",
     "text": [
      "\n",
      "\u001b[A\n",
      "\n",
      "                                                  \n",
      "\u001b[A                                                \n",
      "  2%|▏         | 110/4700 [18:24<11:05,  6.90it/s]\n",
      "\u001b[A"
     ]
    },
    {
     "name": "stdout",
     "output_type": "stream",
     "text": [
      "{'eval_loss': 0.043276507407426834, 'eval_runtime': 0.0261, 'eval_samples_per_second': 421.511, 'eval_steps_per_second': 229.915, 'epoch': 82.98}\n"
     ]
    },
    {
     "name": "stderr",
     "output_type": "stream",
     "text": [
      "                                                  \n",
      "  2%|▏         | 110/4700 [18:27<11:05,  6.90it/s] "
     ]
    },
    {
     "name": "stdout",
     "output_type": "stream",
     "text": [
      "{'loss': 0.0005, 'grad_norm': 0.0036377734504640102, 'learning_rate': 1.6808510638297873e-06, 'epoch': 83.19}\n"
     ]
    },
    {
     "name": "stderr",
     "output_type": "stream",
     "text": [
      "\n",
      "\u001b[A\n",
      "\n",
      "                                                  \n",
      "\u001b[A                                                \n",
      "  2%|▏         | 110/4700 [18:27<11:05,  6.90it/s]\n",
      "\u001b[A"
     ]
    },
    {
     "name": "stdout",
     "output_type": "stream",
     "text": [
      "{'eval_loss': 0.043259214609861374, 'eval_runtime': 0.0268, 'eval_samples_per_second': 410.716, 'eval_steps_per_second': 224.027, 'epoch': 83.19}\n"
     ]
    },
    {
     "name": "stderr",
     "output_type": "stream",
     "text": [
      "                                                  \n",
      "  2%|▏         | 110/4700 [18:29<11:05,  6.90it/s] "
     ]
    },
    {
     "name": "stdout",
     "output_type": "stream",
     "text": [
      "{'loss': 0.0003, 'grad_norm': 0.0032893968746066093, 'learning_rate': 1.6595744680851064e-06, 'epoch': 83.4}\n"
     ]
    },
    {
     "name": "stderr",
     "output_type": "stream",
     "text": [
      "\n",
      "\u001b[A\n",
      "\n",
      "                                                  \n",
      "\u001b[A                                                \n",
      "  2%|▏         | 110/4700 [18:29<11:05,  6.90it/s]\n",
      "\u001b[A"
     ]
    },
    {
     "name": "stdout",
     "output_type": "stream",
     "text": [
      "{'eval_loss': 0.04324755445122719, 'eval_runtime': 0.0251, 'eval_samples_per_second': 438.948, 'eval_steps_per_second': 239.426, 'epoch': 83.4}\n"
     ]
    },
    {
     "name": "stderr",
     "output_type": "stream",
     "text": [
      "                                                  \n",
      "  2%|▏         | 110/4700 [18:31<11:05,  6.90it/s] "
     ]
    },
    {
     "name": "stdout",
     "output_type": "stream",
     "text": [
      "{'loss': 0.0005, 'grad_norm': 0.009900118224322796, 'learning_rate': 1.6382978723404255e-06, 'epoch': 83.62}\n"
     ]
    },
    {
     "name": "stderr",
     "output_type": "stream",
     "text": [
      "\n",
      "\u001b[A\n",
      "\n",
      "                                                  \n",
      "\u001b[A                                                \n",
      "  2%|▏         | 110/4700 [18:31<11:05,  6.90it/s]\n",
      "\u001b[A"
     ]
    },
    {
     "name": "stdout",
     "output_type": "stream",
     "text": [
      "{'eval_loss': 0.04320010915398598, 'eval_runtime': 0.0263, 'eval_samples_per_second': 418.039, 'eval_steps_per_second': 228.022, 'epoch': 83.62}\n"
     ]
    },
    {
     "name": "stderr",
     "output_type": "stream",
     "text": [
      "                                                  \n",
      "  2%|▏         | 110/4700 [18:34<11:05,  6.90it/s] "
     ]
    },
    {
     "name": "stdout",
     "output_type": "stream",
     "text": [
      "{'loss': 0.0003, 'grad_norm': 0.006724526174366474, 'learning_rate': 1.617021276595745e-06, 'epoch': 83.83}\n"
     ]
    },
    {
     "name": "stderr",
     "output_type": "stream",
     "text": [
      "\n",
      "\u001b[A\n",
      "\n",
      "                                                  \n",
      "\u001b[A                                                \n",
      "  2%|▏         | 110/4700 [18:34<11:05,  6.90it/s]\n",
      "\u001b[A"
     ]
    },
    {
     "name": "stdout",
     "output_type": "stream",
     "text": [
      "{'eval_loss': 0.04317227005958557, 'eval_runtime': 0.0288, 'eval_samples_per_second': 382.321, 'eval_steps_per_second': 208.539, 'epoch': 83.83}\n"
     ]
    },
    {
     "name": "stderr",
     "output_type": "stream",
     "text": [
      "                                                  \n",
      "  2%|▏         | 110/4700 [18:36<11:05,  6.90it/s] "
     ]
    },
    {
     "name": "stdout",
     "output_type": "stream",
     "text": [
      "{'loss': 0.0003, 'grad_norm': 0.0040491437539458275, 'learning_rate': 1.595744680851064e-06, 'epoch': 84.04}\n"
     ]
    },
    {
     "name": "stderr",
     "output_type": "stream",
     "text": [
      "\n",
      "\u001b[A\n",
      "\n",
      "                                                  \n",
      "\u001b[A                                                \n",
      "  2%|▏         | 110/4700 [18:36<11:05,  6.90it/s]\n",
      "\u001b[A"
     ]
    },
    {
     "name": "stdout",
     "output_type": "stream",
     "text": [
      "{'eval_loss': 0.04314645752310753, 'eval_runtime': 0.0279, 'eval_samples_per_second': 394.782, 'eval_steps_per_second': 215.335, 'epoch': 84.04}\n"
     ]
    },
    {
     "name": "stderr",
     "output_type": "stream",
     "text": [
      "                                                  \n",
      "  2%|▏         | 110/4700 [18:39<11:05,  6.90it/s] "
     ]
    },
    {
     "name": "stdout",
     "output_type": "stream",
     "text": [
      "{'loss': 0.0004, 'grad_norm': 0.0034245415590703487, 'learning_rate': 1.5744680851063832e-06, 'epoch': 84.26}\n"
     ]
    },
    {
     "name": "stderr",
     "output_type": "stream",
     "text": [
      "\n",
      "\u001b[A\n",
      "\n",
      "                                                  \n",
      "\u001b[A                                                \n",
      "  2%|▏         | 110/4700 [18:39<11:05,  6.90it/s]\n",
      "\u001b[A"
     ]
    },
    {
     "name": "stdout",
     "output_type": "stream",
     "text": [
      "{'eval_loss': 0.04311314597725868, 'eval_runtime': 0.0281, 'eval_samples_per_second': 391.147, 'eval_steps_per_second': 213.353, 'epoch': 84.26}\n"
     ]
    },
    {
     "name": "stderr",
     "output_type": "stream",
     "text": [
      "                                                  \n",
      "  2%|▏         | 110/4700 [18:41<11:05,  6.90it/s] "
     ]
    },
    {
     "name": "stdout",
     "output_type": "stream",
     "text": [
      "{'loss': 0.0004, 'grad_norm': 0.0041833361610770226, 'learning_rate': 1.5531914893617023e-06, 'epoch': 84.47}\n"
     ]
    },
    {
     "name": "stderr",
     "output_type": "stream",
     "text": [
      "\n",
      "\u001b[A\n",
      "\n",
      "                                                  \n",
      "\u001b[A                                                \n",
      "  2%|▏         | 110/4700 [18:41<11:05,  6.90it/s]\n",
      "\u001b[A"
     ]
    },
    {
     "name": "stdout",
     "output_type": "stream",
     "text": [
      "{'eval_loss': 0.04308387637138367, 'eval_runtime': 0.028, 'eval_samples_per_second': 393.264, 'eval_steps_per_second': 214.508, 'epoch': 84.47}\n"
     ]
    },
    {
     "name": "stderr",
     "output_type": "stream",
     "text": [
      "                                                  \n",
      "  2%|▏         | 110/4700 [18:43<11:05,  6.90it/s] "
     ]
    },
    {
     "name": "stdout",
     "output_type": "stream",
     "text": [
      "{'loss': 0.0003, 'grad_norm': 0.0040388028137385845, 'learning_rate': 1.5319148936170214e-06, 'epoch': 84.68}\n"
     ]
    },
    {
     "name": "stderr",
     "output_type": "stream",
     "text": [
      "\n",
      "\u001b[A\n",
      "\n",
      "                                                  \n",
      "\u001b[A                                                \n",
      "  2%|▏         | 110/4700 [18:43<11:05,  6.90it/s]\n",
      "\u001b[A"
     ]
    },
    {
     "name": "stdout",
     "output_type": "stream",
     "text": [
      "{'eval_loss': 0.04307457432150841, 'eval_runtime': 0.0257, 'eval_samples_per_second': 428.714, 'eval_steps_per_second': 233.844, 'epoch': 84.68}\n"
     ]
    },
    {
     "name": "stderr",
     "output_type": "stream",
     "text": [
      "                                                  \n",
      "  2%|▏         | 110/4700 [18:46<11:05,  6.90it/s] "
     ]
    },
    {
     "name": "stdout",
     "output_type": "stream",
     "text": [
      "{'loss': 0.0003, 'grad_norm': 0.0039900545962154865, 'learning_rate': 1.5106382978723405e-06, 'epoch': 84.89}\n"
     ]
    },
    {
     "name": "stderr",
     "output_type": "stream",
     "text": [
      "\n",
      "\u001b[A\n",
      "\n",
      "                                                  \n",
      "\u001b[A                                                \n",
      "  2%|▏         | 110/4700 [18:46<11:05,  6.90it/s]\n",
      "\u001b[A"
     ]
    },
    {
     "name": "stdout",
     "output_type": "stream",
     "text": [
      "{'eval_loss': 0.0430673323571682, 'eval_runtime': 0.0294, 'eval_samples_per_second': 374.209, 'eval_steps_per_second': 204.114, 'epoch': 84.89}\n"
     ]
    },
    {
     "name": "stderr",
     "output_type": "stream",
     "text": [
      "                                                  \n",
      "  2%|▏         | 110/4700 [18:48<11:05,  6.90it/s] "
     ]
    },
    {
     "name": "stdout",
     "output_type": "stream",
     "text": [
      "{'loss': 0.0007, 'grad_norm': 0.005070182494819164, 'learning_rate': 1.4893617021276596e-06, 'epoch': 85.11}\n"
     ]
    },
    {
     "name": "stderr",
     "output_type": "stream",
     "text": [
      "\n",
      "\u001b[A\n",
      "\n",
      "                                                  \n",
      "\u001b[A                                                \n",
      "  2%|▏         | 110/4700 [18:48<11:05,  6.90it/s]\n",
      "\u001b[A"
     ]
    },
    {
     "name": "stdout",
     "output_type": "stream",
     "text": [
      "{'eval_loss': 0.04304209724068642, 'eval_runtime': 0.0288, 'eval_samples_per_second': 382.552, 'eval_steps_per_second': 208.665, 'epoch': 85.11}\n"
     ]
    },
    {
     "name": "stderr",
     "output_type": "stream",
     "text": [
      "                                                  \n",
      "  2%|▏         | 110/4700 [18:50<11:05,  6.90it/s] "
     ]
    },
    {
     "name": "stdout",
     "output_type": "stream",
     "text": [
      "{'loss': 0.0005, 'grad_norm': 0.0032463925890624523, 'learning_rate': 1.4680851063829787e-06, 'epoch': 85.32}\n"
     ]
    },
    {
     "name": "stderr",
     "output_type": "stream",
     "text": [
      "\n",
      "\u001b[A\n",
      "\n",
      "                                                  \n",
      "\u001b[A                                                \n",
      "  2%|▏         | 110/4700 [18:50<11:05,  6.90it/s]\n",
      "\u001b[A"
     ]
    },
    {
     "name": "stdout",
     "output_type": "stream",
     "text": [
      "{'eval_loss': 0.04298315569758415, 'eval_runtime': 0.0253, 'eval_samples_per_second': 435.192, 'eval_steps_per_second': 237.378, 'epoch': 85.32}\n"
     ]
    },
    {
     "name": "stderr",
     "output_type": "stream",
     "text": [
      "                                                  \n",
      "  2%|▏         | 110/4700 [18:52<11:05,  6.90it/s] "
     ]
    },
    {
     "name": "stdout",
     "output_type": "stream",
     "text": [
      "{'loss': 0.0003, 'grad_norm': 0.0032238399144262075, 'learning_rate': 1.4468085106382978e-06, 'epoch': 85.53}\n"
     ]
    },
    {
     "name": "stderr",
     "output_type": "stream",
     "text": [
      "\n",
      "\u001b[A\n",
      "\n",
      "                                                  \n",
      "\u001b[A                                                \n",
      "  2%|▏         | 110/4700 [18:53<11:05,  6.90it/s]\n",
      "\u001b[A"
     ]
    },
    {
     "name": "stdout",
     "output_type": "stream",
     "text": [
      "{'eval_loss': 0.042949602007865906, 'eval_runtime': 0.0321, 'eval_samples_per_second': 342.232, 'eval_steps_per_second': 186.672, 'epoch': 85.53}\n"
     ]
    },
    {
     "name": "stderr",
     "output_type": "stream",
     "text": [
      "                                                  \n",
      "  2%|▏         | 110/4700 [18:55<11:05,  6.90it/s] "
     ]
    },
    {
     "name": "stdout",
     "output_type": "stream",
     "text": [
      "{'loss': 0.0003, 'grad_norm': 0.0031864112243056297, 'learning_rate': 1.4255319148936173e-06, 'epoch': 85.74}\n"
     ]
    },
    {
     "name": "stderr",
     "output_type": "stream",
     "text": [
      "\n",
      "\u001b[A\n",
      "\n",
      "                                                  \n",
      "\u001b[A                                                \n",
      "  2%|▏         | 110/4700 [18:55<11:05,  6.90it/s]\n",
      "\u001b[A"
     ]
    },
    {
     "name": "stdout",
     "output_type": "stream",
     "text": [
      "{'eval_loss': 0.04287946969270706, 'eval_runtime': 0.0324, 'eval_samples_per_second': 339.223, 'eval_steps_per_second': 185.031, 'epoch': 85.74}\n"
     ]
    },
    {
     "name": "stderr",
     "output_type": "stream",
     "text": [
      "                                                  \n",
      "  2%|▏         | 110/4700 [18:57<11:05,  6.90it/s] "
     ]
    },
    {
     "name": "stdout",
     "output_type": "stream",
     "text": [
      "{'loss': 0.0002, 'grad_norm': 0.0060543641448020935, 'learning_rate': 1.4042553191489364e-06, 'epoch': 85.96}\n"
     ]
    },
    {
     "name": "stderr",
     "output_type": "stream",
     "text": [
      "\n",
      "\u001b[A\n",
      "\n",
      "                                                  \n",
      "\u001b[A                                                \n",
      "  2%|▏         | 110/4700 [18:57<11:05,  6.90it/s]\n",
      "\u001b[A"
     ]
    },
    {
     "name": "stdout",
     "output_type": "stream",
     "text": [
      "{'eval_loss': 0.04283607751131058, 'eval_runtime': 0.0277, 'eval_samples_per_second': 397.653, 'eval_steps_per_second': 216.902, 'epoch': 85.96}\n"
     ]
    },
    {
     "name": "stderr",
     "output_type": "stream",
     "text": [
      "                                                  \n",
      "  2%|▏         | 110/4700 [19:00<11:05,  6.90it/s] "
     ]
    },
    {
     "name": "stdout",
     "output_type": "stream",
     "text": [
      "{'loss': 0.0004, 'grad_norm': 0.002874411176890135, 'learning_rate': 1.3829787234042555e-06, 'epoch': 86.17}\n"
     ]
    },
    {
     "name": "stderr",
     "output_type": "stream",
     "text": [
      "\n",
      "\u001b[A\n",
      "\n",
      "                                                  \n",
      "\u001b[A                                                \n",
      "  2%|▏         | 110/4700 [19:00<11:05,  6.90it/s]\n",
      "\u001b[A"
     ]
    },
    {
     "name": "stdout",
     "output_type": "stream",
     "text": [
      "{'eval_loss': 0.042793240398168564, 'eval_runtime': 0.0293, 'eval_samples_per_second': 374.86, 'eval_steps_per_second': 204.469, 'epoch': 86.17}\n"
     ]
    },
    {
     "name": "stderr",
     "output_type": "stream",
     "text": [
      "                                                  \n",
      "  2%|▏         | 110/4700 [19:02<11:05,  6.90it/s] "
     ]
    },
    {
     "name": "stdout",
     "output_type": "stream",
     "text": [
      "{'loss': 0.0004, 'grad_norm': 0.0041864896193146706, 'learning_rate': 1.3617021276595746e-06, 'epoch': 86.38}\n"
     ]
    },
    {
     "name": "stderr",
     "output_type": "stream",
     "text": [
      "\n",
      "\u001b[A\n",
      "\n",
      "                                                  \n",
      "\u001b[A                                                \n",
      "  2%|▏         | 110/4700 [19:02<11:05,  6.90it/s]\n",
      "\u001b[A"
     ]
    },
    {
     "name": "stdout",
     "output_type": "stream",
     "text": [
      "{'eval_loss': 0.04278605058789253, 'eval_runtime': 0.0264, 'eval_samples_per_second': 417.151, 'eval_steps_per_second': 227.537, 'epoch': 86.38}\n"
     ]
    },
    {
     "name": "stderr",
     "output_type": "stream",
     "text": [
      "                                                  \n",
      "  2%|▏         | 110/4700 [19:04<11:05,  6.90it/s] "
     ]
    },
    {
     "name": "stdout",
     "output_type": "stream",
     "text": [
      "{'loss': 0.0004, 'grad_norm': 0.003724592737853527, 'learning_rate': 1.3404255319148937e-06, 'epoch': 86.6}\n"
     ]
    },
    {
     "name": "stderr",
     "output_type": "stream",
     "text": [
      "\n",
      "\u001b[A\n",
      "\n",
      "                                                  \n",
      "\u001b[A                                                \n",
      "  2%|▏         | 110/4700 [19:04<11:05,  6.90it/s]\n",
      "\u001b[A"
     ]
    },
    {
     "name": "stdout",
     "output_type": "stream",
     "text": [
      "{'eval_loss': 0.04275644198060036, 'eval_runtime': 0.0282, 'eval_samples_per_second': 389.555, 'eval_steps_per_second': 212.485, 'epoch': 86.6}\n"
     ]
    },
    {
     "name": "stderr",
     "output_type": "stream",
     "text": [
      "                                                  \n",
      "  2%|▏         | 110/4700 [19:07<11:05,  6.90it/s] "
     ]
    },
    {
     "name": "stdout",
     "output_type": "stream",
     "text": [
      "{'loss': 0.0003, 'grad_norm': 0.0032613808289170265, 'learning_rate': 1.3191489361702128e-06, 'epoch': 86.81}\n"
     ]
    },
    {
     "name": "stderr",
     "output_type": "stream",
     "text": [
      "\n",
      "\u001b[A\n",
      "\n",
      "                                                  \n",
      "\u001b[A                                                \n",
      "  2%|▏         | 110/4700 [19:07<11:05,  6.90it/s]\n",
      "\u001b[A"
     ]
    },
    {
     "name": "stdout",
     "output_type": "stream",
     "text": [
      "{'eval_loss': 0.04274554178118706, 'eval_runtime': 0.0287, 'eval_samples_per_second': 383.576, 'eval_steps_per_second': 209.224, 'epoch': 86.81}\n"
     ]
    },
    {
     "name": "stderr",
     "output_type": "stream",
     "text": [
      "                                                  \n",
      "  2%|▏         | 110/4700 [19:09<11:05,  6.90it/s] "
     ]
    },
    {
     "name": "stdout",
     "output_type": "stream",
     "text": [
      "{'loss': 0.0003, 'grad_norm': 0.0034241562243551016, 'learning_rate': 1.297872340425532e-06, 'epoch': 87.02}\n"
     ]
    },
    {
     "name": "stderr",
     "output_type": "stream",
     "text": [
      "\n",
      "\u001b[A\n",
      "\n",
      "                                                  \n",
      "\u001b[A                                                \n",
      "  2%|▏         | 110/4700 [19:09<11:05,  6.90it/s]\n",
      "\u001b[A"
     ]
    },
    {
     "name": "stdout",
     "output_type": "stream",
     "text": [
      "{'eval_loss': 0.042733825743198395, 'eval_runtime': 0.0313, 'eval_samples_per_second': 351.292, 'eval_steps_per_second': 191.614, 'epoch': 87.02}\n"
     ]
    },
    {
     "name": "stderr",
     "output_type": "stream",
     "text": [
      "                                                  \n",
      "  2%|▏         | 110/4700 [19:12<11:05,  6.90it/s] "
     ]
    },
    {
     "name": "stdout",
     "output_type": "stream",
     "text": [
      "{'loss': 0.0004, 'grad_norm': 0.002910914132371545, 'learning_rate': 1.276595744680851e-06, 'epoch': 87.23}\n"
     ]
    },
    {
     "name": "stderr",
     "output_type": "stream",
     "text": [
      "\n",
      "\u001b[A\n",
      "\n",
      "                                                  \n",
      "\u001b[A                                                \n",
      "  2%|▏         | 110/4700 [19:12<11:05,  6.90it/s]\n",
      "\u001b[A"
     ]
    },
    {
     "name": "stdout",
     "output_type": "stream",
     "text": [
      "{'eval_loss': 0.042701270431280136, 'eval_runtime': 0.0295, 'eval_samples_per_second': 373.201, 'eval_steps_per_second': 203.564, 'epoch': 87.23}\n"
     ]
    },
    {
     "name": "stderr",
     "output_type": "stream",
     "text": [
      "                                                  \n",
      "  2%|▏         | 110/4700 [19:15<11:05,  6.90it/s] "
     ]
    },
    {
     "name": "stdout",
     "output_type": "stream",
     "text": [
      "{'loss': 0.0003, 'grad_norm': 0.004604946356266737, 'learning_rate': 1.2553191489361701e-06, 'epoch': 87.45}\n"
     ]
    },
    {
     "name": "stderr",
     "output_type": "stream",
     "text": [
      "\n",
      "\u001b[A\n",
      "\n",
      "                                                  \n",
      "\u001b[A                                                \n",
      "  2%|▏         | 110/4700 [19:15<11:05,  6.90it/s]\n",
      "\u001b[A"
     ]
    },
    {
     "name": "stdout",
     "output_type": "stream",
     "text": [
      "{'eval_loss': 0.04274776577949524, 'eval_runtime': 0.0319, 'eval_samples_per_second': 344.826, 'eval_steps_per_second': 188.087, 'epoch': 87.45}\n"
     ]
    },
    {
     "name": "stderr",
     "output_type": "stream",
     "text": [
      "                                                  \n",
      "  2%|▏         | 110/4700 [19:17<11:05,  6.90it/s] "
     ]
    },
    {
     "name": "stdout",
     "output_type": "stream",
     "text": [
      "{'loss': 0.0002, 'grad_norm': 0.0034161785151809454, 'learning_rate': 1.2340425531914894e-06, 'epoch': 87.66}\n"
     ]
    },
    {
     "name": "stderr",
     "output_type": "stream",
     "text": [
      "\n",
      "\u001b[A\n",
      "\n",
      "                                                  \n",
      "\u001b[A                                                \n",
      "  2%|▏         | 110/4700 [19:17<11:05,  6.90it/s]\n",
      "\u001b[A"
     ]
    },
    {
     "name": "stdout",
     "output_type": "stream",
     "text": [
      "{'eval_loss': 0.04277525842189789, 'eval_runtime': 0.0299, 'eval_samples_per_second': 367.696, 'eval_steps_per_second': 200.561, 'epoch': 87.66}\n"
     ]
    },
    {
     "name": "stderr",
     "output_type": "stream",
     "text": [
      "                                                  \n",
      "  2%|▏         | 110/4700 [19:20<11:05,  6.90it/s] "
     ]
    },
    {
     "name": "stdout",
     "output_type": "stream",
     "text": [
      "{'loss': 0.0004, 'grad_norm': 0.0030783889815211296, 'learning_rate': 1.2127659574468085e-06, 'epoch': 87.87}\n"
     ]
    },
    {
     "name": "stderr",
     "output_type": "stream",
     "text": [
      "\n",
      "\u001b[A\n",
      "\n",
      "                                                  \n",
      "\u001b[A                                                \n",
      "  2%|▏         | 110/4700 [19:20<11:05,  6.90it/s]\n",
      "\u001b[A"
     ]
    },
    {
     "name": "stdout",
     "output_type": "stream",
     "text": [
      "{'eval_loss': 0.042759474366903305, 'eval_runtime': 0.0329, 'eval_samples_per_second': 334.273, 'eval_steps_per_second': 182.331, 'epoch': 87.87}\n"
     ]
    },
    {
     "name": "stderr",
     "output_type": "stream",
     "text": [
      "                                                  \n",
      "  2%|▏         | 110/4700 [19:22<11:05,  6.90it/s] "
     ]
    },
    {
     "name": "stdout",
     "output_type": "stream",
     "text": [
      "{'loss': 0.0003, 'grad_norm': 0.006990404799580574, 'learning_rate': 1.1914893617021278e-06, 'epoch': 88.09}\n"
     ]
    },
    {
     "name": "stderr",
     "output_type": "stream",
     "text": [
      "\n",
      "\u001b[A\n",
      "\n",
      "                                                  \n",
      "\u001b[A                                                \n",
      "  2%|▏         | 110/4700 [19:22<11:05,  6.90it/s]\n",
      "\u001b[A"
     ]
    },
    {
     "name": "stdout",
     "output_type": "stream",
     "text": [
      "{'eval_loss': 0.04275300353765488, 'eval_runtime': 0.0297, 'eval_samples_per_second': 370.293, 'eval_steps_per_second': 201.978, 'epoch': 88.09}\n"
     ]
    },
    {
     "name": "stderr",
     "output_type": "stream",
     "text": [
      "                                                  \n",
      "  2%|▏         | 110/4700 [19:24<11:05,  6.90it/s] "
     ]
    },
    {
     "name": "stdout",
     "output_type": "stream",
     "text": [
      "{'loss': 0.0003, 'grad_norm': 0.00757124787196517, 'learning_rate': 1.170212765957447e-06, 'epoch': 88.3}\n"
     ]
    },
    {
     "name": "stderr",
     "output_type": "stream",
     "text": [
      "\n",
      "\u001b[A\n",
      "\n",
      "                                                  \n",
      "\u001b[A                                                \n",
      "  2%|▏         | 110/4700 [19:24<11:05,  6.90it/s]\n",
      "\u001b[A"
     ]
    },
    {
     "name": "stdout",
     "output_type": "stream",
     "text": [
      "{'eval_loss': 0.04281832277774811, 'eval_runtime': 0.0286, 'eval_samples_per_second': 384.937, 'eval_steps_per_second': 209.965, 'epoch': 88.3}\n"
     ]
    },
    {
     "name": "stderr",
     "output_type": "stream",
     "text": [
      "                                                  \n",
      "  2%|▏         | 110/4700 [19:26<11:05,  6.90it/s] "
     ]
    },
    {
     "name": "stdout",
     "output_type": "stream",
     "text": [
      "{'loss': 0.0003, 'grad_norm': 0.0038441643118858337, 'learning_rate': 1.148936170212766e-06, 'epoch': 88.51}\n"
     ]
    },
    {
     "name": "stderr",
     "output_type": "stream",
     "text": [
      "\n",
      "\u001b[A\n",
      "\n",
      "                                                  \n",
      "\u001b[A                                                \n",
      "  2%|▏         | 110/4700 [19:27<11:05,  6.90it/s]\n",
      "\u001b[A"
     ]
    },
    {
     "name": "stdout",
     "output_type": "stream",
     "text": [
      "{'eval_loss': 0.0428580678999424, 'eval_runtime': 0.0321, 'eval_samples_per_second': 342.634, 'eval_steps_per_second': 186.891, 'epoch': 88.51}\n"
     ]
    },
    {
     "name": "stderr",
     "output_type": "stream",
     "text": [
      "                                                  \n",
      "  2%|▏         | 110/4700 [19:29<11:05,  6.90it/s] "
     ]
    },
    {
     "name": "stdout",
     "output_type": "stream",
     "text": [
      "{'loss': 0.0004, 'grad_norm': 0.00601077638566494, 'learning_rate': 1.1276595744680851e-06, 'epoch': 88.72}\n"
     ]
    },
    {
     "name": "stderr",
     "output_type": "stream",
     "text": [
      "\n",
      "\u001b[A\n",
      "\n",
      "                                                  \n",
      "\u001b[A                                                \n",
      "  2%|▏         | 110/4700 [19:29<11:05,  6.90it/s]\n",
      "\u001b[A"
     ]
    },
    {
     "name": "stdout",
     "output_type": "stream",
     "text": [
      "{'eval_loss': 0.04288192465901375, 'eval_runtime': 0.0302, 'eval_samples_per_second': 363.77, 'eval_steps_per_second': 198.42, 'epoch': 88.72}\n"
     ]
    },
    {
     "name": "stderr",
     "output_type": "stream",
     "text": [
      "                                                  \n",
      "  2%|▏         | 110/4700 [19:31<11:05,  6.90it/s] "
     ]
    },
    {
     "name": "stdout",
     "output_type": "stream",
     "text": [
      "{'loss': 0.0004, 'grad_norm': 0.004350239410996437, 'learning_rate': 1.1063829787234042e-06, 'epoch': 88.94}\n"
     ]
    },
    {
     "name": "stderr",
     "output_type": "stream",
     "text": [
      "\n",
      "\u001b[A\n",
      "\n",
      "                                                  \n",
      "\u001b[A                                                \n",
      "  2%|▏         | 110/4700 [19:31<11:05,  6.90it/s]\n",
      "\u001b[A"
     ]
    },
    {
     "name": "stdout",
     "output_type": "stream",
     "text": [
      "{'eval_loss': 0.04287312924861908, 'eval_runtime': 0.0309, 'eval_samples_per_second': 356.355, 'eval_steps_per_second': 194.376, 'epoch': 88.94}\n"
     ]
    },
    {
     "name": "stderr",
     "output_type": "stream",
     "text": [
      "                                                  \n",
      "  2%|▏         | 110/4700 [19:33<11:05,  6.90it/s] "
     ]
    },
    {
     "name": "stdout",
     "output_type": "stream",
     "text": [
      "{'loss': 0.0003, 'grad_norm': 0.0034942026250064373, 'learning_rate': 1.0851063829787236e-06, 'epoch': 89.15}\n"
     ]
    },
    {
     "name": "stderr",
     "output_type": "stream",
     "text": [
      "\n",
      "\u001b[A\n",
      "\n",
      "                                                  \n",
      "\u001b[A                                                \n",
      "  2%|▏         | 110/4700 [19:33<11:05,  6.90it/s]\n",
      "\u001b[A"
     ]
    },
    {
     "name": "stdout",
     "output_type": "stream",
     "text": [
      "{'eval_loss': 0.042857587337493896, 'eval_runtime': 0.0308, 'eval_samples_per_second': 357.089, 'eval_steps_per_second': 194.776, 'epoch': 89.15}\n"
     ]
    },
    {
     "name": "stderr",
     "output_type": "stream",
     "text": [
      "                                                  \n",
      "  2%|▏         | 110/4700 [19:36<11:05,  6.90it/s] "
     ]
    },
    {
     "name": "stdout",
     "output_type": "stream",
     "text": [
      "{'loss': 0.0003, 'grad_norm': 0.0042076678946614265, 'learning_rate': 1.0638297872340427e-06, 'epoch': 89.36}\n"
     ]
    },
    {
     "name": "stderr",
     "output_type": "stream",
     "text": [
      "\n",
      "\u001b[A\n",
      "\n",
      "                                                  \n",
      "\u001b[A                                                \n",
      "  2%|▏         | 110/4700 [19:36<11:05,  6.90it/s]\n",
      "\u001b[A"
     ]
    },
    {
     "name": "stdout",
     "output_type": "stream",
     "text": [
      "{'eval_loss': 0.04283514618873596, 'eval_runtime': 0.0276, 'eval_samples_per_second': 397.983, 'eval_steps_per_second': 217.081, 'epoch': 89.36}\n"
     ]
    },
    {
     "name": "stderr",
     "output_type": "stream",
     "text": [
      "                                                  \n",
      "  2%|▏         | 110/4700 [19:38<11:05,  6.90it/s] "
     ]
    },
    {
     "name": "stdout",
     "output_type": "stream",
     "text": [
      "{'loss': 0.0004, 'grad_norm': 0.01699356734752655, 'learning_rate': 1.0425531914893618e-06, 'epoch': 89.57}\n"
     ]
    },
    {
     "name": "stderr",
     "output_type": "stream",
     "text": [
      "\n",
      "\u001b[A\n",
      "\n",
      "                                                  \n",
      "\u001b[A                                                \n",
      "  2%|▏         | 110/4700 [19:38<11:05,  6.90it/s]\n",
      "\u001b[A"
     ]
    },
    {
     "name": "stdout",
     "output_type": "stream",
     "text": [
      "{'eval_loss': 0.0428195595741272, 'eval_runtime': 0.0272, 'eval_samples_per_second': 405.126, 'eval_steps_per_second': 220.978, 'epoch': 89.57}\n"
     ]
    },
    {
     "name": "stderr",
     "output_type": "stream",
     "text": [
      "                                                  \n",
      "  2%|▏         | 110/4700 [19:40<11:05,  6.90it/s] "
     ]
    },
    {
     "name": "stdout",
     "output_type": "stream",
     "text": [
      "{'loss': 0.0003, 'grad_norm': 0.0032274993136525154, 'learning_rate': 1.0212765957446809e-06, 'epoch': 89.79}\n"
     ]
    },
    {
     "name": "stderr",
     "output_type": "stream",
     "text": [
      "\n",
      "\u001b[A\n",
      "\n",
      "                                                  \n",
      "\u001b[A                                                \n",
      "  2%|▏         | 110/4700 [19:40<11:05,  6.90it/s]\n",
      "\u001b[A"
     ]
    },
    {
     "name": "stdout",
     "output_type": "stream",
     "text": [
      "{'eval_loss': 0.04286090284585953, 'eval_runtime': 0.0307, 'eval_samples_per_second': 358.624, 'eval_steps_per_second': 195.613, 'epoch': 89.79}\n"
     ]
    },
    {
     "name": "stderr",
     "output_type": "stream",
     "text": [
      "                                                  \n",
      "  2%|▏         | 110/4700 [19:43<11:05,  6.90it/s] "
     ]
    },
    {
     "name": "stdout",
     "output_type": "stream",
     "text": [
      "{'loss': 0.0004, 'grad_norm': 0.003128661774098873, 'learning_rate': 1.0000000000000002e-06, 'epoch': 90.0}\n"
     ]
    },
    {
     "name": "stderr",
     "output_type": "stream",
     "text": [
      "\n",
      "\u001b[A\n",
      "\n",
      "                                                  \n",
      "\u001b[A                                                \n",
      "  2%|▏         | 110/4700 [19:43<11:05,  6.90it/s]\n",
      "\u001b[A"
     ]
    },
    {
     "name": "stdout",
     "output_type": "stream",
     "text": [
      "{'eval_loss': 0.042874738574028015, 'eval_runtime': 0.0336, 'eval_samples_per_second': 327.759, 'eval_steps_per_second': 178.778, 'epoch': 90.0}\n"
     ]
    },
    {
     "name": "stderr",
     "output_type": "stream",
     "text": [
      "                                                  \n",
      "  2%|▏         | 110/4700 [19:45<11:05,  6.90it/s] "
     ]
    },
    {
     "name": "stdout",
     "output_type": "stream",
     "text": [
      "{'loss': 0.0003, 'grad_norm': 0.005335564259439707, 'learning_rate': 9.787234042553193e-07, 'epoch': 90.21}\n"
     ]
    },
    {
     "name": "stderr",
     "output_type": "stream",
     "text": [
      "\n",
      "\u001b[A\n",
      "\n",
      "                                                  \n",
      "\u001b[A                                                \n",
      "  2%|▏         | 110/4700 [19:45<11:05,  6.90it/s]\n",
      "\u001b[A"
     ]
    },
    {
     "name": "stdout",
     "output_type": "stream",
     "text": [
      "{'eval_loss': 0.042901959270238876, 'eval_runtime': 0.0261, 'eval_samples_per_second': 421.242, 'eval_steps_per_second': 229.768, 'epoch': 90.21}\n"
     ]
    },
    {
     "name": "stderr",
     "output_type": "stream",
     "text": [
      "                                                  \n",
      "  2%|▏         | 110/4700 [19:47<11:05,  6.90it/s] "
     ]
    },
    {
     "name": "stdout",
     "output_type": "stream",
     "text": [
      "{'loss': 0.0005, 'grad_norm': 0.0035357046872377396, 'learning_rate': 9.574468085106384e-07, 'epoch': 90.43}\n"
     ]
    },
    {
     "name": "stderr",
     "output_type": "stream",
     "text": [
      "\n",
      "\u001b[A\n",
      "\n",
      "                                                  \n",
      "\u001b[A                                                \n",
      "  2%|▏         | 110/4700 [19:48<11:05,  6.90it/s]\n",
      "\u001b[A"
     ]
    },
    {
     "name": "stdout",
     "output_type": "stream",
     "text": [
      "{'eval_loss': 0.04291531443595886, 'eval_runtime': 0.028, 'eval_samples_per_second': 393.448, 'eval_steps_per_second': 214.608, 'epoch': 90.43}\n"
     ]
    },
    {
     "name": "stderr",
     "output_type": "stream",
     "text": [
      "                                                  \n",
      "  2%|▏         | 110/4700 [19:50<11:05,  6.90it/s] "
     ]
    },
    {
     "name": "stdout",
     "output_type": "stream",
     "text": [
      "{'loss': 0.0003, 'grad_norm': 0.018120374530553818, 'learning_rate': 9.361702127659575e-07, 'epoch': 90.64}\n"
     ]
    },
    {
     "name": "stderr",
     "output_type": "stream",
     "text": [
      "\n",
      "\u001b[A\n",
      "\n",
      "                                                  \n",
      "\u001b[A                                                \n",
      "  2%|▏         | 110/4700 [19:50<11:05,  6.90it/s]\n",
      "\u001b[A"
     ]
    },
    {
     "name": "stdout",
     "output_type": "stream",
     "text": [
      "{'eval_loss': 0.04289865866303444, 'eval_runtime': 0.0295, 'eval_samples_per_second': 373.029, 'eval_steps_per_second': 203.47, 'epoch': 90.64}\n"
     ]
    },
    {
     "name": "stderr",
     "output_type": "stream",
     "text": [
      "                                                  \n",
      "  2%|▏         | 110/4700 [19:53<11:05,  6.90it/s] "
     ]
    },
    {
     "name": "stdout",
     "output_type": "stream",
     "text": [
      "{'loss': 0.0003, 'grad_norm': 0.002894084434956312, 'learning_rate': 9.148936170212766e-07, 'epoch': 90.85}\n"
     ]
    },
    {
     "name": "stderr",
     "output_type": "stream",
     "text": [
      "\n",
      "\u001b[A\n",
      "\n",
      "                                                  \n",
      "\u001b[A                                                \n",
      "  2%|▏         | 110/4700 [19:53<11:05,  6.90it/s]\n",
      "\u001b[A"
     ]
    },
    {
     "name": "stdout",
     "output_type": "stream",
     "text": [
      "{'eval_loss': 0.04287629947066307, 'eval_runtime': 0.0325, 'eval_samples_per_second': 337.98, 'eval_steps_per_second': 184.353, 'epoch': 90.85}\n"
     ]
    },
    {
     "name": "stderr",
     "output_type": "stream",
     "text": [
      "                                                  \n",
      "  2%|▏         | 110/4700 [19:55<11:05,  6.90it/s] "
     ]
    },
    {
     "name": "stdout",
     "output_type": "stream",
     "text": [
      "{'loss': 0.0004, 'grad_norm': 0.0034130632411688566, 'learning_rate': 8.936170212765959e-07, 'epoch': 91.06}\n"
     ]
    },
    {
     "name": "stderr",
     "output_type": "stream",
     "text": [
      "\n",
      "\u001b[A\n",
      "\n",
      "                                                  \n",
      "\u001b[A                                                \n",
      "  2%|▏         | 110/4700 [19:55<11:05,  6.90it/s]\n",
      "\u001b[A"
     ]
    },
    {
     "name": "stdout",
     "output_type": "stream",
     "text": [
      "{'eval_loss': 0.042874421924352646, 'eval_runtime': 0.0298, 'eval_samples_per_second': 369.365, 'eval_steps_per_second': 201.472, 'epoch': 91.06}\n"
     ]
    },
    {
     "name": "stderr",
     "output_type": "stream",
     "text": [
      "                                                  \n",
      "  2%|▏         | 110/4700 [19:58<11:05,  6.90it/s] "
     ]
    },
    {
     "name": "stdout",
     "output_type": "stream",
     "text": [
      "{'loss': 0.0003, 'grad_norm': 0.002705120714381337, 'learning_rate': 8.72340425531915e-07, 'epoch': 91.28}\n"
     ]
    },
    {
     "name": "stderr",
     "output_type": "stream",
     "text": [
      "\n",
      "\u001b[A\n",
      "\n",
      "                                                  \n",
      "\u001b[A                                                \n",
      "  2%|▏         | 110/4700 [19:58<11:05,  6.90it/s]\n",
      "\u001b[A"
     ]
    },
    {
     "name": "stdout",
     "output_type": "stream",
     "text": [
      "{'eval_loss': 0.04287298396229744, 'eval_runtime': 0.0288, 'eval_samples_per_second': 381.338, 'eval_steps_per_second': 208.003, 'epoch': 91.28}\n"
     ]
    },
    {
     "name": "stderr",
     "output_type": "stream",
     "text": [
      "                                                  \n",
      "  2%|▏         | 110/4700 [20:00<11:05,  6.90it/s] "
     ]
    },
    {
     "name": "stdout",
     "output_type": "stream",
     "text": [
      "{'loss': 0.0003, 'grad_norm': 0.0034096059389412403, 'learning_rate': 8.510638297872341e-07, 'epoch': 91.49}\n"
     ]
    },
    {
     "name": "stderr",
     "output_type": "stream",
     "text": [
      "\n",
      "\u001b[A\n",
      "\n",
      "                                                  \n",
      "\u001b[A                                                \n",
      "  2%|▏         | 110/4700 [20:00<11:05,  6.90it/s]\n",
      "\u001b[A"
     ]
    },
    {
     "name": "stdout",
     "output_type": "stream",
     "text": [
      "{'eval_loss': 0.04285778850317001, 'eval_runtime': 0.0282, 'eval_samples_per_second': 389.65, 'eval_steps_per_second': 212.537, 'epoch': 91.49}\n"
     ]
    },
    {
     "name": "stderr",
     "output_type": "stream",
     "text": [
      "                                                  \n",
      "  2%|▏         | 110/4700 [20:03<11:05,  6.90it/s] "
     ]
    },
    {
     "name": "stdout",
     "output_type": "stream",
     "text": [
      "{'loss': 0.0005, 'grad_norm': 0.005327967461198568, 'learning_rate': 8.297872340425532e-07, 'epoch': 91.7}\n"
     ]
    },
    {
     "name": "stderr",
     "output_type": "stream",
     "text": [
      "\n",
      "\u001b[A\n",
      "\n",
      "                                                  \n",
      "\u001b[A                                                \n",
      "  2%|▏         | 110/4700 [20:03<11:05,  6.90it/s]\n",
      "\u001b[A"
     ]
    },
    {
     "name": "stdout",
     "output_type": "stream",
     "text": [
      "{'eval_loss': 0.042900845408439636, 'eval_runtime': 0.03, 'eval_samples_per_second': 366.213, 'eval_steps_per_second': 199.753, 'epoch': 91.7}\n"
     ]
    },
    {
     "name": "stderr",
     "output_type": "stream",
     "text": [
      "                                                  \n",
      "  2%|▏         | 110/4700 [20:05<11:05,  6.90it/s] "
     ]
    },
    {
     "name": "stdout",
     "output_type": "stream",
     "text": [
      "{'loss': 0.0003, 'grad_norm': 0.013383029960095882, 'learning_rate': 8.085106382978725e-07, 'epoch': 91.91}\n"
     ]
    },
    {
     "name": "stderr",
     "output_type": "stream",
     "text": [
      "\n",
      "\u001b[A\n",
      "\n",
      "                                                  \n",
      "\u001b[A                                                \n",
      "  2%|▏         | 110/4700 [20:05<11:05,  6.90it/s]\n",
      "\u001b[A"
     ]
    },
    {
     "name": "stdout",
     "output_type": "stream",
     "text": [
      "{'eval_loss': 0.04304942488670349, 'eval_runtime': 0.0269, 'eval_samples_per_second': 408.657, 'eval_steps_per_second': 222.904, 'epoch': 91.91}\n"
     ]
    },
    {
     "name": "stderr",
     "output_type": "stream",
     "text": [
      "                                                  \n",
      "  2%|▏         | 110/4700 [20:08<11:05,  6.90it/s] "
     ]
    },
    {
     "name": "stdout",
     "output_type": "stream",
     "text": [
      "{'loss': 0.0004, 'grad_norm': 0.0044424571096897125, 'learning_rate': 7.872340425531916e-07, 'epoch': 92.13}\n"
     ]
    },
    {
     "name": "stderr",
     "output_type": "stream",
     "text": [
      "\n",
      "\u001b[A\n",
      "\n",
      "                                                  \n",
      "\u001b[A                                                \n",
      "  2%|▏         | 110/4700 [20:08<11:05,  6.90it/s]\n",
      "\u001b[A"
     ]
    },
    {
     "name": "stdout",
     "output_type": "stream",
     "text": [
      "{'eval_loss': 0.043194178491830826, 'eval_runtime': 0.029, 'eval_samples_per_second': 378.911, 'eval_steps_per_second': 206.679, 'epoch': 92.13}\n"
     ]
    },
    {
     "name": "stderr",
     "output_type": "stream",
     "text": [
      "                                                  \n",
      "  2%|▏         | 110/4700 [20:10<11:05,  6.90it/s] "
     ]
    },
    {
     "name": "stdout",
     "output_type": "stream",
     "text": [
      "{'loss': 0.0004, 'grad_norm': 0.017584364861249924, 'learning_rate': 7.659574468085107e-07, 'epoch': 92.34}\n"
     ]
    },
    {
     "name": "stderr",
     "output_type": "stream",
     "text": [
      "\n",
      "\u001b[A\n",
      "\n",
      "                                                  \n",
      "\u001b[A                                                \n",
      "  2%|▏         | 110/4700 [20:10<11:05,  6.90it/s]\n",
      "\u001b[A"
     ]
    },
    {
     "name": "stdout",
     "output_type": "stream",
     "text": [
      "{'eval_loss': 0.04332021623849869, 'eval_runtime': 0.0279, 'eval_samples_per_second': 393.751, 'eval_steps_per_second': 214.773, 'epoch': 92.34}\n"
     ]
    },
    {
     "name": "stderr",
     "output_type": "stream",
     "text": [
      "                                                  \n",
      "  2%|▏         | 110/4700 [20:12<11:05,  6.90it/s] "
     ]
    },
    {
     "name": "stdout",
     "output_type": "stream",
     "text": [
      "{'loss': 0.0003, 'grad_norm': 0.0054885633289813995, 'learning_rate': 7.446808510638298e-07, 'epoch': 92.55}\n"
     ]
    },
    {
     "name": "stderr",
     "output_type": "stream",
     "text": [
      "\n",
      "\u001b[A\n",
      "\n",
      "                                                  \n",
      "\u001b[A                                                \n",
      "  2%|▏         | 110/4700 [20:12<11:05,  6.90it/s]\n",
      "\u001b[A"
     ]
    },
    {
     "name": "stdout",
     "output_type": "stream",
     "text": [
      "{'eval_loss': 0.04333190619945526, 'eval_runtime': 0.0283, 'eval_samples_per_second': 388.035, 'eval_steps_per_second': 211.655, 'epoch': 92.55}\n"
     ]
    },
    {
     "name": "stderr",
     "output_type": "stream",
     "text": [
      "                                                  \n",
      "  2%|▏         | 110/4700 [20:15<11:05,  6.90it/s] "
     ]
    },
    {
     "name": "stdout",
     "output_type": "stream",
     "text": [
      "{'loss': 0.0004, 'grad_norm': 0.00401670066639781, 'learning_rate': 7.234042553191489e-07, 'epoch': 92.77}\n"
     ]
    },
    {
     "name": "stderr",
     "output_type": "stream",
     "text": [
      "\n",
      "\u001b[A\n",
      "\n",
      "                                                  \n",
      "\u001b[A                                                \n",
      "  2%|▏         | 110/4700 [20:15<11:05,  6.90it/s]\n",
      "\u001b[A"
     ]
    },
    {
     "name": "stdout",
     "output_type": "stream",
     "text": [
      "{'eval_loss': 0.04336743801832199, 'eval_runtime': 0.0283, 'eval_samples_per_second': 388.411, 'eval_steps_per_second': 211.86, 'epoch': 92.77}\n"
     ]
    },
    {
     "name": "stderr",
     "output_type": "stream",
     "text": [
      "                                                  \n",
      "  2%|▏         | 110/4700 [20:17<11:05,  6.90it/s] "
     ]
    },
    {
     "name": "stdout",
     "output_type": "stream",
     "text": [
      "{'loss': 0.0003, 'grad_norm': 0.004034155979752541, 'learning_rate': 7.021276595744682e-07, 'epoch': 92.98}\n"
     ]
    },
    {
     "name": "stderr",
     "output_type": "stream",
     "text": [
      "\n",
      "\u001b[A\n",
      "\n",
      "                                                  \n",
      "\u001b[A                                                \n",
      "  2%|▏         | 110/4700 [20:17<11:05,  6.90it/s]\n",
      "\u001b[A"
     ]
    },
    {
     "name": "stdout",
     "output_type": "stream",
     "text": [
      "{'eval_loss': 0.04336808994412422, 'eval_runtime': 0.0284, 'eval_samples_per_second': 387.448, 'eval_steps_per_second': 211.335, 'epoch': 92.98}\n"
     ]
    },
    {
     "name": "stderr",
     "output_type": "stream",
     "text": [
      "                                                  \n",
      "  2%|▏         | 110/4700 [20:19<11:05,  6.90it/s] "
     ]
    },
    {
     "name": "stdout",
     "output_type": "stream",
     "text": [
      "{'loss': 0.0004, 'grad_norm': 0.022371044382452965, 'learning_rate': 6.808510638297873e-07, 'epoch': 93.19}\n"
     ]
    },
    {
     "name": "stderr",
     "output_type": "stream",
     "text": [
      "\n",
      "\u001b[A\n",
      "\n",
      "                                                  \n",
      "\u001b[A                                                \n",
      "  2%|▏         | 110/4700 [20:19<11:05,  6.90it/s]\n",
      "\u001b[A"
     ]
    },
    {
     "name": "stdout",
     "output_type": "stream",
     "text": [
      "{'eval_loss': 0.043370578438043594, 'eval_runtime': 0.0259, 'eval_samples_per_second': 424.888, 'eval_steps_per_second': 231.757, 'epoch': 93.19}\n"
     ]
    },
    {
     "name": "stderr",
     "output_type": "stream",
     "text": [
      "                                                  \n",
      "  2%|▏         | 110/4700 [20:22<11:05,  6.90it/s] "
     ]
    },
    {
     "name": "stdout",
     "output_type": "stream",
     "text": [
      "{'loss': 0.0003, 'grad_norm': 0.006256181746721268, 'learning_rate': 6.595744680851064e-07, 'epoch': 93.4}\n"
     ]
    },
    {
     "name": "stderr",
     "output_type": "stream",
     "text": [
      "\n",
      "\u001b[A\n",
      "\n",
      "                                                  \n",
      "\u001b[A                                                \n",
      "  2%|▏         | 110/4700 [20:22<11:05,  6.90it/s]\n",
      "\u001b[A"
     ]
    },
    {
     "name": "stdout",
     "output_type": "stream",
     "text": [
      "{'eval_loss': 0.04336035996675491, 'eval_runtime': 0.0287, 'eval_samples_per_second': 383.019, 'eval_steps_per_second': 208.92, 'epoch': 93.4}\n"
     ]
    },
    {
     "name": "stderr",
     "output_type": "stream",
     "text": [
      "                                                  \n",
      "  2%|▏         | 110/4700 [20:24<11:05,  6.90it/s] "
     ]
    },
    {
     "name": "stdout",
     "output_type": "stream",
     "text": [
      "{'loss': 0.0003, 'grad_norm': 0.002720454940572381, 'learning_rate': 6.382978723404255e-07, 'epoch': 93.62}\n"
     ]
    },
    {
     "name": "stderr",
     "output_type": "stream",
     "text": [
      "\n",
      "\u001b[A\n",
      "\n",
      "                                                  \n",
      "\u001b[A                                                \n",
      "  2%|▏         | 110/4700 [20:24<11:05,  6.90it/s]\n",
      "\u001b[A"
     ]
    },
    {
     "name": "stdout",
     "output_type": "stream",
     "text": [
      "{'eval_loss': 0.043304119259119034, 'eval_runtime': 0.0284, 'eval_samples_per_second': 387.794, 'eval_steps_per_second': 211.524, 'epoch': 93.62}\n"
     ]
    },
    {
     "name": "stderr",
     "output_type": "stream",
     "text": [
      "                                                  \n",
      "  2%|▏         | 110/4700 [20:27<11:05,  6.90it/s] "
     ]
    },
    {
     "name": "stdout",
     "output_type": "stream",
     "text": [
      "{'loss': 0.0003, 'grad_norm': 0.0030913955997675657, 'learning_rate': 6.170212765957447e-07, 'epoch': 93.83}\n"
     ]
    },
    {
     "name": "stderr",
     "output_type": "stream",
     "text": [
      "\n",
      "\u001b[A\n",
      "\n",
      "                                                  \n",
      "\u001b[A                                                \n",
      "  2%|▏         | 110/4700 [20:27<11:05,  6.90it/s]\n",
      "\u001b[A"
     ]
    },
    {
     "name": "stdout",
     "output_type": "stream",
     "text": [
      "{'eval_loss': 0.043283578008413315, 'eval_runtime': 0.0289, 'eval_samples_per_second': 381.206, 'eval_steps_per_second': 207.93, 'epoch': 93.83}\n"
     ]
    },
    {
     "name": "stderr",
     "output_type": "stream",
     "text": [
      "                                                  \n",
      "  2%|▏         | 110/4700 [20:29<11:05,  6.90it/s] "
     ]
    },
    {
     "name": "stdout",
     "output_type": "stream",
     "text": [
      "{'loss': 0.0003, 'grad_norm': 0.002859805477783084, 'learning_rate': 5.957446808510639e-07, 'epoch': 94.04}\n"
     ]
    },
    {
     "name": "stderr",
     "output_type": "stream",
     "text": [
      "\n",
      "\u001b[A\n",
      "\n",
      "                                                  \n",
      "\u001b[A                                                \n",
      "  2%|▏         | 110/4700 [20:29<11:05,  6.90it/s]\n",
      "\u001b[A"
     ]
    },
    {
     "name": "stdout",
     "output_type": "stream",
     "text": [
      "{'eval_loss': 0.04327637702226639, 'eval_runtime': 0.031, 'eval_samples_per_second': 355.337, 'eval_steps_per_second': 193.82, 'epoch': 94.04}\n"
     ]
    },
    {
     "name": "stderr",
     "output_type": "stream",
     "text": [
      "                                                  \n",
      "  2%|▏         | 110/4700 [20:32<11:05,  6.90it/s] "
     ]
    },
    {
     "name": "stdout",
     "output_type": "stream",
     "text": [
      "{'loss': 0.0004, 'grad_norm': 0.004993441980332136, 'learning_rate': 5.74468085106383e-07, 'epoch': 94.26}\n"
     ]
    },
    {
     "name": "stderr",
     "output_type": "stream",
     "text": [
      "\n",
      "\u001b[A\n",
      "\n",
      "                                                  \n",
      "\u001b[A                                                \n",
      "  2%|▏         | 110/4700 [20:32<11:05,  6.90it/s]\n",
      "\u001b[A"
     ]
    },
    {
     "name": "stdout",
     "output_type": "stream",
     "text": [
      "{'eval_loss': 0.043268267065286636, 'eval_runtime': 0.0298, 'eval_samples_per_second': 369.631, 'eval_steps_per_second': 201.617, 'epoch': 94.26}\n"
     ]
    },
    {
     "name": "stderr",
     "output_type": "stream",
     "text": [
      "                                                  \n",
      "  2%|▏         | 110/4700 [20:34<11:05,  6.90it/s] "
     ]
    },
    {
     "name": "stdout",
     "output_type": "stream",
     "text": [
      "{'loss': 0.0005, 'grad_norm': 0.004639920778572559, 'learning_rate': 5.531914893617021e-07, 'epoch': 94.47}\n"
     ]
    },
    {
     "name": "stderr",
     "output_type": "stream",
     "text": [
      "\n",
      "\u001b[A\n",
      "\n",
      "                                                  \n",
      "\u001b[A                                                \n",
      "  2%|▏         | 110/4700 [20:34<11:05,  6.90it/s]\n",
      "\u001b[A"
     ]
    },
    {
     "name": "stdout",
     "output_type": "stream",
     "text": [
      "{'eval_loss': 0.043255116790533066, 'eval_runtime': 0.027, 'eval_samples_per_second': 407.779, 'eval_steps_per_second': 222.425, 'epoch': 94.47}\n"
     ]
    },
    {
     "name": "stderr",
     "output_type": "stream",
     "text": [
      "                                                  \n",
      "  2%|▏         | 110/4700 [20:36<11:05,  6.90it/s] "
     ]
    },
    {
     "name": "stdout",
     "output_type": "stream",
     "text": [
      "{'loss': 0.0003, 'grad_norm': 0.003868482308462262, 'learning_rate': 5.319148936170213e-07, 'epoch': 94.68}\n"
     ]
    },
    {
     "name": "stderr",
     "output_type": "stream",
     "text": [
      "\n",
      "\u001b[A\n",
      "\n",
      "                                                  \n",
      "\u001b[A                                                \n",
      "  2%|▏         | 110/4700 [20:36<11:05,  6.90it/s]\n",
      "\u001b[A"
     ]
    },
    {
     "name": "stdout",
     "output_type": "stream",
     "text": [
      "{'eval_loss': 0.04324772581458092, 'eval_runtime': 0.0313, 'eval_samples_per_second': 350.881, 'eval_steps_per_second': 191.39, 'epoch': 94.68}\n"
     ]
    },
    {
     "name": "stderr",
     "output_type": "stream",
     "text": [
      "                                                  \n",
      "  2%|▏         | 110/4700 [20:39<11:05,  6.90it/s] "
     ]
    },
    {
     "name": "stdout",
     "output_type": "stream",
     "text": [
      "{'loss': 0.0003, 'grad_norm': 0.005659123416990042, 'learning_rate': 5.106382978723404e-07, 'epoch': 94.89}\n"
     ]
    },
    {
     "name": "stderr",
     "output_type": "stream",
     "text": [
      "\n",
      "\u001b[A\n",
      "\n",
      "                                                  \n",
      "\u001b[A                                                \n",
      "  2%|▏         | 110/4700 [20:39<11:05,  6.90it/s]\n",
      "\u001b[A"
     ]
    },
    {
     "name": "stdout",
     "output_type": "stream",
     "text": [
      "{'eval_loss': 0.043249841779470444, 'eval_runtime': 0.0313, 'eval_samples_per_second': 351.608, 'eval_steps_per_second': 191.786, 'epoch': 94.89}\n"
     ]
    },
    {
     "name": "stderr",
     "output_type": "stream",
     "text": [
      "                                                  \n",
      "  2%|▏         | 110/4700 [20:42<11:05,  6.90it/s] "
     ]
    },
    {
     "name": "stdout",
     "output_type": "stream",
     "text": [
      "{'loss': 0.0002, 'grad_norm': 0.0028259942773729563, 'learning_rate': 4.893617021276596e-07, 'epoch': 95.11}\n"
     ]
    },
    {
     "name": "stderr",
     "output_type": "stream",
     "text": [
      "\n",
      "\u001b[A\n",
      "\n",
      "                                                  \n",
      "\u001b[A                                                \n",
      "  2%|▏         | 110/4700 [20:42<11:05,  6.90it/s]\n",
      "\u001b[A"
     ]
    },
    {
     "name": "stdout",
     "output_type": "stream",
     "text": [
      "{'eval_loss': 0.04326087236404419, 'eval_runtime': 0.0314, 'eval_samples_per_second': 350.838, 'eval_steps_per_second': 191.366, 'epoch': 95.11}\n"
     ]
    },
    {
     "name": "stderr",
     "output_type": "stream",
     "text": [
      "                                                  \n",
      "  2%|▏         | 110/4700 [20:45<11:05,  6.90it/s] "
     ]
    },
    {
     "name": "stdout",
     "output_type": "stream",
     "text": [
      "{'loss': 0.0003, 'grad_norm': 0.005505744833499193, 'learning_rate': 4.6808510638297873e-07, 'epoch': 95.32}\n"
     ]
    },
    {
     "name": "stderr",
     "output_type": "stream",
     "text": [
      "\n",
      "\u001b[A\n",
      "\n",
      "                                                  \n",
      "\u001b[A                                                \n",
      "  2%|▏         | 110/4700 [20:45<11:05,  6.90it/s]\n",
      "\u001b[A"
     ]
    },
    {
     "name": "stdout",
     "output_type": "stream",
     "text": [
      "{'eval_loss': 0.043266888707876205, 'eval_runtime': 0.0277, 'eval_samples_per_second': 397.15, 'eval_steps_per_second': 216.627, 'epoch': 95.32}\n"
     ]
    },
    {
     "name": "stderr",
     "output_type": "stream",
     "text": [
      "                                                  \n",
      "  2%|▏         | 110/4700 [20:47<11:05,  6.90it/s] "
     ]
    },
    {
     "name": "stdout",
     "output_type": "stream",
     "text": [
      "{'loss': 0.0005, 'grad_norm': 0.004994597285985947, 'learning_rate': 4.4680851063829794e-07, 'epoch': 95.53}\n"
     ]
    },
    {
     "name": "stderr",
     "output_type": "stream",
     "text": [
      "\n",
      "\u001b[A\n",
      "\n",
      "                                                  \n",
      "\u001b[A                                                \n",
      "  2%|▏         | 110/4700 [20:47<11:05,  6.90it/s]\n",
      "\u001b[A"
     ]
    },
    {
     "name": "stdout",
     "output_type": "stream",
     "text": [
      "{'eval_loss': 0.04327109456062317, 'eval_runtime': 0.027, 'eval_samples_per_second': 408.057, 'eval_steps_per_second': 222.576, 'epoch': 95.53}\n"
     ]
    },
    {
     "name": "stderr",
     "output_type": "stream",
     "text": [
      "                                                  \n",
      "  2%|▏         | 110/4700 [20:50<11:05,  6.90it/s] "
     ]
    },
    {
     "name": "stdout",
     "output_type": "stream",
     "text": [
      "{'loss': 0.0003, 'grad_norm': 0.002910673851147294, 'learning_rate': 4.2553191489361704e-07, 'epoch': 95.74}\n"
     ]
    },
    {
     "name": "stderr",
     "output_type": "stream",
     "text": [
      "\n",
      "\u001b[A\n",
      "\n",
      "                                                  \n",
      "\u001b[A                                                \n",
      "  2%|▏         | 110/4700 [20:50<11:05,  6.90it/s]\n",
      "\u001b[A"
     ]
    },
    {
     "name": "stdout",
     "output_type": "stream",
     "text": [
      "{'eval_loss': 0.04326771944761276, 'eval_runtime': 0.0302, 'eval_samples_per_second': 364.774, 'eval_steps_per_second': 198.968, 'epoch': 95.74}\n"
     ]
    },
    {
     "name": "stderr",
     "output_type": "stream",
     "text": [
      "                                                  \n",
      "  2%|▏         | 110/4700 [20:52<11:05,  6.90it/s] "
     ]
    },
    {
     "name": "stdout",
     "output_type": "stream",
     "text": [
      "{'loss': 0.0003, 'grad_norm': 0.0031262533739209175, 'learning_rate': 4.0425531914893625e-07, 'epoch': 95.96}\n"
     ]
    },
    {
     "name": "stderr",
     "output_type": "stream",
     "text": [
      "\n",
      "\u001b[A\n",
      "\n",
      "                                                  \n",
      "\u001b[A                                                \n",
      "  2%|▏         | 110/4700 [20:52<11:05,  6.90it/s]\n",
      "\u001b[A"
     ]
    },
    {
     "name": "stdout",
     "output_type": "stream",
     "text": [
      "{'eval_loss': 0.043268438428640366, 'eval_runtime': 0.0281, 'eval_samples_per_second': 391.469, 'eval_steps_per_second': 213.528, 'epoch': 95.96}\n"
     ]
    },
    {
     "name": "stderr",
     "output_type": "stream",
     "text": [
      "                                                  \n",
      "  2%|▏         | 110/4700 [20:55<11:05,  6.90it/s] "
     ]
    },
    {
     "name": "stdout",
     "output_type": "stream",
     "text": [
      "{'loss': 0.0003, 'grad_norm': 0.0033913212828338146, 'learning_rate': 3.8297872340425535e-07, 'epoch': 96.17}\n"
     ]
    },
    {
     "name": "stderr",
     "output_type": "stream",
     "text": [
      "\n",
      "\u001b[A\n",
      "\n",
      "                                                  \n",
      "\u001b[A                                                \n",
      "  2%|▏         | 110/4700 [20:55<11:05,  6.90it/s]\n",
      "\u001b[A"
     ]
    },
    {
     "name": "stdout",
     "output_type": "stream",
     "text": [
      "{'eval_loss': 0.043250277638435364, 'eval_runtime': 0.0311, 'eval_samples_per_second': 353.776, 'eval_steps_per_second': 192.969, 'epoch': 96.17}\n"
     ]
    },
    {
     "name": "stderr",
     "output_type": "stream",
     "text": [
      "                                                  \n",
      "  2%|▏         | 110/4700 [20:58<11:05,  6.90it/s] "
     ]
    },
    {
     "name": "stdout",
     "output_type": "stream",
     "text": [
      "{'loss': 0.0004, 'grad_norm': 0.0027203913778066635, 'learning_rate': 3.6170212765957445e-07, 'epoch': 96.38}\n"
     ]
    },
    {
     "name": "stderr",
     "output_type": "stream",
     "text": [
      "\n",
      "\u001b[A\n",
      "\n",
      "                                                  \n",
      "\u001b[A                                                \n",
      "  2%|▏         | 110/4700 [20:58<11:05,  6.90it/s]\n",
      "\u001b[A"
     ]
    },
    {
     "name": "stdout",
     "output_type": "stream",
     "text": [
      "{'eval_loss': 0.043241776525974274, 'eval_runtime': 0.0271, 'eval_samples_per_second': 405.585, 'eval_steps_per_second': 221.228, 'epoch': 96.38}\n"
     ]
    },
    {
     "name": "stderr",
     "output_type": "stream",
     "text": [
      "                                                  \n",
      "  2%|▏         | 110/4700 [21:00<11:05,  6.90it/s] "
     ]
    },
    {
     "name": "stdout",
     "output_type": "stream",
     "text": [
      "{'loss': 0.0003, 'grad_norm': 0.0030765843112021685, 'learning_rate': 3.4042553191489365e-07, 'epoch': 96.6}\n"
     ]
    },
    {
     "name": "stderr",
     "output_type": "stream",
     "text": [
      "\n",
      "\u001b[A\n",
      "\n",
      "                                                  \n",
      "\u001b[A                                                \n",
      "  2%|▏         | 110/4700 [21:00<11:05,  6.90it/s]\n",
      "\u001b[A"
     ]
    },
    {
     "name": "stdout",
     "output_type": "stream",
     "text": [
      "{'eval_loss': 0.04323698207736015, 'eval_runtime': 0.0308, 'eval_samples_per_second': 356.899, 'eval_steps_per_second': 194.672, 'epoch': 96.6}\n"
     ]
    },
    {
     "name": "stderr",
     "output_type": "stream",
     "text": [
      "                                                  \n",
      "  2%|▏         | 110/4700 [21:02<11:05,  6.90it/s] "
     ]
    },
    {
     "name": "stdout",
     "output_type": "stream",
     "text": [
      "{'loss': 0.0003, 'grad_norm': 0.0028026853688061237, 'learning_rate': 3.1914893617021275e-07, 'epoch': 96.81}\n"
     ]
    },
    {
     "name": "stderr",
     "output_type": "stream",
     "text": [
      "\n",
      "\u001b[A\n",
      "\n",
      "                                                  \n",
      "\u001b[A                                                \n",
      "  2%|▏         | 110/4700 [21:02<11:05,  6.90it/s]\n",
      "\u001b[A"
     ]
    },
    {
     "name": "stdout",
     "output_type": "stream",
     "text": [
      "{'eval_loss': 0.04323246702551842, 'eval_runtime': 0.0301, 'eval_samples_per_second': 365.439, 'eval_steps_per_second': 199.33, 'epoch': 96.81}\n"
     ]
    },
    {
     "name": "stderr",
     "output_type": "stream",
     "text": [
      "                                                  \n",
      "  2%|▏         | 110/4700 [21:05<11:05,  6.90it/s] "
     ]
    },
    {
     "name": "stdout",
     "output_type": "stream",
     "text": [
      "{'loss': 0.0004, 'grad_norm': 0.003953096456825733, 'learning_rate': 2.9787234042553196e-07, 'epoch': 97.02}\n"
     ]
    },
    {
     "name": "stderr",
     "output_type": "stream",
     "text": [
      "\n",
      "\u001b[A\n",
      "\n",
      "                                                  \n",
      "\u001b[A                                                \n",
      "  2%|▏         | 110/4700 [21:05<11:05,  6.90it/s]\n",
      "\u001b[A"
     ]
    },
    {
     "name": "stdout",
     "output_type": "stream",
     "text": [
      "{'eval_loss': 0.043230392038822174, 'eval_runtime': 0.0299, 'eval_samples_per_second': 367.473, 'eval_steps_per_second': 200.44, 'epoch': 97.02}\n"
     ]
    },
    {
     "name": "stderr",
     "output_type": "stream",
     "text": [
      "                                                  \n",
      "  2%|▏         | 110/4700 [21:07<11:05,  6.90it/s] "
     ]
    },
    {
     "name": "stdout",
     "output_type": "stream",
     "text": [
      "{'loss': 0.0006, 'grad_norm': 0.004247876815497875, 'learning_rate': 2.7659574468085106e-07, 'epoch': 97.23}\n"
     ]
    },
    {
     "name": "stderr",
     "output_type": "stream",
     "text": [
      "\n",
      "\u001b[A\n",
      "\n",
      "                                                  \n",
      "\u001b[A                                                \n",
      "  2%|▏         | 110/4700 [21:07<11:05,  6.90it/s]\n",
      "\u001b[A"
     ]
    },
    {
     "name": "stdout",
     "output_type": "stream",
     "text": [
      "{'eval_loss': 0.04320785403251648, 'eval_runtime': 0.0312, 'eval_samples_per_second': 352.743, 'eval_steps_per_second': 192.405, 'epoch': 97.23}\n"
     ]
    },
    {
     "name": "stderr",
     "output_type": "stream",
     "text": [
      "                                                  \n",
      "  2%|▏         | 110/4700 [21:10<11:05,  6.90it/s] "
     ]
    },
    {
     "name": "stdout",
     "output_type": "stream",
     "text": [
      "{'loss': 0.0002, 'grad_norm': 0.003829987719655037, 'learning_rate': 2.553191489361702e-07, 'epoch': 97.45}\n"
     ]
    },
    {
     "name": "stderr",
     "output_type": "stream",
     "text": [
      "\n",
      "\u001b[A\n",
      "\n",
      "                                                  \n",
      "\u001b[A                                                \n",
      "  2%|▏         | 110/4700 [21:10<11:05,  6.90it/s]\n",
      "\u001b[A"
     ]
    },
    {
     "name": "stdout",
     "output_type": "stream",
     "text": [
      "{'eval_loss': 0.04318458214402199, 'eval_runtime': 0.0304, 'eval_samples_per_second': 361.714, 'eval_steps_per_second': 197.299, 'epoch': 97.45}\n"
     ]
    },
    {
     "name": "stderr",
     "output_type": "stream",
     "text": [
      "                                                  \n",
      "  2%|▏         | 110/4700 [21:12<11:05,  6.90it/s] "
     ]
    },
    {
     "name": "stdout",
     "output_type": "stream",
     "text": [
      "{'loss': 0.0003, 'grad_norm': 0.0030577415600419044, 'learning_rate': 2.3404255319148937e-07, 'epoch': 97.66}\n"
     ]
    },
    {
     "name": "stderr",
     "output_type": "stream",
     "text": [
      "\n",
      "\u001b[A\n",
      "\n",
      "                                                  \n",
      "\u001b[A                                                \n",
      "  2%|▏         | 110/4700 [21:12<11:05,  6.90it/s]\n",
      "\u001b[A"
     ]
    },
    {
     "name": "stdout",
     "output_type": "stream",
     "text": [
      "{'eval_loss': 0.043178435415029526, 'eval_runtime': 0.0275, 'eval_samples_per_second': 399.8, 'eval_steps_per_second': 218.073, 'epoch': 97.66}\n"
     ]
    },
    {
     "name": "stderr",
     "output_type": "stream",
     "text": [
      "                                                  \n",
      "  2%|▏         | 110/4700 [21:15<11:05,  6.90it/s] "
     ]
    },
    {
     "name": "stdout",
     "output_type": "stream",
     "text": [
      "{'loss': 0.0003, 'grad_norm': 0.00286999368108809, 'learning_rate': 2.1276595744680852e-07, 'epoch': 97.87}\n"
     ]
    },
    {
     "name": "stderr",
     "output_type": "stream",
     "text": [
      "\n",
      "\u001b[A\n",
      "\n",
      "                                                  \n",
      "\u001b[A                                                \n",
      "  2%|▏         | 110/4700 [21:15<11:05,  6.90it/s]\n",
      "\u001b[A"
     ]
    },
    {
     "name": "stdout",
     "output_type": "stream",
     "text": [
      "{'eval_loss': 0.04317602142691612, 'eval_runtime': 0.031, 'eval_samples_per_second': 354.423, 'eval_steps_per_second': 193.322, 'epoch': 97.87}\n"
     ]
    },
    {
     "name": "stderr",
     "output_type": "stream",
     "text": [
      "                                                  \n",
      "  2%|▏         | 110/4700 [21:17<11:05,  6.90it/s] "
     ]
    },
    {
     "name": "stdout",
     "output_type": "stream",
     "text": [
      "{'loss': 0.0003, 'grad_norm': 0.002912248484790325, 'learning_rate': 1.9148936170212767e-07, 'epoch': 98.09}\n"
     ]
    },
    {
     "name": "stderr",
     "output_type": "stream",
     "text": [
      "\n",
      "\u001b[A\n",
      "\n",
      "                                                  \n",
      "\u001b[A                                                \n",
      "  2%|▏         | 110/4700 [21:17<11:05,  6.90it/s]\n",
      "\u001b[A"
     ]
    },
    {
     "name": "stdout",
     "output_type": "stream",
     "text": [
      "{'eval_loss': 0.04317683354020119, 'eval_runtime': 0.0342, 'eval_samples_per_second': 321.432, 'eval_steps_per_second': 175.326, 'epoch': 98.09}\n"
     ]
    },
    {
     "name": "stderr",
     "output_type": "stream",
     "text": [
      "                                                  \n",
      "  2%|▏         | 110/4700 [21:20<11:05,  6.90it/s] "
     ]
    },
    {
     "name": "stdout",
     "output_type": "stream",
     "text": [
      "{'loss': 0.0004, 'grad_norm': 0.0028048004023730755, 'learning_rate': 1.7021276595744683e-07, 'epoch': 98.3}\n"
     ]
    },
    {
     "name": "stderr",
     "output_type": "stream",
     "text": [
      "\n",
      "\u001b[A\n",
      "\n",
      "                                                  \n",
      "\u001b[A                                                \n",
      "  2%|▏         | 110/4700 [21:20<11:05,  6.90it/s]\n",
      "\u001b[A"
     ]
    },
    {
     "name": "stdout",
     "output_type": "stream",
     "text": [
      "{'eval_loss': 0.043180689215660095, 'eval_runtime': 0.0328, 'eval_samples_per_second': 334.948, 'eval_steps_per_second': 182.699, 'epoch': 98.3}\n"
     ]
    },
    {
     "name": "stderr",
     "output_type": "stream",
     "text": [
      "                                                  \n",
      "  2%|▏         | 110/4700 [21:22<11:05,  6.90it/s] "
     ]
    },
    {
     "name": "stdout",
     "output_type": "stream",
     "text": [
      "{'loss': 0.0003, 'grad_norm': 0.003260497935116291, 'learning_rate': 1.4893617021276598e-07, 'epoch': 98.51}\n"
     ]
    },
    {
     "name": "stderr",
     "output_type": "stream",
     "text": [
      "\n",
      "\u001b[A\n",
      "\n",
      "                                                  \n",
      "\u001b[A                                                \n",
      "  2%|▏         | 110/4700 [21:22<11:05,  6.90it/s]\n",
      "\u001b[A"
     ]
    },
    {
     "name": "stdout",
     "output_type": "stream",
     "text": [
      "{'eval_loss': 0.043181564658880234, 'eval_runtime': 0.0283, 'eval_samples_per_second': 388.27, 'eval_steps_per_second': 211.784, 'epoch': 98.51}\n"
     ]
    },
    {
     "name": "stderr",
     "output_type": "stream",
     "text": [
      "                                                  \n",
      "  2%|▏         | 110/4700 [21:25<11:05,  6.90it/s] "
     ]
    },
    {
     "name": "stdout",
     "output_type": "stream",
     "text": [
      "{'loss': 0.0003, 'grad_norm': 0.0034640629310160875, 'learning_rate': 1.276595744680851e-07, 'epoch': 98.72}\n"
     ]
    },
    {
     "name": "stderr",
     "output_type": "stream",
     "text": [
      "\n",
      "\u001b[A\n",
      "\n",
      "                                                  \n",
      "\u001b[A                                                \n",
      "  2%|▏         | 110/4700 [21:25<11:05,  6.90it/s]\n",
      "\u001b[A"
     ]
    },
    {
     "name": "stdout",
     "output_type": "stream",
     "text": [
      "{'eval_loss': 0.04318038746714592, 'eval_runtime': 0.0279, 'eval_samples_per_second': 393.7, 'eval_steps_per_second': 214.746, 'epoch': 98.72}\n"
     ]
    },
    {
     "name": "stderr",
     "output_type": "stream",
     "text": [
      "                                                  \n",
      "  2%|▏         | 110/4700 [21:27<11:05,  6.90it/s] "
     ]
    },
    {
     "name": "stdout",
     "output_type": "stream",
     "text": [
      "{'loss': 0.0004, 'grad_norm': 0.020601896569132805, 'learning_rate': 1.0638297872340426e-07, 'epoch': 98.94}\n"
     ]
    },
    {
     "name": "stderr",
     "output_type": "stream",
     "text": [
      "\n",
      "\u001b[A\n",
      "\n",
      "                                                  \n",
      "\u001b[A                                                \n",
      "  2%|▏         | 110/4700 [21:28<11:05,  6.90it/s]\n",
      "\u001b[A"
     ]
    },
    {
     "name": "stdout",
     "output_type": "stream",
     "text": [
      "{'eval_loss': 0.043180517852306366, 'eval_runtime': 0.038, 'eval_samples_per_second': 289.154, 'eval_steps_per_second': 157.72, 'epoch': 98.94}\n"
     ]
    },
    {
     "name": "stderr",
     "output_type": "stream",
     "text": [
      "                                                  \n",
      "  2%|▏         | 110/4700 [21:30<11:05,  6.90it/s] "
     ]
    },
    {
     "name": "stdout",
     "output_type": "stream",
     "text": [
      "{'loss': 0.0003, 'grad_norm': 0.0027414371725171804, 'learning_rate': 8.510638297872341e-08, 'epoch': 99.15}\n"
     ]
    },
    {
     "name": "stderr",
     "output_type": "stream",
     "text": [
      "\n",
      "\u001b[A\n",
      "\n",
      "                                                  \n",
      "\u001b[A                                                \n",
      "  2%|▏         | 110/4700 [21:30<11:05,  6.90it/s]\n",
      "\u001b[A"
     ]
    },
    {
     "name": "stdout",
     "output_type": "stream",
     "text": [
      "{'eval_loss': 0.04318150505423546, 'eval_runtime': 0.0268, 'eval_samples_per_second': 410.968, 'eval_steps_per_second': 224.164, 'epoch': 99.15}\n"
     ]
    },
    {
     "name": "stderr",
     "output_type": "stream",
     "text": [
      "                                                  \n",
      "  2%|▏         | 110/4700 [21:32<11:05,  6.90it/s] "
     ]
    },
    {
     "name": "stdout",
     "output_type": "stream",
     "text": [
      "{'loss': 0.0004, 'grad_norm': 0.002583723748102784, 'learning_rate': 6.382978723404255e-08, 'epoch': 99.36}\n"
     ]
    },
    {
     "name": "stderr",
     "output_type": "stream",
     "text": [
      "\n",
      "\u001b[A\n",
      "\n",
      "                                                  \n",
      "\u001b[A                                                \n",
      "  2%|▏         | 110/4700 [21:32<11:05,  6.90it/s]\n",
      "\u001b[A"
     ]
    },
    {
     "name": "stdout",
     "output_type": "stream",
     "text": [
      "{'eval_loss': 0.04318058118224144, 'eval_runtime': 0.029, 'eval_samples_per_second': 379.509, 'eval_steps_per_second': 207.005, 'epoch': 99.36}\n"
     ]
    },
    {
     "name": "stderr",
     "output_type": "stream",
     "text": [
      "                                                  \n",
      "  2%|▏         | 110/4700 [21:35<11:05,  6.90it/s] "
     ]
    },
    {
     "name": "stdout",
     "output_type": "stream",
     "text": [
      "{'loss': 0.0004, 'grad_norm': 0.00450269365683198, 'learning_rate': 4.2553191489361707e-08, 'epoch': 99.57}\n"
     ]
    },
    {
     "name": "stderr",
     "output_type": "stream",
     "text": [
      "\n",
      "\u001b[A\n",
      "\n",
      "                                                  \n",
      "\u001b[A                                                \n",
      "  2%|▏         | 110/4700 [21:35<11:05,  6.90it/s]\n",
      "\u001b[A"
     ]
    },
    {
     "name": "stdout",
     "output_type": "stream",
     "text": [
      "{'eval_loss': 0.0431804321706295, 'eval_runtime': 0.0302, 'eval_samples_per_second': 363.73, 'eval_steps_per_second': 198.398, 'epoch': 99.57}\n"
     ]
    },
    {
     "name": "stderr",
     "output_type": "stream",
     "text": [
      "                                                  \n",
      "  2%|▏         | 110/4700 [21:37<11:05,  6.90it/s] "
     ]
    },
    {
     "name": "stdout",
     "output_type": "stream",
     "text": [
      "{'loss': 0.0003, 'grad_norm': 0.004854370374232531, 'learning_rate': 2.1276595744680853e-08, 'epoch': 99.79}\n"
     ]
    },
    {
     "name": "stderr",
     "output_type": "stream",
     "text": [
      "\n",
      "\u001b[A\n",
      "\n",
      "                                                  \n",
      "\u001b[A                                                \n",
      "  2%|▏         | 110/4700 [21:37<11:05,  6.90it/s]\n",
      "\u001b[A"
     ]
    },
    {
     "name": "stdout",
     "output_type": "stream",
     "text": [
      "{'eval_loss': 0.04318143427371979, 'eval_runtime': 0.0276, 'eval_samples_per_second': 398.495, 'eval_steps_per_second': 217.361, 'epoch': 99.79}\n"
     ]
    },
    {
     "name": "stderr",
     "output_type": "stream",
     "text": [
      "                                                  \n",
      "  2%|▏         | 110/4700 [21:40<11:05,  6.90it/s] "
     ]
    },
    {
     "name": "stdout",
     "output_type": "stream",
     "text": [
      "{'loss': 0.0002, 'grad_norm': 0.0030700773932039738, 'learning_rate': 0.0, 'epoch': 100.0}\n"
     ]
    },
    {
     "name": "stderr",
     "output_type": "stream",
     "text": [
      "\n",
      "\u001b[A\n",
      "\n",
      "                                                  \n",
      "\u001b[A                                                \n",
      "  2%|▏         | 110/4700 [21:40<11:05,  6.90it/s]\n",
      "\u001b[A"
     ]
    },
    {
     "name": "stdout",
     "output_type": "stream",
     "text": [
      "{'eval_loss': 0.0431814044713974, 'eval_runtime': 0.0316, 'eval_samples_per_second': 348.306, 'eval_steps_per_second': 189.985, 'epoch': 100.0}\n"
     ]
    },
    {
     "name": "stderr",
     "output_type": "stream",
     "text": [
      "                                                  \n",
      "100%|██████████| 4700/4700 [19:25<00:00,  4.03it/s]\n"
     ]
    },
    {
     "name": "stdout",
     "output_type": "stream",
     "text": [
      "{'train_runtime': 1165.2709, 'train_samples_per_second': 7.981, 'train_steps_per_second': 4.033, 'train_loss': 0.016624845572539227, 'epoch': 100.0}\n"
     ]
    },
    {
     "data": {
      "text/plain": [
       "('./ner_model/tokenizer_config.json',\n",
       " './ner_model/special_tokens_map.json',\n",
       " './ner_model/vocab.txt',\n",
       " './ner_model/added_tokens.json',\n",
       " './ner_model/tokenizer.json')"
      ]
     },
     "execution_count": 36,
     "metadata": {},
     "output_type": "execute_result"
    }
   ],
   "source": [
    "from transformers import BertTokenizerFast, BertForTokenClassification, TrainingArguments, Trainer\n",
    "from datasets import Dataset, DatasetDict\n",
    "from sklearn.model_selection import train_test_split\n",
    "import pandas as pd\n",
    "\n",
    "# Initialize tokenizer\n",
    "# tokenizer = BertTokenizerFast.from_pretrained(\"bert-base-uncased\")\n",
    "\n",
    "# Load the data\n",
    "data = pd.read_csv('./data/ner_data.csv')\n",
    "\n",
    "# Convert stringified lists in 'labels' to actual lists\n",
    "data[\"labels\"] = data[\"labels\"].apply(eval)\n",
    "\n",
    "# Extract unique labels and create a mapping\n",
    "unique_labels = sorted({label for labels in data[\"labels\"] for label in labels})\n",
    "\n",
    "# unique_labels = ['B-ORD', 'I-ORD', 'O']\n",
    "label_to_id = {label: idx for idx, label in enumerate(unique_labels)}\n",
    "id_to_label = {idx: label for label, idx in label_to_id.items()}\n",
    "\n",
    "print(\"Label to ID Mapping:\", label_to_id)\n",
    "\n",
    "# Convert DataFrame to list of dictionaries\n",
    "data_dict = data.to_dict(orient=\"records\")\n",
    "\n",
    "\n",
    "# Tokenize and align labels\n",
    "\n",
    "# Convert data to Hugging Face Dataset\n",
    "hf_dataset = Dataset.from_list(data_dict)\n",
    "\n",
    "# Split the dataset into train and validation sets\n",
    "train_data, val_data = train_test_split(data_dict, test_size=0.1, random_state=42)\n",
    "hf_dataset = DatasetDict({\n",
    "    \"train\": Dataset.from_list(train_data),\n",
    "    \"validation\": Dataset.from_list(val_data),\n",
    "})\n",
    "\n",
    "# Apply the tokenizer and label alignment\n",
    "hf_dataset = hf_dataset.map(tokenize_and_align_labels, batched=False)\n",
    "# Define the model\n",
    "model = BertForTokenClassification.from_pretrained(\n",
    "    \"bert-base-uncased\",\n",
    "    num_labels=len(label_to_id),\n",
    "    id2label=id_to_label,\n",
    "    label2id=label_to_id\n",
    ")\n",
    "\n",
    "model.resize_token_embeddings(len(tokenizer)) # need to test\n",
    "\n",
    "# Define training arguments\n",
    "training_args = TrainingArguments(\n",
    "    output_dir=\"./ner_model\",\n",
    "    evaluation_strategy=\"steps\",  # Perform evaluation at specific steps\n",
    "    eval_steps=10,  # Log evaluation loss every 10 steps\n",
    "    save_strategy=\"steps\",\n",
    "    save_steps=10,\n",
    "    logging_steps=10,  # Log training loss every 10 steps\n",
    "    learning_rate=1e-5,\n",
    "    per_device_train_batch_size=2,\n",
    "    per_device_eval_batch_size=2,\n",
    "    num_train_epochs=100,\n",
    "    weight_decay=0.0001,\n",
    "    logging_dir=\"./logs\",\n",
    "    save_total_limit=2,\n",
    "    load_best_model_at_end=True\n",
    ")\n",
    "\n",
    "\n",
    "# Use default data collator for token classification\n",
    "from transformers import DataCollatorForTokenClassification\n",
    "data_collator = DataCollatorForTokenClassification(tokenizer)\n",
    "\n",
    "# Define the Trainer\n",
    "trainer = Trainer(\n",
    "    model=model,\n",
    "    args=training_args,\n",
    "    train_dataset=hf_dataset[\"train\"],\n",
    "    eval_dataset=hf_dataset[\"validation\"],\n",
    "    tokenizer=tokenizer,\n",
    "    data_collator=data_collator,\n",
    "    callbacks=[aligned_loss_callback]\n",
    ")\n",
    "\n",
    "# Train the model\n",
    "trainer.train()\n",
    "\n",
    "# Save the model and tokenizer\n",
    "model.save_pretrained(\"./ner_model\")\n",
    "tokenizer.save_pretrained(\"./ner_model\")\n"
   ]
  },
  {
   "cell_type": "code",
   "execution_count": 37,
   "metadata": {},
   "outputs": [
    {
     "data": {
      "text/plain": [
       "'../backend/chatbot/ner_model/entity_labels.json'"
      ]
     },
     "execution_count": 37,
     "metadata": {},
     "output_type": "execute_result"
    }
   ],
   "source": [
    "# copy model to backend\n",
    "shutil.rmtree(target_dir + 'ner_model', ignore_errors=True)\n",
    "\n",
    "shutil.copytree('./ner_model', target_dir + 'ner_model')\n",
    "\n",
    "# copy this file to backend\n",
    "shutil.copy('./ner_model/entity_labels.json', target_dir + 'ner_model/entity_labels.json')"
   ]
  },
  {
   "cell_type": "code",
   "execution_count": 38,
   "metadata": {},
   "outputs": [
    {
     "name": "stdout",
     "output_type": "stream",
     "text": [
      "55 525 525\n"
     ]
    },
    {
     "data": {
      "image/png": "[encoded data removed]",
      "text/plain": [
       "<Figure size 640x480 with 1 Axes>"
      ]
     },
     "metadata": {},
     "output_type": "display_data"
    }
   ],
   "source": [
    "# plot the losses\n",
    "import numpy as np\n",
    "\n",
    "# Align losses\n",
    "steps = [i*10 for i in range(len(aligned_loss_callback.train_losses))]\n",
    "train_losses = np.array(aligned_loss_callback.train_losses)\n",
    "\n",
    "eval_losses = np.array(aligned_loss_callback.eval_losses)\n",
    "print(len(validation_steps), len(train_losses), len(eval_losses))\n",
    "\n",
    "# Plot aligned losses\n",
    "plt.plot(steps[::10], train_losses[::10], label='Train')\n",
    "plt.plot(steps[::10], eval_losses[::10], label='Validation')\n",
    "\n",
    "plt.title('Training and Validation Losses[NER]')\n",
    "plt.xlabel('Steps')\n",
    "plt.ylabel('Loss')\n",
    "plt.legend()\n",
    "plt.savefig('./images/ner_losses.png')"
   ]
  },
  {
   "cell_type": "code",
   "execution_count": 39,
   "metadata": {},
   "outputs": [
    {
     "data": {
      "text/plain": [
       "'../backend/chatbot/'"
      ]
     },
     "execution_count": 39,
     "metadata": {},
     "output_type": "execute_result"
    }
   ],
   "source": [
    "# copy model to backend\n",
    "import shutil\n",
    "\n",
    "shutil.rmtree(target_dir, ignore_errors=True)\n",
    "shutil.copytree('./ner_model', target_dir)"
   ]
  },
  {
   "cell_type": "code",
   "execution_count": 40,
   "metadata": {},
   "outputs": [
    {
     "name": "stdout",
     "output_type": "stream",
     "text": [
      "Extracted entity: [('START_DATE', ['10', 'april', '202']), ('END_DATE', ['21', 'november', '2024'])]\n"
     ]
    }
   ],
   "source": [
    "from transformers import BertTokenizerFast, BertForTokenClassification\n",
    "import torch\n",
    "\n",
    "# Load the saved model and tokenizer\n",
    "# model_dir = \"./ner_model\"\n",
    "# tokenizer = BertTokenizerFast.from_pretrained(model_dir)\n",
    "# model = BertForTokenClassification.from_pretrained(model_dir)\n",
    "\n",
    "# Load the label mappings\n",
    "id_to_label = model.config.id2label\n",
    "\n",
    "# Sample text to test the model\n",
    "test_sentences = [\n",
    "    \"[INT] [BOT]  [USR] Order 121435, whats the status?\"\n",
    "]\n",
    "\n",
    "device = torch.device('cuda' if torch.cuda.is_available() else 'cpu')\n",
    "\n",
    "def predict_ner(sentence):\n",
    "    # Tokenize the sentence\n",
    "    inputs = tokenizer(sentence, return_tensors=\"pt\", truncation=True, padding=True, max_length=128).to(device)\n",
    "    # print(inputs)\n",
    "\n",
    "    # Get model predictions\n",
    "    model.eval()\n",
    "    with torch.no_grad():\n",
    "        outputs = model(**inputs)\n",
    "    \n",
    "    # Extract logits and compute predictions\n",
    "    logits = outputs.logits\n",
    "    predictions = torch.argmax(logits, dim=2)\n",
    "\n",
    "    # Map predictions to labels\n",
    "    tokens = tokenizer.convert_ids_to_tokens(inputs[\"input_ids\"][0])\n",
    "    predicted_labels = [id_to_label[pred.item()] for pred in predictions[0]]\n",
    "\n",
    "    # Combine tokens and predicted labels\n",
    "    results = []\n",
    "    for token, label in zip(tokens, predicted_labels):\n",
    "        if token not in [\"[CLS]\", \"[SEP]\", \"[PAD]\"]:  # Ignore special tokens\n",
    "            results.append((token, label))\n",
    "    return results\n",
    "\n",
    "# Test the model with sample sentences\n",
    "for sentence in test_sentences:\n",
    "    # print(f\"Sentence: {sentence}\")\n",
    "    predictions = predict_ner(sentence)\n",
    "    # print(\"Predictions:\")\n",
    "    # for token, label in predictions:\n",
    "        # print(f\"{token:15} -> {label}\")\n",
    "    # print(\"\\n\")\n",
    "\n",
    "def extract_entity(sentence, entity_label):\n",
    "    \"\"\"\n",
    "    enitity_label: the label of the entity to extract (ORD for example)\n",
    "    extract the entity from the sentence along with I-ORD tokens\n",
    "    \"\"\"\n",
    "    # Get NER predictions\n",
    "    predictions = predict_ner(sentence)\n",
    "    # for token, label in predictions:\n",
    "    #     # print(f\"{token:15} -> {label}\")\n",
    "\n",
    "    # get all entities in the label\n",
    "    all_entities = []\n",
    "    for token, label in predictions:\n",
    "        if label.startswith(\"B-\") or label.startswith(\"I-\"):\n",
    "            all_entities.append(label.split(\"-\")[1])\n",
    "\n",
    "    all_entities = list(set(all_entities))\n",
    "\n",
    "    return_values = []\n",
    "    for entity_label in all_entities:\n",
    "        # Extract entities with the specified label\n",
    "        entities = []\n",
    "        for token, label in predictions:\n",
    "            if label == f\"B-{entity_label}\" or label == f\"I-{entity_label}\":\n",
    "                entities.append(token)\n",
    "        # print(entities)\n",
    "        \n",
    "        # remove subword prefixes from the entities\n",
    "        entity_combined = []\n",
    "        prev_entity = None\n",
    "        for i , entity in enumerate(entities):\n",
    "            if entity.startswith(\"##\"):\n",
    "                if prev_entity is None:\n",
    "                    prev_entity = \"\"\n",
    "                prev_entity += entity[2:]\n",
    "            else:\n",
    "                if prev_entity:\n",
    "                    entity_combined.append(prev_entity)\n",
    "                prev_entity = entity\n",
    "\n",
    "            if i == len(entities) - 1:\n",
    "                entity_combined.append(prev_entity)\n",
    "        return_values.append((entity_label, entity_combined))\n",
    "    return return_values\n",
    "        \n",
    "\n",
    "# get the B-COUNT entity from the sentence\n",
    "sentence = \"[INT] [BOT]  [USR] Please show me a list of all the orders I've made before 21 November 2024 and after 10 April 2024\"\n",
    "entity_label = \"START_DATE\"\n",
    "extracted_entity = extract_entity(sentence, entity_label)\n",
    "print(f\"Extracted entity: {extracted_entity}\")"
   ]
  },
  {
   "cell_type": "code",
   "execution_count": 41,
   "metadata": {},
   "outputs": [
    {
     "name": "stdout",
     "output_type": "stream",
     "text": [
      "Sentence: [INT] [BOT]  [USR] Can you check my order 12345?\n",
      "Extracted entity: [('ORD', ['12345'])]\n",
      "\n",
      "Sentence: [INT] cancel_order [BOT] Please confirm the cancellation of your last order. [USR] Yes, confirm it.\n",
      "Extracted entity: [('CONFIRMATION', ['yes'])]\n",
      "\n",
      "Sentence: [INT] [BOT]  [USR] Cancel the last item I ordered.\n",
      "Extracted entity: [('ORD', ['last'])]\n",
      "\n",
      "Sentence: [INT] give_order_id [BOT] Are you sure? [USR] Yes I am sure!\n",
      "Extracted entity: [('AFFIRMATION', ['yes'])]\n",
      "\n",
      "Sentence: [INT] list_orders [BOT] Do you need to filter anything? [USR] Yeah give me just 32 of them\n",
      "Extracted entity: [('COUNT', ['32'])]\n",
      "\n",
      "Sentence: [INT] cancel_order [BOT] Can you confirm the cancellation of your most recent order? [USR] No, don’t proceed with it.\n",
      "Extracted entity: [('AFFIRMATION', ['no'])]\n",
      "\n",
      "Sentence: [INT] cancel_order [BOT] Are you sure you want to cancel order 112233? [USR] No, leave it as is.\n",
      "Extracted entity: [('AFFIRMATION', ['no'])]\n",
      "\n",
      "Sentence: [INT] [BOT]  [USR] Can you list some of my previous orders?\n",
      "Extracted entity: []\n",
      "\n",
      "Sentence: [INT] track_order [BOT] For which order would you like an update? [USR] Order ID is 5643.\n",
      "Extracted entity: [('ORD', ['5643'])]\n",
      "\n",
      "Sentence: [INT] [BOT]  [USR] Hey can i get the status of my latest order?\n",
      "Extracted entity: []\n",
      "\n",
      "Sentence: [INT] track_order [BOT] Please provide your order number. [USR] It’s 23456.\n",
      "Extracted entity: [('ORD', ['23456'])]\n",
      "\n",
      "Sentence: [INT] [BOT]  [USR] I was wondering where my 121243 order is?\n",
      "Extracted entity: [('ORD', ['243', 'order'])]\n",
      "\n",
      "Sentence: [INT] [BOT]  [USR] Please cancel my latest order.\n",
      "Extracted entity: [('ORD', ['latest'])]\n",
      "\n",
      "Sentence: [INT] cancel_order [BOT] Can you confirm that you’d like to cancel order 776655? [USR] No, I’d like to keep it.\n",
      "Extracted entity: [('AFFIRMATION', ['no'])]\n",
      "\n",
      "Sentence: [INT] cancel_order [BOT] Could you confirm cancellation of order number 998877? [USR] Yes, please cancel it.\n",
      "Extracted entity: [('AFFIRMATION', ['yes'])]\n",
      "\n"
     ]
    }
   ],
   "source": [
    "# test for 15 random samples\n",
    "data = pd.read_csv('./data/ner_data.csv')\n",
    "\n",
    "# draw 15 random samples\n",
    "test_data = data.sample(15)\n",
    "\n",
    "for idx, row in test_data.iterrows():\n",
    "    print(f\"Sentence: {row['instruction']}\")\n",
    "    # get the \n",
    "    extracted_entity = extract_entity(row['instruction'], \"ORD\")\n",
    "    print(f\"Extracted entity: {extracted_entity}\")\n",
    "    print(\"\")"
   ]
  }
 ],
 "metadata": {
  "kernelspec": {
   "display_name": "venv",
   "language": "python",
   "name": "python3"
  },
  "language_info": {
   "codemirror_mode": {
    "name": "ipython",
    "version": 3
   },
   "file_extension": ".py",
   "mimetype": "text/x-python",
   "name": "python",
   "nbconvert_exporter": "python",
   "pygments_lexer": "ipython3",
   "version": "3.12.3"
  }
 },
 "nbformat": 4,
 "nbformat_minor": 2
}
